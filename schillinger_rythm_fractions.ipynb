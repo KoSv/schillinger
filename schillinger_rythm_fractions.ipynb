{
 "cells": [
  {
   "cell_type": "code",
   "execution_count": 2,
   "metadata": {
    "code_folding": [],
    "collapsed": false
   },
   "outputs": [],
   "source": [
    "#schillinger \n",
    "import numpy as np\n",
    "from music21 import *\n",
    "from itertools import chain\n",
    "%load_ext music21.ipython21\n"
   ]
  },
  {
   "cell_type": "code",
   "execution_count": 115,
   "metadata": {
    "code_folding": [
     2
    ],
    "collapsed": false
   },
   "outputs": [],
   "source": [
    "#schillinger I\n",
    "\n",
    "class SchillingerRythm_I:\n",
    "    \n",
    "    common_product = []\n",
    "    generators = []\n",
    "    resultant = []\n",
    "    \n",
    "    complementary_generators = []\n",
    "    complementary_resultant = []\n",
    "    \n",
    "    def __init__(self, fraction):\n",
    "        self.common_product = []\n",
    "        self.generators = []\n",
    "        self.resultant = []\n",
    "        self.complementary_generators = []\n",
    "        self.complementary_resultant = []\n",
    "        \n",
    "        self.binary_syncronisation(fraction)\n",
    "\n",
    "    def binary_syncronisation_result(self, fraction, seq_len):\n",
    "        result = [] \n",
    "        count = 1\n",
    "        flag = True\n",
    "        for i in range(1, seq_len):\n",
    "            for m in fraction:\n",
    "                if i % m == 0:\n",
    "                    flag = True\n",
    "                    break\n",
    "                else:\n",
    "                    flag = False\n",
    "            if flag:\n",
    "                result.append(count)\n",
    "                count = 1\n",
    "            else:\n",
    "                count += 1\n",
    "        result.append(count)\n",
    "        return result\n",
    "\n",
    "    def binary_syncronisation(self, fraction):\n",
    "        seq_len = np.prod(fraction)\n",
    "        # fill in lists\n",
    "        #print(seq_len)\n",
    "        self.common_product = [1]*seq_len\n",
    "        complementary_fraction = []\n",
    "        for generator in fraction:\n",
    "            num = int(seq_len/generator)\n",
    "            self.generators.append([generator]*num)\n",
    "            #complementary\n",
    "            com_num = int(seq_len/num)\n",
    "            complementary_fraction.append(num)\n",
    "            self.complementary_generators.append([num]*com_num)\n",
    "            \n",
    "        self.resultant = self.binary_syncronisation_result(fraction, seq_len)\n",
    "        self.complementary_resultant = self.binary_syncronisation_result(complementary_fraction, seq_len)\n"
   ]
  },
  {
   "cell_type": "code",
   "execution_count": 160,
   "metadata": {
    "code_folding": [
     0
    ],
    "collapsed": false
   },
   "outputs": [],
   "source": [
    "##schillinger II\n",
    "\n",
    "class SchillingerRythm_II:\n",
    "    \n",
    "    common_product = []\n",
    "    major_generator = []\n",
    "    minor_generators = []\n",
    "    resultant = []\n",
    "    \n",
    "    def __init__(self, fraction):\n",
    "        \n",
    "        if len(fraction) > 2:\n",
    "            raise ValueError('only 2 fractions!')\n",
    "        if fraction[1] > fraction[0]:\n",
    "            raise ValueError('for Type II fraction 1 must be greater!')\n",
    "            \n",
    "        self.common_product = []\n",
    "        self.major_generator = []\n",
    "        self.minor_generators = []\n",
    "        self.resultant = []\n",
    "        \n",
    "        self.binary_syncronisation(fraction)\n",
    "\n",
    "    def binary_syncronisation(self, fraction):\n",
    "        \n",
    "        a = fraction[0]\n",
    "        b = fraction[1]\n",
    "        \n",
    "        N = a - b + 1\n",
    "        length = a * a\n",
    "        \n",
    "        self.common_product = [1]*length\n",
    "        \n",
    "        self.major_generator= [a]*a\n",
    "        \n",
    "        for n in range(N):\n",
    "            self.minor_generators.append([b] * a)\n",
    "            \n",
    "        binary_list = [0] * length\n",
    "        for i in range(0, a):\n",
    "            binary_list[i*a] = 1\n",
    "        \n",
    "        major_places = [x*a for x in range(0, a)]\n",
    "        \n",
    "        for i, e in enumerate(self.minor_generators):\n",
    "            pointer = major_places[i]\n",
    "            for x in range(0, a):\n",
    "                binary_list[(x*b)+pointer] = 1\n",
    "        \n",
    "        result_list = []\n",
    "        counter = 1\n",
    "        for i in range(1,len(binary_list)):\n",
    "            if binary_list[i] == 1:\n",
    "                result_list.append(counter)\n",
    "                counter = 1\n",
    "            else:\n",
    "                counter += 1\n",
    "        result_list.append(counter)\n",
    "        self.resultant = result_list\n",
    "\n"
   ]
  },
  {
   "cell_type": "code",
   "execution_count": 117,
   "metadata": {
    "code_folding": [],
    "collapsed": false
   },
   "outputs": [],
   "source": [
    "#notes\n",
    "\n",
    "def convert2Dto1D(data):\n",
    "    flat_array = []\n",
    "    for d in data:\n",
    "        if isinstance(d[0], list):\n",
    "            for l in d:\n",
    "                flat_array.append(l)\n",
    "        else:\n",
    "            flat_array.append(d)\n",
    "    return flat_array\n",
    "    \n",
    "\n",
    "def showNotes(data):\n",
    "    attacks = convert2Dto1D(data)\n",
    "    #TS = str(int(len(clock))) +'/'+ str(int((clock[0].duration.quarterLength*16)))\n",
    "    TS = '8/1'\n",
    "    \n",
    "    s = stream.Score(id='mainScore')\n",
    "    \n",
    "    for sequences in attacks:\n",
    "        p0 = stream.Part(id='part0')\n",
    "        p0.timeSignature = meter.TimeSignature(TS)\n",
    "        tones = []\n",
    "        for notes in sequences:\n",
    "            \n",
    "            nota = pitch.Pitch(\"C\")\n",
    "            nota.octave = 4\n",
    "            nota = note.Note(nota.nameWithOctave)\n",
    "            nota.duration.quarterLength = notes\n",
    "            tones.append(nota)\n",
    "            \n",
    "        p0.append(tones)\n",
    "\n",
    "        s.insert(0, p0)\n",
    "\n",
    "    # stream2.show('text')\n",
    "    # stream2.show('midi')\n",
    "    return s"
   ]
  },
  {
   "cell_type": "code",
   "execution_count": 118,
   "metadata": {
    "code_folding": [
     0
    ],
    "collapsed": false
   },
   "outputs": [],
   "source": [
    "# plotting\n",
    "\n",
    "import matplotlib.pyplot as plt\n",
    "\n",
    "def convert_to_plot(data): # converting numbers  1 1 1 1 to oscillation 1 0 1 0 or 3 2 to 1 1 1 0 0\n",
    "    plot_array = []\n",
    "    bit = 1\n",
    "    plot_array.append(0)\n",
    "    for i, e in enumerate(data):\n",
    "        seq = [bit%2]*e\n",
    "        for s in seq:\n",
    "            plot_array.append(s)\n",
    "        bit+=1\n",
    "    return plot_array\n",
    "\n",
    "\n",
    "def show_graph(common_product, generators, resultant):\n",
    "    \n",
    "    length = len(convert_to_plot(common_product))\n",
    "    x_vals = range(length)\n",
    "    #fig, ax = plt.subplots(figsize=(20, 10))\n",
    "    fig, ax = plt.subplots()\n",
    "    ax.set_xlim(xmin=-1, xmax=length)\n",
    "    ax.set_ylim(ymin=-((len(generators) * 2 )+ 3), ymax=2)\n",
    "    \n",
    "    ax.step(x_vals, convert_to_plot(common_product), color='black')\n",
    "    \n",
    "    count = 0\n",
    "    for i,e in enumerate(generators):\n",
    "        count+=2\n",
    "        gen = convert_to_plot(e)\n",
    "        ax.step(x_vals, [x-count for x in gen], color='black')\n",
    "    \n",
    "    count+=2\n",
    "    ax.step(x_vals, [x-count for x in convert_to_plot(resultant)], color='black')\n",
    "    \n",
    "    ax.grid()\n",
    "    #ax.set_xticks([x+x for x in convert_to_plot(resultant)])\n",
    "    ax.set_xticklabels([])\n",
    "    ax.set_yticklabels([])\n",
    "    ax.set_xticks(range(len(common_product)+1))\n",
    "    ax.grid(True)\n",
    "    plt.show();\n",
    "        "
   ]
  },
  {
   "cell_type": "code",
   "execution_count": 163,
   "metadata": {
    "collapsed": false
   },
   "outputs": [
    {
     "data": {
      "text/plain": [
       "([1, 1, 1, 1, 1, 1, 1, 1, 1],\n",
       " [3, 3, 3],\n",
       " [[2, 2, 2], [2, 2, 2]],\n",
       " [2, 1, 1, 1, 1, 1, 2])"
      ]
     },
     "execution_count": 163,
     "metadata": {},
     "output_type": "execute_result"
    }
   ],
   "source": [
    "a = 3\n",
    "b = 2\n",
    "fraction = [a,b]\n",
    "sr_ = SchillingerRythm_II(fraction)\n",
    "sr_.common_product, sr_.major_generator, sr_.minor_generators, sr_.resultant"
   ]
  },
  {
   "cell_type": "code",
   "execution_count": 146,
   "metadata": {
    "collapsed": false,
    "scrolled": false
   },
   "outputs": [
    {
     "name": "stdout",
     "output_type": "stream",
     "text": [
      "[1, 1, 1, 1, 1, 1] [[3, 3], [2, 2, 2]] [2, 1, 1, 2]\n",
      "[1, 1, 1, 1, 1, 1] [[2, 2, 2], [3, 3]] [2, 1, 1, 2]\n"
     ]
    }
   ],
   "source": [
    "\n",
    "sr = SchillingerRythm_I(fraction)\n",
    "\n",
    "print(sr.common_product, sr.generators, sr.resultant)\n",
    "print(sr.common_product, sr.complementary_generators, sr.complementary_resultant)"
   ]
  },
  {
   "cell_type": "code",
   "execution_count": 131,
   "metadata": {
    "code_folding": [],
    "collapsed": false
   },
   "outputs": [
    {
     "name": "stdout",
     "output_type": "stream",
     "text": [
      "normal\n"
     ]
    },
    {
     "data": {
      "image/png": "[encoded data removed]",
      "text/plain": [
       "<matplotlib.figure.Figure at 0x10f0b85c0>"
      ]
     },
     "metadata": {},
     "output_type": "display_data"
    }
   ],
   "source": [
    "# plot results\n",
    "\n",
    "#do not plot\n",
    "if sr.resultant == sr.complementary_resultant: # check if result are same and plot complementary if not!\n",
    "    attack_list = [sr.common_product, sr.generators, sr.resultant]\n",
    "    print(\"normal\")\n",
    "    show_graph(sr.common_product, sr.generators, sr.resultant)\n",
    "else:\n",
    "    attack_list = [sr.common_product, sr.generators, sr.resultant, sr.common_product, sr.complementary_generators, sr.complementary_resultant]\n",
    "    print(\"normal\")\n",
    "    show_graph(sr.common_product, sr.generators, sr.resultant)\n",
    "    print(\"complementary\")\n",
    "    show_graph(sr.common_product, sr.complementary_generators, sr.complementary_resultant)\n",
    "\n",
    "    \n"
   ]
  },
  {
   "cell_type": "code",
   "execution_count": 132,
   "metadata": {
    "collapsed": false,
    "scrolled": false
   },
   "outputs": [
    {
     "data": {
      "image/png": "[encoded data removed]",
      "text/plain": [
       "<music21.ipython21.objects.IPythonPNGObject at 0x10f084400>"
      ]
     },
     "execution_count": 132,
     "metadata": {},
     "output_type": "execute_result"
    }
   ],
   "source": [
    "attack_list = [sr.common_product, sr.generators, sr.resultant]\n",
    "s = showNotes(attack_list)\n",
    "s.show()"
   ]
  },
  {
   "cell_type": "code",
   "execution_count": null,
   "metadata": {
    "collapsed": true
   },
   "outputs": [],
   "source": []
  },
  {
   "cell_type": "code",
   "execution_count": 149,
   "metadata": {
    "collapsed": false
   },
   "outputs": [
    {
     "data": {
      "text/plain": [
       "([1, 1, 1, 1, 1, 1, 1, 1, 1],\n",
       " [3, 3, 3],\n",
       " [[2, 2, 2], [2, 2, 2]],\n",
       " [2, 1, 1, 1, 1, 1, 2])"
      ]
     },
     "execution_count": 149,
     "metadata": {},
     "output_type": "execute_result"
    }
   ],
   "source": [
    "sr_ = SchillingerRythm_II(fraction)\n",
    "sr_.common_product, sr_.major_generator, sr_.minor_generators, sr_.resultant"
   ]
  },
  {
   "cell_type": "code",
   "execution_count": 141,
   "metadata": {
    "collapsed": false
   },
   "outputs": [
    {
     "data": {
      "image/png": "[encoded data removed]",
      "text/plain": [
       "<music21.ipython21.objects.IPythonPNGObject at 0x10f0fde48>"
      ]
     },
     "execution_count": 141,
     "metadata": {},
     "output_type": "execute_result"
    }
   ],
   "source": [
    "attack_list = [sr_.resultant]\n",
    "s = showNotes(attack_list)\n",
    "s.show()"
   ]
  },
  {
   "cell_type": "code",
   "execution_count": 142,
   "metadata": {
    "code_folding": [],
    "collapsed": false
   },
   "outputs": [
    {
     "data": {
      "text/plain": [
       "[[2, 1, 1, 1, 1, 1, 2], [2, 1, 1, 2], 3]"
      ]
     },
     "execution_count": 142,
     "metadata": {},
     "output_type": "execute_result"
    }
   ],
   "source": [
    "# Balance \n",
    "B = [sr_.resultant , sr.resultant , a*(a-b)]\n",
    "B\n",
    "#implement if a > 2*b or 3*b"
   ]
  },
  {
   "cell_type": "code",
   "execution_count": 143,
   "metadata": {
    "collapsed": false
   },
   "outputs": [
    {
     "data": {
      "text/plain": [
       "[[2, 1, 1, 2], [2, 1, 1, 1, 1, 1, 2]]"
      ]
     },
     "execution_count": 143,
     "metadata": {},
     "output_type": "execute_result"
    }
   ],
   "source": [
    "#Expansion\n",
    "E = [sr.resultant, sr_.resultant]\n",
    "E"
   ]
  },
  {
   "cell_type": "code",
   "execution_count": 144,
   "metadata": {
    "collapsed": false
   },
   "outputs": [
    {
     "data": {
      "text/plain": [
       "[[2, 1, 1, 1, 1, 1, 2], [2, 1, 1, 2]]"
      ]
     },
     "execution_count": 144,
     "metadata": {},
     "output_type": "execute_result"
    }
   ],
   "source": [
    "#Contraction\n",
    "C = [sr_.resultant, sr.resultant]\n",
    "C"
   ]
  },
  {
   "cell_type": "code",
   "execution_count": null,
   "metadata": {
    "collapsed": true
   },
   "outputs": [],
   "source": []
  }
 ],
 "metadata": {
  "hide_input": false,
  "kernelspec": {
   "display_name": "Python [conda env:python3_test]",
   "language": "python",
   "name": "conda-env-python3_test-py"
  },
  "language_info": {
   "codemirror_mode": {
    "name": "ipython",
    "version": 3
   },
   "file_extension": ".py",
   "mimetype": "text/x-python",
   "name": "python",
   "nbconvert_exporter": "python",
   "pygments_lexer": "ipython3",
   "version": "3.5.2"
  },
  "latex_envs": {
   "LaTeX_envs_menu_present": true,
   "bibliofile": "biblio.bib",
   "cite_by": "apalike",
   "current_citInitial": 1,
   "eqLabelWithNumbers": true,
   "eqNumInitial": 1,
   "hotkeys": {
    "equation": "Ctrl-E",
    "itemize": "Ctrl-I"
   },
   "labels_anchors": false,
   "latex_user_defs": false,
   "report_style_numbering": false,
   "user_envs_cfg": false
  }
 },
 "nbformat": 4,
 "nbformat_minor": 2
}
