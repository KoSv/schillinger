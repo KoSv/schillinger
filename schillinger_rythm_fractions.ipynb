{
 "cells": [
  {
   "cell_type": "code",
   "execution_count": 661,
   "metadata": {
    "code_folding": [],
    "collapsed": false
   },
   "outputs": [
    {
     "name": "stdout",
     "output_type": "stream",
     "text": [
      "The music21.ipython21 extension is already loaded. To reload it, use:\n",
      "  %reload_ext music21.ipython21\n"
     ]
    }
   ],
   "source": [
    "#schillinger \n",
    "import numpy as np\n",
    "from music21 import *\n",
    "from itertools import chain\n",
    "%load_ext music21.ipython21\n"
   ]
  },
  {
   "cell_type": "code",
   "execution_count": 635,
   "metadata": {
    "code_folding": [
     0
    ],
    "collapsed": false
   },
   "outputs": [],
   "source": [
    "#schillinger functions\n",
    "\n",
    "class SchillingerRythm:\n",
    "    \n",
    "    common_product = []\n",
    "    generators = []\n",
    "    resultant = []\n",
    "    \n",
    "    complementary_generators = []\n",
    "    complementary_resultant = []\n",
    "    \n",
    "    def __init__(self, fraction):\n",
    "        self.common_product = []\n",
    "        self.generators = []\n",
    "        self.resultant = []\n",
    "        self.complementary_generators = []\n",
    "        self.complementary_resultant = []\n",
    "        \n",
    "        self.binary_syncronisation(fraction)\n",
    "\n",
    "    def binary_syncronisation_result(self, fraction, seq_len):\n",
    "        result = [] \n",
    "        count = 1\n",
    "        flag = True\n",
    "        for i in range(1, seq_len):\n",
    "            for m in fraction:\n",
    "                if i % m == 0:\n",
    "                    flag = True\n",
    "                    break\n",
    "                else:\n",
    "                    flag = False\n",
    "            if flag:\n",
    "                result.append(count)\n",
    "                count = 1\n",
    "            else:\n",
    "                count += 1\n",
    "        result.append(count)\n",
    "        return result\n",
    "\n",
    "    def binary_syncronisation(self, fraction):\n",
    "        seq_len = np.prod(fraction)\n",
    "        # fill in lists\n",
    "        #print(seq_len)\n",
    "        self.common_product = [1]*seq_len\n",
    "        complementary_fraction = []\n",
    "        for generator in fraction:\n",
    "            num = int(seq_len/generator)\n",
    "            self.generators.append([generator]*num)\n",
    "            #complementary\n",
    "            com_num = int(seq_len/num)\n",
    "            complementary_fraction.append(num)\n",
    "            self.complementary_generators.append([num]*com_num)\n",
    "            \n",
    "        self.resultant = self.binary_syncronisation_result(fraction, seq_len)\n",
    "        self.complementary_resultant = self.binary_syncronisation_result(complementary_fraction, seq_len)\n"
   ]
  },
  {
   "cell_type": "code",
   "execution_count": 718,
   "metadata": {
    "code_folding": [
     0
    ],
    "collapsed": false
   },
   "outputs": [],
   "source": [
    "#notes\n",
    "\n",
    "def convert2Dto1D(data):\n",
    "    flat_array = []\n",
    "    for d in data:\n",
    "        if isinstance(d[0], list):\n",
    "            for l in d:\n",
    "                flat_array.append(l)\n",
    "        else:\n",
    "            flat_array.append(d)\n",
    "    return flat_array\n",
    "    \n",
    "\n",
    "def showNotes(data):\n",
    "    attacks = convert2Dto1D(data)\n",
    "    #TS = str(int(len(clock))) +'/'+ str(int((clock[0].duration.quarterLength*16)))\n",
    "    TS = '8/1'\n",
    "    \n",
    "    s = stream.Score(id='mainScore')\n",
    "    \n",
    "    for sequences in attacks:\n",
    "        p0 = stream.Part(id='part0')\n",
    "        p0.timeSignature = meter.TimeSignature(TS)\n",
    "        tones = []\n",
    "        for notes in sequences:\n",
    "            \n",
    "            nota = pitch.Pitch(\"C\")\n",
    "            nota.octave = 4\n",
    "            nota = note.Note(nota.nameWithOctave)\n",
    "            nota.duration.quarterLength = notes\n",
    "            tones.append(nota)\n",
    "            \n",
    "        p0.append(tones)\n",
    "\n",
    "        s.insert(0, p0)\n",
    "\n",
    "    # stream2.show('text')\n",
    "    # stream2.show('midi')\n",
    "    return s"
   ]
  },
  {
   "cell_type": "code",
   "execution_count": null,
   "metadata": {
    "code_folding": [],
    "collapsed": true
   },
   "outputs": [],
   "source": [
    "# plotting\n",
    "\n",
    "import matplotlib.pyplot as plt\n",
    "\n",
    "def convert_to_plot(data): # converting numbers  1 1 1 1 to oscillation 1 0 1 0 or 3 2 to 1 1 1 0 0\n",
    "    plot_array = []\n",
    "    bit = 1\n",
    "    plot_array.append(0)\n",
    "    for i, e in enumerate(data):\n",
    "        seq = [bit%2]*e\n",
    "        for s in seq:\n",
    "            plot_array.append(s)\n",
    "        bit+=1\n",
    "    return plot_array\n",
    "\n",
    "\n",
    "def show_graph(common_product, generators, resultant):\n",
    "    \n",
    "    length = len(convert_to_plot(common_product))\n",
    "    x_vals = range(length)\n",
    "    #fig, ax = plt.subplots(figsize=(20, 10))\n",
    "    fig, ax = plt.subplots()\n",
    "    ax.set_xlim(xmin=-1, xmax=length)\n",
    "    ax.set_ylim(ymin=-((len(generators) * 2 )+ 3), ymax=2)\n",
    "    \n",
    "    ax.step(x_vals, convert_to_plot(common_product), color='black')\n",
    "    \n",
    "    count = 0\n",
    "    for i,e in enumerate(generators):\n",
    "        count+=2\n",
    "        gen = convert_to_plot(e)\n",
    "        ax.step(x_vals, [x-count for x in gen], color='black')\n",
    "    \n",
    "    count+=2\n",
    "    ax.step(x_vals, [x-count for x in convert_to_plot(resultant)], color='black')\n",
    "    \n",
    "    ax.grid()\n",
    "    #ax.set_xticks([x+x for x in convert_to_plot(resultant)])\n",
    "    ax.set_xticklabels([])\n",
    "    ax.set_yticklabels([])\n",
    "    ax.set_xticks(range(len(common_product)+1))\n",
    "    ax.grid(True)\n",
    "    plt.show();\n",
    "        "
   ]
  },
  {
   "cell_type": "code",
   "execution_count": 751,
   "metadata": {
    "collapsed": false,
    "scrolled": false
   },
   "outputs": [
    {
     "name": "stdout",
     "output_type": "stream",
     "text": [
      "[1, 1, 1, 1, 1, 1, 1, 1, 1, 1, 1, 1] [[4, 4, 4], [3, 3, 3, 3]] [3, 1, 2, 2, 1, 3]\n",
      "[1, 1, 1, 1, 1, 1, 1, 1, 1, 1, 1, 1] [[3, 3, 3, 3], [4, 4, 4]] [3, 1, 2, 2, 1, 3]\n"
     ]
    }
   ],
   "source": [
    "fraction = [4,3]\n",
    "sr = SchillingerRythm(fraction)\n",
    "\n",
    "print(sr.common_product, sr.generators, sr.resultant)\n",
    "print(sr.common_product, sr.complementary_generators, sr.complementary_resultant)"
   ]
  },
  {
   "cell_type": "code",
   "execution_count": 754,
   "metadata": {
    "code_folding": [],
    "collapsed": false
   },
   "outputs": [
    {
     "name": "stdout",
     "output_type": "stream",
     "text": [
      "normal\n"
     ]
    },
    {
     "data": {
      "image/png": "[encoded data removed]",
      "text/plain": [
       "<matplotlib.figure.Figure at 0x10e62be80>"
      ]
     },
     "metadata": {},
     "output_type": "display_data"
    }
   ],
   "source": [
    "# plot results\n",
    "if sr.resultant == sr.complementary_resultant: # check if result are same and plot complementary if not!\n",
    "    attack_list = [sr.common_product, sr.generators, sr.resultant]\n",
    "    print(\"normal\")\n",
    "    show_graph(sr.common_product, sr.generators, sr.resultant)\n",
    "else:\n",
    "    attack_list = [sr.common_product, sr.generators, sr.resultant, sr.common_product, sr.complementary_generators, sr.complementary_resultant]\n",
    "    print(\"normal\")\n",
    "    show_graph(sr.common_product, sr.generators, sr.resultant)\n",
    "    print(\"complementary\")\n",
    "    show_graph(sr.common_product, sr.complementary_generators, sr.complementary_resultant)\n",
    "\n",
    "    \n"
   ]
  },
  {
   "cell_type": "code",
   "execution_count": 753,
   "metadata": {
    "collapsed": false,
    "scrolled": false
   },
   "outputs": [
    {
     "data": {
      "image/png": "[encoded data removed]",
      "text/plain": [
       "<music21.ipython21.objects.IPythonPNGObject at 0x10f3a55c0>"
      ]
     },
     "execution_count": 753,
     "metadata": {},
     "output_type": "execute_result"
    }
   ],
   "source": [
    "s = showNotes(attack_list)\n",
    "s.show()"
   ]
  },
  {
   "cell_type": "code",
   "execution_count": null,
   "metadata": {
    "collapsed": false
   },
   "outputs": [],
   "source": []
  },
  {
   "cell_type": "code",
   "execution_count": null,
   "metadata": {
    "collapsed": true
   },
   "outputs": [],
   "source": []
  },
  {
   "cell_type": "code",
   "execution_count": null,
   "metadata": {
    "collapsed": true
   },
   "outputs": [],
   "source": []
  }
 ],
 "metadata": {
  "hide_input": false,
  "kernelspec": {
   "display_name": "Python [conda env:python3_test]",
   "language": "python",
   "name": "conda-env-python3_test-py"
  },
  "language_info": {
   "codemirror_mode": {
    "name": "ipython",
    "version": 3
   },
   "file_extension": ".py",
   "mimetype": "text/x-python",
   "name": "python",
   "nbconvert_exporter": "python",
   "pygments_lexer": "ipython3",
   "version": "3.5.2"
  },
  "latex_envs": {
   "LaTeX_envs_menu_present": true,
   "bibliofile": "biblio.bib",
   "cite_by": "apalike",
   "current_citInitial": 1,
   "eqLabelWithNumbers": true,
   "eqNumInitial": 1,
   "hotkeys": {
    "equation": "Ctrl-E",
    "itemize": "Ctrl-I"
   },
   "labels_anchors": false,
   "latex_user_defs": false,
   "report_style_numbering": false,
   "user_envs_cfg": false
  }
 },
 "nbformat": 4,
 "nbformat_minor": 2
}
