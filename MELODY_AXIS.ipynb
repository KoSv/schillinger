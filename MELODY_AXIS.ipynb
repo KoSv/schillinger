{
 "cells": [
  {
   "cell_type": "code",
   "execution_count": 4,
   "metadata": {
    "code_folding": [
     0
    ],
    "collapsed": false
   },
   "outputs": [],
   "source": [
    "#includes\n",
    "%load_ext autoreload\n",
    "%autoreload 2\n",
    "import itertools\n",
    "import random\n",
    "import numpy as np\n",
    "from music21 import *\n",
    "import schillinger.rhythm as SRhythm\n",
    "import schillinger.pitch as SPitch\n",
    "import matplotlib.pyplot as plt\n",
    "import math\n",
    "%load_ext music21.ipython21"
   ]
  },
  {
   "cell_type": "code",
   "execution_count": null,
   "metadata": {
    "code_folding": [],
    "collapsed": false
   },
   "outputs": [],
   "source": []
  },
  {
   "cell_type": "code",
   "execution_count": 7,
   "metadata": {
    "code_folding": [
     0
    ],
    "collapsed": false
   },
   "outputs": [],
   "source": [
    "class SecondaryAxis:\n",
    "    SA_Dict = {}\n",
    "    def __init__(self, primary_axis,\n",
    "                 motion_sequence, \n",
    "                 T, P, \n",
    "                 time_scale=1, \n",
    "                 motion_scale=1 ):\n",
    "        self.SA_Dict = {}\n",
    "        self.time_pointer = 0\n",
    "        self.combinePA(primary_axis, motion_sequence,T,P, time_scale,motion_scale)\n",
    "        self.T = T\n",
    "        self.P = P\n",
    "        self.time_scale = time_scale\n",
    "        \n",
    "    def combinePA(self, pa, ms, T, P, time_scale, motion_scale):\n",
    "        \n",
    "        for i in range(len(ms)):\n",
    "            dd = self.calculate_seq(pa[i],ms[i], T[i%len(T)] * time_scale, P[i%len(P)]*motion_scale)\n",
    "            self.SA_Dict[i] = dd\n",
    "            #self.sequence_list.append()\n",
    "            \n",
    "    def calculate_seq(self, pa, motion_type, T, P):\n",
    "        \n",
    "        d = {}\n",
    "        mt = []\n",
    "        if motion_type == \"a\":\n",
    "            mt = [pa, pa + P]\n",
    "        elif motion_type == \"b\":\n",
    "            mt = [pa + P, pa]\n",
    "        elif motion_type == \"c\":\n",
    "            mt = [pa - P, pa]\n",
    "        elif motion_type == \"d\":\n",
    "            mt = [pa, pa - P]\n",
    "        elif motion_type == \"0\":\n",
    "            mt = [pa, pa]\n",
    "        \n",
    "        d[\"PrimaryAxis\"] = [pa,pa]\n",
    "        d[\"Motion\"] = motion_type\n",
    "        d[\"RelativeTime\"] = T\n",
    "        d[\"AbsolutePitch\"] = mt\n",
    "        #d[\"AbsolutePitch\"] = mt+pa\n",
    "        d[\"AbsoluteTime\"] = [self.time_pointer, self.time_pointer + T]\n",
    "        \n",
    "        self.time_pointer+=T\n",
    "        \n",
    "        return d\n",
    "    def Plot(self):\n",
    "        plt.title(\"AXIS MOTION\")\n",
    "        major_ticks = np.arange(-50, 100, 1)\n",
    "        plt.axes().set_xticks(major_ticks)\n",
    "        plt.axes().set_yticks(major_ticks)\n",
    "        \n",
    "        \n",
    "        \n",
    "        x = list((object['AbsoluteTime'] for object in SA.SA_Dict.values()))\n",
    "        y = list((object['AbsolutePitch'] for object in SA.SA_Dict.values()))\n",
    "        x = list(itertools.chain(*x))\n",
    "        y = list(itertools.chain(*y))\n",
    "        \n",
    "        \n",
    "        def convert_to_binary(data): # converting numbers  1 1 1 1 to oscillation 1 0 1 0 or 3 2 to 1 1 1 0 0\n",
    "            plot_array_y = np.zeros(1, dtype=np.int32)\n",
    "            plot_array_x = np.zeros(1, dtype=np.int32)\n",
    "            for i, e in enumerate(data):\n",
    "                y = np.ones(e+1, dtype=np.int32) if plot_array_y[-1] == 0 else np.zeros(e+1, dtype=np.int32)\n",
    "                plot_array_y = np.append(plot_array_y, y)\n",
    "                x = np.arange(len(y))+plot_array_x[-1]\n",
    "                plot_array_x = np.append(plot_array_x, x)\n",
    "            plot_array_y = np.append(plot_array_y, 0 if plot_array_y[-1] == 1 else 1)\n",
    "            plot_array_x = np.append(plot_array_x, plot_array_x[-1])\n",
    "            return plot_array_x,plot_array_y\n",
    "        \n",
    "        rt = list((object['RelativeTime'] for object in SA.SA_Dict.values()))\n",
    "        \n",
    "        binary_x, binary_y = convert_to_binary(rt)\n",
    "        plt.plot(binary_x, binary_y + max(y) +1, color='black')\n",
    "        \n",
    "        \n",
    "        plt.plot(x, y,color=\"black\")\n",
    "        \n",
    "        pa = list((object['PrimaryAxis'] for object in SA.SA_Dict.values()))\n",
    "        \n",
    "        pa = list(itertools.chain(*pa))\n",
    "        #print(pa,x)\n",
    "        plt.plot(x, pa, color=\"blue\")\n",
    "        \n",
    "        plt.grid(which=\"both\")#linestyle='-'\n",
    "        plt.gca().set_aspect('equal', adjustable='box')\n",
    "        plt.axis([-1, x[-1]+1, min(y) -1, max(y) +3])\n",
    "        plt.show()\n",
    "        #return plt\n",
    "        \n",
    "    "
   ]
  },
  {
   "cell_type": "code",
   "execution_count": 8,
   "metadata": {
    "code_folding": [
     0
    ],
    "collapsed": false
   },
   "outputs": [],
   "source": [
    "#Helpers\n",
    "def movementArrayToString(motion,time,pitch):\n",
    "    s = \"\"\n",
    "    for i, m in enumerate(motion):\n",
    "        t = \"T\" if time[i] <= 1 else str(time[i]) + \"T\"\n",
    "        p = \"P\" if pitch[i] <= 1 else str(pitch[i]) + \"P\"\n",
    "        #s.append(motion[i] + t + p)\n",
    "        s = s + motion[i] + t + p\n",
    "    return s\n",
    "#movementArrayToString(M,T,P)\n",
    "def movementStringToArray(mov_string):\n",
    "   \n",
    "    times = []\n",
    "    pitches = []\n",
    "    m_temp = []\n",
    "    \n",
    "    for i in range(len(mov_string)):\n",
    "        e = mov_string[i]\n",
    "        if e == \"a\" or e == \"b\" or e == \"c\" or e == \"d\" or e == \"0\":\n",
    "            m_temp.append(e)\n",
    "        else:\n",
    "            if e.isdecimal():\n",
    "                if mov_string[i+1] == \"P\":\n",
    "                    pitches.append(int(e))\n",
    "                else:\n",
    "                    times.append(int(e))\n",
    "            elif not mov_string[i-1].isdecimal():\n",
    "                if e == \"P\":\n",
    "                    pitches.append(1)\n",
    "                else:\n",
    "                    times.append(1)\n",
    "    return m_temp, times, pitches\n",
    "#l = \"04TP\" + \"b2TP\" + \"02TP\"\n",
    "#M, T, P = movementStringToArray(l)\n",
    "#M,T,P, \n",
    "#movementArrayToString(M,T,P)"
   ]
  },
  {
   "cell_type": "code",
   "execution_count": 157,
   "metadata": {
    "collapsed": false
   },
   "outputs": [
    {
     "data": {
      "image/png": "[encoded data removed]",
      "text/plain": [
       "<matplotlib.figure.Figure at 0x118440fd0>"
      ]
     },
     "metadata": {},
     "output_type": "display_data"
    },
    {
     "data": {
      "text/plain": [
       "{0: {'AbsolutePitch': [2, 3],\n",
       "  'AbsoluteTime': [0, 8],\n",
       "  'Motion': 'a',\n",
       "  'PrimaryAxis': [2, 2],\n",
       "  'RelativeTime': 8},\n",
       " 1: {'AbsolutePitch': [3, 2],\n",
       "  'AbsoluteTime': [8, 16],\n",
       "  'Motion': 'b',\n",
       "  'PrimaryAxis': [2, 2],\n",
       "  'RelativeTime': 8}}"
      ]
     },
     "execution_count": 157,
     "metadata": {},
     "output_type": "execute_result"
    }
   ],
   "source": [
    "M = [\"a\",\"b\"]\n",
    "T = [4,4]\n",
    "P = [1,1]\n",
    "pa = [2] #Primary Axis\n",
    "PA = np.kron(pa, np.ones(len(M),dtype=np.int32))\n",
    "SA = SecondaryAxis(PA, M, T, P, time_scale=2, motion_scale=1)\n",
    "SA.Plot()\n",
    "#plt.show()\n",
    "SA.SA_Dict"
   ]
  },
  {
   "cell_type": "code",
   "execution_count": 158,
   "metadata": {
    "code_folding": [
     0
    ],
    "collapsed": false
   },
   "outputs": [],
   "source": [
    "class MelodyStructure:\n",
    "    \n",
    "    Melody_Dict = {}\n",
    "    def __init__(self, secondary_axis, melody_rhythm, motion):#\n",
    "        self.Melody_Dict = {}\n",
    "        motion_resized = np.kron(motion, np.ones(len(melody_rhythm),dtype=np.chararray))\n",
    "        at = self.convertRelativeToAbsolute(melody_rhythm)\n",
    "        \n",
    "        self.Melody_Dict = self.makeMelody(melody_rhythm, at, secondary_axis.SA_Dict, motion_resized)\n",
    "        \n",
    "    def makeMelody(self, melody_rhythm, absolute_time, SA_Dict, motion):\n",
    "        d = {}\n",
    "        step_count = 0\n",
    "        for i , e in enumerate(SA_Dict.values()):\n",
    "            X_temp_end = e[\"AbsoluteTime\"][1]\n",
    "            X_temp_start = e[\"AbsoluteTime\"][0]\n",
    "            X_steps = e[\"RelativeTime\"]\n",
    "            \n",
    "            Y_start = e[\"AbsolutePitch\"][0]\n",
    "            Y_stop = e[\"AbsolutePitch\"][1]\n",
    "            \n",
    "            tx = np.arange(0, X_steps, 1)#make x steps\n",
    "            ty = np.linspace(Y_start, Y_stop, len(tx))#layout y steps on x axis\n",
    "            \n",
    "            count=0\n",
    "            for r in range(X_steps):\n",
    "                X = X_temp_start+count # make X absolute in time\n",
    "                if X in absolute_time:\n",
    "                    \n",
    "                    Y = ty[r]\n",
    "                    #convert to ascribed or inscribed motion\n",
    "                    if(motion[i] =='ascribed' and (e['Motion'] is \"a\" or e['Motion'] is \"b\")):\n",
    "                        Y = np.ceil(Y)\n",
    "                    elif(motion[i] =='inscribed' and (e['Motion'] is \"a\" or e['Motion'] is \"b\")):\n",
    "                        Y = np.floor(Y)\n",
    "                    elif(motion[i] =='ascribed' and (e['Motion'] is \"c\" or e['Motion'] is \"d\")):\n",
    "                        Y = np.floor(Y)\n",
    "                    elif(motion[i] =='inscribed' and (e['Motion'] is \"c\" or e['Motion'] is \"d\")):\n",
    "                        Y = np.ceil(Y)\n",
    "                    else:\n",
    "                        Y = np.floor(Y)\n",
    "                    d[step_count] = {\"AbsoluteTime\": [X, X+melody_rhythm[step_count]],\n",
    "                                     \"Pitch\": [int(Y),int(Y)], \n",
    "                                     \"RelativeTime\":melody_rhythm[step_count],\n",
    "                                     \"Motion\": motion[i]}\n",
    "                    step_count+=1\n",
    "                count+=1\n",
    "        return d\n",
    "    \n",
    "    def correctMelodyRhythmLength(self,resultant,length):\n",
    "        r = []\n",
    "        for i in range(length):\n",
    "            if(sum(r)<length):\n",
    "                r.append(resultant[i%len(resultant)])\n",
    "            else:\n",
    "                break\n",
    "        return r #len(resultant)==len(seq_lentgh)\n",
    "    def convertRelativeToAbsolute(self, resultant):\n",
    "        #convert \"resultant\" relative to absolute time\n",
    "        time_pointer = 0\n",
    "        abs_resultant = [0]\n",
    "        for i in resultant:\n",
    "            abs_resultant.append(i+time_pointer)\n",
    "            time_pointer+=i\n",
    "        return abs_resultant # 0,1,2,2 -> 0,1,3,5\n",
    "    def Plot(self):\n",
    "        plt.title(\"MELODY STRUCTURE\")\n",
    "        major_ticks = np.arange(-50, 100, 1)\n",
    "        plt.axes().set_xticks(major_ticks)\n",
    "        plt.axes().set_yticks(major_ticks)\n",
    "        \n",
    "        x = list((object['AbsoluteTime'] for object in self.Melody_Dict.values()))\n",
    "        y = list((object['Pitch'] for object in self.Melody_Dict.values()))\n",
    "        x = list(itertools.chain(*x))\n",
    "        y = list(itertools.chain(*y))\n",
    "        \n",
    "        \n",
    "        def convert_to_binary(data): # converting numbers  1 1 1 1 to oscillation 1 0 1 0 or 3 2 to 1 1 1 0 0\n",
    "            plot_array_y = np.zeros(1, dtype=np.int32)\n",
    "            plot_array_x = np.zeros(1, dtype=np.int32)\n",
    "            for i, e in enumerate(data):\n",
    "                y = np.ones(e+1, dtype=np.int32) if plot_array_y[-1] == 0 else np.zeros(e+1, dtype=np.int32)\n",
    "                plot_array_y = np.append(plot_array_y, y)\n",
    "                x = np.arange(len(y))+plot_array_x[-1]\n",
    "                plot_array_x = np.append(plot_array_x, x)\n",
    "            plot_array_y = np.append(plot_array_y, 0 if plot_array_y[-1] == 1 else 1)\n",
    "            plot_array_x = np.append(plot_array_x, plot_array_x[-1])\n",
    "            return plot_array_x,plot_array_y\n",
    "        \n",
    "        rt = list((object['RelativeTime'] for object in self.Melody_Dict.values()))\n",
    "        \n",
    "        binary_x, binary_y = convert_to_binary(rt)\n",
    "        plt.plot(binary_x, binary_y + max(y) +1, color='black')\n",
    "        \n",
    "        \n",
    "        plt.plot(x, y,color=\"black\")\n",
    "        \n",
    "        plt.grid(which=\"both\")#linestyle='-'\n",
    "        plt.gca().set_aspect('equal', adjustable='box')\n",
    "        plt.axis([-1, x[-1]+1, min(y) -1, max(y) +3])\n",
    "        plt.show()"
   ]
  },
  {
   "cell_type": "code",
   "execution_count": 161,
   "metadata": {
    "collapsed": false
   },
   "outputs": [
    {
     "data": {
      "image/png": "[encoded data removed]",
      "text/plain": [
       "<matplotlib.figure.Figure at 0x11771ea20>"
      ]
     },
     "metadata": {},
     "output_type": "display_data"
    },
    {
     "data": {
      "text/plain": [
       "{0: {'AbsoluteTime': [0, 8],\n",
       "  'Motion': 'inscribed',\n",
       "  'Pitch': [2, 2],\n",
       "  'RelativeTime': 8},\n",
       " 1: {'AbsoluteTime': [8, 12],\n",
       "  'Motion': 'inscribed',\n",
       "  'Pitch': [3, 3],\n",
       "  'RelativeTime': 4},\n",
       " 2: {'AbsoluteTime': [12, 16],\n",
       "  'Motion': 'inscribed',\n",
       "  'Pitch': [2, 2],\n",
       "  'RelativeTime': 4}}"
      ]
     },
     "execution_count": 161,
     "metadata": {},
     "output_type": "execute_result"
    }
   ],
   "source": [
    "mel_rhythm = [8,4,4]\n",
    "mel_motions = [\"inscribed\"]\n",
    "MS = MelodyStructure(SA, mel_rhythm, mel_motions)\n",
    "MS.Plot()\n",
    "MS.Melody_Dict"
   ]
  },
  {
   "cell_type": "code",
   "execution_count": 160,
   "metadata": {
    "code_folding": [],
    "collapsed": false
   },
   "outputs": [
    {
     "data": {
      "text/plain": [
       "array([ 1, -1,  2, -2,  3, -3,  4, -4,  5, -5], dtype=int32)"
      ]
     },
     "execution_count": 160,
     "metadata": {},
     "output_type": "execute_result"
    }
   ],
   "source": [
    "def numpy_oscillator(length):\n",
    "    axis1 = np.zeros(length, dtype=np.int32)\n",
    "    axis2 = np.linspace(1,length,length, dtype=np.int32)\n",
    "    #axis1 = 0\n",
    "    #axis2 = 1\n",
    "    #axis3 = nan\n",
    "    b = np.linspace(1,length,length, dtype=np.int32)\n",
    "    c = np.negative(b)\n",
    "    #y = np.linspace(0,0,1)\n",
    "    #print(np.linspace(1,5,5, dtype=np.int32))\n",
    "    #z[1:length:2] = 1\n",
    "    \n",
    "    #o = zip(x,y)\n",
    "    \n",
    "    return np.dstack((b,c)).ravel()\n",
    "#aTP  \n",
    "numpy_oscillator(5)"
   ]
  },
  {
   "cell_type": "code",
   "execution_count": 112,
   "metadata": {
    "code_folding": [
     0
    ],
    "collapsed": false
   },
   "outputs": [],
   "source": [
    "0 1 1 -4 3 -1 -1 1 2 -2"
   ]
  },
  {
   "cell_type": "code",
   "execution_count": null,
   "metadata": {
    "code_folding": [
     0
    ],
    "collapsed": false,
    "scrolled": false
   },
   "outputs": [],
   "source": [
    "# Step Movement Investigation on an classical 7 step scale ->"
   ]
  },
  {
   "cell_type": "code",
   "execution_count": 13,
   "metadata": {
    "code_folding": [
     0
    ],
    "collapsed": false
   },
   "outputs": [
    {
     "data": {
      "text/plain": [
       "0"
      ]
     },
     "execution_count": 13,
     "metadata": {},
     "output_type": "execute_result"
    }
   ],
   "source": []
  },
  {
   "cell_type": "code",
   "execution_count": 14,
   "metadata": {
    "code_folding": [
     0
    ],
    "collapsed": false
   },
   "outputs": [
    {
     "data": {
      "text/plain": [
       "0"
      ]
     },
     "execution_count": 14,
     "metadata": {},
     "output_type": "execute_result"
    }
   ],
   "source": []
  },
  {
   "cell_type": "code",
   "execution_count": 15,
   "metadata": {
    "code_folding": [
     0
    ],
    "collapsed": false,
    "scrolled": false
   },
   "outputs": [
    {
     "data": {
      "text/plain": [
       "0"
      ]
     },
     "execution_count": 15,
     "metadata": {},
     "output_type": "execute_result"
    }
   ],
   "source": []
  },
  {
   "cell_type": "code",
   "execution_count": null,
   "metadata": {
    "code_folding": [
     1,
     18
    ],
    "collapsed": false
   },
   "outputs": [],
   "source": [
    "#Melody show helpers\n",
    "def convert_to_music21_sequence(sc, pa, pitches, durations):\n",
    "    note_seq = []\n",
    "    \n",
    "    tonic = sc.getTonic()\n",
    "    \n",
    "    for e, p in enumerate(pitches):\n",
    "        if p != 0:\n",
    "            c = sc.next(tonic, direction=p)\n",
    "        else:\n",
    "            c = tonic\n",
    "        #print(c,p)\n",
    "        nota = note.Note(c.nameWithOctave)\n",
    "        nota.duration.quarterLength = int(durations[e])\n",
    "        note_seq.append(nota)\n",
    "        \n",
    "    return note_seq\n",
    "# simple notes show\n",
    "def showNotes(note_sequece, time_meter, duration_divider):\n",
    "    TS = str(time_meter[0])+'/'+str(time_meter[1])\n",
    "    s = stream.Score(id='mainScore')\n",
    "    p0 = stream.Part(id='part0')\n",
    "    p0.timeSignature = meter.TimeSignature(TS)\n",
    "    for i, notes in enumerate(note_sequece):\n",
    "        notes.quarterLength = notes.quarterLength*duration_divider\n",
    "        p0.append(notes)\n",
    "    s.insert(0, p0)\n",
    "    return s"
   ]
  },
  {
   "cell_type": "code",
   "execution_count": null,
   "metadata": {
    "code_folding": [
     0
    ],
    "collapsed": false
   },
   "outputs": [],
   "source": [
    "#Show Melody Notes\n",
    "melody = ME2.oscillated_seq\n",
    "hm = scale.HarmonicMinorScale(\"C4\")\n",
    "#hm = scale.ChromaticScale(tonic=\"C4\")\n",
    "pitches = convert_to_music21_sequence(hm, PA, melody[1], melody[0])\n",
    "s = showNotes(pitches,[4,4],1)\n",
    "s.show('musicxml')"
   ]
  },
  {
   "cell_type": "code",
   "execution_count": null,
   "metadata": {
    "collapsed": false
   },
   "outputs": [],
   "source": []
  },
  {
   "cell_type": "code",
   "execution_count": null,
   "metadata": {
    "code_folding": [
     0
    ],
    "collapsed": false
   },
   "outputs": [],
   "source": [
    "# notes harmony \n",
    "\n",
    "def arpeggiator(c, es,rhythm, duration_divider):\n",
    "    chords = []\n",
    "    for i, seq in enumerate(c):\n",
    "                \n",
    "        nota = seq\n",
    "        nota.duration.quarterLength = (rhythm[es%len(rhythm)]/len(c)) * duration_divider\n",
    "        chords.append(nota)\n",
    "\n",
    "    nota = pitch.Pitch(c.pitches[0])\n",
    "    \n",
    "    \n",
    "    nota.octave = nota.octave + 2\n",
    "    nota = note.Note(nota.nameWithOctave)\n",
    "    #nota.duration.quarterLength = rhythm[es%len(rhythm)] * duration_divider\n",
    "    nota.duration.quarterLength = (rhythm[es%len(rhythm)]/len(c)) * duration_divider\n",
    "    \n",
    "   \n",
    "    chords.append(nota)\n",
    "    #octave adjust\n",
    "    \n",
    "    \n",
    "    #print(chords[-1].pitch.midi - chords[-2].pitch.midi, chords[-1])\n",
    "    if chords[-1].pitch.midi - chords[-2].pitch.midi >= 11:\n",
    "        chords[-1].octave = chords[-1].octave -1\n",
    "        #print(\"yes\")\n",
    "    ##\n",
    "    nota = pitch.Pitch(c.pitches[2])\n",
    "    nota.octave = nota.octave\n",
    "    nota = note.Note(nota.nameWithOctave)\n",
    "    #nota.duration.quarterLength = rhythm[es%len(rhythm)] * duration_divider\n",
    "    nota.duration.quarterLength = (rhythm[es%len(rhythm)]/len(c)) * duration_divider\n",
    "    chords.append(nota)\n",
    "    return chords\n",
    "\n",
    "def showHarmony(pitches, note_sequence, scala, rhythm, length, time_meter, duration_divider, arp=False,bass=True, drop2 = False):\n",
    "    TS = str(time_meter[0])+'/'+str(time_meter[1])\n",
    "    \n",
    "    s = stream.Score(id='mainScore')\n",
    "    p0 = stream.Part(id='melody')\n",
    "    p0.timeSignature = meter.TimeSignature(TS)\n",
    "    p1 = stream.Part(id='chords')\n",
    "    p1.timeSignature = meter.TimeSignature(TS)\n",
    "    \n",
    "    #pseudo stuff\n",
    "    #temp_scale = scala\n",
    "    #rhythm_seq = [2,1,1,2]\n",
    "    for es, sequences in enumerate(note_sequence):\n",
    "        \n",
    "        melody = []\n",
    "        chords = []\n",
    "        \n",
    "        \n",
    "        \n",
    "        ### chords\n",
    "        #chord_seq = [sequences[0]]+sequences[1]\n",
    "        chord_seq = sequences\n",
    "        #print(chord_seq)\n",
    "        test_chord = chord.Chord(chord_seq)\n",
    "        c = chord.Chord(test_chord)\n",
    "        #c.root = sequences[0]\n",
    "        #pitches[es].quarterLength.duration\n",
    "        c.quarterLength = pitches[es].quarterLength * duration_divider\n",
    "        #c = c.sortDiatonicAscending() # for better voice leadng but not real!\n",
    "        #c.pitches.octave = 2\n",
    "        for p in c.pitches:\n",
    "            p.octave = 3\n",
    "        if drop2:\n",
    "            try:\n",
    "                #\n",
    "                #c.pitches[0].octave = 1 # drop2\n",
    "                #c.pitches[-2].octave -= 2 # drop4\n",
    "                pass\n",
    "            except:\n",
    "                pass\n",
    "        \n",
    "        if arp:\n",
    "            chords =  arpeggiator(c, es, rhythm, duration_divider)\n",
    "            #chords.append(nota)\n",
    "            \n",
    "        else:\n",
    "            chords.append(c)\n",
    "            \n",
    "        nota = pitches[es]\n",
    "        nota.quarterLength *= duration_divider\n",
    "        #nota.octave += 1 \n",
    "        melody.append(pitches[es])\n",
    "            \n",
    "        \n",
    "        ##############\n",
    "        # pseudo BASS\n",
    "        # get chord durations and apply on melody (for test purpose)\n",
    "        \n",
    "        p0.append(melody)\n",
    "        p1.append(chords)\n",
    "        \n",
    "    \n",
    "    s.insert(0, p0)\n",
    "    s.insert(0, p1)\n",
    "    \n",
    "    #s = s.transpose(0)\n",
    "    return s\n",
    "\n"
   ]
  },
  {
   "cell_type": "code",
   "execution_count": null,
   "metadata": {
    "code_folding": [],
    "collapsed": false
   },
   "outputs": [],
   "source": [
    "#'harmonized'\n",
    "def harmonize_note_clockwise(n, chordified_scale, clock_position):\n",
    "    dummy = []\n",
    "    temp_scales = []\n",
    "    for i,e in enumerate(chordified_scale):\n",
    "        if n in e:\n",
    "            temp_scales.append(e)\n",
    "    dummy.append(temp_scales[clock_position%len(temp_scales)])\n",
    "    return dummy\n",
    "\n",
    "melody = ME.oscillated_seq\n",
    "hm = scale.HarmonicMinorScale(\"C4\")\n",
    "#hm = scale.ChromaticScale(tonic=\"C4\")\n",
    "notes = convert_to_music21_sequence(hm, PA, melody[1], melody[0])\n",
    "note_seq = [[str(p.name) for p in notes]]\n",
    "\n",
    "temp_scale = [str(p.name) for p in hm.pitches[:-1]]\n",
    "scales = [temp_scale]\n",
    "#print(scales)\n",
    "#note_seq = bass\n",
    "voice_amount = 3 \n",
    "theme_expansion = 0\n",
    "scale_expansion_amount = 1 # # 1st order expansion for harmonizing is according to schillingers default\n",
    "\n",
    "SPG = SPitch.PitchGroup()\n",
    "harmonized_note_sequence_array = []\n",
    "scale_expansion = SPG.expansions(temp_scale)\n",
    "scale_ = scale_expansion[scale_expansion_amount]\n",
    "chordified_scale = SPG.chordify_scale(scale_, voice_amount)\n",
    "#TSD = [chordified_scale[0],chordified_scale[2],chordified_scale[5],chordified_scale[6]]\n",
    "TSD = chordified_scale.copy()\n",
    "#print(chordified_scale)\n",
    "for i,no in enumerate(note_seq[0]):\n",
    "    clock_position = i\n",
    "    hn = harmonize_note_clockwise(no, TSD, clock_position)\n",
    "    harmonized_note_sequence_array.append(hn)\n",
    "    \n",
    "merged_seq = list(itertools.chain(*harmonized_note_sequence_array))\n",
    "s = showHarmony(notes, merged_seq, hm, melody[0], len(merged_seq)*2, (4,4), .5, arp=False, bass=False, drop2=True)\n",
    "s.show('musicxml')"
   ]
  },
  {
   "cell_type": "code",
   "execution_count": null,
   "metadata": {
    "collapsed": false
   },
   "outputs": [],
   "source": [
    "\n"
   ]
  },
  {
   "cell_type": "code",
   "execution_count": null,
   "metadata": {
    "code_folding": [
     0,
     2
    ],
    "collapsed": false
   },
   "outputs": [],
   "source": [
    "#np.negative(np.arange(-5, 0, 1))\n",
    "#random.choice([a.min(),a.max()])\n",
    "#random.choice([True,False])\n",
    "#np.random.randint(0,PA.durations[i])"
   ]
  },
  {
   "cell_type": "code",
   "execution_count": null,
   "metadata": {
    "code_folding": [
     0
    ],
    "collapsed": false
   },
   "outputs": [],
   "source": [
    "#OSCILLATOR\n",
    "\n",
    "def sinusCycle(steps, amplitude, cycles, full_cycle=True, sin=True):\n",
    "    \n",
    "    if full_cycle:\n",
    "        magnitude = 360\n",
    "    else:\n",
    "        magnitude = 180\n",
    "    \n",
    "    R = np.array(np.sin(np.arange(0, magnitude, magnitude/steps) * np.pi / 180.)*amplitude, dtype=np.float32)\n",
    "    \n",
    "    if not sin:\n",
    "        R = np.roll(R, int(steps/2))\n",
    "    \n",
    "    if steps<0:\n",
    "        R = np.negative(R)\n",
    "        \n",
    "    return np.tile(np.array(np.rint(R), dtype=np.int32), cycles)\n",
    "\n",
    "def growSeq(np_array, start_amount=1, end_amount=5):\n",
    "    c = np_array.copy()\n",
    "    dummy = np.linspace(start_amount, end_amount, len(np.nonzero(c)[0]), endpoint=True, dtype=np.int32)\n",
    "    c[np.nonzero(c)] *= dummy\n",
    "    return c\n",
    "\n",
    "def shiftSeq(np_array, start_amount=0, end_amount=1):\n",
    "    c = np_array.copy()\n",
    "    dummy = np.linspace(start_amount, end_amount, len(c), endpoint=True, dtype=np.int32)\n",
    "    c += dummy\n",
    "    return c\n",
    "\n",
    "steps=4\n",
    "amplitude = 1\n",
    "cycles = 1\n",
    "X = sinusCycle(steps, amplitude, cycles, full_cycle=True, sin=True)\n",
    "X\n",
    "Y = growSeq(X, start_amount=1, end_amount=2)\n",
    "Y"
   ]
  },
  {
   "cell_type": "code",
   "execution_count": null,
   "metadata": {
    "collapsed": false
   },
   "outputs": [],
   "source": [
    "0--6"
   ]
  },
  {
   "cell_type": "code",
   "execution_count": null,
   "metadata": {
    "collapsed": false
   },
   "outputs": [],
   "source": []
  },
  {
   "cell_type": "code",
   "execution_count": null,
   "metadata": {
    "collapsed": false
   },
   "outputs": [],
   "source": [
    "steps = np.arange(0, 10, 1)\n",
    "amp = 45\n",
    "amplitude = np.radians(amp)/np.pi/2\n",
    "amplitude * steps\n",
    "\n",
    "\n",
    "np.tile(np.array([0,1,0,-1], dtype=np.int32), 1)"
   ]
  },
  {
   "cell_type": "code",
   "execution_count": null,
   "metadata": {
    "collapsed": false
   },
   "outputs": [],
   "source": []
  },
  {
   "cell_type": "code",
   "execution_count": null,
   "metadata": {
    "code_folding": [
     0
    ],
    "collapsed": false
   },
   "outputs": [],
   "source": []
  }
 ],
 "metadata": {
  "hide_input": false,
  "kernelspec": {
   "display_name": "Python [python3_test]",
   "language": "python",
   "name": "Python [python3_test]"
  },
  "language_info": {
   "codemirror_mode": {
    "name": "ipython",
    "version": 3
   },
   "file_extension": ".py",
   "mimetype": "text/x-python",
   "name": "python",
   "nbconvert_exporter": "python",
   "pygments_lexer": "ipython3",
   "version": "3.5.2"
  },
  "latex_envs": {
   "LaTeX_envs_menu_present": true,
   "bibliofile": "biblio.bib",
   "cite_by": "apalike",
   "current_citInitial": 1,
   "eqLabelWithNumbers": true,
   "eqNumInitial": 1,
   "hotkeys": {
    "equation": "Ctrl-E",
    "itemize": "Ctrl-I"
   },
   "labels_anchors": false,
   "latex_user_defs": false,
   "report_style_numbering": false,
   "user_envs_cfg": false
  }
 },
 "nbformat": 4,
 "nbformat_minor": 2
}
