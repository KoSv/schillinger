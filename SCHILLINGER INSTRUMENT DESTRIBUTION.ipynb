{
 "cells": [
  {
   "cell_type": "code",
   "execution_count": 1,
   "metadata": {
    "code_folding": [],
    "collapsed": false
   },
   "outputs": [],
   "source": [
    "# imports \n",
    "%load_ext autoreload\n",
    "%autoreload 2\n",
    "import schillinger.rhythm as SR\n",
    "import schillinger.pitch as SP\n",
    "import itertools\n",
    "import random\n",
    "from music21 import *\n",
    "%load_ext music21.ipython21"
   ]
  },
  {
   "cell_type": "code",
   "execution_count": 2,
   "metadata": {
    "code_folding": [],
    "collapsed": false
   },
   "outputs": [],
   "source": [
    "#convert2d to 1d \n",
    "def convert2Dto1D(data):\n",
    "    flat_array = []\n",
    "    for d in data:\n",
    "        if isinstance(d[0], list) or isinstance(d[0], tuple):\n",
    "            for l in d:\n",
    "                \n",
    "                flat_array.append(l)\n",
    "        else:\n",
    "            flat_array.append(d)\n",
    "    return flat_array"
   ]
  },
  {
   "cell_type": "code",
   "execution_count": 3,
   "metadata": {
    "code_folding": [],
    "collapsed": false
   },
   "outputs": [],
   "source": [
    "# NOTES FOR RHYTM\n",
    "\n",
    "def showSplittedNotes_RHYTHM(length, data, time_meter, note_sequece, duration_divider):\n",
    "    attacks = convert2Dto1D(data)\n",
    "    #TS = str(int(len(clock))) +'/'+ str(int((clock[0].duration.quarterLength*16)))\n",
    "    TS = str(time_meter[0])+'/'+str(time_meter[1])\n",
    "    \n",
    "    s = stream.Score(id='mainScore')\n",
    "    \n",
    "    for seq, sequences in enumerate(attacks):\n",
    "        p0 = stream.Part(id='part0')\n",
    "        p0.timeSignature = meter.TimeSignature(TS)\n",
    "        tones = []\n",
    "        note_counter = 0\n",
    "        for i in range(len(sequences)):\n",
    "            nota = pitch.Pitch(note_sequece[note_counter%len(note_sequece)])\n",
    "            note_counter += 1\n",
    "            nota.octave = 4-seq\n",
    "            nota = note.Note(nota.nameWithOctave)\n",
    "            nota.duration.quarterLength = sequences[i%len(sequences)]*duration_divider\n",
    "            tones.append(nota)\n",
    "            \n",
    "        p0.append(tones)\n",
    "        s.insert(0, p0)\n",
    "    return s\n"
   ]
  },
  {
   "cell_type": "code",
   "execution_count": 4,
   "metadata": {
    "code_folding": [],
    "collapsed": false,
    "scrolled": false
   },
   "outputs": [],
   "source": [
    "#notes from harmony_Tests\n",
    "note_s=['C', 'E-', 'G', 'B-', 'D', 'E', 'G', 'B-', 'D', 'F', 'B-', 'D', 'F', 'A', 'C', 'A', 'C', 'E', 'G', 'B-', 'E', 'G', 'B-', 'D', 'F', 'A-', 'C-', 'E-', 'G-', 'B-', 'A-', 'C', 'E-', 'G', 'B-', 'C', 'E', 'G', 'B-', 'D', 'G', 'B-', 'D', 'F', 'A', 'F', 'A', 'C', 'E', 'G', 'F', 'A', 'C', 'E', 'G', 'F-', 'A-', 'C-', 'E-', 'G-', 'F', 'A-', 'C', 'E-', 'G']\n"
   ]
  },
  {
   "cell_type": "code",
   "execution_count": 5,
   "metadata": {
    "code_folding": [],
    "collapsed": false
   },
   "outputs": [
    {
     "name": "stdout",
     "output_type": "stream",
     "text": [
      "[3, 1, 2, 1, 1, 1, 1, 2, 1, 3, 3, 1, 2, 2, 1, 3, 4]\n"
     ]
    }
   ],
   "source": [
    "# SCHILLINGER INSTRUMENT DESTRIBUTION!!!\n",
    "sr_1 = SR.Type_I([4,3])\n",
    "sr_2 = SR.Type_II([4,3])\n",
    "\n",
    "group = SR.Grouping()\n",
    "g = group.grouping_by_pairs(sr_1.resultant,sr_2.resultant,4,3)\n",
    "print(group.balance)\n",
    "#random_attack_combination = SR.get_random_attack_combination(sr_1.resultant)\n",
    "#random_attack_combination_2 = SR.get_random_attack_combination(sr_2.resultant)\n",
    "\n",
    "#fraction = 2/4\n",
    "#dp = SR.slice_by_fraction(sr_1.resultant, fraction) # slice the resultant for fun\n",
    "\n",
    "durations_pattern = group.balance # rhythm\n",
    "attack_pattern = group.balance #instrument destribution\n",
    "\n",
    "#durations_pattern = [3,1,2,1,2,1,3] # rhythm (sr_1.resultant)\n",
    "#attack_pattern = [2,2] #instrument destribution\n",
    "parts = 4 # or instuments\n",
    "order_of_parts = [0,1,2,3]\n",
    "\n",
    "cts = SR.CTS(parts,order_of_parts,durations_pattern,attack_pattern)\n",
    "cts_pattern = cts.get_values()\n",
    "        \n",
    "#print(flattened)\n",
    "\n",
    "#note_seq = [i[0] for i in cleaned_sequence]\n",
    "note_seq = note_s\n",
    "s = showSplittedNotes_RHYTHM(cts_pattern[0], cts_pattern[1], [cts_pattern[2][0], 4], note_seq , 1/4)\n",
    "s.show('musicxml')\n"
   ]
  },
  {
   "cell_type": "code",
   "execution_count": null,
   "metadata": {
    "code_folding": [],
    "collapsed": false
   },
   "outputs": [],
   "source": []
  },
  {
   "cell_type": "code",
   "execution_count": null,
   "metadata": {
    "collapsed": false
   },
   "outputs": [],
   "source": []
  }
 ],
 "metadata": {
  "hide_input": false,
  "kernelspec": {
   "display_name": "Python [conda env:python3_test]",
   "language": "python",
   "name": "conda-env-python3_test-py"
  },
  "language_info": {
   "codemirror_mode": {
    "name": "ipython",
    "version": 3
   },
   "file_extension": ".py",
   "mimetype": "text/x-python",
   "name": "python",
   "nbconvert_exporter": "python",
   "pygments_lexer": "ipython3",
   "version": "3.5.2"
  },
  "latex_envs": {
   "LaTeX_envs_menu_present": true,
   "bibliofile": "biblio.bib",
   "cite_by": "apalike",
   "current_citInitial": 1,
   "eqLabelWithNumbers": true,
   "eqNumInitial": 1,
   "hotkeys": {
    "equation": "Ctrl-E",
    "itemize": "Ctrl-I"
   },
   "labels_anchors": false,
   "latex_user_defs": false,
   "report_style_numbering": false,
   "user_envs_cfg": false
  }
 },
 "nbformat": 4,
 "nbformat_minor": 2
}
