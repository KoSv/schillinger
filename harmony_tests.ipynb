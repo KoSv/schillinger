{
 "cells": [
  {
   "cell_type": "code",
   "execution_count": 1,
   "metadata": {
    "collapsed": false
   },
   "outputs": [],
   "source": [
    "#imports\n",
    "%load_ext autoreload\n",
    "%autoreload 2\n",
    "import schillinger.harmony as SH\n",
    "import numpy as np\n",
    "import itertools\n",
    "import random"
   ]
  },
  {
   "cell_type": "code",
   "execution_count": 109,
   "metadata": {
    "collapsed": true
   },
   "outputs": [],
   "source": [
    "import schillinger.pitch as SP"
   ]
  },
  {
   "cell_type": "code",
   "execution_count": 2,
   "metadata": {
    "collapsed": true
   },
   "outputs": [],
   "source": [
    "from music21 import *\n",
    "%load_ext music21.ipython21"
   ]
  },
  {
   "cell_type": "code",
   "execution_count": 72,
   "metadata": {
    "collapsed": false
   },
   "outputs": [
    {
     "name": "stdout",
     "output_type": "stream",
     "text": [
      "['B', 'G', 'E-', 'G', 'E-', 'B', 'E-', 'G', 'B', 'E-', 'B', 'G', 'B', 'G', 'E-', 'G', 'B', 'E-', 'G', 'E-', 'B', 'E-', 'B', 'G', 'B', 'E-', 'G', 'B']\n",
      "['B', 'G', 'E-', 'G', 'E-', 'B', 'E-', 'G', 'B', 'E-']\n"
     ]
    }
   ],
   "source": [
    "# GIANT STEPS\n",
    "harmonic_roots = [\"B\",\"G\",\"E-\"]\n",
    "expansions = SH.expansions(harmonic_roots)\n",
    "C3 = expansions[0]\n",
    "C_3 = expansions[1]\n",
    "root_cycles = SH.harmonic_cicles([C3,C_3],[2,1,2,4])\n",
    "print(root_cycles) # All\n",
    "print(root_cycles[0:10])# Giant Steps"
   ]
  },
  {
   "cell_type": "code",
   "execution_count": 225,
   "metadata": {
    "code_folding": [],
    "collapsed": false
   },
   "outputs": [
    {
     "data": {
      "text/plain": [
       "([<music21.scale.MajorScale B major>,\n",
       "  <music21.scale.MajorScale G major>,\n",
       "  <music21.scale.MajorScale E- major>],\n",
       " [[['B', 'C#', 'D#', 'E', 'F#', 'G#', 'A#'],\n",
       "   ['B', 'D#', 'F#', 'A#', 'C#', 'E', 'G#'],\n",
       "   ['B', 'E', 'A#', 'D#', 'G#', 'C#', 'F#'],\n",
       "   ['B', 'F#', 'C#', 'G#', 'D#', 'A#', 'E'],\n",
       "   ['B', 'G#', 'E', 'C#', 'A#', 'F#', 'D#'],\n",
       "   ['B', 'A#', 'G#', 'F#', 'E', 'D#', 'C#']],\n",
       "  [['G', 'A', 'B', 'C', 'D', 'E', 'F#'],\n",
       "   ['G', 'B', 'D', 'F#', 'A', 'C', 'E'],\n",
       "   ['G', 'C', 'F#', 'B', 'E', 'A', 'D'],\n",
       "   ['G', 'D', 'A', 'E', 'B', 'F#', 'C'],\n",
       "   ['G', 'E', 'C', 'A', 'F#', 'D', 'B'],\n",
       "   ['G', 'F#', 'E', 'D', 'C', 'B', 'A']],\n",
       "  [['E-', 'F', 'G', 'A-', 'B-', 'C', 'D'],\n",
       "   ['E-', 'G', 'B-', 'D', 'F', 'A-', 'C'],\n",
       "   ['E-', 'A-', 'D', 'G', 'C', 'F', 'B-'],\n",
       "   ['E-', 'B-', 'F', 'C', 'G', 'D', 'A-'],\n",
       "   ['E-', 'C', 'A-', 'F', 'D', 'B-', 'G'],\n",
       "   ['E-', 'D', 'C', 'B-', 'A-', 'G', 'F']]])"
      ]
     },
     "execution_count": 225,
     "metadata": {},
     "output_type": "execute_result"
    }
   ],
   "source": [
    "#harmonic_roots_to_individual_harmonies\n",
    "scale_type = scale.MajorScale\n",
    "all_root_scales = []\n",
    "all_expansions = []\n",
    "for i in harmonic_roots:\n",
    "    my_temp_scale = scale_type(i)\n",
    "    all_root_scales.append(my_temp_scale)\n",
    "    scale_to_pitchnames = [str(p.name) for p in my_temp_scale.pitches[:-1]] # convert to pitchnames\n",
    "    all_expansions.append(SH.expansions(scale_to_pitchnames))\n",
    "all_root_scales, all_expansions"
   ]
  },
  {
   "cell_type": "code",
   "execution_count": 253,
   "metadata": {
    "collapsed": false
   },
   "outputs": [
    {
     "data": {
      "text/plain": [
       "['B', 'G', 'E-', 'G', 'E-', 'B', 'E-', 'G', 'B', 'E-']"
      ]
     },
     "execution_count": 253,
     "metadata": {},
     "output_type": "execute_result"
    }
   ],
   "source": [
    "root_sequence = root_cycles[0:10]\n",
    "durations = [4,4,8, 4,4,8, 8,8,8,8] # hardcode\n",
    "\n",
    "cadences = []\n",
    "for exp in all_expansions:\n",
    "    cadence = SH.diatonic_cadences(exp)\n",
    "    cadences.append(cadence)\n",
    "    #print(cadence)\n",
    "    \n",
    "root_sequence"
   ]
  },
  {
   "cell_type": "code",
   "execution_count": 254,
   "metadata": {
    "code_folding": [],
    "collapsed": true
   },
   "outputs": [],
   "source": [
    "SPG = SP.PitchGroup()"
   ]
  },
  {
   "cell_type": "code",
   "execution_count": 255,
   "metadata": {
    "code_folding": [
     0
    ],
    "collapsed": false
   },
   "outputs": [],
   "source": [
    "#\n",
    "'''filled_harmonies = []\n",
    "for i, rs in enumerate(root_sequence):\n",
    "    \n",
    "    #fill in the first or tonic note\n",
    "    current_harmony = root_sequence[(i)%len(root_sequence)]\n",
    "    current_harmony_idx = harmonic_roots.index(current_harmony)\n",
    "    my_scale = all_root_scales[current_harmony_idx]\n",
    "    expansions = all_expansions[current_harmony_idx] # so\n",
    "    \n",
    "    chorified_scale = SPG.chordify_scale(expansions[1],4)\n",
    "    harmonized_bass = SPG.harmonize_bass([rs], chorified_scale)\n",
    "    filled_harmonies.append(harmonized_bass[0][1])\n",
    "    filled_harmonies.append(harmonized_bass[0][1])\n",
    "    \n",
    "    \n",
    "    next_harmony = root_sequence[(i+1)%len(root_sequence)]\n",
    "    next_harmony_idx = harmonic_roots.index(next_harmony)\n",
    "    my_scale = all_root_scales[next_harmony_idx]\n",
    "    # descision if cadence or whole expansion!\n",
    "    expansions = all_expansions[next_harmony_idx] # so\n",
    "    my_cadences = cadences[next_harmony_idx] # oder so #cadence is simpler for now!\n",
    "    \n",
    "    chorified_scale = SPG.chordify_scale(expansions[1],4)\n",
    "    \n",
    "    for d in range(durations[i]-2):\n",
    "        temp_bass = my_cadences[0][(d+1)%len(my_cadences[1])]\n",
    "        harmonized_bass = SPG.harmonize_bass([temp_bass], chorified_scale)\n",
    "        filled_harmonies.append(harmonized_bass[0][1])\n",
    "        #print(harmonized_bass[0][1], my_cadences[0])\n",
    "        \n",
    "#print(filled_harmonies)''';"
   ]
  },
  {
   "cell_type": "code",
   "execution_count": 256,
   "metadata": {
    "collapsed": false
   },
   "outputs": [],
   "source": [
    "filled_harmonies = []\n",
    "for i, rs in enumerate(root_sequence):\n",
    "    \n",
    "    #fill in the first or tonic note\n",
    "    current_harmony = root_sequence[(i)%len(root_sequence)]\n",
    "    current_harmony_idx = harmonic_roots.index(current_harmony)\n",
    "    my_scale = all_root_scales[current_harmony_idx]\n",
    "    expansions = all_expansions[current_harmony_idx] # so\n",
    "    \n",
    "    chorified_scale = SPG.chordify_scale(expansions[1],4)\n",
    "    harmonized_bass = SPG.harmonize_bass([rs], chorified_scale)\n",
    "    filled_harmonies.append(harmonized_bass[0][1])\n",
    "    \n",
    "    \n",
    "    next_harmony = root_sequence[(i+1)%len(root_sequence)]\n",
    "    next_harmony_idx = harmonic_roots.index(next_harmony)\n",
    "    my_scale = all_root_scales[next_harmony_idx]\n",
    "    # descision if cadence or whole expansion!\n",
    "    expansions = all_expansions[next_harmony_idx]\n",
    "    \n",
    "    chorified_scale = SPG.chordify_scale(expansions[1],4)\n",
    "    \n",
    "    C7,C5,C3 = expansions[0],expansions[2], expansions[4]\n",
    "    my_root_cycles = SH.harmonic_cicles([C7,C5,C3],[2,1,1,2])#to much but wurscht!\n",
    "    \n",
    "    \n",
    "    \n",
    "    for d in range(durations[i]-1):\n",
    "        temp_bass = my_root_cycles[(d+1)%len(my_root_cycles)]\n",
    "        harmonized_bass = SPG.harmonize_bass([temp_bass], chorified_scale)\n",
    "        \n",
    "        filled_harmonies.append(harmonized_bass[0][1])\n",
    "        #print(harmonized_bass[0][1], my_cadences[0])\n",
    "        \n",
    "#print(filled_harmonies)"
   ]
  },
  {
   "cell_type": "code",
   "execution_count": 261,
   "metadata": {
    "code_folding": [],
    "collapsed": false
   },
   "outputs": [],
   "source": [
    "def showNotes(note_sequece, time_meter, duration_divider):\n",
    "    TS = str(time_meter[0])+'/'+str(time_meter[1])\n",
    "    s = stream.Score(id='mainScore')\n",
    "    p0 = stream.Part(id='part0')\n",
    "    p0.timeSignature = meter.TimeSignature(TS)\n",
    "    for i, notes in enumerate(note_sequece):\n",
    "        #print(notes)\n",
    "        c = chord.Chord(notes)\n",
    "        c.quarterLength = 1 * duration_divider\n",
    "        c.inversion(0)\n",
    "        p0.append(c)\n",
    "    s.insert(0, p0)\n",
    "    return s"
   ]
  },
  {
   "cell_type": "code",
   "execution_count": 263,
   "metadata": {
    "collapsed": false
   },
   "outputs": [],
   "source": [
    "s = showNotes(filled_harmonies,[4,4],1)\n",
    "s.show('musicxml')"
   ]
  },
  {
   "cell_type": "code",
   "execution_count": null,
   "metadata": {
    "collapsed": false,
    "scrolled": false
   },
   "outputs": [],
   "source": []
  },
  {
   "cell_type": "code",
   "execution_count": null,
   "metadata": {
    "collapsed": true
   },
   "outputs": [],
   "source": []
  }
 ],
 "metadata": {
  "hide_input": false,
  "kernelspec": {
   "display_name": "Python [conda env:python3_test]",
   "language": "python",
   "name": "conda-env-python3_test-py"
  },
  "language_info": {
   "codemirror_mode": {
    "name": "ipython",
    "version": 3
   },
   "file_extension": ".py",
   "mimetype": "text/x-python",
   "name": "python",
   "nbconvert_exporter": "python",
   "pygments_lexer": "ipython3",
   "version": "3.5.2"
  },
  "latex_envs": {
   "LaTeX_envs_menu_present": true,
   "bibliofile": "biblio.bib",
   "cite_by": "apalike",
   "current_citInitial": 1,
   "eqLabelWithNumbers": true,
   "eqNumInitial": 1,
   "hotkeys": {
    "equation": "Ctrl-E",
    "itemize": "Ctrl-I"
   },
   "labels_anchors": false,
   "latex_user_defs": false,
   "report_style_numbering": false,
   "user_envs_cfg": false
  }
 },
 "nbformat": 4,
 "nbformat_minor": 2
}
