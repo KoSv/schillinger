{
 "cells": [
  {
   "cell_type": "code",
   "execution_count": 127,
   "metadata": {
    "collapsed": false
   },
   "outputs": [
    {
     "name": "stdout",
     "output_type": "stream",
     "text": [
      "The music21.ipython21 extension is already loaded. To reload it, use:\n",
      "  %reload_ext music21.ipython21\n",
      "The autoreload extension is already loaded. To reload it, use:\n",
      "  %reload_ext autoreload\n"
     ]
    }
   ],
   "source": [
    "#schillinger special theory of harmony\n",
    "#possible C3 C5 C7 in descending direction\n",
    "from music21 import *\n",
    "%load_ext music21.ipython21\n",
    "%load_ext autoreload\n",
    "%autoreload 2"
   ]
  },
  {
   "cell_type": "code",
   "execution_count": null,
   "metadata": {
    "collapsed": false
   },
   "outputs": [],
   "source": []
  },
  {
   "cell_type": "code",
   "execution_count": 178,
   "metadata": {
    "collapsed": false,
    "scrolled": false
   },
   "outputs": [],
   "source": [
    "def showNotes(notes):\n",
    "\n",
    "    s = stream.Score(id='mainScore')\n",
    "    stream.Score()\n",
    "    part = stream.Part(id='part')\n",
    "    part.timeSignature = meter.TimeSignature('8/1')\n",
    "    tones = []\n",
    "\n",
    "    for tone in notes:\n",
    "        #print(tone)\n",
    "        nota = note.Note(tone.nameWithOctave)\n",
    "        nota.duration.quarterLength = 4\n",
    "        tones.append(nota)\n",
    "\n",
    "    part.append(tones)\n",
    "    s.insert(0, part)\n",
    "    return s\n",
    "\n",
    "def coeficients(coefs, scale):\n",
    "    return sum(coefs)*len(scale)\n",
    "\n",
    "def diatonic_cicles(scale, coef):\n",
    "    my_scale = []\n",
    "    a = scale.getTonic()\n",
    "    my_scale.append(a)\n",
    "    for i in range(7):\n",
    "        a = scale.next(a, direction=\"descending\",stepSize=coef-1)\n",
    "        a.octave = 4 # oktav nivou\n",
    "        my_scale.append(a)\n",
    "    return my_scale\n",
    "    \n",
    "def schillinger_type_I(fraction):\n",
    "    \n",
    "    major = fraction[0]\n",
    "    minor = fraction[1]\n",
    "    seq_len = major*minor\n",
    "    return_arr = [] \n",
    "    count = 1\n",
    "    for i in range(1, seq_len):\n",
    "        if i > 0 and i % major == 0 or i % minor == 0:\n",
    "            return_arr.append(count)\n",
    "            count = 1\n",
    "        else:\n",
    "            count += 1\n",
    "    return_arr.append(count)\n",
    "    return return_arr\n",
    "\n",
    "def diatonic_cicles_with_coeficients(scale, cycles, scale_length, coef):\n",
    "    length = sum(coef)*scale_length\n",
    "    count = 0\n",
    "    sum_arr = []\n",
    "    for i in range(length):\n",
    "        coef_iterator = i%len(coef)\n",
    "        cycles_iterator = coef_iterator % len(cycles)\n",
    "        count += coef[coef_iterator]\n",
    "        for c in range(coef[coef_iterator]):\n",
    "            sum_arr.append(cycles[cycles_iterator])\n",
    "        if count >= length: break\n",
    "    \n",
    "    my_scale = []\n",
    "    a = scale.getTonic()\n",
    "    my_scale.append(a)\n",
    "    for i in sum_arr:\n",
    "        a = scale.next(a, direction=\"descending\",stepSize=i-1)\n",
    "        a.octave = 4 # oktav nivou\n",
    "        my_scale.append(a)\n",
    "    return my_scale\n"
   ]
  },
  {
   "cell_type": "code",
   "execution_count": null,
   "metadata": {
    "collapsed": true
   },
   "outputs": [],
   "source": []
  },
  {
   "cell_type": "code",
   "execution_count": 108,
   "metadata": {
    "collapsed": false
   },
   "outputs": [],
   "source": [
    "#tests\n",
    "C = 5\n",
    "testscale = scale.MajorScale('c')"
   ]
  },
  {
   "cell_type": "code",
   "execution_count": 116,
   "metadata": {
    "collapsed": false
   },
   "outputs": [
    {
     "name": "stdout",
     "output_type": "stream",
     "text": [
      "[<music21.pitch.Pitch C4>, <music21.pitch.Pitch D4>, <music21.pitch.Pitch E4>, <music21.pitch.Pitch F4>, <music21.pitch.Pitch G4>, <music21.pitch.Pitch A4>, <music21.pitch.Pitch B4>, <music21.pitch.Pitch C4>]\n",
      "[<music21.pitch.Pitch C4>, <music21.pitch.Pitch A4>, <music21.pitch.Pitch F4>, <music21.pitch.Pitch D4>, <music21.pitch.Pitch B4>, <music21.pitch.Pitch G4>, <music21.pitch.Pitch E4>, <music21.pitch.Pitch C4>]\n",
      "[<music21.pitch.Pitch C4>, <music21.pitch.Pitch F4>, <music21.pitch.Pitch B4>, <music21.pitch.Pitch E4>, <music21.pitch.Pitch A4>, <music21.pitch.Pitch D4>, <music21.pitch.Pitch G4>, <music21.pitch.Pitch C4>]\n"
     ]
    }
   ],
   "source": [
    "seventh = diatonic_cicles(scale=testscale,coef=7)\n",
    "thirds = diatonic_cicles(scale=testscale,coef=3)\n",
    "fifts = diatonic_cicles(scale=testscale,coef=5)\n",
    "\n",
    "print(seventh)\n",
    "print(thirds)\n",
    "print(fifts)"
   ]
  },
  {
   "cell_type": "code",
   "execution_count": 180,
   "metadata": {
    "collapsed": false,
    "scrolled": false
   },
   "outputs": [
    {
     "data": {
      "image/png": "[encoded data removed]",
      "text/plain": [
       "<music21.ipython21.objects.IPythonPNGObject at 0x1046fafd0>"
      ]
     },
     "execution_count": 180,
     "metadata": {},
     "output_type": "execute_result"
    }
   ],
   "source": [
    "s = showNotes(seventh)\n",
    "s.show()"
   ]
  },
  {
   "cell_type": "code",
   "execution_count": 181,
   "metadata": {
    "collapsed": false
   },
   "outputs": [
    {
     "data": {
      "image/png": "[encoded data removed]",
      "text/plain": [
       "<music21.ipython21.objects.IPythonPNGObject at 0x1044ee860>"
      ]
     },
     "execution_count": 181,
     "metadata": {},
     "output_type": "execute_result"
    }
   ],
   "source": [
    "s = showNotes(thirds)\n",
    "s.show()"
   ]
  },
  {
   "cell_type": "code",
   "execution_count": 182,
   "metadata": {
    "collapsed": false
   },
   "outputs": [
    {
     "data": {
      "image/png": "[encoded data removed]",
      "text/plain": [
       "<music21.ipython21.objects.IPythonPNGObject at 0x1044fc940>"
      ]
     },
     "execution_count": 182,
     "metadata": {},
     "output_type": "execute_result"
    }
   ],
   "source": [
    "s = showNotes(fifts)\n",
    "s.show()"
   ]
  },
  {
   "cell_type": "code",
   "execution_count": 176,
   "metadata": {
    "collapsed": false
   },
   "outputs": [
    {
     "data": {
      "image/png": "[encoded data removed]",
      "text/plain": [
       "<music21.ipython21.objects.IPythonPNGObject at 0x10c784dd8>"
      ]
     },
     "execution_count": 176,
     "metadata": {},
     "output_type": "execute_result"
    }
   ],
   "source": [
    "# coef\n",
    "C3 = 3\n",
    "C5 = 5\n",
    "C7 = 7\n",
    "scale_length = 7\n",
    "cycles = [C3,C5]\n",
    "coeficients = [2,1,2]\n",
    "sc = diatonic_cicles_with_coeficients(testscale, cycles, scale_length, coeficients)\n",
    "s = showNotes(sc)\n",
    "s.show()"
   ]
  },
  {
   "cell_type": "code",
   "execution_count": 179,
   "metadata": {
    "collapsed": false
   },
   "outputs": [
    {
     "data": {
      "image/png": "[encoded data removed]",
      "text/plain": [
       "<music21.ipython21.objects.IPythonPNGObject at 0x104463860>"
      ]
     },
     "execution_count": 179,
     "metadata": {},
     "output_type": "execute_result"
    }
   ],
   "source": [
    "# coef\n",
    "C3 = 3\n",
    "C5 = 5\n",
    "C7 = 7\n",
    "scale_length = 7\n",
    "cycles = [C3,C5,C7] \n",
    "coeficients = schillinger_type_I([4,3])#312213\n",
    "sc = diatonic_cicles_with_coeficients(testscale, cycles, scale_length, coeficients)\n",
    "s = showNotes(sc)\n",
    "s.show()"
   ]
  },
  {
   "cell_type": "code",
   "execution_count": null,
   "metadata": {
    "collapsed": true
   },
   "outputs": [],
   "source": []
  }
 ],
 "metadata": {
  "hide_input": false,
  "kernelspec": {
   "display_name": "Python [conda env:python3_test]",
   "language": "python",
   "name": "conda-env-python3_test-py"
  },
  "language_info": {
   "codemirror_mode": {
    "name": "ipython",
    "version": 3
   },
   "file_extension": ".py",
   "mimetype": "text/x-python",
   "name": "python",
   "nbconvert_exporter": "python",
   "pygments_lexer": "ipython3",
   "version": "3.5.2"
  },
  "latex_envs": {
   "LaTeX_envs_menu_present": true,
   "bibliofile": "biblio.bib",
   "cite_by": "apalike",
   "current_citInitial": 1,
   "eqLabelWithNumbers": true,
   "eqNumInitial": 1,
   "hotkeys": {
    "equation": "Ctrl-E",
    "itemize": "Ctrl-I"
   },
   "labels_anchors": false,
   "latex_user_defs": false,
   "report_style_numbering": false,
   "user_envs_cfg": false
  }
 },
 "nbformat": 4,
 "nbformat_minor": 2
}
