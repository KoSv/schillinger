{
 "cells": [
  {
   "cell_type": "code",
   "execution_count": 2,
   "metadata": {
    "collapsed": false
   },
   "outputs": [],
   "source": [
    "#schillinger special theory of harmony\n",
    "#possible C3 C5 C7 in descending direction\n",
    "from music21 import *\n",
    "%load_ext music21.ipython21\n",
    "%load_ext autoreload\n",
    "%autoreload 2"
   ]
  },
  {
   "cell_type": "code",
   "execution_count": null,
   "metadata": {
    "collapsed": false
   },
   "outputs": [],
   "source": []
  },
  {
   "cell_type": "code",
   "execution_count": 3,
   "metadata": {
    "code_folding": [],
    "collapsed": false,
    "scrolled": false
   },
   "outputs": [],
   "source": [
    "# functions\n",
    "def showNotes(notes):\n",
    "\n",
    "    s = stream.Score(id='mainScore')\n",
    "    stream.Score()\n",
    "    part = stream.Part(id='part')\n",
    "    part.timeSignature = meter.TimeSignature('8/1')\n",
    "    tones = []\n",
    "    for tone in notes:\n",
    "        tone.octave = 3\n",
    "        nota = note.Note(tone.nameWithOctave)\n",
    "        #nota.pitch.octave = 3\n",
    "        nota.duration.quarterLength = 4\n",
    "        tones.append(nota)\n",
    "\n",
    "    part.append(tones)\n",
    "    s.insert(0, part)\n",
    "    return s\n",
    "\n",
    "def coeficients(coefs, scale):\n",
    "    return sum(coefs)*len(scale)\n",
    "\n",
    "def diatonic_cicles(scale, coef):\n",
    "    my_scale = []\n",
    "    a = scale.getTonic()\n",
    "    my_scale.append(a)\n",
    "    for i in range(7):\n",
    "        a = scale.next(a, direction=\"descending\",stepSize=coef-1)\n",
    "        my_scale.append(a)\n",
    "    return my_scale\n",
    "    \n",
    "def schillinger_type_I(fraction):\n",
    "    \n",
    "    major = fraction[0]\n",
    "    minor = fraction[1]\n",
    "    seq_len = major*minor\n",
    "    return_arr = [] \n",
    "    count = 1\n",
    "    for i in range(1, seq_len):\n",
    "        if i > 0 and i % major == 0 or i % minor == 0:\n",
    "            return_arr.append(count)\n",
    "            count = 1\n",
    "        else:\n",
    "            count += 1\n",
    "    return_arr.append(count)\n",
    "    return return_arr\n",
    "\n",
    "def diatonic_cicles_with_coeficients(scale, cycles, scale_length, coef):\n",
    "    length = sum(coef)*scale_length\n",
    "    count = 0\n",
    "    sum_arr = []\n",
    "    for i in range(length):\n",
    "        coef_iterator = i%len(coef)\n",
    "        cycles_iterator = coef_iterator % len(cycles)\n",
    "        count += coef[coef_iterator]\n",
    "        for c in range(coef[coef_iterator]):\n",
    "            sum_arr.append(cycles[cycles_iterator])\n",
    "        if count >= length: break\n",
    "    \n",
    "    my_scale = []\n",
    "    a = scale.getTonic()\n",
    "    my_scale.append(a)\n",
    "    for i in sum_arr:\n",
    "        a = scale.next(a, direction=\"descending\",stepSize=i-1)\n",
    "        my_scale.append(a)\n",
    "    print(sum_arr)\n",
    "    return my_scale\n"
   ]
  },
  {
   "cell_type": "code",
   "execution_count": null,
   "metadata": {
    "collapsed": false
   },
   "outputs": [],
   "source": []
  },
  {
   "cell_type": "code",
   "execution_count": 5,
   "metadata": {
    "collapsed": false
   },
   "outputs": [],
   "source": [
    "#tests\n",
    "C = 5\n",
    "testscale = scale.MajorScale('c')"
   ]
  },
  {
   "cell_type": "code",
   "execution_count": 6,
   "metadata": {
    "collapsed": false
   },
   "outputs": [],
   "source": [
    "seventh = diatonic_cicles(scale=testscale,coef=7)\n",
    "thirds = diatonic_cicles(scale=testscale,coef=3)\n",
    "fifts = diatonic_cicles(scale=testscale,coef=5)\n",
    "\n",
    "#print(seventh)\n",
    "#print(thirds)\n",
    "#print(fifts)"
   ]
  },
  {
   "cell_type": "code",
   "execution_count": 236,
   "metadata": {
    "collapsed": false,
    "scrolled": false
   },
   "outputs": [
    {
     "data": {
      "image/png": "[encoded data removed]",
      "text/plain": [
       "<music21.ipython21.objects.IPythonPNGObject at 0x10cb503c8>"
      ]
     },
     "execution_count": 236,
     "metadata": {},
     "output_type": "execute_result"
    }
   ],
   "source": [
    "s = showNotes(seventh)\n",
    "s.show()"
   ]
  },
  {
   "cell_type": "code",
   "execution_count": 237,
   "metadata": {
    "collapsed": false
   },
   "outputs": [
    {
     "data": {
      "image/png": "[encoded data removed]",
      "text/plain": [
       "<music21.ipython21.objects.IPythonPNGObject at 0x10cce3eb8>"
      ]
     },
     "execution_count": 237,
     "metadata": {},
     "output_type": "execute_result"
    }
   ],
   "source": [
    "s = showNotes(thirds)\n",
    "s.show()"
   ]
  },
  {
   "cell_type": "code",
   "execution_count": 238,
   "metadata": {
    "collapsed": false
   },
   "outputs": [
    {
     "data": {
      "image/png": "[encoded data removed]",
      "text/plain": [
       "<music21.ipython21.objects.IPythonPNGObject at 0x10c73c2b0>"
      ]
     },
     "execution_count": 238,
     "metadata": {},
     "output_type": "execute_result"
    }
   ],
   "source": [
    "s = showNotes(fifts)\n",
    "s.show()"
   ]
  },
  {
   "cell_type": "code",
   "execution_count": 8,
   "metadata": {
    "collapsed": false
   },
   "outputs": [
    {
     "name": "stdout",
     "output_type": "stream",
     "text": [
      "[3, 3, 5, 3, 3, 5, 3, 3, 5, 3, 3, 5, 3, 3, 5, 3, 3, 5, 3, 3, 5]\n"
     ]
    }
   ],
   "source": [
    "# coef\n",
    "C3 = 3\n",
    "C5 = 5\n",
    "C7 = 7\n",
    "scale_length = 7\n",
    "cycles = [C3,C5]\n",
    "coeficients = [2,1]\n",
    "sc = diatonic_cicles_with_coeficients(testscale, cycles, scale_length, coeficients)\n",
    "s = showNotes(sc)\n",
    "s.show('musicxml')"
   ]
  },
  {
   "cell_type": "code",
   "execution_count": 7,
   "metadata": {
    "collapsed": false
   },
   "outputs": [
    {
     "name": "stdout",
     "output_type": "stream",
     "text": [
      "[3, 3, 3, 5, 7, 7, 3, 3, 5, 7, 7, 7, 3, 3, 3, 5, 7, 7, 3, 3, 5, 7, 7, 7, 3, 3, 3, 5, 7, 7, 3, 3, 5, 7, 7, 7, 3, 3, 3, 5, 7, 7, 3, 3, 5, 7, 7, 7, 3, 3, 3, 5, 7, 7, 3, 3, 5, 7, 7, 7, 3, 3, 3, 5, 7, 7, 3, 3, 5, 7, 7, 7, 3, 3, 3, 5, 7, 7, 3, 3, 5, 7, 7, 7]\n"
     ]
    }
   ],
   "source": [
    "# coef\n",
    "C3 = 3\n",
    "C5 = 5\n",
    "C7 = 7\n",
    "scale_length = 7\n",
    "cycles = [C3,C5,C7] \n",
    "coeficients = schillinger_type_I([4,3])#312213\n",
    "sc = diatonic_cicles_with_coeficients(testscale, cycles, scale_length, coeficients)\n",
    "s = showNotes(sc)\n",
    "#s.show()"
   ]
  },
  {
   "cell_type": "code",
   "execution_count": null,
   "metadata": {
    "collapsed": false
   },
   "outputs": [],
   "source": []
  }
 ],
 "metadata": {
  "hide_input": false,
  "kernelspec": {
   "display_name": "Python [conda env:python3_test]",
   "language": "python",
   "name": "conda-env-python3_test-py"
  },
  "language_info": {
   "codemirror_mode": {
    "name": "ipython",
    "version": 3
   },
   "file_extension": ".py",
   "mimetype": "text/x-python",
   "name": "python",
   "nbconvert_exporter": "python",
   "pygments_lexer": "ipython3",
   "version": "3.5.2"
  },
  "latex_envs": {
   "LaTeX_envs_menu_present": true,
   "bibliofile": "biblio.bib",
   "cite_by": "apalike",
   "current_citInitial": 1,
   "eqLabelWithNumbers": true,
   "eqNumInitial": 1,
   "hotkeys": {
    "equation": "Ctrl-E",
    "itemize": "Ctrl-I"
   },
   "labels_anchors": false,
   "latex_user_defs": false,
   "report_style_numbering": false,
   "user_envs_cfg": false
  }
 },
 "nbformat": 4,
 "nbformat_minor": 2
}
