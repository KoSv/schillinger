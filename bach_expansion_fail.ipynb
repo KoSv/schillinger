{
 "cells": [
  {
   "cell_type": "code",
   "execution_count": 1,
   "metadata": {
    "code_folding": [
     0
    ],
    "collapsed": false
   },
   "outputs": [],
   "source": [
    "# imports \n",
    "%load_ext autoreload\n",
    "%autoreload 2\n",
    "import schillinger.rhythm as SR\n",
    "import schillinger.pitch as SP\n",
    "import itertools\n",
    "import random\n",
    "from music21 import *\n",
    "%load_ext music21.ipython21"
   ]
  },
  {
   "cell_type": "code",
   "execution_count": 2,
   "metadata": {
    "code_folding": [
     0
    ],
    "collapsed": false
   },
   "outputs": [],
   "source": [
    "# notes harmony simpultan bass\n",
    "\n",
    "def arpeggiator(c, es,rhythm, duration_divider):\n",
    "    chords = []\n",
    "    for i, seq in enumerate(c):\n",
    "                \n",
    "        nota = seq\n",
    "        nota.duration.quarterLength = (rhythm[es%len(rhythm)]/len(c)) * duration_divider\n",
    "        chords.append(nota)\n",
    "\n",
    "    nota = pitch.Pitch(c.pitches[0])\n",
    "    \n",
    "    nota.octave = 4\n",
    "    nota = note.Note(nota.nameWithOctave)\n",
    "    nota.duration.quarterLength = (rhythm[es%len(rhythm)]/len(c)) * duration_divider\n",
    "    chords.append(nota)\n",
    "    #octave adjust\n",
    "    #print(chords[-1].pitch.midi - chords[-2].pitch.midi, chords[-1])\n",
    "    if chords[-2].pitch.midi - chords[-3].pitch.midi >= 6:\n",
    "        chords[-2].octave = chords[-2].octave + 1\n",
    "        \n",
    "    if chords[-1].pitch.midi - chords[-2].pitch.midi >= 12:\n",
    "        chords[-1].octave = chords[-1].octave -1\n",
    "        #print(\"yes\", chords[-1], chords[-2])\n",
    "    \n",
    "    ## last note repeat the second\n",
    "    nota = pitch.Pitch(c.pitches[2])\n",
    "    nota.octave = nota.octave\n",
    "    nota = note.Note(nota.nameWithOctave)\n",
    "    nota.duration.quarterLength = (rhythm[es%len(rhythm)]/len(c)) * duration_divider\n",
    "    chords.append(nota)\n",
    "    return chords\n",
    "\n",
    "def showHarmonyBass(note_sequence, melody_seq, rhythm, length, time_meter, duration_divider, arp=False,bass=True, drop2 = False):\n",
    "    TS = str(time_meter[0])+'/'+str(time_meter[1])\n",
    "    \n",
    "    s = stream.Score(id='mainScore')\n",
    "    p0 = stream.Part(id='melody')\n",
    "    p0.timeSignature = meter.TimeSignature(TS)\n",
    "    p1 = stream.Part(id='chords')\n",
    "    p1.timeSignature = meter.TimeSignature(TS)\n",
    "    p2 = stream.Part(id='bass')\n",
    "    p2.timeSignature = meter.TimeSignature(TS)\n",
    "    \n",
    "    melody_iterator = 0\n",
    "    for es, sequences in enumerate(note_sequence):\n",
    "        \n",
    "        melody = []\n",
    "        chords = []\n",
    "        bass = []\n",
    "        \n",
    "        \n",
    "        ### chords\n",
    "        chord_seq = [sequences[0]]+sequences[1]\n",
    "        test_chord = chord.Chord(chord_seq)\n",
    "        c = chord.Chord(test_chord)\n",
    "        c.root = sequences[0]\n",
    "        c.duration.quarterLength = rhythm[es%len(rhythm)] * duration_divider\n",
    "        #c = c.sortDiatonicAscending() # for better voice leadng but not real!\n",
    "        if es % 2 == 0: # rotating clock counterclock positions\n",
    "            #c = c.semiClosedPosition(inPlace=False,forceOctave=4)\n",
    "            pass\n",
    "        else:\n",
    "            #c = c.closedPosition(inPlace=False,forceOctave=4)\n",
    "            pass\n",
    "        if drop2:\n",
    "            try:\n",
    "                #c.pitches[0].octave = c.pitches[0].octave-1 # drop2\n",
    "                #c.pitches[-2].octave = c.pitches[-2].octave+2 # drop4\n",
    "                pass\n",
    "            except:\n",
    "                pass\n",
    "        \n",
    "        if arp:\n",
    "            chords =  arpeggiator(c, es, rhythm, duration_divider)\n",
    "            #chords.append(nota)\n",
    "            \n",
    "        else:\n",
    "            chords.append(c)\n",
    "            \n",
    "        #MELODY\n",
    "        # get chord durations and apply on melody (for test purpose)\n",
    "        '''dur = 0\n",
    "        for d in chords:\n",
    "            dur = dur + d.duration.quarterLength\n",
    "        #print(dur)\n",
    "        nota = pitch.Pitch(melody_seq[es])\n",
    "        nota.octave = nota.octave\n",
    "        nota = note.Note(nota.nameWithOctave)\n",
    "        nota.duration.quarterLength = dur/2\n",
    "        melody.append(nota)\n",
    "        #melody 2nd tone\n",
    "        ###'''\n",
    "        dur = 0\n",
    "        for d in chords:\n",
    "                dur = dur + d.duration.quarterLength\n",
    "        \n",
    "        if len(melody_seq) >= len(note_sequence):\n",
    "            l = round(len(melody_seq) / len(note_sequence))\n",
    "            #print(l)\n",
    "            for m in range(l):\n",
    "                #print(dur, melody_iterator,m, dur/l, l, len(note_sequence), len(melody_seq))\n",
    "                nota = pitch.Pitch(melody_seq[melody_iterator])\n",
    "                nota.octave = nota.octave\n",
    "                nota = note.Note(nota.nameWithOctave)\n",
    "                nota.duration.quarterLength = dur/l\n",
    "                melody.append(nota)\n",
    "                melody_iterator+=1\n",
    "        \n",
    "        \n",
    "        \n",
    "        #BASS\n",
    "        # get chord durations and apply on melody (for test purpose)\n",
    "        dur = 0\n",
    "        for d in chords:\n",
    "            dur = dur + d.duration.quarterLength\n",
    "        #print(melody_seq, es)\n",
    "        nota = pitch.Pitch(sequences[0])\n",
    "        nota.octave = 2\n",
    "        nota = note.Note(nota.nameWithOctave)\n",
    "        nota.duration.quarterLength = dur\n",
    "        bass.append(nota)\n",
    "        \n",
    "        \n",
    "        \n",
    "        p0.append(melody)\n",
    "\n",
    "        p1.append(chords)\n",
    "        p2.append(bass)\n",
    "    \n",
    "    s.insert(0, p0)\n",
    "    s.insert(0, p1)\n",
    "    s.insert(0, p2)\n",
    "    s = s.transpose(0)\n",
    "    return s\n"
   ]
  },
  {
   "cell_type": "code",
   "execution_count": null,
   "metadata": {
    "code_folding": [],
    "collapsed": false
   },
   "outputs": [],
   "source": []
  },
  {
   "cell_type": "code",
   "execution_count": 3,
   "metadata": {
    "code_folding": [
     0
    ],
    "collapsed": false
   },
   "outputs": [],
   "source": [
    "# notes harmony \n",
    "def showHarmony(note_sequence, time_meter, duration_divider, arp=False, drop2 = False):\n",
    "    TS = str(time_meter[0])+'/'+str(time_meter[1])\n",
    "    \n",
    "    s = stream.Score(id='mainScore')\n",
    "   \n",
    "    p1 = stream.Part(id='part0')\n",
    "    p1.timeSignature = meter.TimeSignature(TS)\n",
    "    \n",
    "    for es, sequences in enumerate(note_sequence):\n",
    "        chords = []\n",
    "        \n",
    "        c = chord.Chord(sequences)\n",
    "        #c.root = sequences[0]\n",
    "        #c.octave = 4\n",
    "        c = c.sortDiatonicAscending()\n",
    "        c = c.semiClosedPosition(forceOctave=4)\n",
    "        c.duration.quarterLength = c.duration.quarterLength * duration_divider\n",
    "        #c.pitches[0].octave = c.pitches[0].octave-2 # drop2\n",
    "        c.pitches[2].octave = c.pitches[2].octave-1 # drop2\n",
    "        #c = c.sortDiatonicAscending() # for better voice leadng but not real!\n",
    "        chords.append(c)\n",
    "        \n",
    "        p1.append(chords)\n",
    "    \n",
    "   \n",
    "    s.insert(0, p1)\n",
    "    s = s.transpose(0)\n",
    "    return s\n"
   ]
  },
  {
   "cell_type": "code",
   "execution_count": null,
   "metadata": {
    "code_folding": [],
    "collapsed": false
   },
   "outputs": [],
   "source": []
  },
  {
   "cell_type": "code",
   "execution_count": null,
   "metadata": {
    "code_folding": [
     0
    ],
    "collapsed": false
   },
   "outputs": [],
   "source": []
  },
  {
   "cell_type": "code",
   "execution_count": 4,
   "metadata": {
    "code_folding": [
     0
    ],
    "collapsed": false,
    "scrolled": false
   },
   "outputs": [],
   "source": [
    "#\n",
    "'''# useful functions\n",
    "# get original combinations by sum\n",
    "l = _sr_.resultant\n",
    "ts = 3\n",
    "\n",
    "def get_original_combinaions_by_sum(l, ts):\n",
    "    a = []\n",
    "    for i in range(len(l)):\n",
    "        for c in itertools.combinations(l, i):\n",
    "            if sum(c) == ts and list(c) not in a:\n",
    "                a.append(list(c))\n",
    "    return a\n",
    "\n",
    "ps = get_original_combinaions_by_sum(l, ts)\n",
    "print(ps)\n",
    "p = list(itertools.permutations(ps))\n",
    "random.choice(p)\n",
    "#####\n",
    "result = sr.resultant\n",
    "fraction = 2/4\n",
    "SR.slice_by_fraction(result, fraction)\n",
    "# random attack combinations!\n",
    "SR.get_random_attack_combination(_sr_.resultant)\n",
    "###''';"
   ]
  },
  {
   "cell_type": "code",
   "execution_count": null,
   "metadata": {
    "code_folding": [],
    "collapsed": false
   },
   "outputs": [],
   "source": []
  },
  {
   "cell_type": "code",
   "execution_count": null,
   "metadata": {
    "code_folding": [],
    "collapsed": false
   },
   "outputs": [],
   "source": []
  },
  {
   "cell_type": "code",
   "execution_count": 5,
   "metadata": {
    "code_folding": [],
    "collapsed": false,
    "scrolled": false
   },
   "outputs": [
    {
     "data": {
      "text/plain": [
       "'chords = []\\nfor i, tone_group in enumerate(melody):\\n    c = chord.Chord(tone_group)\\n    c.duration.quarterLength = original_chords[i].duration.quarterLength\\n    chords.append(c)'"
      ]
     },
     "execution_count": 5,
     "metadata": {},
     "output_type": "execute_result"
    }
   ],
   "source": [
    "# corpus analyzer plus converter CHORDS\n",
    "SPG = SP.PitchGroup()\n",
    "\n",
    "a = corpus.getBachChorales()\n",
    "ch = a[11]\n",
    "score = corpus.parse(ch)\n",
    "excerpt = score.measures(1, 12)\n",
    "\n",
    "#convert stream to chords and make expansion\n",
    "original_chords = []\n",
    "melody = []\n",
    "scales = []\n",
    "chfy = excerpt.chordify()\n",
    "for c in chfy.flat.getElementsByClass(chord.Chord):\n",
    "    #print(c.pitches)\n",
    "    try:\n",
    "        temp_pitches = []\n",
    "        original_chords.append(c)\n",
    "        melody.append(c.root().name)\n",
    "        for p in c.pitches:\n",
    "            #temp_pitches.append(p.name)\n",
    "            #print(p)\n",
    "            pass\n",
    "\n",
    "        harm = harmony.chordSymbolFromChord(c)\n",
    "        sc1 = scale.MajorScale()\n",
    "        sc1 = sc1.derive(harm)\n",
    "        scale_names = [str(p.name) for p in sc1.pitches[:-1]]\n",
    "        scales.append(scale_names)\n",
    "        #print(sc1, scale_names)\n",
    "        #note_sequence_all_expansions = SPG.translate_notes_to_expansions(temp_pitches, scale_names)\n",
    "        #melody.append(note_sequence_all_expansions[1])\n",
    "        #print(note_sequence_all_expansions)\n",
    "    except:\n",
    "        pass\n",
    "    \n",
    "\n",
    "    \n",
    "#convert exansions to chords\n",
    "'''chords = []\n",
    "for i, tone_group in enumerate(melody):\n",
    "    c = chord.Chord(tone_group)\n",
    "    c.duration.quarterLength = original_chords[i].duration.quarterLength\n",
    "    chords.append(c)'''\n",
    "\n",
    "#chfy.show('musicxml')\n",
    "\n",
    "\n",
    "\n",
    "\n",
    "#s = showHarmony(chords, (4,4), 4, drop2=True)\n",
    "\n",
    "\n",
    "#s.show('musicxml')"
   ]
  },
  {
   "cell_type": "code",
   "execution_count": 6,
   "metadata": {
    "code_folding": [
     0
    ],
    "collapsed": false,
    "scrolled": false
   },
   "outputs": [
    {
     "name": "stdout",
     "output_type": "stream",
     "text": [
      "['G', 'G', 'C', 'D', 'A', 'F#', 'G', 'G', 'G', 'D', 'G', 'E', 'G', 'G', 'D', 'G', 'A', 'G', 'D', 'D', 'E', 'G', 'G', 'A', 'D', 'D', 'G', 'G', 'F#', 'G', 'G', 'C', 'D', 'A', 'F#', 'G', 'G', 'G', 'D', 'G', 'E', 'G', 'G', 'D', 'G', 'A', 'G', 'D', 'D', 'E', 'G', 'G', 'A', 'D', 'D', 'G', 'G', 'D', 'G', 'C', 'E', 'A', 'F', 'D', 'E', 'A', 'D', 'F#', 'G', 'F', 'E', 'A', 'D', 'E', 'E', 'A', 'F#', 'A', 'B', 'E', 'F#'] [['G', 'A', 'B', 'C', 'D', 'E', 'F#'], ['G', 'A', 'B', 'C', 'D', 'E', 'F#'], ['G', 'A', 'B', 'C', 'D', 'E', 'F#'], ['A', 'B', 'C#', 'D', 'E', 'F#', 'G#'], ['G', 'A', 'B', 'C', 'D', 'E', 'F#'], ['G', 'A', 'B', 'C', 'D', 'E', 'F#'], ['G', 'A', 'B', 'C', 'D', 'E', 'F#'], ['G', 'A', 'B', 'C', 'D', 'E', 'F#'], ['B-', 'C', 'D', 'E-', 'F', 'G', 'A'], ['A', 'B', 'C#', 'D', 'E', 'F#', 'G#'], ['G', 'A', 'B', 'C', 'D', 'E', 'F#'], ['G', 'A', 'B', 'C', 'D', 'E', 'F#'], ['G', 'A', 'B', 'C', 'D', 'E', 'F#'], ['G', 'A', 'B', 'C', 'D', 'E', 'F#'], ['A', 'B', 'C#', 'D', 'E', 'F#', 'G#'], ['G', 'A', 'B', 'C', 'D', 'E', 'F#'], ['G', 'A', 'B', 'C', 'D', 'E', 'F#'], ['G', 'A', 'B', 'C', 'D', 'E', 'F#'], ['G', 'A', 'B', 'C', 'D', 'E', 'F#'], ['G', 'A', 'B', 'C', 'D', 'E', 'F#'], ['G', 'A', 'B', 'C', 'D', 'E', 'F#'], ['G', 'A', 'B', 'C', 'D', 'E', 'F#'], ['G', 'A', 'B', 'C', 'D', 'E', 'F#'], ['A', 'B', 'C#', 'D', 'E', 'F#', 'G#'], ['G', 'A', 'B', 'C', 'D', 'E', 'F#'], ['G', 'A', 'B', 'C', 'D', 'E', 'F#'], ['G', 'A', 'B', 'C', 'D', 'E', 'F#'], ['G', 'A', 'B', 'C', 'D', 'E', 'F#'], ['G', 'A', 'B', 'C', 'D', 'E', 'F#'], ['G', 'A', 'B', 'C', 'D', 'E', 'F#'], ['G', 'A', 'B', 'C', 'D', 'E', 'F#'], ['A', 'B', 'C#', 'D', 'E', 'F#', 'G#'], ['G', 'A', 'B', 'C', 'D', 'E', 'F#'], ['G', 'A', 'B', 'C', 'D', 'E', 'F#'], ['G', 'A', 'B', 'C', 'D', 'E', 'F#'], ['G', 'A', 'B', 'C', 'D', 'E', 'F#'], ['B-', 'C', 'D', 'E-', 'F', 'G', 'A'], ['A', 'B', 'C#', 'D', 'E', 'F#', 'G#'], ['G', 'A', 'B', 'C', 'D', 'E', 'F#'], ['G', 'A', 'B', 'C', 'D', 'E', 'F#'], ['G', 'A', 'B', 'C', 'D', 'E', 'F#'], ['G', 'A', 'B', 'C', 'D', 'E', 'F#'], ['A', 'B', 'C#', 'D', 'E', 'F#', 'G#'], ['G', 'A', 'B', 'C', 'D', 'E', 'F#'], ['G', 'A', 'B', 'C', 'D', 'E', 'F#'], ['G', 'A', 'B', 'C', 'D', 'E', 'F#'], ['G', 'A', 'B', 'C', 'D', 'E', 'F#'], ['G', 'A', 'B', 'C', 'D', 'E', 'F#'], ['G', 'A', 'B', 'C', 'D', 'E', 'F#'], ['G', 'A', 'B', 'C', 'D', 'E', 'F#'], ['G', 'A', 'B', 'C', 'D', 'E', 'F#'], ['A', 'B', 'C#', 'D', 'E', 'F#', 'G#'], ['G', 'A', 'B', 'C', 'D', 'E', 'F#'], ['G', 'A', 'B', 'C', 'D', 'E', 'F#'], ['G', 'A', 'B', 'C', 'D', 'E', 'F#'], ['A', 'B', 'C#', 'D', 'E', 'F#', 'G#'], ['C', 'D', 'E', 'F', 'G', 'A', 'B'], ['G', 'A', 'B', 'C', 'D', 'E', 'F#'], ['A', 'B', 'C#', 'D', 'E', 'F#', 'G#'], ['G', 'A', 'B', 'C', 'D', 'E', 'F#'], ['B-', 'C', 'D', 'E-', 'F', 'G', 'A'], ['B-', 'C', 'D', 'E-', 'F', 'G', 'A'], ['G', 'A', 'B', 'C', 'D', 'E', 'F#'], ['A', 'B', 'C#', 'D', 'E', 'F#', 'G#'], ['G', 'A', 'B', 'C', 'D', 'E', 'F#'], ['G', 'A', 'B', 'C', 'D', 'E', 'F#'], ['B-', 'C', 'D', 'E-', 'F', 'G', 'A'], ['A', 'B', 'C#', 'D', 'E', 'F#', 'G#'], ['G', 'A', 'B', 'C', 'D', 'E', 'F#'], ['G', 'A', 'B', 'C', 'D', 'E', 'F#'], ['G', 'A', 'B', 'C', 'D', 'E', 'F#'], ['G', 'A', 'B', 'C', 'D', 'E', 'F#'], ['G', 'A', 'B', 'C', 'D', 'E', 'F#'], ['G', 'A', 'B', 'C', 'D', 'E', 'F#'], ['G', 'A', 'B', 'C', 'D', 'E', 'F#'], ['B', 'C#', 'D#', 'E', 'F#', 'G#', 'A#'], ['G', 'A', 'B', 'C', 'D', 'E', 'F#']]\n",
      "note skipped not in scale! F# [['G', 'A', 'B', 'C', 'D', 'E', 'F#'], ['G', 'B', 'D', 'F#', 'A', 'C', 'E'], ['G', 'C', 'F#', 'B', 'E', 'A', 'D'], ['G', 'D', 'A', 'E', 'B', 'F#', 'C'], ['G', 'E', 'C', 'A', 'F#', 'D', 'B'], ['G', 'F#', 'E', 'D', 'C', 'B', 'A']]\n",
      "note skipped not in scale! F# [['G', 'A', 'B', 'C', 'D', 'E', 'F#'], ['G', 'B', 'D', 'F#', 'A', 'C', 'E'], ['G', 'C', 'F#', 'B', 'E', 'A', 'D'], ['G', 'D', 'A', 'E', 'B', 'F#', 'C'], ['G', 'E', 'C', 'A', 'F#', 'D', 'B'], ['G', 'F#', 'E', 'D', 'C', 'B', 'A']]\n",
      "note skipped not in scale! C [['A', 'B', 'C#', 'D', 'E', 'F#', 'G#'], ['A', 'C#', 'E', 'G#', 'B', 'D', 'F#'], ['A', 'D', 'G#', 'C#', 'F#', 'B', 'E'], ['A', 'E', 'B', 'F#', 'C#', 'G#', 'D'], ['A', 'F#', 'D', 'B', 'G#', 'E', 'C#'], ['A', 'G#', 'F#', 'E', 'D', 'C#', 'B']]\n",
      "note skipped not in scale! F# [['G', 'A', 'B', 'C', 'D', 'E', 'F#'], ['G', 'B', 'D', 'F#', 'A', 'C', 'E'], ['G', 'C', 'F#', 'B', 'E', 'A', 'D'], ['G', 'D', 'A', 'E', 'B', 'F#', 'C'], ['G', 'E', 'C', 'A', 'F#', 'D', 'B'], ['G', 'F#', 'E', 'D', 'C', 'B', 'A']]\n",
      "note skipped not in scale! G [['A', 'B', 'C#', 'D', 'E', 'F#', 'G#'], ['A', 'C#', 'E', 'G#', 'B', 'D', 'F#'], ['A', 'D', 'G#', 'C#', 'F#', 'B', 'E'], ['A', 'E', 'B', 'F#', 'C#', 'G#', 'D'], ['A', 'F#', 'D', 'B', 'G#', 'E', 'C#'], ['A', 'G#', 'F#', 'E', 'D', 'C#', 'B']]\n",
      "note skipped not in scale! G [['A', 'B', 'C#', 'D', 'E', 'F#', 'G#'], ['A', 'C#', 'E', 'G#', 'B', 'D', 'F#'], ['A', 'D', 'G#', 'C#', 'F#', 'B', 'E'], ['A', 'E', 'B', 'F#', 'C#', 'G#', 'D'], ['A', 'F#', 'D', 'B', 'G#', 'E', 'C#'], ['A', 'G#', 'F#', 'E', 'D', 'C#', 'B']]\n",
      "note skipped not in scale! G [['A', 'B', 'C#', 'D', 'E', 'F#', 'G#'], ['A', 'C#', 'E', 'G#', 'B', 'D', 'F#'], ['A', 'D', 'G#', 'C#', 'F#', 'B', 'E'], ['A', 'E', 'B', 'F#', 'C#', 'G#', 'D'], ['A', 'F#', 'D', 'B', 'G#', 'E', 'C#'], ['A', 'G#', 'F#', 'E', 'D', 'C#', 'B']]\n",
      "note skipped not in scale! G [['A', 'B', 'C#', 'D', 'E', 'F#', 'G#'], ['A', 'C#', 'E', 'G#', 'B', 'D', 'F#'], ['A', 'D', 'G#', 'C#', 'F#', 'B', 'E'], ['A', 'E', 'B', 'F#', 'C#', 'G#', 'D'], ['A', 'F#', 'D', 'B', 'G#', 'E', 'C#'], ['A', 'G#', 'F#', 'E', 'D', 'C#', 'B']]\n",
      "note skipped not in scale! G [['A', 'B', 'C#', 'D', 'E', 'F#', 'G#'], ['A', 'C#', 'E', 'G#', 'B', 'D', 'F#'], ['A', 'D', 'G#', 'C#', 'F#', 'B', 'E'], ['A', 'E', 'B', 'F#', 'C#', 'G#', 'D'], ['A', 'F#', 'D', 'B', 'G#', 'E', 'C#'], ['A', 'G#', 'F#', 'E', 'D', 'C#', 'B']]\n",
      "note skipped not in scale! E [['B-', 'C', 'D', 'E-', 'F', 'G', 'A'], ['B-', 'D', 'F', 'A', 'C', 'E-', 'G'], ['B-', 'E-', 'A', 'D', 'G', 'C', 'F'], ['B-', 'F', 'C', 'G', 'D', 'A', 'E-'], ['B-', 'G', 'E-', 'C', 'A', 'F', 'D'], ['B-', 'A', 'G', 'F', 'E-', 'D', 'C']]\n",
      "note skipped not in scale! F [['G', 'A', 'B', 'C', 'D', 'E', 'F#'], ['G', 'B', 'D', 'F#', 'A', 'C', 'E'], ['G', 'C', 'F#', 'B', 'E', 'A', 'D'], ['G', 'D', 'A', 'E', 'B', 'F#', 'C'], ['G', 'E', 'C', 'A', 'F#', 'D', 'B'], ['G', 'F#', 'E', 'D', 'C', 'B', 'A']]\n",
      "note skipped not in scale! F# [['A', 'B', 'C#', 'D', 'E', 'F#', 'G#'], ['A', 'C#', 'E', 'G#', 'B', 'D', 'F#'], ['A', 'D', 'G#', 'C#', 'F#', 'B', 'E'], ['A', 'E', 'B', 'F#', 'C#', 'G#', 'D'], ['A', 'F#', 'D', 'B', 'G#', 'E', 'C#'], ['A', 'G#', 'F#', 'E', 'D', 'C#', 'B']]\n",
      "note skipped not in scale! F [['G', 'A', 'B', 'C', 'D', 'E', 'F#'], ['G', 'B', 'D', 'F#', 'A', 'C', 'E'], ['G', 'C', 'F#', 'B', 'E', 'A', 'D'], ['G', 'D', 'A', 'E', 'B', 'F#', 'C'], ['G', 'E', 'C', 'A', 'F#', 'D', 'B'], ['G', 'F#', 'E', 'D', 'C', 'B', 'A']]\n",
      "note skipped not in scale! A [['B', 'C#', 'D#', 'E', 'F#', 'G#', 'A#'], ['B', 'D#', 'F#', 'A#', 'C#', 'E', 'G#'], ['B', 'E', 'A#', 'D#', 'G#', 'C#', 'F#'], ['B', 'F#', 'C#', 'G#', 'D#', 'A#', 'E'], ['B', 'G#', 'E', 'C#', 'A#', 'F#', 'D#'], ['B', 'A#', 'G#', 'F#', 'E', 'D#', 'C#']]\n",
      "note skipped not in scale! F# [['G', 'A', 'B', 'C', 'D', 'E', 'F#'], ['G', 'B', 'D', 'F#', 'A', 'C', 'E'], ['G', 'C', 'F#', 'B', 'E', 'A', 'D'], ['G', 'D', 'A', 'E', 'B', 'F#', 'C'], ['G', 'E', 'C', 'A', 'F#', 'D', 'B'], ['G', 'F#', 'E', 'D', 'C', 'B', 'A']]\n"
     ]
    },
    {
     "ename": "IndexError",
     "evalue": "list index out of range",
     "output_type": "error",
     "traceback": [
      "\u001b[0;31m---------------------------------------------------------------------------\u001b[0m",
      "\u001b[0;31mIndexError\u001b[0m                                Traceback (most recent call last)",
      "\u001b[0;32m/Users/koko/Pycharm Projects/ipython_schillinger/schillinger/pitch.py\u001b[0m in \u001b[0;36mget_whole_sequence_bass\u001b[0;34m(melody_notes, init_scales, voices, theme_expansion, scale_expansion_amount)\u001b[0m\n\u001b[1;32m    117\u001b[0m \u001b[0;34m\u001b[0m\u001b[0m\n\u001b[0;32m--> 118\u001b[0;31m             \u001b[0mnote_sequence_all_expansions\u001b[0m \u001b[0;34m=\u001b[0m \u001b[0mSPG\u001b[0m\u001b[0;34m.\u001b[0m\u001b[0mtranslate_notes_to_expansions\u001b[0m\u001b[0;34m(\u001b[0m\u001b[0mmelody_notes\u001b[0m\u001b[0;34m[\u001b[0m\u001b[0mi\u001b[0m\u001b[0;34m]\u001b[0m\u001b[0;34m,\u001b[0m \u001b[0minit_scales\u001b[0m\u001b[0;34m[\u001b[0m\u001b[0mi\u001b[0m\u001b[0;34m]\u001b[0m\u001b[0;34m)\u001b[0m\u001b[0;34m\u001b[0m\u001b[0m\n\u001b[0m\u001b[1;32m    119\u001b[0m \u001b[0;34m\u001b[0m\u001b[0m\n",
      "\u001b[0;31mIndexError\u001b[0m: list index out of range",
      "\nDuring handling of the above exception, another exception occurred:\n",
      "\u001b[0;31mIndexError\u001b[0m                                Traceback (most recent call last)",
      "\u001b[0;32m<ipython-input-6-4f4343410206>\u001b[0m in \u001b[0;36m<module>\u001b[0;34m()\u001b[0m\n\u001b[1;32m      9\u001b[0m \u001b[0mscale_expansion_amount\u001b[0m \u001b[0;34m=\u001b[0m \u001b[0;36m1\u001b[0m \u001b[0;31m# 1st order expansion for harmonizing is according to schillinger default (in thirds)\u001b[0m\u001b[0;34m\u001b[0m\u001b[0m\n\u001b[1;32m     10\u001b[0m \u001b[0;34m\u001b[0m\u001b[0m\n\u001b[0;32m---> 11\u001b[0;31m \u001b[0mwhole_seq\u001b[0m \u001b[0;34m=\u001b[0m \u001b[0mSP\u001b[0m\u001b[0;34m.\u001b[0m\u001b[0mget_whole_sequence_bass\u001b[0m\u001b[0;34m(\u001b[0m\u001b[0mbass\u001b[0m\u001b[0;34m,\u001b[0m \u001b[0mscales\u001b[0m\u001b[0;34m,\u001b[0m \u001b[0mvoice_amount\u001b[0m\u001b[0;34m,\u001b[0m \u001b[0mtheme_expansion_amount\u001b[0m\u001b[0;34m,\u001b[0m \u001b[0mscale_expansion_amount\u001b[0m\u001b[0;34m)\u001b[0m\u001b[0;34m\u001b[0m\u001b[0m\n\u001b[0m\u001b[1;32m     12\u001b[0m \u001b[0mmerged_seq\u001b[0m \u001b[0;34m=\u001b[0m \u001b[0mlist\u001b[0m\u001b[0;34m(\u001b[0m\u001b[0mitertools\u001b[0m\u001b[0;34m.\u001b[0m\u001b[0mchain\u001b[0m\u001b[0;34m(\u001b[0m\u001b[0;34m*\u001b[0m\u001b[0mwhole_seq\u001b[0m\u001b[0;34m)\u001b[0m\u001b[0;34m)\u001b[0m \u001b[0;31m# convert to [note1[harmony1], ... noteN[harmonyN]]\u001b[0m\u001b[0;34m\u001b[0m\u001b[0m\n\u001b[1;32m     13\u001b[0m \u001b[0;34m\u001b[0m\u001b[0m\n",
      "\u001b[0;32m/Users/koko/Pycharm Projects/ipython_schillinger/schillinger/pitch.py\u001b[0m in \u001b[0;36mget_whole_sequence_bass\u001b[0;34m(melody_notes, init_scales, voices, theme_expansion, scale_expansion_amount)\u001b[0m\n\u001b[1;32m    135\u001b[0m             \u001b[0mharmonized_note_sequence_array\u001b[0m\u001b[0;34m.\u001b[0m\u001b[0mappend\u001b[0m\u001b[0;34m(\u001b[0m\u001b[0mharmonized_note_sequence\u001b[0m\u001b[0;34m)\u001b[0m\u001b[0;34m\u001b[0m\u001b[0m\n\u001b[1;32m    136\u001b[0m         \u001b[0;32mexcept\u001b[0m\u001b[0;34m:\u001b[0m\u001b[0;34m\u001b[0m\u001b[0m\n\u001b[0;32m--> 137\u001b[0;31m             \u001b[0mscale_expansion\u001b[0m \u001b[0;34m=\u001b[0m \u001b[0mSPG\u001b[0m\u001b[0;34m.\u001b[0m\u001b[0mexpansions\u001b[0m\u001b[0;34m(\u001b[0m\u001b[0minit_scales\u001b[0m\u001b[0;34m[\u001b[0m\u001b[0mi\u001b[0m\u001b[0;34m]\u001b[0m\u001b[0;34m)\u001b[0m\u001b[0;34m\u001b[0m\u001b[0m\n\u001b[0m\u001b[1;32m    138\u001b[0m             \u001b[0mprint\u001b[0m\u001b[0;34m(\u001b[0m\u001b[0;34m\"note skipped not in scale!\"\u001b[0m\u001b[0;34m,\u001b[0m \u001b[0mmelody_notes\u001b[0m\u001b[0;34m[\u001b[0m\u001b[0mi\u001b[0m\u001b[0;34m]\u001b[0m\u001b[0;34m,\u001b[0m\u001b[0mscale_expansion\u001b[0m\u001b[0;34m)\u001b[0m\u001b[0;34m\u001b[0m\u001b[0m\n\u001b[1;32m    139\u001b[0m \u001b[0;34m\u001b[0m\u001b[0m\n",
      "\u001b[0;31mIndexError\u001b[0m: list index out of range"
     ]
    }
   ],
   "source": [
    "#\n",
    "bass = melody\n",
    "print(bass, scales)\n",
    "#scales = scales\n",
    "seq_rhythm = [1]\n",
    "\n",
    "\n",
    "voice_amount = 4 # for now because of complicated fake arpeggiator + melody stuff!\n",
    "theme_expansion_amount = 5\n",
    "scale_expansion_amount = 1 # 1st order expansion for harmonizing is according to schillinger default (in thirds)\n",
    "\n",
    "whole_seq = SP.get_whole_sequence_bass(bass, scales, voice_amount, theme_expansion_amount, scale_expansion_amount)\n",
    "merged_seq = list(itertools.chain(*whole_seq)) # convert to [note1[harmony1], ... noteN[harmonyN]]\n",
    "\n",
    "## Simple fake MELODY\n",
    "#melody = []\n",
    "for i, m in enumerate(merged_seq):\n",
    "    melody.append(random.choice([m[1][0],m[1][1]]))\n",
    "    if i == len(merged_seq)-1:\n",
    "        melody[-1] = m[0]\n",
    "\n",
    "#### TO Notes ->\n",
    "\n",
    "s = showHarmonyBass(merged_seq, melody, seq_rhythm, len(merged_seq)*2, (3,4), 2, arp=True, bass=False, drop2=True)\n",
    "\n",
    "s.show('musicxml')\n"
   ]
  },
  {
   "cell_type": "code",
   "execution_count": null,
   "metadata": {
    "code_folding": [],
    "collapsed": false
   },
   "outputs": [],
   "source": []
  },
  {
   "cell_type": "code",
   "execution_count": 7,
   "metadata": {
    "code_folding": [],
    "collapsed": false,
    "scrolled": false
   },
   "outputs": [
    {
     "name": "stdout",
     "output_type": "stream",
     "text": [
      "G\n",
      "<music21.scale.MajorScale G major>\n",
      "G\n",
      "<music21.scale.MajorScale G major>\n",
      "C\n",
      "<music21.scale.MajorScale G major>\n",
      "D\n",
      "<music21.scale.MajorScale A major>\n",
      "A\n",
      "<music21.scale.MajorScale G major>\n",
      "F#\n",
      "<music21.scale.MajorScale G major>\n",
      "G\n",
      "<music21.scale.MajorScale G major>\n",
      "G\n",
      "<music21.scale.MajorScale G major>\n",
      "G\n",
      "<music21.scale.MajorScale B- major>\n",
      "D\n",
      "<music21.scale.MajorScale A major>\n",
      "G\n",
      "<music21.scale.MajorScale G major>\n",
      "E\n",
      "<music21.scale.MajorScale G major>\n",
      "G\n",
      "<music21.scale.MajorScale G major>\n",
      "G\n",
      "<music21.scale.MajorScale G major>\n",
      "D\n",
      "<music21.scale.MajorScale A major>\n",
      "G\n",
      "<music21.scale.MajorScale G major>\n",
      "A\n",
      "<music21.scale.MajorScale G major>\n",
      "G\n",
      "<music21.scale.MajorScale G major>\n",
      "D\n",
      "<music21.scale.MajorScale G major>\n",
      "D\n",
      "<music21.scale.MajorScale G major>\n",
      "E\n",
      "<music21.scale.MajorScale G major>\n",
      "G\n",
      "<music21.scale.MajorScale G major>\n",
      "G\n",
      "A\n",
      "<music21.scale.MajorScale G major>\n",
      "D\n",
      "<music21.scale.MajorScale A major>\n",
      "D\n",
      "<music21.scale.MajorScale G major>\n",
      "G\n",
      "<music21.scale.MajorScale G major>\n",
      "G\n",
      "<music21.scale.MajorScale G major>\n",
      "F#\n",
      "<music21.scale.MajorScale G major>\n",
      "G\n",
      "<music21.scale.MajorScale G major>\n",
      "G\n",
      "<music21.scale.MajorScale G major>\n",
      "C\n",
      "<music21.scale.MajorScale G major>\n",
      "D\n",
      "<music21.scale.MajorScale A major>\n",
      "A\n",
      "<music21.scale.MajorScale G major>\n",
      "F#\n",
      "<music21.scale.MajorScale G major>\n",
      "G\n",
      "<music21.scale.MajorScale G major>\n",
      "G\n",
      "<music21.scale.MajorScale G major>\n",
      "G\n",
      "<music21.scale.MajorScale B- major>\n",
      "D\n",
      "<music21.scale.MajorScale A major>\n",
      "G\n",
      "<music21.scale.MajorScale G major>\n",
      "E\n",
      "<music21.scale.MajorScale G major>\n",
      "G\n",
      "<music21.scale.MajorScale G major>\n",
      "G\n",
      "<music21.scale.MajorScale G major>\n",
      "D\n",
      "<music21.scale.MajorScale A major>\n",
      "G\n",
      "<music21.scale.MajorScale G major>\n",
      "A\n",
      "<music21.scale.MajorScale G major>\n",
      "G\n",
      "<music21.scale.MajorScale G major>\n",
      "D\n",
      "<music21.scale.MajorScale G major>\n",
      "D\n",
      "<music21.scale.MajorScale G major>\n",
      "E\n",
      "<music21.scale.MajorScale G major>\n",
      "G\n",
      "<music21.scale.MajorScale G major>\n",
      "G\n",
      "A\n",
      "<music21.scale.MajorScale G major>\n",
      "D\n",
      "<music21.scale.MajorScale A major>\n",
      "D\n",
      "<music21.scale.MajorScale G major>\n",
      "G\n",
      "<music21.scale.MajorScale G major>\n",
      "G\n",
      "<music21.scale.MajorScale G major>\n",
      "D\n",
      "<music21.scale.MajorScale A major>\n",
      "G\n",
      "<music21.scale.MajorScale C major>\n",
      "C\n",
      "<music21.scale.MajorScale G major>\n",
      "E\n",
      "<music21.scale.MajorScale A major>\n",
      "A\n",
      "<music21.scale.MajorScale G major>\n",
      "F\n",
      "<music21.scale.MajorScale B- major>\n",
      "D\n",
      "<music21.scale.MajorScale B- major>\n",
      "E\n",
      "A\n",
      "<music21.scale.MajorScale G major>\n",
      "D\n",
      "<music21.scale.MajorScale A major>\n",
      "F#\n",
      "<music21.scale.MajorScale G major>\n",
      "G\n",
      "<music21.scale.MajorScale G major>\n",
      "F\n",
      "<music21.scale.MajorScale B- major>\n",
      "E\n",
      "<music21.scale.MajorScale A major>\n",
      "A\n",
      "<music21.scale.MajorScale G major>\n",
      "D\n",
      "<music21.scale.MajorScale G major>\n",
      "E\n",
      "<music21.scale.MajorScale G major>\n",
      "E\n",
      "<music21.scale.MajorScale G major>\n",
      "A\n",
      "<music21.scale.MajorScale G major>\n",
      "F#\n",
      "<music21.scale.MajorScale G major>\n",
      "A\n",
      "<music21.scale.MajorScale G major>\n",
      "B\n",
      "<music21.scale.MajorScale B major>\n",
      "E\n",
      "<music21.scale.MajorScale G major>\n",
      "F#\n",
      "['G', 'G', 'C', 'D', 'A', 'F#', 'G', 'G', 'G', 'D', 'G', 'E', 'G', 'G', 'D', 'G', 'A', 'G', 'D', 'D', 'E', 'G', 'G', 'A', 'D', 'D', 'G', 'G', 'F#', 'G', 'G', 'C', 'D', 'A', 'F#', 'G', 'G', 'G', 'D', 'G', 'E', 'G', 'G', 'D', 'G', 'A', 'G', 'D', 'D', 'E', 'G', 'G', 'A', 'D', 'D', 'G', 'G', 'D', 'G', 'C', 'E', 'A', 'F', 'D', 'E', 'A', 'D', 'F#', 'G', 'F', 'E', 'A', 'D', 'E', 'E', 'A', 'F#', 'A', 'B', 'E', 'F#']\n",
      "note skipped not in scale! F# [['G', 'A', 'B', 'C', 'D', 'E', 'F#'], ['G', 'B', 'D', 'F#', 'A', 'C', 'E'], ['G', 'C', 'F#', 'B', 'E', 'A', 'D'], ['G', 'D', 'A', 'E', 'B', 'F#', 'C'], ['G', 'E', 'C', 'A', 'F#', 'D', 'B'], ['G', 'F#', 'E', 'D', 'C', 'B', 'A']]\n",
      "note skipped not in scale! F# [['G', 'A', 'B', 'C', 'D', 'E', 'F#'], ['G', 'B', 'D', 'F#', 'A', 'C', 'E'], ['G', 'C', 'F#', 'B', 'E', 'A', 'D'], ['G', 'D', 'A', 'E', 'B', 'F#', 'C'], ['G', 'E', 'C', 'A', 'F#', 'D', 'B'], ['G', 'F#', 'E', 'D', 'C', 'B', 'A']]\n",
      "note skipped not in scale! C [['A', 'B', 'C#', 'D', 'E', 'F#', 'G#'], ['A', 'C#', 'E', 'G#', 'B', 'D', 'F#'], ['A', 'D', 'G#', 'C#', 'F#', 'B', 'E'], ['A', 'E', 'B', 'F#', 'C#', 'G#', 'D'], ['A', 'F#', 'D', 'B', 'G#', 'E', 'C#'], ['A', 'G#', 'F#', 'E', 'D', 'C#', 'B']]\n",
      "note skipped not in scale! F# [['G', 'A', 'B', 'C', 'D', 'E', 'F#'], ['G', 'B', 'D', 'F#', 'A', 'C', 'E'], ['G', 'C', 'F#', 'B', 'E', 'A', 'D'], ['G', 'D', 'A', 'E', 'B', 'F#', 'C'], ['G', 'E', 'C', 'A', 'F#', 'D', 'B'], ['G', 'F#', 'E', 'D', 'C', 'B', 'A']]\n",
      "note skipped not in scale! G [['A', 'B', 'C#', 'D', 'E', 'F#', 'G#'], ['A', 'C#', 'E', 'G#', 'B', 'D', 'F#'], ['A', 'D', 'G#', 'C#', 'F#', 'B', 'E'], ['A', 'E', 'B', 'F#', 'C#', 'G#', 'D'], ['A', 'F#', 'D', 'B', 'G#', 'E', 'C#'], ['A', 'G#', 'F#', 'E', 'D', 'C#', 'B']]\n",
      "note skipped not in scale! G [['A', 'B', 'C#', 'D', 'E', 'F#', 'G#'], ['A', 'C#', 'E', 'G#', 'B', 'D', 'F#'], ['A', 'D', 'G#', 'C#', 'F#', 'B', 'E'], ['A', 'E', 'B', 'F#', 'C#', 'G#', 'D'], ['A', 'F#', 'D', 'B', 'G#', 'E', 'C#'], ['A', 'G#', 'F#', 'E', 'D', 'C#', 'B']]\n",
      "note skipped not in scale! G [['A', 'B', 'C#', 'D', 'E', 'F#', 'G#'], ['A', 'C#', 'E', 'G#', 'B', 'D', 'F#'], ['A', 'D', 'G#', 'C#', 'F#', 'B', 'E'], ['A', 'E', 'B', 'F#', 'C#', 'G#', 'D'], ['A', 'F#', 'D', 'B', 'G#', 'E', 'C#'], ['A', 'G#', 'F#', 'E', 'D', 'C#', 'B']]\n",
      "note skipped not in scale! G [['A', 'B', 'C#', 'D', 'E', 'F#', 'G#'], ['A', 'C#', 'E', 'G#', 'B', 'D', 'F#'], ['A', 'D', 'G#', 'C#', 'F#', 'B', 'E'], ['A', 'E', 'B', 'F#', 'C#', 'G#', 'D'], ['A', 'F#', 'D', 'B', 'G#', 'E', 'C#'], ['A', 'G#', 'F#', 'E', 'D', 'C#', 'B']]\n",
      "note skipped not in scale! G [['A', 'B', 'C#', 'D', 'E', 'F#', 'G#'], ['A', 'C#', 'E', 'G#', 'B', 'D', 'F#'], ['A', 'D', 'G#', 'C#', 'F#', 'B', 'E'], ['A', 'E', 'B', 'F#', 'C#', 'G#', 'D'], ['A', 'F#', 'D', 'B', 'G#', 'E', 'C#'], ['A', 'G#', 'F#', 'E', 'D', 'C#', 'B']]\n",
      "note skipped not in scale! E [['B-', 'C', 'D', 'E-', 'F', 'G', 'A'], ['B-', 'D', 'F', 'A', 'C', 'E-', 'G'], ['B-', 'E-', 'A', 'D', 'G', 'C', 'F'], ['B-', 'F', 'C', 'G', 'D', 'A', 'E-'], ['B-', 'G', 'E-', 'C', 'A', 'F', 'D'], ['B-', 'A', 'G', 'F', 'E-', 'D', 'C']]\n",
      "note skipped not in scale! F [['G', 'A', 'B', 'C', 'D', 'E', 'F#'], ['G', 'B', 'D', 'F#', 'A', 'C', 'E'], ['G', 'C', 'F#', 'B', 'E', 'A', 'D'], ['G', 'D', 'A', 'E', 'B', 'F#', 'C'], ['G', 'E', 'C', 'A', 'F#', 'D', 'B'], ['G', 'F#', 'E', 'D', 'C', 'B', 'A']]\n",
      "note skipped not in scale! F# [['A', 'B', 'C#', 'D', 'E', 'F#', 'G#'], ['A', 'C#', 'E', 'G#', 'B', 'D', 'F#'], ['A', 'D', 'G#', 'C#', 'F#', 'B', 'E'], ['A', 'E', 'B', 'F#', 'C#', 'G#', 'D'], ['A', 'F#', 'D', 'B', 'G#', 'E', 'C#'], ['A', 'G#', 'F#', 'E', 'D', 'C#', 'B']]\n",
      "note skipped not in scale! F [['G', 'A', 'B', 'C', 'D', 'E', 'F#'], ['G', 'B', 'D', 'F#', 'A', 'C', 'E'], ['G', 'C', 'F#', 'B', 'E', 'A', 'D'], ['G', 'D', 'A', 'E', 'B', 'F#', 'C'], ['G', 'E', 'C', 'A', 'F#', 'D', 'B'], ['G', 'F#', 'E', 'D', 'C', 'B', 'A']]\n",
      "note skipped not in scale! A [['B', 'C#', 'D#', 'E', 'F#', 'G#', 'A#'], ['B', 'D#', 'F#', 'A#', 'C#', 'E', 'G#'], ['B', 'E', 'A#', 'D#', 'G#', 'C#', 'F#'], ['B', 'F#', 'C#', 'G#', 'D#', 'A#', 'E'], ['B', 'G#', 'E', 'C#', 'A#', 'F#', 'D#'], ['B', 'A#', 'G#', 'F#', 'E', 'D#', 'C#']]\n",
      "note skipped not in scale! F# [['G', 'A', 'B', 'C', 'D', 'E', 'F#'], ['G', 'B', 'D', 'F#', 'A', 'C', 'E'], ['G', 'C', 'F#', 'B', 'E', 'A', 'D'], ['G', 'D', 'A', 'E', 'B', 'F#', 'C'], ['G', 'E', 'C', 'A', 'F#', 'D', 'B'], ['G', 'F#', 'E', 'D', 'C', 'B', 'A']]\n"
     ]
    },
    {
     "ename": "IndexError",
     "evalue": "list index out of range",
     "output_type": "error",
     "traceback": [
      "\u001b[0;31m---------------------------------------------------------------------------\u001b[0m",
      "\u001b[0;31mIndexError\u001b[0m                                Traceback (most recent call last)",
      "\u001b[0;32m/Users/koko/Pycharm Projects/ipython_schillinger/schillinger/pitch.py\u001b[0m in \u001b[0;36mget_whole_sequence_bass\u001b[0;34m(melody_notes, init_scales, voices, theme_expansion, scale_expansion_amount)\u001b[0m\n\u001b[1;32m    117\u001b[0m \u001b[0;34m\u001b[0m\u001b[0m\n\u001b[0;32m--> 118\u001b[0;31m             \u001b[0mnote_sequence_all_expansions\u001b[0m \u001b[0;34m=\u001b[0m \u001b[0mSPG\u001b[0m\u001b[0;34m.\u001b[0m\u001b[0mtranslate_notes_to_expansions\u001b[0m\u001b[0;34m(\u001b[0m\u001b[0mmelody_notes\u001b[0m\u001b[0;34m[\u001b[0m\u001b[0mi\u001b[0m\u001b[0;34m]\u001b[0m\u001b[0;34m,\u001b[0m \u001b[0minit_scales\u001b[0m\u001b[0;34m[\u001b[0m\u001b[0mi\u001b[0m\u001b[0;34m]\u001b[0m\u001b[0;34m)\u001b[0m\u001b[0;34m\u001b[0m\u001b[0m\n\u001b[0m\u001b[1;32m    119\u001b[0m \u001b[0;34m\u001b[0m\u001b[0m\n",
      "\u001b[0;31mIndexError\u001b[0m: list index out of range",
      "\nDuring handling of the above exception, another exception occurred:\n",
      "\u001b[0;31mIndexError\u001b[0m                                Traceback (most recent call last)",
      "\u001b[0;32m<ipython-input-7-0227302ecfbe>\u001b[0m in \u001b[0;36m<module>\u001b[0;34m()\u001b[0m\n\u001b[1;32m     52\u001b[0m \u001b[0mscale_expansion_amount\u001b[0m \u001b[0;34m=\u001b[0m \u001b[0;36m1\u001b[0m \u001b[0;31m# 1st order expansion for harmonizing is according to schillinger default (in thirds)\u001b[0m\u001b[0;34m\u001b[0m\u001b[0m\n\u001b[1;32m     53\u001b[0m \u001b[0;34m\u001b[0m\u001b[0m\n\u001b[0;32m---> 54\u001b[0;31m \u001b[0mwhole_seq\u001b[0m \u001b[0;34m=\u001b[0m \u001b[0mSP\u001b[0m\u001b[0;34m.\u001b[0m\u001b[0mget_whole_sequence_bass\u001b[0m\u001b[0;34m(\u001b[0m\u001b[0mbass\u001b[0m\u001b[0;34m,\u001b[0m \u001b[0mscales\u001b[0m\u001b[0;34m,\u001b[0m \u001b[0mvoice_amount\u001b[0m\u001b[0;34m,\u001b[0m \u001b[0mtheme_expansion_amount\u001b[0m\u001b[0;34m,\u001b[0m \u001b[0mscale_expansion_amount\u001b[0m\u001b[0;34m)\u001b[0m\u001b[0;34m\u001b[0m\u001b[0m\n\u001b[0m\u001b[1;32m     55\u001b[0m \u001b[0mmerged_seq\u001b[0m \u001b[0;34m=\u001b[0m \u001b[0mlist\u001b[0m\u001b[0;34m(\u001b[0m\u001b[0mitertools\u001b[0m\u001b[0;34m.\u001b[0m\u001b[0mchain\u001b[0m\u001b[0;34m(\u001b[0m\u001b[0;34m*\u001b[0m\u001b[0mwhole_seq\u001b[0m\u001b[0;34m)\u001b[0m\u001b[0;34m)\u001b[0m \u001b[0;31m# convert to [note1[harmony1], ... noteN[harmonyN]]\u001b[0m\u001b[0;34m\u001b[0m\u001b[0m\n\u001b[1;32m     56\u001b[0m \u001b[0;34m\u001b[0m\u001b[0m\n",
      "\u001b[0;32m/Users/koko/Pycharm Projects/ipython_schillinger/schillinger/pitch.py\u001b[0m in \u001b[0;36mget_whole_sequence_bass\u001b[0;34m(melody_notes, init_scales, voices, theme_expansion, scale_expansion_amount)\u001b[0m\n\u001b[1;32m    135\u001b[0m             \u001b[0mharmonized_note_sequence_array\u001b[0m\u001b[0;34m.\u001b[0m\u001b[0mappend\u001b[0m\u001b[0;34m(\u001b[0m\u001b[0mharmonized_note_sequence\u001b[0m\u001b[0;34m)\u001b[0m\u001b[0;34m\u001b[0m\u001b[0m\n\u001b[1;32m    136\u001b[0m         \u001b[0;32mexcept\u001b[0m\u001b[0;34m:\u001b[0m\u001b[0;34m\u001b[0m\u001b[0m\n\u001b[0;32m--> 137\u001b[0;31m             \u001b[0mscale_expansion\u001b[0m \u001b[0;34m=\u001b[0m \u001b[0mSPG\u001b[0m\u001b[0;34m.\u001b[0m\u001b[0mexpansions\u001b[0m\u001b[0;34m(\u001b[0m\u001b[0minit_scales\u001b[0m\u001b[0;34m[\u001b[0m\u001b[0mi\u001b[0m\u001b[0;34m]\u001b[0m\u001b[0;34m)\u001b[0m\u001b[0;34m\u001b[0m\u001b[0m\n\u001b[0m\u001b[1;32m    138\u001b[0m             \u001b[0mprint\u001b[0m\u001b[0;34m(\u001b[0m\u001b[0;34m\"note skipped not in scale!\"\u001b[0m\u001b[0;34m,\u001b[0m \u001b[0mmelody_notes\u001b[0m\u001b[0;34m[\u001b[0m\u001b[0mi\u001b[0m\u001b[0;34m]\u001b[0m\u001b[0;34m,\u001b[0m\u001b[0mscale_expansion\u001b[0m\u001b[0;34m)\u001b[0m\u001b[0;34m\u001b[0m\u001b[0m\n\u001b[1;32m    139\u001b[0m \u001b[0;34m\u001b[0m\u001b[0m\n",
      "\u001b[0;31mIndexError\u001b[0m: list index out of range"
     ]
    }
   ],
   "source": [
    "# corpus analyzer plus converter MELODY\n",
    "SPG = SP.PitchGroup()\n",
    "\n",
    "a = corpus.getBachChorales()\n",
    "ch = a[11]\n",
    "score = corpus.parse(ch)\n",
    "excerpt = score.measures(1, 12)\n",
    "\n",
    "#convert stream to chords and make expansion\n",
    "original_chords = []\n",
    "melody = []\n",
    "scales= []\n",
    "chfy = excerpt.chordify()\n",
    "for c in chfy.flat.getElementsByClass(chord.Chord):\n",
    "    \n",
    "    try:\n",
    "        original_chords.append(c)\n",
    "        melody.append(c.root().name)\n",
    "        print(c.root().name)\n",
    "        harm = harmony.chordSymbolFromChord(c)\n",
    "        print(harm)\n",
    "        sc1 = scale.MajorScale()\n",
    "        sc1 = sc1.derive(harm)\n",
    "        print(sc1)\n",
    "        scale_names = [str(p.name) for p in sc1.pitches[:-1]]\n",
    "        scales.append(scale_names)\n",
    "    except:\n",
    "        pass\n",
    "        \n",
    "    \n",
    "    \n",
    "\n",
    "    \n",
    "#convert exansions to chords\n",
    "chords = []\n",
    "for i, tone_group in enumerate(melody):\n",
    "    #c = chord.Chord(tone_group)\n",
    "    #c.duration.quarterLength = original_chords[i].duration.quarterLength\n",
    "    #chords.append(c)\n",
    "    #print(tone_group)\n",
    "    pass\n",
    "#chfy.show('musicxml')\n",
    "\n",
    "\n",
    "bass = melody\n",
    "print(bass)\n",
    "scales = scales\n",
    "seq_rhythm = [1]\n",
    "\n",
    "\n",
    "voice_amount = 4 # for now because of complicated fake arpeggiator + melody stuff!\n",
    "theme_expansion_amount = 5\n",
    "scale_expansion_amount = 1 # 1st order expansion for harmonizing is according to schillinger default (in thirds)\n",
    "\n",
    "whole_seq = SP.get_whole_sequence_bass(bass, scales, voice_amount, theme_expansion_amount, scale_expansion_amount)\n",
    "merged_seq = list(itertools.chain(*whole_seq)) # convert to [note1[harmony1], ... noteN[harmonyN]]\n",
    "\n",
    "## Simple fake MELODY\n",
    "melody = []\n",
    "for i, m in enumerate(merged_seq):\n",
    "    melody.append(random.choice([m[1][0],m[1][1]]))\n",
    "    if i == len(merged_seq)-1:\n",
    "        melody[-1] = m[0]\n",
    "\n",
    "#### TO Notes ->\n",
    "\n",
    "s = showHarmonyBass(merged_seq, melody, seq_rhythm, len(merged_seq)*2, (3,4), 2, arp=True, bass=False, drop2=True)\n",
    "\n",
    "s.show('musicxml')\n",
    "\n",
    "\n",
    "\n",
    "\n",
    "#s = showHarmony(chords, (4,4), 4, drop2=True)\n",
    "\n",
    "\n",
    "#s.show('musicxml')"
   ]
  },
  {
   "cell_type": "code",
   "execution_count": null,
   "metadata": {
    "code_folding": [],
    "collapsed": false,
    "scrolled": false
   },
   "outputs": [],
   "source": []
  },
  {
   "cell_type": "code",
   "execution_count": 13,
   "metadata": {
    "code_folding": [],
    "collapsed": false
   },
   "outputs": [
    {
     "data": {
      "text/plain": [
       "[['C4', 'F#', 'G'], ['C4', 'G', 'F#']]"
      ]
     },
     "execution_count": 13,
     "metadata": {},
     "output_type": "execute_result"
    }
   ],
   "source": [
    "# tests\n",
    "test_scale = [\"C4\", \"D4\", \"E4\", \"F4\", \"G4\", \"A4\", \"B4\"]\n",
    "test_scale = [\"C4\", \"F#\", \"G\"]\n",
    "SPG = SP.PitchGroup()\n",
    "scale_expansion = SPG.expansions(test_scale)\n",
    "#C7 = scale_expansion[0]\n",
    "#C3 = scale_expansion[4]\n",
    "#C5 = scale_expansion[2]\n",
    "#diatonic_cycle = SP.diatonic_cicles_with_coeficients(test_scale,[C7,C5,C3,C7,C5,C3],[3,1,3,1,3,1])\n",
    "#print(diatonic_cycle, len(diatonic_cycle))\n",
    "scale_expansion"
   ]
  },
  {
   "cell_type": "code",
   "execution_count": 25,
   "metadata": {
    "collapsed": false,
    "scrolled": false
   },
   "outputs": [
    {
     "ename": "AttributeError",
     "evalue": "'str' object has no attribute 'hasPartLikeStreams'",
     "output_type": "error",
     "traceback": [
      "\u001b[0;31m---------------------------------------------------------------------------\u001b[0m",
      "\u001b[0;31mAttributeError\u001b[0m                            Traceback (most recent call last)",
      "\u001b[0;32m<ipython-input-25-2ca9a918e325>\u001b[0m in \u001b[0;36m<module>\u001b[0;34m()\u001b[0m\n\u001b[1;32m      8\u001b[0m \u001b[0;34m\u001b[0m\u001b[0m\n\u001b[1;32m      9\u001b[0m \u001b[0;34m\u001b[0m\u001b[0m\n\u001b[0;32m---> 10\u001b[0;31m \u001b[0mka\u001b[0m \u001b[0;34m=\u001b[0m \u001b[0manalysis\u001b[0m\u001b[0;34m.\u001b[0m\u001b[0mfloatingKey\u001b[0m\u001b[0;34m.\u001b[0m\u001b[0mKeyAnalyzer\u001b[0m\u001b[0;34m(\u001b[0m\u001b[0mch\u001b[0m\u001b[0;34m)\u001b[0m\u001b[0;34m\u001b[0m\u001b[0m\n\u001b[0m\u001b[1;32m     11\u001b[0m \u001b[0mka\u001b[0m\u001b[0;34m.\u001b[0m\u001b[0mwindowSize\u001b[0m \u001b[0;34m=\u001b[0m \u001b[0;36m2\u001b[0m \u001b[0;31m# chorale uses quick key changes\u001b[0m\u001b[0;34m\u001b[0m\u001b[0m\n\u001b[1;32m     12\u001b[0m \u001b[0mka\u001b[0m\u001b[0;34m.\u001b[0m\u001b[0mrun\u001b[0m\u001b[0;34m(\u001b[0m\u001b[0;34m)\u001b[0m  \u001b[0;31m# first measure is the pickup\u001b[0m\u001b[0;34m\u001b[0m\u001b[0m\n",
      "\u001b[0;32m/Users/koko/anaconda/envs/python3_test/lib/python3.5/site-packages/music21/analysis/floatingKey.py\u001b[0m in \u001b[0;36m__init__\u001b[0;34m(self, s)\u001b[0m\n\u001b[1;32m     72\u001b[0m \u001b[0;34m\u001b[0m\u001b[0m\n\u001b[1;32m     73\u001b[0m         \u001b[0mself\u001b[0m\u001b[0;34m.\u001b[0m\u001b[0mweightAlgorithm\u001b[0m \u001b[0;34m=\u001b[0m \u001b[0mdivide\u001b[0m\u001b[0;34m\u001b[0m\u001b[0m\n\u001b[0;32m---> 74\u001b[0;31m         \u001b[0;32mif\u001b[0m \u001b[0ms\u001b[0m\u001b[0;34m.\u001b[0m\u001b[0mhasPartLikeStreams\u001b[0m\u001b[0;34m(\u001b[0m\u001b[0;34m)\u001b[0m\u001b[0;34m:\u001b[0m\u001b[0;34m\u001b[0m\u001b[0m\n\u001b[0m\u001b[1;32m     75\u001b[0m             \u001b[0mp\u001b[0m \u001b[0;34m=\u001b[0m \u001b[0ms\u001b[0m\u001b[0;34m.\u001b[0m\u001b[0mparts\u001b[0m\u001b[0;34m[\u001b[0m\u001b[0;36m0\u001b[0m\u001b[0;34m]\u001b[0m\u001b[0;34m\u001b[0m\u001b[0m\n\u001b[1;32m     76\u001b[0m         \u001b[0;32melse\u001b[0m\u001b[0;34m:\u001b[0m\u001b[0;34m\u001b[0m\u001b[0m\n",
      "\u001b[0;31mAttributeError\u001b[0m: 'str' object has no attribute 'hasPartLikeStreams'"
     ]
    }
   ],
   "source": [
    "# corpus analyzer plus converter MELODY\n",
    "SPG = SP.PitchGroup()\n",
    "\n",
    "a = corpus.getBachChorales()\n",
    "ch = a[11]\n",
    "score = corpus.parse(ch)\n",
    "excerpt = score.measures(1, 12)\n",
    "\n",
    "\n",
    "ka = analysis.floatingKey.KeyAnalyzer(ch)\n",
    "ka.windowSize = 2 # chorale uses quick key changes\n",
    "ka.run()  # first measure is the pickup\n",
    "#convert stream to chords and make expansion\n",
    "original_chords = []\n",
    "melody = []\n",
    "scales= []\n",
    "chfy = excerpt.chordify()\n",
    "for c in chfy.flat.getElementsByClass(chord.Chord):\n",
    "    \n",
    "    try:\n",
    "        original_chords.append(c)\n",
    "        melody.append(c.root().name)\n",
    "        print()\n",
    "        harm = harmony.chordSymbolFromChord(c)\n",
    "        print(c, c.root().name,harm)\n",
    "        #sc1 = harmony.key.scale.\n",
    "        #sc1 = sc1.derive(harm)\n",
    "        print(harmony.chordSymbolFigureFromChord(c, True))\n",
    "        scale_names = [str(p.name) for p in sc1.pitches[:-1]]\n",
    "        #print(scale_names)\n",
    "        scales.append(scale_names)\n",
    "    except:\n",
    "        pass\n",
    "        \n",
    "    \n",
    "    \n"
   ]
  },
  {
   "cell_type": "code",
   "execution_count": 27,
   "metadata": {
    "collapsed": false
   },
   "outputs": [
    {
     "data": {
      "text/plain": [
       "[<music21.key.Key of A major>,\n",
       " <music21.key.Key of A major>,\n",
       " <music21.key.Key of A major>,\n",
       " <music21.key.Key of f# minor>,\n",
       " <music21.key.Key of f# minor>,\n",
       " <music21.key.Key of f# minor>,\n",
       " <music21.key.Key of f# minor>,\n",
       " <music21.key.Key of f# minor>,\n",
       " <music21.key.Key of f# minor>,\n",
       " <music21.key.Key of f# minor>]"
      ]
     },
     "execution_count": 27,
     "metadata": {},
     "output_type": "execute_result"
    }
   ],
   "source": [
    "b = corpus.parse('bwv66.6')\n",
    "ka = analysis.floatingKey.KeyAnalyzer(b)\n",
    "ka.windowSize = 4 # chorale uses quick key changes\n",
    "ka.run()  # first measure is the pickup"
   ]
  },
  {
   "cell_type": "code",
   "execution_count": 52,
   "metadata": {
    "collapsed": false
   },
   "outputs": [],
   "source": [
    "###\n",
    "a = corpus.getBachChorales()\n",
    "ch = a[11]\n",
    "score = corpus.parse(ch)"
   ]
  },
  {
   "cell_type": "code",
   "execution_count": 53,
   "metadata": {
    "collapsed": false
   },
   "outputs": [
    {
     "data": {
      "text/plain": [
       "<music21.key.Key of G major>"
      ]
     },
     "execution_count": 53,
     "metadata": {},
     "output_type": "execute_result"
    }
   ],
   "source": [
    "key = score.analyze('key')\n",
    "key"
   ]
  },
  {
   "cell_type": "code",
   "execution_count": 54,
   "metadata": {
    "collapsed": false
   },
   "outputs": [
    {
     "data": {
      "text/plain": [
       "[<music21.pitch.Pitch G4>,\n",
       " <music21.pitch.Pitch A4>,\n",
       " <music21.pitch.Pitch B4>,\n",
       " <music21.pitch.Pitch C5>,\n",
       " <music21.pitch.Pitch D5>,\n",
       " <music21.pitch.Pitch E5>,\n",
       " <music21.pitch.Pitch F#5>,\n",
       " <music21.pitch.Pitch G5>]"
      ]
     },
     "execution_count": 54,
     "metadata": {},
     "output_type": "execute_result"
    }
   ],
   "source": [
    "key.getPitches()"
   ]
  },
  {
   "cell_type": "code",
   "execution_count": 55,
   "metadata": {
    "collapsed": false
   },
   "outputs": [],
   "source": [
    "temp_scale = [str(p.name) for p in key.pitches[:-1]]"
   ]
  },
  {
   "cell_type": "code",
   "execution_count": 56,
   "metadata": {
    "collapsed": false
   },
   "outputs": [
    {
     "data": {
      "text/plain": [
       "['G', 'A', 'B', 'C', 'D', 'E', 'F#']"
      ]
     },
     "execution_count": 56,
     "metadata": {},
     "output_type": "execute_result"
    }
   ],
   "source": [
    "temp_scale"
   ]
  },
  {
   "cell_type": "code",
   "execution_count": 57,
   "metadata": {
    "collapsed": false
   },
   "outputs": [
    {
     "data": {
      "text/plain": [
       "[['G', 'A', 'B', 'C', 'D', 'E', 'F#'],\n",
       " ['G', 'B', 'D', 'F#', 'A', 'C', 'E'],\n",
       " ['G', 'C', 'F#', 'B', 'E', 'A', 'D'],\n",
       " ['G', 'D', 'A', 'E', 'B', 'F#', 'C'],\n",
       " ['G', 'E', 'C', 'A', 'F#', 'D', 'B'],\n",
       " ['G', 'F#', 'E', 'D', 'C', 'B', 'A']]"
      ]
     },
     "execution_count": 57,
     "metadata": {},
     "output_type": "execute_result"
    }
   ],
   "source": [
    "scale_expansion = SPG.expansions(temp_scale)\n",
    "scale_expansion"
   ]
  },
  {
   "cell_type": "code",
   "execution_count": null,
   "metadata": {
    "collapsed": true
   },
   "outputs": [],
   "source": []
  }
 ],
 "metadata": {
  "hide_input": false,
  "kernelspec": {
   "display_name": "Python [conda env:python3_test]",
   "language": "python",
   "name": "conda-env-python3_test-py"
  },
  "language_info": {
   "codemirror_mode": {
    "name": "ipython",
    "version": 3
   },
   "file_extension": ".py",
   "mimetype": "text/x-python",
   "name": "python",
   "nbconvert_exporter": "python",
   "pygments_lexer": "ipython3",
   "version": "3.5.2"
  },
  "latex_envs": {
   "LaTeX_envs_menu_present": true,
   "bibliofile": "biblio.bib",
   "cite_by": "apalike",
   "current_citInitial": 1,
   "eqLabelWithNumbers": true,
   "eqNumInitial": 1,
   "hotkeys": {
    "equation": "Ctrl-E",
    "itemize": "Ctrl-I"
   },
   "labels_anchors": false,
   "latex_user_defs": false,
   "report_style_numbering": false,
   "user_envs_cfg": false
  }
 },
 "nbformat": 4,
 "nbformat_minor": 2
}
