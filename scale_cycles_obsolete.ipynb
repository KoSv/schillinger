{
 "cells": [
  {
   "cell_type": "code",
   "execution_count": 10,
   "metadata": {
    "collapsed": false
   },
   "outputs": [
    {
     "name": "stdout",
     "output_type": "stream",
     "text": [
      "The music21.ipython21 extension is already loaded. To reload it, use:\n",
      "  %reload_ext music21.ipython21\n",
      "The autoreload extension is already loaded. To reload it, use:\n",
      "  %reload_ext autoreload\n"
     ]
    }
   ],
   "source": [
    "#schillinger special theory of harmony\n",
    "#possible C3 C5 C7 in descending direction\n",
    "from music21 import *\n",
    "%load_ext music21.ipython21\n",
    "%load_ext autoreload\n",
    "%autoreload 2"
   ]
  },
  {
   "cell_type": "code",
   "execution_count": null,
   "metadata": {
    "collapsed": false
   },
   "outputs": [],
   "source": []
  },
  {
   "cell_type": "code",
   "execution_count": 11,
   "metadata": {
    "code_folding": [],
    "collapsed": false,
    "scrolled": false
   },
   "outputs": [],
   "source": [
    "# functions\n",
    "def showNotes(notes):\n",
    "\n",
    "    s = stream.Score(id='mainScore')\n",
    "    stream.Score()\n",
    "    part = stream.Part(id='part')\n",
    "    part.timeSignature = meter.TimeSignature('8/1')\n",
    "    tones = []\n",
    "    for tone in notes:\n",
    "        tone.octave = 3\n",
    "        nota = note.Note(tone.nameWithOctave)\n",
    "        #nota.pitch.octave = 3\n",
    "        nota.duration.quarterLength = 4\n",
    "        tones.append(nota)\n",
    "\n",
    "    part.append(tones)\n",
    "    s.insert(0, part)\n",
    "    return s\n",
    "\n",
    "def coeficients(coefs, scale):\n",
    "    return sum(coefs)*len(scale)\n",
    "\n",
    "def diatonic_cicles(scale, coef):\n",
    "    my_scale = []\n",
    "    a = scale.getTonic()\n",
    "    my_scale.append(a)\n",
    "    for i in range(7):\n",
    "        a = scale.next(a, direction=\"descending\",stepSize=coef-1)\n",
    "        my_scale.append(a)\n",
    "    return my_scale\n",
    "    \n",
    "def schillinger_type_I(fraction):\n",
    "    \n",
    "    major = fraction[0]\n",
    "    minor = fraction[1]\n",
    "    seq_len = major*minor\n",
    "    return_arr = [] \n",
    "    count = 1\n",
    "    for i in range(1, seq_len):\n",
    "        if i > 0 and i % major == 0 or i % minor == 0:\n",
    "            return_arr.append(count)\n",
    "            count = 1\n",
    "        else:\n",
    "            count += 1\n",
    "    return_arr.append(count)\n",
    "    return return_arr\n",
    "\n",
    "def diatonic_cicles_with_coeficients(scale, cycles, scale_length, coef):\n",
    "    length = sum(coef)*scale_length\n",
    "    count = 0\n",
    "    sum_arr = []\n",
    "    for i in range(length):\n",
    "        coef_iterator = i%len(coef)\n",
    "        cycles_iterator = coef_iterator % len(cycles)\n",
    "        count += coef[coef_iterator]\n",
    "        for c in range(coef[coef_iterator]):\n",
    "            sum_arr.append(cycles[cycles_iterator])\n",
    "        if count >= length: break\n",
    "    \n",
    "    my_scale = []\n",
    "    a = scale.getTonic()\n",
    "    my_scale.append(a)\n",
    "    for i in sum_arr:\n",
    "        a = scale.next(a, direction=\"descending\",stepSize=i-1)\n",
    "        my_scale.append(a)\n",
    "    print(sum_arr)\n",
    "    return my_scale\n"
   ]
  },
  {
   "cell_type": "code",
   "execution_count": null,
   "metadata": {
    "collapsed": false
   },
   "outputs": [],
   "source": []
  },
  {
   "cell_type": "code",
   "execution_count": 12,
   "metadata": {
    "collapsed": false
   },
   "outputs": [],
   "source": [
    "#tests\n",
    "C = 5\n",
    "testscale = scale.MajorScale('c')"
   ]
  },
  {
   "cell_type": "code",
   "execution_count": 13,
   "metadata": {
    "collapsed": false
   },
   "outputs": [],
   "source": [
    "seventh = diatonic_cicles(scale=testscale,coef=7)\n",
    "thirds = diatonic_cicles(scale=testscale,coef=3)\n",
    "fifts = diatonic_cicles(scale=testscale,coef=5)\n",
    "\n",
    "\n",
    "#print(seventh)\n",
    "#print(thirds)\n",
    "#print(fifts)"
   ]
  },
  {
   "cell_type": "code",
   "execution_count": 14,
   "metadata": {
    "collapsed": false,
    "scrolled": false
   },
   "outputs": [
    {
     "data": {
      "image/png": "[encoded data removed]",
      "text/plain": [
       "<music21.ipython21.objects.IPythonPNGObject at 0x10beb9b38>"
      ]
     },
     "execution_count": 14,
     "metadata": {},
     "output_type": "execute_result"
    }
   ],
   "source": [
    "s = showNotes(seventh)\n",
    "s.show()"
   ]
  },
  {
   "cell_type": "code",
   "execution_count": 15,
   "metadata": {
    "collapsed": false
   },
   "outputs": [
    {
     "data": {
      "image/png": "[encoded data removed]",
      "text/plain": [
       "<music21.ipython21.objects.IPythonPNGObject at 0x10c120da0>"
      ]
     },
     "execution_count": 15,
     "metadata": {},
     "output_type": "execute_result"
    }
   ],
   "source": [
    "s = showNotes(thirds)\n",
    "s.show()"
   ]
  },
  {
   "cell_type": "code",
   "execution_count": 16,
   "metadata": {
    "collapsed": false
   },
   "outputs": [
    {
     "data": {
      "image/png": "[encoded data removed]",
      "text/plain": [
       "<music21.ipython21.objects.IPythonPNGObject at 0x10be57e48>"
      ]
     },
     "execution_count": 16,
     "metadata": {},
     "output_type": "execute_result"
    }
   ],
   "source": [
    "s = showNotes(fifts)\n",
    "s.show()"
   ]
  },
  {
   "cell_type": "code",
   "execution_count": 20,
   "metadata": {
    "collapsed": false
   },
   "outputs": [
    {
     "data": {
      "image/png": "[encoded data removed]",
      "text/plain": [
       "<music21.ipython21.objects.IPythonPNGObject at 0x10c10bcc0>"
      ]
     },
     "execution_count": 20,
     "metadata": {},
     "output_type": "execute_result"
    }
   ],
   "source": [
    "test = diatonic_cicles(scale=testscale,coef=2)\n",
    "s = showNotes(test)\n",
    "s.show()"
   ]
  },
  {
   "cell_type": "code",
   "execution_count": 8,
   "metadata": {
    "collapsed": false
   },
   "outputs": [
    {
     "name": "stdout",
     "output_type": "stream",
     "text": [
      "[5, 5, 5, 3, 7, 7, 5, 5, 5, 3, 7, 7, 5, 5, 5, 3, 7, 7, 5, 5, 5, 3, 7, 7, 5, 5, 5, 3, 7, 7, 5, 5, 5, 3, 7, 7, 5, 5, 5, 3, 7, 7]\n"
     ]
    },
    {
     "data": {
      "image/png": "[encoded data removed]",
      "text/plain": [
       "<music21.ipython21.objects.IPythonPNGObject at 0x10c00cc18>"
      ]
     },
     "execution_count": 8,
     "metadata": {},
     "output_type": "execute_result"
    }
   ],
   "source": [
    "# coef\n",
    "C3 = 3\n",
    "C5 = 5\n",
    "C7 = 7\n",
    "scale_length = 7\n",
    "cycles = [C5,C3,C7]\n",
    "coeficients = [3,1,2]\n",
    "sc = diatonic_cicles_with_coeficients(testscale, cycles, scale_length, coeficients)\n",
    "s = showNotes(sc)\n",
    "s.show()"
   ]
  },
  {
   "cell_type": "code",
   "execution_count": 1,
   "metadata": {
    "collapsed": false
   },
   "outputs": [
    {
     "ename": "NameError",
     "evalue": "name 'schillinger_type_I' is not defined",
     "output_type": "error",
     "traceback": [
      "\u001b[0;31m---------------------------------------------------------------------------\u001b[0m",
      "\u001b[0;31mNameError\u001b[0m                                 Traceback (most recent call last)",
      "\u001b[0;32m<ipython-input-1-21504a1c1345>\u001b[0m in \u001b[0;36m<module>\u001b[0;34m()\u001b[0m\n\u001b[1;32m      5\u001b[0m \u001b[0mscale_length\u001b[0m \u001b[0;34m=\u001b[0m \u001b[0;36m7\u001b[0m\u001b[0;34m\u001b[0m\u001b[0m\n\u001b[1;32m      6\u001b[0m \u001b[0mcycles\u001b[0m \u001b[0;34m=\u001b[0m \u001b[0;34m[\u001b[0m\u001b[0mC3\u001b[0m\u001b[0;34m,\u001b[0m\u001b[0mC5\u001b[0m\u001b[0;34m,\u001b[0m\u001b[0mC7\u001b[0m\u001b[0;34m]\u001b[0m\u001b[0;34m\u001b[0m\u001b[0m\n\u001b[0;32m----> 7\u001b[0;31m \u001b[0mcoeficients\u001b[0m \u001b[0;34m=\u001b[0m \u001b[0mschillinger_type_I\u001b[0m\u001b[0;34m(\u001b[0m\u001b[0;34m[\u001b[0m\u001b[0;36m4\u001b[0m\u001b[0;34m,\u001b[0m\u001b[0;36m3\u001b[0m\u001b[0;34m]\u001b[0m\u001b[0;34m)\u001b[0m\u001b[0;31m#312213\u001b[0m\u001b[0;34m\u001b[0m\u001b[0m\n\u001b[0m\u001b[1;32m      8\u001b[0m \u001b[0msc\u001b[0m \u001b[0;34m=\u001b[0m \u001b[0mdiatonic_cicles_with_coeficients\u001b[0m\u001b[0;34m(\u001b[0m\u001b[0mtestscale\u001b[0m\u001b[0;34m,\u001b[0m \u001b[0mcycles\u001b[0m\u001b[0;34m,\u001b[0m \u001b[0mscale_length\u001b[0m\u001b[0;34m,\u001b[0m \u001b[0mcoeficients\u001b[0m\u001b[0;34m)\u001b[0m\u001b[0;34m\u001b[0m\u001b[0m\n\u001b[1;32m      9\u001b[0m \u001b[0ms\u001b[0m \u001b[0;34m=\u001b[0m \u001b[0mshowNotes\u001b[0m\u001b[0;34m(\u001b[0m\u001b[0msc\u001b[0m\u001b[0;34m)\u001b[0m\u001b[0;34m\u001b[0m\u001b[0m\n",
      "\u001b[0;31mNameError\u001b[0m: name 'schillinger_type_I' is not defined"
     ]
    }
   ],
   "source": [
    "# coef\n",
    "C3 = 3\n",
    "C5 = 5\n",
    "C7 = 7\n",
    "scale_length = 7\n",
    "cycles = [C3,C5,C7] \n",
    "coeficients = schillinger_type_I([4,3])#312213\n",
    "sc = diatonic_cicles_with_coeficients(testscale, cycles, scale_length, coeficients)\n",
    "s = showNotes(sc)\n",
    "s.show()"
   ]
  },
  {
   "cell_type": "code",
   "execution_count": null,
   "metadata": {
    "collapsed": false
   },
   "outputs": [],
   "source": []
  }
 ],
 "metadata": {
  "hide_input": false,
  "kernelspec": {
   "display_name": "Python [conda env:python3_test]",
   "language": "python",
   "name": "conda-env-python3_test-py"
  },
  "language_info": {
   "codemirror_mode": {
    "name": "ipython",
    "version": 3
   },
   "file_extension": ".py",
   "mimetype": "text/x-python",
   "name": "python",
   "nbconvert_exporter": "python",
   "pygments_lexer": "ipython3",
   "version": "3.5.2"
  },
  "latex_envs": {
   "LaTeX_envs_menu_present": true,
   "bibliofile": "biblio.bib",
   "cite_by": "apalike",
   "current_citInitial": 1,
   "eqLabelWithNumbers": true,
   "eqNumInitial": 1,
   "hotkeys": {
    "equation": "Ctrl-E",
    "itemize": "Ctrl-I"
   },
   "labels_anchors": false,
   "latex_user_defs": false,
   "report_style_numbering": false,
   "user_envs_cfg": false
  }
 },
 "nbformat": 4,
 "nbformat_minor": 2
}
