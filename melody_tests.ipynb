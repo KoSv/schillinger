{
 "cells": [
  {
   "cell_type": "code",
   "execution_count": 1,
   "metadata": {
    "collapsed": false
   },
   "outputs": [],
   "source": [
    "from music21 import *\n",
    "%load_ext music21.ipython21"
   ]
  },
  {
   "cell_type": "code",
   "execution_count": 2,
   "metadata": {
    "collapsed": false
   },
   "outputs": [],
   "source": [
    "import schillinger.rhythm as SR\n",
    "import numpy as np\n",
    "import itertools\n",
    "import random"
   ]
  },
  {
   "cell_type": "code",
   "execution_count": 3,
   "metadata": {
    "collapsed": false
   },
   "outputs": [],
   "source": [
    "# simple notes show\n",
    "\n",
    "def showNotes(note_sequece, time_meter, duration_divider):\n",
    "    TS = str(time_meter[0])+'/'+str(time_meter[1])\n",
    "    s = stream.Score(id='mainScore')\n",
    "    p0 = stream.Part(id='part0')\n",
    "    p0.timeSignature = meter.TimeSignature(TS)\n",
    "    for i, notes in enumerate(note_sequece):\n",
    "        notes.quarterLength = notes.quarterLength*duration_divider\n",
    "        p0.append(notes)\n",
    "    s.insert(0, p0)\n",
    "    return s"
   ]
  },
  {
   "cell_type": "code",
   "execution_count": 4,
   "metadata": {
    "code_folding": [],
    "collapsed": false
   },
   "outputs": [],
   "source": [
    "## PrimaryAxis ## the primary axises can change but this class describes 1 PA for now\n",
    "#### so 0 can vary!\n",
    "# what kind of data structure should i use?? scale?\n",
    "\n",
    "# primary axis PA\n",
    "# motions in PA = 0,A,B,C and combinations of them\n",
    "# AXES:\n",
    "# 0 = no motion = absolute balance\n",
    "# A = Accending from PA = unbalancing (leading away from 0)\n",
    "# B = Descending toward PA = balancing (leading to 0)\n",
    "# C = Accending towards PA = balancing (leading to 0)\n",
    "# D = Descending from PA = unbalancing (leading away from 0)\n",
    "# VARIABLES:\n",
    "# two variables = P for pitch and T for time\n",
    "# f.e.: ATP\n",
    "# f.e.2: A4T3P\n",
    "\n",
    "# generate PA class\n",
    "# 4 args scale, motion sequence, P, T\n",
    "# take PAaxes combination f.e. [2xA 1xB 3xD 1xC] or [AABDDDC]\n",
    "# take variables f.e. P = [2,1,1,2]\n",
    "# P: f.e. P = [2,1,1,2]\n",
    "# T: f.e. T = [3,1,2,2,2,3] or so\n",
    "# combine PAaxes with P and T\n",
    "# return PA melody\n",
    "\n",
    "class PrimaryAxis:\n",
    "    \n",
    "    def __init__(self, harmony_length, motion_sequence, T, P, meter_nominator):\n",
    "        \n",
    "        self.sequence_list = [] # not needed in return\n",
    "        self.durations = [] # return\n",
    "        self.pitches = [] # return\n",
    "        self.seq_length = 0 # return\n",
    "        \n",
    "        self.harmony_length = len(motion_sequence)## !\n",
    "        self.motion_sequence = motion_sequence\n",
    "        self.P = P\n",
    "        self.T = T\n",
    "        \n",
    "        self.combinePA()\n",
    "        self.calculate_sequence()\n",
    "        self.seq_length = len(self.durations)\n",
    "    \n",
    "    def combinePA(self):\n",
    "        \n",
    "        for i in range(self.harmony_length):\n",
    "            sequence = self.motion_sequence[i],self.T[i%len(self.T)],self.P[i%len(self.P)]\n",
    "            self.sequence_list.append(sequence)\n",
    "        return\n",
    "    \n",
    "    def calculate_sequence(self):\n",
    "        for i, e in enumerate(self.sequence_list):\n",
    "            if e[0] == \"A\":\n",
    "                self.durations.append(e[1])\n",
    "                self.pitches.append([0, 0 + e[2]])\n",
    "            elif e[0] == \"B\":\n",
    "                self.durations.append(e[1])\n",
    "                self.pitches.append([0 + e[2], 0])\n",
    "            elif e[0] == \"C\":\n",
    "                self.durations.append(e[1])\n",
    "                self.pitches.append([0 - e[2],0])\n",
    "            elif e[0] == \"D\":\n",
    "                self.durations.append(e[1])\n",
    "                self.pitches.append([0, 0 - e[2]])\n",
    "            elif e[0] == \"0\":\n",
    "                self.durations.append(e[1])\n",
    "                self.pitches.append([0, 0])\n",
    "\n",
    "def convert_to_music21_sequence(sc, pitches, durations):\n",
    "    note_seq = []\n",
    "    tonic = sc.getTonic()\n",
    "    for i, o in enumerate(pitches):\n",
    "        for e, p in enumerate(o):\n",
    "            #c = sc.pitchFromDegree(p+1)\n",
    "            if p != 0:\n",
    "                c = sc.next(tonic, direction=p)\n",
    "            else:\n",
    "                c = tonic\n",
    "                \n",
    "            nota = note.Note(c.nameWithOctave)\n",
    "            if p >= 0:\n",
    "                nota.octave = 4\n",
    "            else:\n",
    "                nota.octave = 3\n",
    "            if e is 0:\n",
    "                nota.duration.quarterLength = durations[i]\n",
    "            else:\n",
    "                nota.duration.quarterLength = 1\n",
    "            note_seq.append(nota)\n",
    "    return note_seq\n",
    "\n"
   ]
  },
  {
   "cell_type": "code",
   "execution_count": 5,
   "metadata": {
    "collapsed": false
   },
   "outputs": [],
   "source": [
    "# motion_sequence = \"AABDDDC\"\n",
    "myscale = scale.HarmonicMinorScale('C4') # not needed for now\n",
    "\n",
    "motion_sequence = \"DDBCCADDABCDAC\"\n",
    "time_seqence = [4,2,3,1]\n",
    "pitch_sequence = [3,2,1,1,2,3]\n",
    "harmony_length = 8 #not needed for now\n",
    "meter_nominator = 4\n",
    "PA = PrimaryAxis(harmony_length, motion_sequence, time_seqence, pitch_sequence, meter_nominator)\n",
    "\n",
    "hm = scale.HarmonicMinorScale(\"C4\")\n",
    "#myscale = scale.ConcreteScale(pitches = [\"C4\", \"D4\", \"E-4\", \"F4\", \"G4\", \"A-4\", \"B-4\"]) \n",
    "myscale = hm\n",
    "pitches = convert_to_music21_sequence(myscale,PA.pitches, PA.durations)\n",
    "scales = [[myscale.pitchFromDegree(x+1).name for x in range(7)]]\n",
    "\n",
    "melody = [[p.name for p in pitches]]\n",
    "scales = [[myscale.pitchFromDegree(x+1).name for x in range(7)]]\n",
    "seq_rhythm = [p.duration.quarterLength for p in pitches] #for own melody test\n"
   ]
  },
  {
   "cell_type": "code",
   "execution_count": 6,
   "metadata": {
    "code_folding": [
     0
    ],
    "collapsed": false
   },
   "outputs": [],
   "source": [
    "def convert_to_music21_sequence(sc, pitches, durations):\n",
    "    note_seq = []\n",
    "    tonic = sc.getTonic()\n",
    "    for i, o in enumerate(pitches):\n",
    "        for e, p in enumerate(o):\n",
    "            #c = sc.pitchFromDegree(p+1)\n",
    "            if p != 0:\n",
    "                c = sc.next(tonic, direction=p)\n",
    "            else:\n",
    "                c = tonic\n",
    "                \n",
    "            nota = note.Note(c.nameWithOctave)\n",
    "            if p >= 0:\n",
    "                nota.octave = 4\n",
    "            else:\n",
    "                nota.octave = 3\n",
    "            if e is 0:\n",
    "                nota.duration.quarterLength = durations[i]\n",
    "            else:\n",
    "                nota.duration.quarterLength = 1\n",
    "            note_seq.append(nota)\n",
    "    return note_seq"
   ]
  },
  {
   "cell_type": "code",
   "execution_count": 7,
   "metadata": {
    "collapsed": false
   },
   "outputs": [],
   "source": [
    "pitches = convert_to_music21_sequence(myscale,PA.pitches, PA.durations)"
   ]
  },
  {
   "cell_type": "code",
   "execution_count": 8,
   "metadata": {
    "collapsed": false
   },
   "outputs": [],
   "source": [
    "s = showNotes(pitches,[4,4],2)\n",
    "s.show('musicxml')"
   ]
  },
  {
   "cell_type": "code",
   "execution_count": null,
   "metadata": {
    "collapsed": false
   },
   "outputs": [],
   "source": []
  },
  {
   "cell_type": "code",
   "execution_count": 8,
   "metadata": {
    "collapsed": false
   },
   "outputs": [
    {
     "name": "stdout",
     "output_type": "stream",
     "text": [
      "<music21.scale.HarmonicMinorScale C harmonic minor>\n"
     ]
    }
   ],
   "source": []
  },
  {
   "cell_type": "code",
   "execution_count": 9,
   "metadata": {
    "collapsed": false
   },
   "outputs": [
    {
     "data": {
      "text/plain": [
       "['C', 'D', 'E-', 'F', 'G', 'A-', 'B']"
      ]
     },
     "execution_count": 9,
     "metadata": {},
     "output_type": "execute_result"
    }
   ],
   "source": [
    "[myscale.pitchFromDegree(x+1).name for x in range(7)]"
   ]
  },
  {
   "cell_type": "code",
   "execution_count": 10,
   "metadata": {
    "code_folding": [
     0
    ],
    "collapsed": false
   },
   "outputs": [],
   "source": [
    "#sp = midi.realtime.StreamPlayer(s)\n",
    "#sp.play()\n",
    "#s.show('midi')\n",
    "#s.show('musicxml')\n",
    "#s.show()\n",
    "#scales"
   ]
  },
  {
   "cell_type": "code",
   "execution_count": 129,
   "metadata": {
    "code_folding": [
     0
    ],
    "collapsed": false
   },
   "outputs": [],
   "source": [
    "# plotting\n",
    "\n",
    "import matplotlib.pyplot as plt\n",
    "\n",
    "\n",
    "def show_graph(common_product):\n",
    "    \n",
    "    length = len(common_product)\n",
    "    x_vals = [x for x in range(length)]\n",
    "    #fig, ax = plt.subplots(figsize=(20, 10))\n",
    "    fig, ax = plt.subplots()\n",
    "    ax.set_xlim(xmin=-1, xmax=length)\n",
    "    ax.set_ylim(ymin=-12,ymax=12)\n",
    "    \n",
    "    ax.step(x_vals, common_product, color='black')\n",
    "    \n",
    "    ax.grid()\n",
    "    #ax.set_xticks([x+x for x in convert_to_plot(resultant)])\n",
    "    #ax.set_xticklabels([])\n",
    "    #ax.set_yticklabels([])\n",
    "    ax.set_xticks(x_vals)\n",
    "    ax.set_yticks([x for x in range(-12,12)])\n",
    "    ax.grid(True)\n",
    "    plt.show();\n",
    "        "
   ]
  },
  {
   "cell_type": "code",
   "execution_count": 359,
   "metadata": {
    "code_folding": [],
    "collapsed": false,
    "scrolled": false
   },
   "outputs": [],
   "source": [
    "# oscillator \n",
    "def oscillator(osc_seq,osc_type, amount, sin=True):\n",
    "    \n",
    "    def oscillate(l,h):\n",
    "        #if sin:\n",
    "        if random.choice([0,1]):\n",
    "            osc.append(list(np.linspace(l, -h, 2)))\n",
    "        else:\n",
    "            osc.append(list(np.linspace(-l, h, 2)))\n",
    "    osc = []\n",
    "    '''a,b,c,d--- cb,cb,ad,da--parallel'''#\n",
    "    \n",
    "    for i in range(amount):\n",
    "        e = osc_seq[i%len(osc_seq)]\n",
    "        if e != 0:\n",
    "            if osc_type == 'a':\n",
    "                oscillate(0,e)\n",
    "            if osc_type == 'd':\n",
    "                oscillate(e,0)\n",
    "            if osc_type == 'da':\n",
    "                oscillate(e,e)\n",
    "        \n",
    "    return_value = [list(itertools.chain(*osc))][0]\n",
    "    return return_value\n",
    "\n",
    "melo = []\n",
    "for b in PA.pitches:\n",
    "    a = []\n",
    "    if b[0]>b[1]:\n",
    "        #print([x for x in range(b[0],b[1]-1,-1)])\n",
    "        a = [x for x in range(b[0],b[1]-1,-1)]\n",
    "    else:\n",
    "        a = [x for x in range(b[0],b[1]+1)]\n",
    "        #print([x for x in range(b[0],b[1]+1)])\n",
    "    nums = list(np.linspace(a[0], a[-1], 5))\n",
    "    melodic_oscillation = oscillator([round(x) for x in nums], random.choice([\"a\",\"d\",\"da\",\"da\"]), 4 ,sin=True)\n",
    "    #show_graph(melodic_oscillation)\n",
    "    melo.append(melodic_oscillation)\n",
    "    #print(a, melodic_oscillation, [round(x) for x in nums])\n",
    "#start_end = 0\n",
    "#cuvre = oscillator([3,2,1], start_end, \"da\", sin=True)\n",
    "#show_graph(cuvre)\n",
    "melo = [list(itertools.chain(*list(melo)))]"
   ]
  },
  {
   "cell_type": "code",
   "execution_count": 360,
   "metadata": {
    "code_folding": [
     0
    ],
    "collapsed": false
   },
   "outputs": [],
   "source": [
    "def convert_to_music21_simle_sequence(sc, pitches, durations):\n",
    "    note_seq = []\n",
    "    tonic = sc.getTonic()\n",
    "    \n",
    "    for i, o in enumerate(pitches):\n",
    "        for e, p in enumerate(o):\n",
    "            #c = sc.pitchFromDegree(p+1)\n",
    "            if p != 0:\n",
    "                c = sc.next(tonic, direction=int(p))\n",
    "            else:\n",
    "                c = tonic\n",
    "                \n",
    "            nota = note.Note(c.nameWithOctave)\n",
    "            if p >= 0:\n",
    "                nota.octave = 4\n",
    "            else:\n",
    "                nota.octave = 3\n",
    "            nota.duration.quarterLength = durations[e%len(durations)]\n",
    "            note_seq.append(nota)\n",
    "    return note_seq"
   ]
  },
  {
   "cell_type": "code",
   "execution_count": 361,
   "metadata": {
    "collapsed": false
   },
   "outputs": [],
   "source": [
    "durations=[2,2,2,2,2,2,1,1,1,1,1,1,1,1,1,1]\n",
    "ns = convert_to_music21_simle_sequence(myscale, melo, durations)"
   ]
  },
  {
   "cell_type": "code",
   "execution_count": 362,
   "metadata": {
    "collapsed": false
   },
   "outputs": [],
   "source": [
    "s = showNotes(ns,[4,4],.5)\n",
    "s.show('musicxml')"
   ]
  },
  {
   "cell_type": "code",
   "execution_count": null,
   "metadata": {
    "collapsed": false
   },
   "outputs": [],
   "source": []
  },
  {
   "cell_type": "code",
   "execution_count": null,
   "metadata": {
    "collapsed": false
   },
   "outputs": [],
   "source": []
  },
  {
   "cell_type": "code",
   "execution_count": null,
   "metadata": {
    "collapsed": false
   },
   "outputs": [],
   "source": []
  },
  {
   "cell_type": "code",
   "execution_count": null,
   "metadata": {
    "collapsed": false
   },
   "outputs": [],
   "source": []
  }
 ],
 "metadata": {
  "hide_input": false,
  "kernelspec": {
   "display_name": "Python [conda env:python3_test]",
   "language": "python",
   "name": "conda-env-python3_test-py"
  },
  "language_info": {
   "codemirror_mode": {
    "name": "ipython",
    "version": 3
   },
   "file_extension": ".py",
   "mimetype": "text/x-python",
   "name": "python",
   "nbconvert_exporter": "python",
   "pygments_lexer": "ipython3",
   "version": "3.5.2"
  },
  "latex_envs": {
   "LaTeX_envs_menu_present": true,
   "bibliofile": "biblio.bib",
   "cite_by": "apalike",
   "current_citInitial": 1,
   "eqLabelWithNumbers": true,
   "eqNumInitial": 1,
   "hotkeys": {
    "equation": "Ctrl-E",
    "itemize": "Ctrl-I"
   },
   "labels_anchors": false,
   "latex_user_defs": false,
   "report_style_numbering": false,
   "user_envs_cfg": false
  }
 },
 "nbformat": 4,
 "nbformat_minor": 2
}
