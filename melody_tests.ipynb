{
 "cells": [
  {
   "cell_type": "code",
   "execution_count": 1,
   "metadata": {
    "collapsed": false
   },
   "outputs": [],
   "source": [
    "from music21 import *\n",
    "%load_ext music21.ipython21"
   ]
  },
  {
   "cell_type": "code",
   "execution_count": 2,
   "metadata": {
    "code_folding": [
     0
    ],
    "collapsed": false
   },
   "outputs": [],
   "source": [
    "#imports\n",
    "import schillinger.rhythm as SR\n",
    "import numpy as np\n",
    "import itertools\n",
    "import random"
   ]
  },
  {
   "cell_type": "code",
   "execution_count": 3,
   "metadata": {
    "code_folding": [
     0
    ],
    "collapsed": false
   },
   "outputs": [],
   "source": [
    "# simple notes show\n",
    "\n",
    "def showNotes(note_sequece, time_meter, duration_divider):\n",
    "    TS = str(time_meter[0])+'/'+str(time_meter[1])\n",
    "    s = stream.Score(id='mainScore')\n",
    "    p0 = stream.Part(id='part0')\n",
    "    p0.timeSignature = meter.TimeSignature(TS)\n",
    "    for i, notes in enumerate(note_sequece):\n",
    "        notes.quarterLength = notes.quarterLength*duration_divider\n",
    "        p0.append(notes)\n",
    "    s.insert(0, p0)\n",
    "    return s"
   ]
  },
  {
   "cell_type": "code",
   "execution_count": 4,
   "metadata": {
    "code_folding": [
     0
    ],
    "collapsed": false
   },
   "outputs": [],
   "source": [
    "## PrimaryAxis ## the primary axises can change but this class describes 1 PA for now\n",
    "#### so 0 can vary!\n",
    "# what kind of data structure should i use?? scale?\n",
    "\n",
    "# primary axis PA\n",
    "# motions in PA = 0,A,B,C and combinations of them\n",
    "# AXES:\n",
    "# 0 = no motion = absolute balance\n",
    "# A = Accending from PA = unbalancing (leading away from 0)\n",
    "# B = Descending toward PA = balancing (leading to 0)\n",
    "# C = Accending towards PA = balancing (leading to 0)\n",
    "# D = Descending from PA = unbalancing (leading away from 0)\n",
    "# VARIABLES:\n",
    "# two variables = P for pitch and T for time\n",
    "# f.e.: ATP\n",
    "# f.e.2: A4T3P\n",
    "\n",
    "# generate PA class\n",
    "# 4 args scale, motion sequence, P, T\n",
    "# take PAaxes combination f.e. [2xA 1xB 3xD 1xC] or [AABDDDC]\n",
    "# take variables f.e. P = [2,1,1,2]\n",
    "# P: f.e. P = [2,1,1,2]\n",
    "# T: f.e. T = [3,1,2,2,2,3] or so\n",
    "# combine PAaxes with P and T\n",
    "# return PA melody\n",
    "\n",
    "class PrimaryAxis:\n",
    "    \n",
    "    def __init__(self, harmony_length, motion_sequence, T, P, meter_nominator):\n",
    "        \n",
    "        self.sequence_list = [] # not needed in return\n",
    "        self.durations = [] # return\n",
    "        self.pitches = [] # return\n",
    "        self.seq_length = 0 # return\n",
    "        \n",
    "        self.harmony_length = len(motion_sequence)## !\n",
    "        self.motion_sequence = motion_sequence\n",
    "        self.P = P\n",
    "        self.T = T\n",
    "        \n",
    "        self.combinePA()\n",
    "        self.calculate_sequence()\n",
    "        self.seq_length = len(self.durations)\n",
    "    \n",
    "    def combinePA(self):\n",
    "        \n",
    "        for i in range(self.harmony_length):\n",
    "            sequence = self.motion_sequence[i],self.T[i%len(self.T)],self.P[i%len(self.P)]\n",
    "            self.sequence_list.append(sequence)\n",
    "        return\n",
    "    \n",
    "    def calculate_sequence(self):\n",
    "        for i, e in enumerate(self.sequence_list):\n",
    "            if e[0] == \"A\":\n",
    "                self.durations.append(e[1])\n",
    "                self.pitches.append([0, 0 + e[2]])\n",
    "            elif e[0] == \"B\":\n",
    "                self.durations.append(e[1])\n",
    "                self.pitches.append([0 + e[2], 0])\n",
    "            elif e[0] == \"C\":\n",
    "                self.durations.append(e[1])\n",
    "                self.pitches.append([0 - e[2],0])\n",
    "            elif e[0] == \"D\":\n",
    "                self.durations.append(e[1])\n",
    "                self.pitches.append([0, 0 - e[2]])\n",
    "            elif e[0] == \"0\":\n",
    "                self.durations.append(e[1])\n",
    "                self.pitches.append([0, 0])\n",
    "\n",
    "def convert_to_music21_sequence(sc, pitches, durations):\n",
    "    note_seq = []\n",
    "    tonic = sc.getTonic()\n",
    "    for i, o in enumerate(pitches):\n",
    "        for e, p in enumerate(o):\n",
    "            #c = sc.pitchFromDegree(p+1)\n",
    "            if p != 0:\n",
    "                c = sc.next(tonic, direction=p)\n",
    "            else:\n",
    "                c = tonic\n",
    "                \n",
    "            nota = note.Note(c.nameWithOctave)\n",
    "            if p >= 0:\n",
    "                nota.octave = 4\n",
    "            else:\n",
    "                nota.octave = 3\n",
    "            if e is 0:\n",
    "                nota.duration.quarterLength = durations[i]\n",
    "            else:\n",
    "                nota.duration.quarterLength = 1\n",
    "            note_seq.append(nota)\n",
    "    return note_seq\n",
    "\n"
   ]
  },
  {
   "cell_type": "code",
   "execution_count": 13,
   "metadata": {
    "code_folding": [
     0
    ],
    "collapsed": false
   },
   "outputs": [],
   "source": [
    "# motion_sequence = \"AABDDDC\"\n",
    "myscale = scale.HarmonicMinorScale('C4') # not needed for now\n",
    "\n",
    "motion_sequence = \"AB\"\n",
    "time_seqence = [4,4]\n",
    "pitch_sequence = [5,5]\n",
    "harmony_length = 8 #not needed for now\n",
    "meter_nominator = 4\n",
    "PA = PrimaryAxis(harmony_length, motion_sequence, time_seqence, pitch_sequence, meter_nominator)\n",
    "\n",
    "hm = scale.HarmonicMinorScale(\"C4\")\n",
    "#myscale = scale.ConcreteScale(pitches = [\"C4\", \"D4\", \"E-4\", \"F4\", \"G4\", \"A-4\", \"B-4\"]) \n",
    "myscale = hm\n",
    "pitches = convert_to_music21_sequence(myscale,PA.pitches, PA.durations)\n",
    "scales = [[myscale.pitchFromDegree(x+1).name for x in range(7)]]\n",
    "\n",
    "melody = [[p.name for p in pitches]]\n",
    "scales = [[myscale.pitchFromDegree(x+1).name for x in range(7)]]\n",
    "seq_rhythm = [p.duration.quarterLength for p in pitches] #for own melody test\n"
   ]
  },
  {
   "cell_type": "code",
   "execution_count": 14,
   "metadata": {
    "code_folding": [
     0
    ],
    "collapsed": false
   },
   "outputs": [],
   "source": [
    "def convert_to_music21_sequence(sc, pitches, durations):\n",
    "    note_seq = []\n",
    "    tonic = sc.getTonic()\n",
    "    for i, o in enumerate(pitches):\n",
    "        for e, p in enumerate(o):\n",
    "            #c = sc.pitchFromDegree(p+1)\n",
    "            if p != 0:\n",
    "                c = sc.next(tonic, direction=p)\n",
    "            else:\n",
    "                c = tonic\n",
    "                \n",
    "            nota = note.Note(c.nameWithOctave)\n",
    "            if p >= 0:\n",
    "                nota.octave = 4\n",
    "            else:\n",
    "                nota.octave = 3\n",
    "            if e is 0:\n",
    "                nota.duration.quarterLength = durations[i]\n",
    "            else:\n",
    "                nota.duration.quarterLength = 1\n",
    "            note_seq.append(nota)\n",
    "    return note_seq"
   ]
  },
  {
   "cell_type": "code",
   "execution_count": 15,
   "metadata": {
    "collapsed": false
   },
   "outputs": [],
   "source": [
    "pitches = convert_to_music21_sequence(myscale,PA.pitches, PA.durations)"
   ]
  },
  {
   "cell_type": "code",
   "execution_count": 16,
   "metadata": {
    "collapsed": false
   },
   "outputs": [],
   "source": [
    "s = showNotes(pitches,[4,4],2)\n",
    "s.show('musicxml')"
   ]
  },
  {
   "cell_type": "code",
   "execution_count": null,
   "metadata": {
    "collapsed": false
   },
   "outputs": [],
   "source": []
  },
  {
   "cell_type": "code",
   "execution_count": 8,
   "metadata": {
    "collapsed": false
   },
   "outputs": [
    {
     "name": "stdout",
     "output_type": "stream",
     "text": [
      "<music21.scale.HarmonicMinorScale C harmonic minor>\n"
     ]
    }
   ],
   "source": []
  },
  {
   "cell_type": "code",
   "execution_count": 9,
   "metadata": {
    "collapsed": false
   },
   "outputs": [
    {
     "data": {
      "text/plain": [
       "['C', 'D', 'E-', 'F', 'G', 'A-', 'B']"
      ]
     },
     "execution_count": 9,
     "metadata": {},
     "output_type": "execute_result"
    }
   ],
   "source": [
    "[myscale.pitchFromDegree(x+1).name for x in range(7)]"
   ]
  },
  {
   "cell_type": "code",
   "execution_count": 10,
   "metadata": {
    "code_folding": [
     0
    ],
    "collapsed": false
   },
   "outputs": [],
   "source": [
    "#sp = midi.realtime.StreamPlayer(s)\n",
    "#sp.play()\n",
    "#s.show('midi')\n",
    "#s.show('musicxml')\n",
    "#s.show()\n",
    "#scales"
   ]
  },
  {
   "cell_type": "code",
   "execution_count": 8,
   "metadata": {
    "code_folding": [
     0
    ],
    "collapsed": false
   },
   "outputs": [],
   "source": [
    "# plotting\n",
    "\n",
    "import matplotlib.pyplot as plt\n",
    "\n",
    "\n",
    "def show_graph(common_product):\n",
    "    \n",
    "    length = len(common_product)\n",
    "    x_vals = [x for x in range(length)]\n",
    "    #fig, ax = plt.subplots(figsize=(20, 10))\n",
    "    fig, ax = plt.subplots()\n",
    "    ax.set_xlim(xmin=-1, xmax=length)\n",
    "    ax.set_ylim(ymin=-12,ymax=12)\n",
    "    \n",
    "    ax.step(x_vals, common_product, color='black')\n",
    "    \n",
    "    ax.grid()\n",
    "    #ax.set_xticks([x+x for x in convert_to_plot(resultant)])\n",
    "    #ax.set_xticklabels([])\n",
    "    #ax.set_yticklabels([])\n",
    "    ax.set_xticks(x_vals)\n",
    "    ax.set_yticks([x for x in range(-12,12)])\n",
    "    ax.grid(True)\n",
    "    plt.show();\n",
    "        "
   ]
  },
  {
   "cell_type": "code",
   "execution_count": 21,
   "metadata": {
    "code_folding": [
     0
    ],
    "collapsed": false,
    "scrolled": false
   },
   "outputs": [],
   "source": [
    "# oscillator \n",
    "def oscillator(osc_seq,osc_type, amount, sin=True):\n",
    "    \n",
    "    def oscillate(l,h):\n",
    "        #if sin:\n",
    "        if random.choice([0,1]):\n",
    "            osc.append(list(np.linspace(l, -h, 2)))\n",
    "        else:\n",
    "            osc.append(list(np.linspace(-l, h, 2)))\n",
    "    osc = []\n",
    "    '''a,b,c,d--- cb,cb,ad,da--parallel'''#\n",
    "    \n",
    "    for i in range(amount):\n",
    "        e = osc_seq[i%len(osc_seq)]\n",
    "        if e != 0:\n",
    "            if osc_type == 'a':\n",
    "                oscillate(0,e)\n",
    "            if osc_type == 'd':\n",
    "                oscillate(e,0)\n",
    "            if osc_type == 'da':\n",
    "                oscillate(e,e)\n",
    "        \n",
    "    return_value = [list(itertools.chain(*osc))][0]\n",
    "    return return_value\n"
   ]
  },
  {
   "cell_type": "code",
   "execution_count": 32,
   "metadata": {
    "code_folding": [
     0
    ],
    "collapsed": false
   },
   "outputs": [
    {
     "name": "stdout",
     "output_type": "stream",
     "text": [
      "[0, 1, 2, 3, 4, 5] [0.0, 1.0, 0.0, 2.0, 0.0, -4.0] [0.0, 1.0, 2.0, 4.0, 5.0]\n",
      "[5, 4, 3, 2, 1, 0] [5.0, -5.0, -4.0, 4.0, 2.0, -2.0, 1.0, -1.0] [5.0, 4.0, 2.0, 1.0, 0.0]\n"
     ]
    }
   ],
   "source": [
    "#\n",
    "melo = []\n",
    "for b in PA.pitches:\n",
    "    a = []\n",
    "    if b[0]>b[1]:\n",
    "        #print([x for x in range(b[0],b[1]-1,-1)])\n",
    "        a = [x for x in range(b[0],b[1]-1,-1)]\n",
    "    else:\n",
    "        a = [x for x in range(b[0],b[1]+1)]\n",
    "        #print([x for x in range(b[0],b[1]+1)])\n",
    "    nums = list(np.linspace(a[0], a[-1], 5))\n",
    "    melodic_oscillation = oscillator([round(x) for x in nums], random.choice([\"a\",\"d\",\"da\",\"da\"]), 4 ,sin=True)\n",
    "    #show_graph(melodic_oscillation)\n",
    "    melo.append(melodic_oscillation)\n",
    "    print(a, melodic_oscillation, [round(x) for x in nums])\n",
    "#start_end = 0\n",
    "#cuvre = oscillator([3,2,1], start_end, \"da\", sin=True)\n",
    "#show_graph(cuvre)\n",
    "melo = [list(itertools.chain(*list(melo)))]"
   ]
  },
  {
   "cell_type": "code",
   "execution_count": 18,
   "metadata": {
    "code_folding": [
     0
    ],
    "collapsed": false
   },
   "outputs": [],
   "source": [
    "def convert_to_music21_simle_sequence(sc, pitches, durations):\n",
    "    note_seq = []\n",
    "    tonic = sc.getTonic()\n",
    "    \n",
    "    for i, o in enumerate(pitches):\n",
    "        for e, p in enumerate(o):\n",
    "            #c = sc.pitchFromDegree(p+1)\n",
    "            if p != 0:\n",
    "                c = sc.next(tonic, direction=int(p))\n",
    "            else:\n",
    "                c = tonic\n",
    "                \n",
    "            nota = note.Note(c.nameWithOctave)\n",
    "            if p >= 0:\n",
    "                nota.octave = 4\n",
    "            else:\n",
    "                nota.octave = 3\n",
    "            nota.duration.quarterLength = durations[e%len(durations)]\n",
    "            note_seq.append(nota)\n",
    "    return note_seq"
   ]
  },
  {
   "cell_type": "code",
   "execution_count": null,
   "metadata": {
    "collapsed": false
   },
   "outputs": [],
   "source": []
  },
  {
   "cell_type": "code",
   "execution_count": 19,
   "metadata": {
    "collapsed": false
   },
   "outputs": [],
   "source": [
    "durations=[2,2,2,2,2,2,1,1,1,1,1,1,1,1,1,1]\n",
    "ns = convert_to_music21_simle_sequence(myscale, melo, durations)"
   ]
  },
  {
   "cell_type": "code",
   "execution_count": 20,
   "metadata": {
    "collapsed": false
   },
   "outputs": [],
   "source": [
    "s = showNotes(ns,[4,4],.5)\n",
    "s.show('musicxml')"
   ]
  },
  {
   "cell_type": "code",
   "execution_count": null,
   "metadata": {
    "collapsed": false
   },
   "outputs": [],
   "source": [
    "def SecondaryAxis(time_units,oscillation_types,PA):\n",
    "    global_length = sum(PA.duration)\n",
    "    for i in range(global_length):\n",
    "        #oscillate a cycle\n",
    "        \n",
    "    "
   ]
  },
  {
   "cell_type": "markdown",
   "metadata": {
    "collapsed": false
   },
   "source": [
    "PA is a graph or guide of motion, it has a direction in time and has a value !\n",
    "the SA has motion in time and uses the PA for synchronization (synchronizes with PA)\n",
    "\n",
    "PA affect the melody indirectly thru the SA and NOT directly for itself!\n",
    "SA affects the melody directly and uses the PA as guide for !global direction.\n",
    "\n",
    "so SA needs:\n",
    "       -oscillation or motion (types = a b c d ad bc and parallel)\n",
    "       -inscribed (sin)(bellow PA for a b and above PA for c d ) or  or ascribed(cos)\n",
    "       -time units\n",
    "       -global length m.b. = PA length!\n",
    "       -and PA as guide\n",
    "       \n",
    "PA length and SA length should synchronize.\n",
    "\n",
    "the time units of PA and SA are independent\n",
    "the pitch units of SA are dependent on oscillation and PA as a guide!\n",
    "\n",
    "pseudo code:\n",
    "time_units = 2+2+2+2+1+1+1+1+1+1+1 or 3+1+2+2+1+3 or something\n",
    "oscillation_type = 2a+b+c+2d\n",
    "PA = a5T5P+b4T5P (T = time, P = pitch)\n",
    "\n",
    "SA(time_units, oscillation_type , PA):\n",
    "    length = len(PA)\n",
    "    for l in range()\n",
    "    "
   ]
  },
  {
   "cell_type": "code",
   "execution_count": null,
   "metadata": {
    "collapsed": false
   },
   "outputs": [],
   "source": [
    "# oscillator \n",
    "def oscillator(osc_seq,osc_type, amount, sin=True):\n",
    "    osc = []\n",
    "    \n",
    "    def sinus():\n",
    "        return\n",
    "    def cosinus():\n",
    "        return\n",
    "    def sincos():\n",
    "        return\n",
    "        \n",
    "    return_value = [list(itertools.chain(*osc))][0]\n",
    "    return return_value"
   ]
  },
  {
   "cell_type": "code",
   "execution_count": null,
   "metadata": {
    "collapsed": false
   },
   "outputs": [],
   "source": []
  },
  {
   "cell_type": "code",
   "execution_count": 106,
   "metadata": {
    "collapsed": false
   },
   "outputs": [
    {
     "data": {
      "text/plain": [
       "0.0"
      ]
     },
     "execution_count": 106,
     "metadata": {},
     "output_type": "execute_result"
    }
   ],
   "source": [
    "np.sin(np.deg2rad(0))"
   ]
  },
  {
   "cell_type": "code",
   "execution_count": 216,
   "metadata": {
    "collapsed": false
   },
   "outputs": [],
   "source": []
  },
  {
   "cell_type": "code",
   "execution_count": 241,
   "metadata": {
    "collapsed": false
   },
   "outputs": [
    {
     "ename": "Exception",
     "evalue": "Cantus firmus selection by mode does not yet exist",
     "output_type": "error",
     "traceback": [
      "\u001b[0;31m---------------------------------------------------------------------------\u001b[0m",
      "\u001b[0;31mException\u001b[0m                                 Traceback (most recent call last)",
      "\u001b[0;32m<ipython-input-241-8a8c725266fa>\u001b[0m in \u001b[0;36m<module>\u001b[0;34m()\u001b[0m\n\u001b[0;32m----> 1\u001b[0;31m \u001b[0mcf\u001b[0m \u001b[0;34m=\u001b[0m \u001b[0malpha\u001b[0m\u001b[0;34m.\u001b[0m\u001b[0mcounterpoint\u001b[0m\u001b[0;34m.\u001b[0m\u001b[0mspecies\u001b[0m\u001b[0;34m.\u001b[0m\u001b[0mgetRandomCF\u001b[0m\u001b[0;34m(\u001b[0m\u001b[0mmode\u001b[0m\u001b[0;34m=\u001b[0m\u001b[0;34m\"C\"\u001b[0m\u001b[0;34m)\u001b[0m\u001b[0;34m\u001b[0m\u001b[0m\n\u001b[0m\u001b[1;32m      2\u001b[0m \u001b[0msorted\u001b[0m\u001b[0;34m(\u001b[0m\u001b[0mlist\u001b[0m\u001b[0;34m(\u001b[0m\u001b[0mcf\u001b[0m\u001b[0;34m.\u001b[0m\u001b[0mkeys\u001b[0m\u001b[0;34m(\u001b[0m\u001b[0;34m)\u001b[0m\u001b[0;34m)\u001b[0m\u001b[0;34m)\u001b[0m\u001b[0;34m\u001b[0m\u001b[0m\n\u001b[1;32m      3\u001b[0m \u001b[0mcf\u001b[0m\u001b[0;34m[\u001b[0m\u001b[0;34m'mode'\u001b[0m\u001b[0;34m]\u001b[0m\u001b[0;34m\u001b[0m\u001b[0m\n",
      "\u001b[0;32m/Users/koko/anaconda/envs/python3_test/lib/python3.5/site-packages/music21/alpha/counterpoint/species.py\u001b[0m in \u001b[0;36mgetRandomCF\u001b[0;34m(mode)\u001b[0m\n\u001b[1;32m   1634\u001b[0m     '''\n\u001b[1;32m   1635\u001b[0m     \u001b[0;32mif\u001b[0m \u001b[0mmode\u001b[0m \u001b[0;32mis\u001b[0m \u001b[0;32mnot\u001b[0m \u001b[0;32mNone\u001b[0m\u001b[0;34m:\u001b[0m\u001b[0;34m\u001b[0m\u001b[0m\n\u001b[0;32m-> 1636\u001b[0;31m         \u001b[0;32mraise\u001b[0m \u001b[0mException\u001b[0m\u001b[0;34m(\u001b[0m\u001b[0;34m'Cantus firmus selection by mode does not yet exist'\u001b[0m\u001b[0;34m)\u001b[0m\u001b[0;34m\u001b[0m\u001b[0m\n\u001b[0m\u001b[1;32m   1637\u001b[0m     \u001b[0;32mreturn\u001b[0m \u001b[0mrandom\u001b[0m\u001b[0;34m.\u001b[0m\u001b[0mchoice\u001b[0m\u001b[0;34m(\u001b[0m\u001b[0mcantusFirmi\u001b[0m\u001b[0;34m)\u001b[0m\u001b[0;34m\u001b[0m\u001b[0m\n\u001b[1;32m   1638\u001b[0m \u001b[0;34m\u001b[0m\u001b[0m\n",
      "\u001b[0;31mException\u001b[0m: Cantus firmus selection by mode does not yet exist"
     ]
    }
   ],
   "source": [
    "cf = alpha.counterpoint.species.getRandomCF(mode=\"C\")\n",
    "sorted(list(cf.keys()))\n",
    "cf['mode']"
   ]
  },
  {
   "cell_type": "code",
   "execution_count": 237,
   "metadata": {
    "collapsed": false
   },
   "outputs": [
    {
     "ename": "KeyboardInterrupt",
     "evalue": "",
     "output_type": "error",
     "traceback": [
      "\u001b[0;31m---------------------------------------------------------------------------\u001b[0m",
      "\u001b[0;31mKeyboardInterrupt\u001b[0m                         Traceback (most recent call last)",
      "\u001b[0;32m<ipython-input-237-5e3b60a33d84>\u001b[0m in \u001b[0;36m<module>\u001b[0;34m()\u001b[0m\n\u001b[1;32m      7\u001b[0m \u001b[0msc1\u001b[0m \u001b[0;34m=\u001b[0m \u001b[0mscale\u001b[0m\u001b[0;34m.\u001b[0m\u001b[0mMinorScale\u001b[0m\u001b[0;34m(\u001b[0m\u001b[0;34m\"D4\"\u001b[0m\u001b[0;34m)\u001b[0m\u001b[0;34m\u001b[0m\u001b[0m\n\u001b[1;32m      8\u001b[0m \u001b[0mcpp\u001b[0m \u001b[0;34m=\u001b[0m \u001b[0malpha\u001b[0m\u001b[0;34m.\u001b[0m\u001b[0mcounterpoint\u001b[0m\u001b[0;34m.\u001b[0m\u001b[0mspecies\u001b[0m\u001b[0;34m.\u001b[0m\u001b[0mModalCounterpoint\u001b[0m\u001b[0;34m(\u001b[0m\u001b[0mbass\u001b[0m\u001b[0;34m,\u001b[0m \u001b[0mbass\u001b[0m\u001b[0;34m)\u001b[0m\u001b[0;34m\u001b[0m\u001b[0m\n\u001b[0;32m----> 9\u001b[0;31m \u001b[0mfs\u001b[0m \u001b[0;34m=\u001b[0m \u001b[0mcpp\u001b[0m\u001b[0;34m.\u001b[0m\u001b[0mgenerateFirstSpecies\u001b[0m\u001b[0;34m(\u001b[0m\u001b[0mbass\u001b[0m\u001b[0;34m,\u001b[0m\u001b[0msc1\u001b[0m\u001b[0;34m)\u001b[0m\u001b[0;34m\u001b[0m\u001b[0m\n\u001b[0m\u001b[1;32m     10\u001b[0m \u001b[0;34m\u001b[0m\u001b[0m\n\u001b[1;32m     11\u001b[0m \u001b[0ms\u001b[0m \u001b[0;34m=\u001b[0m \u001b[0mstream\u001b[0m\u001b[0;34m.\u001b[0m\u001b[0mScore\u001b[0m\u001b[0;34m(\u001b[0m\u001b[0mid\u001b[0m\u001b[0;34m=\u001b[0m\u001b[0;34m'mainScore'\u001b[0m\u001b[0;34m)\u001b[0m\u001b[0;34m\u001b[0m\u001b[0m\n",
      "\u001b[0;32m/Users/koko/anaconda/envs/python3_test/lib/python3.5/site-packages/music21/alpha/counterpoint/species.py\u001b[0m in \u001b[0;36mgenerateFirstSpecies\u001b[0;34m(self, cantusFirmus, minorScale, choice)\u001b[0m\n\u001b[1;32m   1018\u001b[0m             \u001b[0menvironLocal\u001b[0m\u001b[0;34m.\u001b[0m\u001b[0mprintDebug\u001b[0m\u001b[0;34m(\u001b[0m\u001b[0;34m[\u001b[0m\u001b[0;34m'STARTING OVER NOW'\u001b[0m\u001b[0;34m]\u001b[0m\u001b[0;34m)\u001b[0m\u001b[0;34m\u001b[0m\u001b[0m\n\u001b[1;32m   1019\u001b[0m             \u001b[0;32mtry\u001b[0m\u001b[0;34m:\u001b[0m\u001b[0;34m\u001b[0m\u001b[0m\n\u001b[0;32m-> 1020\u001b[0;31m                 \u001b[0mtop\u001b[0m \u001b[0;34m=\u001b[0m \u001b[0mself\u001b[0m\u001b[0;34m.\u001b[0m\u001b[0mgetValidSecondVoice\u001b[0m\u001b[0;34m(\u001b[0m\u001b[0mcantusFirmus\u001b[0m\u001b[0;34m,\u001b[0m \u001b[0mminorScale\u001b[0m\u001b[0;34m,\u001b[0m \u001b[0;34m'random'\u001b[0m\u001b[0;34m)\u001b[0m\u001b[0;34m\u001b[0m\u001b[0m\n\u001b[0m\u001b[1;32m   1021\u001b[0m                 \u001b[0mtop\u001b[0m \u001b[0;34m=\u001b[0m \u001b[0mself\u001b[0m\u001b[0;34m.\u001b[0m\u001b[0mraiseLeadingTone\u001b[0m\u001b[0;34m(\u001b[0m\u001b[0mtop\u001b[0m\u001b[0;34m,\u001b[0m \u001b[0mminorScale\u001b[0m\u001b[0;34m)\u001b[0m\u001b[0;34m\u001b[0m\u001b[0m\n\u001b[1;32m   1022\u001b[0m                 \u001b[0menvironLocal\u001b[0m\u001b[0;34m.\u001b[0m\u001b[0mprintDebug\u001b[0m\u001b[0;34m(\u001b[0m\u001b[0;34m[\u001b[0m\u001b[0mnote1\u001b[0m\u001b[0;34m.\u001b[0m\u001b[0mname\u001b[0m \u001b[0;34m+\u001b[0m \u001b[0mstr\u001b[0m\u001b[0;34m(\u001b[0m\u001b[0mnote1\u001b[0m\u001b[0;34m.\u001b[0m\u001b[0moctave\u001b[0m\u001b[0;34m)\u001b[0m \u001b[0;32mfor\u001b[0m \u001b[0mnote1\u001b[0m \u001b[0;32min\u001b[0m \u001b[0mtop\u001b[0m\u001b[0;34m.\u001b[0m\u001b[0mnotes\u001b[0m\u001b[0;34m]\u001b[0m\u001b[0;34m)\u001b[0m\u001b[0;34m\u001b[0m\u001b[0m\n",
      "\u001b[0;32m/Users/koko/anaconda/envs/python3_test/lib/python3.5/site-packages/music21/alpha/counterpoint/species.py\u001b[0m in \u001b[0;36mgetValidSecondVoice\u001b[0;34m(self, stream1, minorScale, choice)\u001b[0m\n\u001b[1;32m   1085\u001b[0m             \u001b[0mprevNote\u001b[0m \u001b[0;34m=\u001b[0m \u001b[0mstream2\u001b[0m\u001b[0;34m.\u001b[0m\u001b[0mnotes\u001b[0m\u001b[0;34m[\u001b[0m\u001b[0mi\u001b[0m\u001b[0;34m-\u001b[0m\u001b[0;36m1\u001b[0m\u001b[0;34m]\u001b[0m\u001b[0;34m\u001b[0m\u001b[0m\n\u001b[1;32m   1086\u001b[0m             choices = self.generateValidNotes(prevFirmus, currFirmus, prevNote, \n\u001b[0;32m-> 1087\u001b[0;31m                                               afterLeap, minorScale)\n\u001b[0m\u001b[1;32m   1088\u001b[0m             \u001b[0;32mif\u001b[0m \u001b[0mlen\u001b[0m\u001b[0;34m(\u001b[0m\u001b[0mchoices\u001b[0m\u001b[0;34m)\u001b[0m \u001b[0;34m==\u001b[0m \u001b[0;36m0\u001b[0m\u001b[0;34m:\u001b[0m\u001b[0;34m\u001b[0m\u001b[0m\n\u001b[1;32m   1089\u001b[0m                 \u001b[0;32mraise\u001b[0m \u001b[0mModalCounterpointException\u001b[0m\u001b[0;34m(\u001b[0m\u001b[0;34m\"Sorry, please try again\"\u001b[0m\u001b[0;34m)\u001b[0m\u001b[0;34m\u001b[0m\u001b[0m\n",
      "\u001b[0;32m/Users/koko/anaconda/envs/python3_test/lib/python3.5/site-packages/music21/alpha/counterpoint/species.py\u001b[0m in \u001b[0;36mgenerateValidNotes\u001b[0;34m(self, prevFirmus, currFirmus, prevNote, afterLeap, minorScale)\u001b[0m\n\u001b[1;32m   1156\u001b[0m             \u001b[0;32mif\u001b[0m \u001b[0mnote1\u001b[0m\u001b[0;34m.\u001b[0m\u001b[0mname\u001b[0m \u001b[0;32mnot\u001b[0m \u001b[0;32min\u001b[0m \u001b[0mgoodNames\u001b[0m\u001b[0;34m:\u001b[0m\u001b[0;34m\u001b[0m\u001b[0m\n\u001b[1;32m   1157\u001b[0m                 \u001b[0;32mcontinue\u001b[0m\u001b[0;34m\u001b[0m\u001b[0m\n\u001b[0;32m-> 1158\u001b[0;31m             \u001b[0;32mif\u001b[0m \u001b[0;32mnot\u001b[0m \u001b[0mself\u001b[0m\u001b[0;34m.\u001b[0m\u001b[0misValidHarmony\u001b[0m\u001b[0;34m(\u001b[0m\u001b[0mnote1\u001b[0m\u001b[0;34m,\u001b[0m \u001b[0mcurrFirmus\u001b[0m\u001b[0;34m)\u001b[0m\u001b[0;34m:\u001b[0m\u001b[0;34m\u001b[0m\u001b[0m\n\u001b[0m\u001b[1;32m   1159\u001b[0m                 \u001b[0;32mcontinue\u001b[0m\u001b[0;34m\u001b[0m\u001b[0m\n\u001b[1;32m   1160\u001b[0m             \u001b[0;32mif\u001b[0m \u001b[0mself\u001b[0m\u001b[0;34m.\u001b[0m\u001b[0misParallelUnison\u001b[0m\u001b[0;34m(\u001b[0m\u001b[0mprevNote\u001b[0m\u001b[0;34m,\u001b[0m \u001b[0mnote1\u001b[0m\u001b[0;34m,\u001b[0m \u001b[0mprevFirmus\u001b[0m\u001b[0;34m,\u001b[0m \u001b[0mcurrFirmus\u001b[0m\u001b[0;34m)\u001b[0m\u001b[0;34m:\u001b[0m\u001b[0;34m\u001b[0m\u001b[0m\n",
      "\u001b[0;32m/Users/koko/anaconda/envs/python3_test/lib/python3.5/site-packages/music21/alpha/counterpoint/species.py\u001b[0m in \u001b[0;36misValidHarmony\u001b[0;34m(self, note11, note21)\u001b[0m\n\u001b[1;32m    476\u001b[0m \u001b[0;34m\u001b[0m\u001b[0m\n\u001b[1;32m    477\u001b[0m         '''\n\u001b[0;32m--> 478\u001b[0;31m         \u001b[0minterval1\u001b[0m \u001b[0;34m=\u001b[0m \u001b[0minterval\u001b[0m\u001b[0;34m.\u001b[0m\u001b[0mnotesToInterval\u001b[0m\u001b[0;34m(\u001b[0m\u001b[0mnote11\u001b[0m\u001b[0;34m,\u001b[0m \u001b[0mnote21\u001b[0m\u001b[0;34m)\u001b[0m\u001b[0;34m\u001b[0m\u001b[0m\n\u001b[0m\u001b[1;32m    479\u001b[0m         \u001b[0;32mif\u001b[0m \u001b[0minterval1\u001b[0m\u001b[0;34m.\u001b[0m\u001b[0mdiatonic\u001b[0m\u001b[0;34m.\u001b[0m\u001b[0msemiSimpleName\u001b[0m \u001b[0;32min\u001b[0m \u001b[0mself\u001b[0m\u001b[0;34m.\u001b[0m\u001b[0mlegalHarmonicIntervals\u001b[0m\u001b[0;34m:\u001b[0m\u001b[0;34m\u001b[0m\u001b[0m\n\u001b[1;32m    480\u001b[0m             \u001b[0;32mreturn\u001b[0m \u001b[0;32mTrue\u001b[0m\u001b[0;34m\u001b[0m\u001b[0m\n",
      "\u001b[0;32m/Users/koko/anaconda/envs/python3_test/lib/python3.5/site-packages/music21/interval.py\u001b[0m in \u001b[0;36mnotesToInterval\u001b[0;34m(n1, n2)\u001b[0m\n\u001b[1;32m   2540\u001b[0m             \u001b[0mn2\u001b[0m \u001b[0;34m=\u001b[0m \u001b[0mpitch\u001b[0m\u001b[0;34m.\u001b[0m\u001b[0mPitch\u001b[0m\u001b[0;34m(\u001b[0m\u001b[0;34m)\u001b[0m\u001b[0;34m\u001b[0m\u001b[0m\n\u001b[1;32m   2541\u001b[0m     \u001b[0mgInt\u001b[0m \u001b[0;34m=\u001b[0m \u001b[0mnotesToGeneric\u001b[0m\u001b[0;34m(\u001b[0m\u001b[0mn1\u001b[0m\u001b[0;34m,\u001b[0m \u001b[0mn2\u001b[0m\u001b[0;34m)\u001b[0m\u001b[0;34m\u001b[0m\u001b[0m\n\u001b[0;32m-> 2542\u001b[0;31m     \u001b[0mcInt\u001b[0m \u001b[0;34m=\u001b[0m \u001b[0mnotesToChromatic\u001b[0m\u001b[0;34m(\u001b[0m\u001b[0mn1\u001b[0m\u001b[0;34m,\u001b[0m \u001b[0mn2\u001b[0m\u001b[0;34m)\u001b[0m\u001b[0;34m\u001b[0m\u001b[0m\n\u001b[0m\u001b[1;32m   2543\u001b[0m     \u001b[0mintObj\u001b[0m \u001b[0;34m=\u001b[0m \u001b[0mintervalFromGenericAndChromatic\u001b[0m\u001b[0;34m(\u001b[0m\u001b[0mgInt\u001b[0m\u001b[0;34m,\u001b[0m \u001b[0mcInt\u001b[0m\u001b[0;34m)\u001b[0m\u001b[0;34m\u001b[0m\u001b[0m\n\u001b[1;32m   2544\u001b[0m     \u001b[0mintObj\u001b[0m\u001b[0;34m.\u001b[0m\u001b[0m_noteStart\u001b[0m \u001b[0;34m=\u001b[0m \u001b[0mn1\u001b[0m  \u001b[0;31m#use private so as not to trigger resetting behavior\u001b[0m\u001b[0;34m\u001b[0m\u001b[0m\n",
      "\u001b[0;32m/Users/koko/anaconda/envs/python3_test/lib/python3.5/site-packages/music21/interval.py\u001b[0m in \u001b[0;36mnotesToChromatic\u001b[0;34m(n1, n2)\u001b[0m\n\u001b[1;32m   1505\u001b[0m         \u001b[0mp2\u001b[0m \u001b[0;34m=\u001b[0m \u001b[0mn2\u001b[0m\u001b[0;34m\u001b[0m\u001b[0m\n\u001b[1;32m   1506\u001b[0m \u001b[0;34m\u001b[0m\u001b[0m\n\u001b[0;32m-> 1507\u001b[0;31m     \u001b[0;32mreturn\u001b[0m \u001b[0mChromaticInterval\u001b[0m\u001b[0;34m(\u001b[0m\u001b[0mp2\u001b[0m\u001b[0;34m.\u001b[0m\u001b[0mps\u001b[0m \u001b[0;34m-\u001b[0m \u001b[0mp1\u001b[0m\u001b[0;34m.\u001b[0m\u001b[0mps\u001b[0m\u001b[0;34m)\u001b[0m\u001b[0;34m\u001b[0m\u001b[0m\n\u001b[0m\u001b[1;32m   1508\u001b[0m \u001b[0;34m\u001b[0m\u001b[0m\n\u001b[1;32m   1509\u001b[0m \u001b[0;34m\u001b[0m\u001b[0m\n",
      "\u001b[0;32m/Users/koko/anaconda/envs/python3_test/lib/python3.5/site-packages/music21/interval.py\u001b[0m in \u001b[0;36m__init__\u001b[0;34m(self, value)\u001b[0m\n\u001b[1;32m   1234\u001b[0m         \u001b[0;32mTrue\u001b[0m\u001b[0;34m\u001b[0m\u001b[0m\n\u001b[1;32m   1235\u001b[0m         '''\n\u001b[0;32m-> 1236\u001b[0;31m         \u001b[0mIntervalBase\u001b[0m\u001b[0;34m.\u001b[0m\u001b[0m__init__\u001b[0m\u001b[0;34m(\u001b[0m\u001b[0mself\u001b[0m\u001b[0;34m)\u001b[0m\u001b[0;34m\u001b[0m\u001b[0m\n\u001b[0m\u001b[1;32m   1237\u001b[0m \u001b[0;34m\u001b[0m\u001b[0m\n\u001b[1;32m   1238\u001b[0m         \u001b[0;32mif\u001b[0m \u001b[0mvalue\u001b[0m \u001b[0;34m==\u001b[0m \u001b[0mint\u001b[0m\u001b[0;34m(\u001b[0m\u001b[0mvalue\u001b[0m\u001b[0;34m)\u001b[0m\u001b[0;34m:\u001b[0m\u001b[0;34m\u001b[0m\u001b[0m\n",
      "\u001b[0;31mKeyboardInterrupt\u001b[0m: "
     ]
    }
   ],
   "source": [
    "#counterpoint music21 TAKES FOREVER!!!\n",
    "cf = alpha.counterpoint.species.getRandomCF()\n",
    "c = converter.parse('tinynotation: 4/4 '+cf['notes'])\n",
    "bass = stream.Stream(c)\n",
    "bass = bass.flat\n",
    "\n",
    "sc1 = scale.MinorScale(\"D4\")\n",
    "cpp = alpha.counterpoint.species.ModalCounterpoint(bass, bass)\n",
    "fs = cpp.generateFirstSpecies(bass,sc1)\n",
    "\n",
    "s = stream.Score(id='mainScore')\n",
    "p0 = stream.Part(id='melody')\n",
    "p0.timeSignature = meter.TimeSignature(\"4/4\")\n",
    "p1 = stream.Part(id='chords')\n",
    "p1.timeSignature = meter.TimeSignature(\"4/4\")\n",
    "p0.append(fs)\n",
    "p1.append(bass)\n",
    "p1 = p1.transpose(-12)\n",
    "s.insert(0, p0)\n",
    "s.insert(0, p1)\n",
    "s.show('musicxml')"
   ]
  },
  {
   "cell_type": "code",
   "execution_count": 233,
   "metadata": {
    "collapsed": false
   },
   "outputs": [],
   "source": [
    "\n",
    "#cpp.getValidSecondVoice(stream1=cf, minorScale=sc1, choice='random')"
   ]
  },
  {
   "cell_type": "code",
   "execution_count": 234,
   "metadata": {
    "collapsed": false
   },
   "outputs": [],
   "source": []
  },
  {
   "cell_type": "code",
   "execution_count": 236,
   "metadata": {
    "collapsed": false
   },
   "outputs": [],
   "source": [
    "s = stream.Score(id='mainScore')\n",
    "p0 = stream.Part(id='melody')\n",
    "p0.timeSignature = meter.TimeSignature(\"4/4\")\n",
    "p1 = stream.Part(id='chords')\n",
    "p1.timeSignature = meter.TimeSignature(\"4/4\")\n",
    "p0.append(fs)\n",
    "p1.append(bass)\n",
    "p1 = p1.transpose(-12)\n",
    "s.insert(0, p0)\n",
    "s.insert(0, p1)\n",
    "s.show('musicxml')"
   ]
  },
  {
   "cell_type": "code",
   "execution_count": null,
   "metadata": {
    "collapsed": true
   },
   "outputs": [],
   "source": []
  }
 ],
 "metadata": {
  "hide_input": false,
  "kernelspec": {
   "display_name": "Python [conda env:python3_test]",
   "language": "python",
   "name": "conda-env-python3_test-py"
  },
  "language_info": {
   "codemirror_mode": {
    "name": "ipython",
    "version": 3
   },
   "file_extension": ".py",
   "mimetype": "text/x-python",
   "name": "python",
   "nbconvert_exporter": "python",
   "pygments_lexer": "ipython3",
   "version": "3.5.2"
  },
  "latex_envs": {
   "LaTeX_envs_menu_present": true,
   "bibliofile": "biblio.bib",
   "cite_by": "apalike",
   "current_citInitial": 1,
   "eqLabelWithNumbers": true,
   "eqNumInitial": 1,
   "hotkeys": {
    "equation": "Ctrl-E",
    "itemize": "Ctrl-I"
   },
   "labels_anchors": false,
   "latex_user_defs": false,
   "report_style_numbering": false,
   "user_envs_cfg": false
  }
 },
 "nbformat": 4,
 "nbformat_minor": 2
}
