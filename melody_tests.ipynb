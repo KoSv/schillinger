{
 "cells": [
  {
   "cell_type": "code",
   "execution_count": 16,
   "metadata": {
    "collapsed": false
   },
   "outputs": [],
   "source": [
    "from music21 import *\n",
    "%load_ext music21.ipython21"
   ]
  },
  {
   "cell_type": "code",
   "execution_count": 230,
   "metadata": {
    "collapsed": false
   },
   "outputs": [],
   "source": [
    "# simple notes show\n",
    "\n",
    "def showNotes(note_sequece, time_meter, duration_divider):\n",
    "    TS = str(time_meter[0])+'/'+str(time_meter[1])\n",
    "    s = stream.Score(id='mainScore')\n",
    "    p0 = stream.Part(id='part0')\n",
    "    p0.timeSignature = meter.TimeSignature(TS)\n",
    "    for i, notes in enumerate(note_sequece):\n",
    "        notes.quarterLength = notes.quarterLength*duration_divider\n",
    "        p0.append(notes)\n",
    "    s.insert(0, p0)\n",
    "    return s"
   ]
  },
  {
   "cell_type": "code",
   "execution_count": 231,
   "metadata": {
    "collapsed": false
   },
   "outputs": [],
   "source": [
    "#### the primary axises can change but this class describes 1 PA for now\n",
    "#### so 0 can vary!\n",
    "# what kind of data structure should i use?? scale?\n",
    "\n",
    "# primary axis PA\n",
    "# motions in PA = 0,A,B,C and combinations of them\n",
    "# AXES:\n",
    "# 0 = no motion = absolute balance\n",
    "# A = Accending from PA = unbalancing (leading away from 0)\n",
    "# B = Descending toward PA = balancing (leading to 0)\n",
    "# C = Accending towards PA = balancing (leading to 0)\n",
    "# D = Descending from PA = unbalancing (leading away from 0)\n",
    "# VARIABLES:\n",
    "# two variables = P for pitch and T for time\n",
    "# f.e.: ATP\n",
    "# f.e.2: A4T3P\n",
    "\n",
    "# generate PA class\n",
    "# 4 args scale, motion sequence, P, T\n",
    "# take PAaxes combination f.e. [2xA 1xB 3xD 1xC] or [AABDDDC]\n",
    "# take variables f.e. P = [2,1,1,2]\n",
    "# P: f.e. P = [2,1,1,2]\n",
    "# T: f.e. T = [3,1,2,2,2,3] or so\n",
    "# combine PAaxes with P and T\n",
    "# return PA melody\n",
    "\n",
    "class PrimaryAxis:\n",
    "    \n",
    "    sequence_list = [] # not needed in return\n",
    "    durations = [] # return\n",
    "    pitches = [] # return\n",
    "    seq_length = 0 # return\n",
    "    \n",
    "    def __init__(self, scale, motion_sequence, T, P):\n",
    "        \n",
    "        self.scale = scale\n",
    "        self.motion_sequence = motion_sequence\n",
    "        self.P = P\n",
    "        self.T = T\n",
    "        \n",
    "        self.combinePA()\n",
    "        self.calculate_sequence()\n",
    "        self.seq_length = len(self.durations)\n",
    "    \n",
    "    def combinePA(self):\n",
    "        \n",
    "        for i, e in enumerate(self.motion_sequence):\n",
    "            sequence = self.motion_sequence[i],self.T[i%len(self.T)],self.P[i%len(self.P)]\n",
    "            self.sequence_list.append(sequence)\n",
    "        return\n",
    "    \n",
    "    def calculate_sequence(self):\n",
    "        for i, e in enumerate(self.sequence_list):\n",
    "            if e[0] == \"A\":\n",
    "                self.durations.append(e[1])\n",
    "                self.pitches.append([0, 0 + e[2]])\n",
    "            elif e[0] == \"B\":\n",
    "                self.durations.append(e[1])\n",
    "                self.pitches.append([0 + e[2], 0])\n",
    "            elif e[0] == \"C\":\n",
    "                self.durations.append(e[1])\n",
    "                self.pitches.append([0 - e[2],0])\n",
    "            elif e[0] == \"D\":\n",
    "                self.durations.append(e[1])\n",
    "                self.pitches.append([0, 0 - e[2]])\n",
    "\n",
    "#motion_sequence = \"AABDDDC\"\n",
    "motion_sequence = \"D\"* 2 + \"A\"*1 + \"B\"*1 + \"D\"*2 + \"A\"* 2 + \"D\"*1 + \"B\"*1 + \"C\"*2\n",
    "time_seqence = [2,1,1]\n",
    "pitch_sequence = [4,1,2,2,1,4]\n",
    "PA = PrimaryAxis(\"amajor\", motion_sequence, time_seqence, pitch_sequence)\n",
    "PA.sequence_list, PA.durations, PA.pitches;"
   ]
  },
  {
   "cell_type": "code",
   "execution_count": 232,
   "metadata": {
    "collapsed": false
   },
   "outputs": [],
   "source": [
    "myscale = scale.HarmonicMinorScale('C4') # not needed for now"
   ]
  },
  {
   "cell_type": "code",
   "execution_count": 233,
   "metadata": {
    "collapsed": false
   },
   "outputs": [],
   "source": [
    "def convert_to_music21_sequence(sc, pitches, durations):\n",
    "    note_seq = []\n",
    "    tonic = sc.getTonic()\n",
    "    for i, o in enumerate(pitches):\n",
    "        for e, p in enumerate(o):\n",
    "            c = sc.pitchFromDegree(p+1)\n",
    "            \n",
    "            nota = note.Note(c.nameWithOctave)\n",
    "            if p >= 0:\n",
    "                nota.octave = 4\n",
    "            else:\n",
    "                nota.octave = 3\n",
    "            if e == 0:\n",
    "                nota.duration.quarterLength = durations[i]\n",
    "            else:\n",
    "                nota.duration.quarterLength = 1\n",
    "            note_seq.append(nota)\n",
    "    return note_seq"
   ]
  },
  {
   "cell_type": "code",
   "execution_count": 234,
   "metadata": {
    "collapsed": false
   },
   "outputs": [],
   "source": [
    "pitches = convert_to_music21_sequence(myscale,PA.pitches, PA.durations)"
   ]
  },
  {
   "cell_type": "code",
   "execution_count": 236,
   "metadata": {
    "collapsed": false
   },
   "outputs": [],
   "source": [
    "s = showNotes(pitches,[4,4],2)\n",
    "s.show('musicxml')"
   ]
  },
  {
   "cell_type": "code",
   "execution_count": 198,
   "metadata": {
    "collapsed": false
   },
   "outputs": [
    {
     "ename": "TypeError",
     "evalue": "can't multiply sequence by non-int of type 'list'",
     "output_type": "error",
     "traceback": [
      "\u001b[0;31m---------------------------------------------------------------------------\u001b[0m",
      "\u001b[0;31mTypeError\u001b[0m                                 Traceback (most recent call last)",
      "\u001b[0;32m<ipython-input-198-3a4ad2b32dce>\u001b[0m in \u001b[0;36m<module>\u001b[0;34m()\u001b[0m\n\u001b[0;32m----> 1\u001b[0;31m \u001b[0;34m\"ABCD\"\u001b[0m\u001b[0;34m*\u001b[0m\u001b[0;34m[\u001b[0m\u001b[0;36m2\u001b[0m\u001b[0;34m,\u001b[0m\u001b[0;36m1\u001b[0m\u001b[0;34m,\u001b[0m\u001b[0;36m1\u001b[0m\u001b[0;34m,\u001b[0m\u001b[0;36m2\u001b[0m\u001b[0;34m]\u001b[0m\u001b[0;34m\u001b[0m\u001b[0m\n\u001b[0m",
      "\u001b[0;31mTypeError\u001b[0m: can't multiply sequence by non-int of type 'list'"
     ]
    }
   ],
   "source": []
  },
  {
   "cell_type": "code",
   "execution_count": 244,
   "metadata": {
    "collapsed": false
   },
   "outputs": [
    {
     "name": "stdout",
     "output_type": "stream",
     "text": [
      "<music21.scale.HarmonicMinorScale C harmonic minor>\n"
     ]
    }
   ],
   "source": [
    "myscale.show('txt')"
   ]
  },
  {
   "cell_type": "code",
   "execution_count": 247,
   "metadata": {
    "collapsed": false
   },
   "outputs": [
    {
     "data": {
      "text/plain": [
       "['C', 'D', 'E-', 'F', 'G', 'A-', 'B']"
      ]
     },
     "execution_count": 247,
     "metadata": {},
     "output_type": "execute_result"
    }
   ],
   "source": [
    "[myscale.pitchFromDegree(x+1).name for x in range(7)]"
   ]
  },
  {
   "cell_type": "code",
   "execution_count": null,
   "metadata": {
    "collapsed": false
   },
   "outputs": [],
   "source": [
    "#sp = midi.realtime.StreamPlayer(s)\n",
    "#sp.play()\n",
    "#s.show('midi')\n",
    "#s.show('musicxml')\n",
    "#s.show()\n",
    "#scales"
   ]
  }
 ],
 "metadata": {
  "hide_input": false,
  "kernelspec": {
   "display_name": "Python [conda env:python3_test]",
   "language": "python",
   "name": "conda-env-python3_test-py"
  },
  "language_info": {
   "codemirror_mode": {
    "name": "ipython",
    "version": 3
   },
   "file_extension": ".py",
   "mimetype": "text/x-python",
   "name": "python",
   "nbconvert_exporter": "python",
   "pygments_lexer": "ipython3",
   "version": "3.5.2"
  },
  "latex_envs": {
   "LaTeX_envs_menu_present": true,
   "bibliofile": "biblio.bib",
   "cite_by": "apalike",
   "current_citInitial": 1,
   "eqLabelWithNumbers": true,
   "eqNumInitial": 1,
   "hotkeys": {
    "equation": "Ctrl-E",
    "itemize": "Ctrl-I"
   },
   "labels_anchors": false,
   "latex_user_defs": false,
   "report_style_numbering": false,
   "user_envs_cfg": false
  }
 },
 "nbformat": 4,
 "nbformat_minor": 2
}
