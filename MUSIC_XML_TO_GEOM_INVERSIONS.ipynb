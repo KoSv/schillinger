{
 "cells": [
  {
   "cell_type": "code",
   "execution_count": 1,
   "metadata": {
    "code_folding": [
     0
    ],
    "collapsed": false
   },
   "outputs": [],
   "source": [
    "# imports \n",
    "%load_ext autoreload\n",
    "%autoreload 2\n",
    "import schillinger.rhythm as SR\n",
    "import schillinger.pitch as SP\n",
    "import itertools\n",
    "import random\n",
    "from music21 import *\n",
    "%load_ext music21.ipython21"
   ]
  },
  {
   "cell_type": "code",
   "execution_count": null,
   "metadata": {
    "code_folding": [
     2,
     33
    ],
    "collapsed": false
   },
   "outputs": [],
   "source": []
  },
  {
   "cell_type": "code",
   "execution_count": null,
   "metadata": {
    "code_folding": [
     1
    ],
    "collapsed": false
   },
   "outputs": [],
   "source": []
  },
  {
   "cell_type": "code",
   "execution_count": 2,
   "metadata": {
    "code_folding": [],
    "collapsed": false
   },
   "outputs": [],
   "source": [
    "###"
   ]
  },
  {
   "cell_type": "code",
   "execution_count": null,
   "metadata": {
    "collapsed": false
   },
   "outputs": [],
   "source": []
  },
  {
   "cell_type": "code",
   "execution_count": 3,
   "metadata": {
    "collapsed": false
   },
   "outputs": [],
   "source": [
    "#key.getPitches()"
   ]
  },
  {
   "cell_type": "code",
   "execution_count": null,
   "metadata": {
    "collapsed": false
   },
   "outputs": [],
   "source": []
  },
  {
   "cell_type": "code",
   "execution_count": 4,
   "metadata": {
    "code_folding": [],
    "collapsed": false
   },
   "outputs": [],
   "source": [
    "# Inversions\n",
    "def note_inversions(notes, \n",
    "                    center_note, \n",
    "                    reverse_notes=False, \n",
    "                    mirror=False, \n",
    "                    reverse_intervals=False, \n",
    "                    diatonic=False, scala=None):\n",
    "    \n",
    "    new_notes = []\n",
    "    aNote = center_note\n",
    "    \n",
    "    for i, bNote in enumerate(notes):\n",
    "        \n",
    "        aInterval = interval.notesToInterval(aNote, bNote)\n",
    "        \n",
    "        if reverse_intervals:\n",
    "            aInterval = aInterval.complement\n",
    "            \n",
    "        if diatonic:\n",
    "            if scala == None:\n",
    "                print(\"NEED A SCALE!\")\n",
    "                return None\n",
    "            \n",
    "            interval_value = aInterval.generic.value\n",
    "            interval_direction = aInterval.direction\n",
    "\n",
    "            if interval_direction > 0:\n",
    "                val = -(interval_value-1)\n",
    "                new_pitch = scala.next(aNote, direction=val)\n",
    "            elif interval_direction < 0:\n",
    "                val = abs(interval_value+1)\n",
    "                new_pitch = scala.next(aNote, direction=val)\n",
    "            else:\n",
    "                new_pitch = aNote.pitch\n",
    "        else:\n",
    "            new_pitch = aInterval.transposePitch(aNote.pitch, reverse=mirror, maxAccidental=1)\n",
    "            \n",
    "        #print(new_pitch)\n",
    "        new_note = note.Note(new_pitch)\n",
    "        new_note.duration = bNote.duration\n",
    "        new_notes.append(new_note)\n",
    "        \n",
    "    if reverse_notes:\n",
    "        new_notes = list(reversed(new_notes))\n",
    "        \n",
    "    return new_notes\n"
   ]
  },
  {
   "cell_type": "code",
   "execution_count": null,
   "metadata": {
    "collapsed": false
   },
   "outputs": [],
   "source": []
  },
  {
   "cell_type": "code",
   "execution_count": 5,
   "metadata": {
    "code_folding": [
     1
    ],
    "collapsed": false
   },
   "outputs": [],
   "source": [
    "## expansions\n",
    "def convert_to_expansion(note, scales, expansion):\n",
    "    primary_scale = scales[0]\n",
    "    if note in primary_scale:\n",
    "        temp_note_idx = primary_scale.index(note)\n",
    "        temp_note = scales[expansion][temp_note_idx]\n",
    "    else:\n",
    "        #print(\"not here\", note, primary_scale)\n",
    "        for n in scales[expansion]:\n",
    "            if n[0] == note[0]:\n",
    "                temp_note = n # noten angleichen falls nicht in skala\n",
    "    return temp_note"
   ]
  },
  {
   "cell_type": "code",
   "execution_count": 40,
   "metadata": {
    "collapsed": false,
    "scrolled": false
   },
   "outputs": [],
   "source": [
    "###\n",
    "SPG = SP.PitchGroup()\n",
    "paths = corpus.getComposer('bach')\n",
    "\n",
    "#print(corpus)\n",
    "a = corpus.getBachChorales()\n",
    "ch = a[120]#78, \n",
    "score = corpus.parse(paths[6])\n",
    "\n",
    "key = score.analyze('key')\n",
    "main_key = score.analyze('key')\n",
    "\n",
    "ka = analysis.floatingKey.KeyAnalyzer(score)\n",
    "ka.windowSize = 2 # chorale uses quick key changes\n",
    "harmonies = ka.getRawKeyByMeasure()\n",
    "#print(ka.getInterpretationByMeasure(2))\n",
    "for i,h in enumerate(harmonies):\n",
    "    if h is None:\n",
    "        harmonies[i] = key\n",
    "#print(harmonies)\n",
    "\n",
    "for i,part in enumerate(score.parts):\n",
    "    notes = part.recurse().notes.stream()\n",
    "    for x, nota in enumerate(notes):\n",
    "        \n",
    "        measure = score.measure(nota.measureNumber)\n",
    "        #print(nota.offset)\n",
    "        try:\n",
    "            key = harmonies[nota.measureNumber]\n",
    "        except:\n",
    "            key = key\n",
    "            \n",
    "        temp_scale = [str(p.name) for p in key.pitches[:-1]]\n",
    "        scale_expansion = SPG.expansions(temp_scale)\n",
    "        \n",
    "        if not nota.isNote:\n",
    "            nota.name = nota[0].name\n",
    "            \n",
    "        nota.name = convert_to_expansion(nota.name, scale_expansion, 5)\n",
    "        #print(\"original\", nota.name)\n",
    "        \n",
    "        center_note = note.Note(key.pitches[0])\n",
    "        \n",
    "        seq = note_inversions([nota], center_note, \n",
    "                              mirror=True, \n",
    "                              reverse_intervals=True, \n",
    "                              diatonic=True, scala=key, \n",
    "                              reverse_notes=True)\n",
    "        nota.name = seq[0].name\n",
    "        #print(\"converted\", center_note.name,seq[0].name)"
   ]
  },
  {
   "cell_type": "code",
   "execution_count": null,
   "metadata": {
    "collapsed": false,
    "scrolled": false
   },
   "outputs": [],
   "source": []
  },
  {
   "cell_type": "code",
   "execution_count": 41,
   "metadata": {
    "collapsed": false
   },
   "outputs": [],
   "source": [
    "score.show('musicxml')"
   ]
  },
  {
   "cell_type": "code",
   "execution_count": 14,
   "metadata": {
    "collapsed": false
   },
   "outputs": [],
   "source": [
    "paths = corpus.getComposer('bach')\n",
    "\n",
    "#print(corpus)\n",
    "a = corpus.getBachChorales()\n",
    "ch = a[120]#78, \n",
    "score = corpus.parse(paths[6])"
   ]
  },
  {
   "cell_type": "code",
   "execution_count": null,
   "metadata": {
    "collapsed": true
   },
   "outputs": [],
   "source": []
  }
 ],
 "metadata": {
  "hide_input": false,
  "kernelspec": {
   "display_name": "Python [conda env:python3_test]",
   "language": "python",
   "name": "conda-env-python3_test-py"
  },
  "language_info": {
   "codemirror_mode": {
    "name": "ipython",
    "version": 3
   },
   "file_extension": ".py",
   "mimetype": "text/x-python",
   "name": "python",
   "nbconvert_exporter": "python",
   "pygments_lexer": "ipython3",
   "version": "3.5.2"
  },
  "latex_envs": {
   "LaTeX_envs_menu_present": true,
   "bibliofile": "biblio.bib",
   "cite_by": "apalike",
   "current_citInitial": 1,
   "eqLabelWithNumbers": true,
   "eqNumInitial": 1,
   "hotkeys": {
    "equation": "Ctrl-E",
    "itemize": "Ctrl-I"
   },
   "labels_anchors": false,
   "latex_user_defs": false,
   "report_style_numbering": false,
   "user_envs_cfg": false
  }
 },
 "nbformat": 4,
 "nbformat_minor": 2
}
