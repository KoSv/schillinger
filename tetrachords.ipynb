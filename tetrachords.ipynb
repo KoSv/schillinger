{
 "cells": [
  {
   "cell_type": "code",
   "execution_count": 1,
   "metadata": {
    "collapsed": false
   },
   "outputs": [],
   "source": [
    "import itertools\n",
    "\n",
    "from music21 import *\n",
    "\n",
    "%load_ext music21.ipython21\n",
    "def showNotes(notes):\n",
    "\n",
    "    s = stream.Score(id='mainScore',TimeSignature=\"3/4\")\n",
    "    stream.Score()\n",
    "    m = stream.Measure()\n",
    "\n",
    "    part = stream.Part(id='part')\n",
    "    part.timeSignature = meter.TimeSignature('8/1')\n",
    "    #s.append(m)\n",
    "    for scala in notes:\n",
    "\n",
    "        tones = []\n",
    "        starttone = 0\n",
    "\n",
    "\n",
    "        pitch1 = pitch.Pitch(starttone)\n",
    "        pitch1.pitchClass = starttone\n",
    "        pitch1.octave = 4\n",
    "        nota = note.Note(pitch1.nameWithOctave)\n",
    "        nota.duration.quarterLength = 4\n",
    "        nota.lyric = 0\n",
    "        tones.append(nota)\n",
    "\n",
    "        for tone in scala:\n",
    "            starttone = starttone + int(tone)\n",
    "            pitch1 = pitch.Pitch(starttone)\n",
    "            pitch1.pitchClass = starttone\n",
    "            #print(pitch1.pitchClass)\n",
    "            pitch1.octave = 4\n",
    "            if pitch1.pitchClass == 0:\n",
    "                pitch1.octave = 5\n",
    "            nota = note.Note(pitch1.nameWithOctave)\n",
    "            nota.lyric = \"+\" + str(int(tone))\n",
    "            if starttone == 7:\n",
    "\n",
    "                nota.lyric = 0\n",
    "            nota.duration.quarterLength = 4\n",
    "            tones.append(nota)\n",
    "\n",
    "        part.append(tones)\n",
    "    s.insert(0, part)\n",
    "    return s"
   ]
  },
  {
   "cell_type": "code",
   "execution_count": 2,
   "metadata": {
    "collapsed": false
   },
   "outputs": [
    {
     "name": "stdout",
     "output_type": "stream",
     "text": [
      "[(1, 2, 3), (1, 3, 2), (2, 1, 3), (2, 3, 1), (3, 1, 2), (3, 2, 1)]\n"
     ]
    }
   ],
   "source": [
    "p = list(itertools.permutations([1, 2, 3]))\n",
    "print(p)"
   ]
  },
  {
   "cell_type": "code",
   "execution_count": 3,
   "metadata": {
    "collapsed": false
   },
   "outputs": [
    {
     "name": "stdout",
     "output_type": "stream",
     "text": [
      "[['1', '1', '3'], ['1', '2', '2'], ['1', '3', '1'], ['2', '1', '2'], ['2', '2', '1'], ['3', '1', '1']]\n"
     ]
    }
   ],
   "source": [
    "### product (tetrahords)\n",
    "tetrachord_combinations = []\n",
    "for digits in itertools.product('123', repeat=3):\n",
    "    if sum(map(int, digits)) == 5:\n",
    "        tetrachord_combinations.append(list(digits))\n",
    "print((tetrachord_combinations))"
   ]
  },
  {
   "cell_type": "code",
   "execution_count": 4,
   "metadata": {
    "collapsed": false
   },
   "outputs": [
    {
     "name": "stdout",
     "output_type": "stream",
     "text": [
      "[(['1', '1', '3'], ['1', '1', '3']), (['1', '1', '3'], ['1', '2', '2']), (['1', '1', '3'], ['1', '3', '1']), (['1', '1', '3'], ['2', '1', '2']), (['1', '1', '3'], ['2', '2', '1']), (['1', '1', '3'], ['3', '1', '1']), (['1', '2', '2'], ['1', '1', '3']), (['1', '2', '2'], ['1', '2', '2']), (['1', '2', '2'], ['1', '3', '1']), (['1', '2', '2'], ['2', '1', '2']), (['1', '2', '2'], ['2', '2', '1']), (['1', '2', '2'], ['3', '1', '1']), (['1', '3', '1'], ['1', '1', '3']), (['1', '3', '1'], ['1', '2', '2']), (['1', '3', '1'], ['1', '3', '1']), (['1', '3', '1'], ['2', '1', '2']), (['1', '3', '1'], ['2', '2', '1']), (['1', '3', '1'], ['3', '1', '1']), (['2', '1', '2'], ['1', '1', '3']), (['2', '1', '2'], ['1', '2', '2']), (['2', '1', '2'], ['1', '3', '1']), (['2', '1', '2'], ['2', '1', '2']), (['2', '1', '2'], ['2', '2', '1']), (['2', '1', '2'], ['3', '1', '1']), (['2', '2', '1'], ['1', '1', '3']), (['2', '2', '1'], ['1', '2', '2']), (['2', '2', '1'], ['1', '3', '1']), (['2', '2', '1'], ['2', '1', '2']), (['2', '2', '1'], ['2', '2', '1']), (['2', '2', '1'], ['3', '1', '1']), (['3', '1', '1'], ['1', '1', '3']), (['3', '1', '1'], ['1', '2', '2']), (['3', '1', '1'], ['1', '3', '1']), (['3', '1', '1'], ['2', '1', '2']), (['3', '1', '1'], ['2', '2', '1']), (['3', '1', '1'], ['3', '1', '1'])]\n"
     ]
    }
   ],
   "source": [
    "## tetrachord to scala\n",
    "two_tetracords = list(itertools.product(tetrachord_combinations, repeat=2))\n",
    "print(two_tetracords)"
   ]
  },
  {
   "cell_type": "code",
   "execution_count": 5,
   "metadata": {
    "collapsed": false
   },
   "outputs": [
    {
     "name": "stdout",
     "output_type": "stream",
     "text": [
      "['1', '1', '3', '2', '1', '1', '3']\n",
      "['1', '1', '3', '2', '1', '2', '2']\n",
      "['1', '1', '3', '2', '1', '3', '1']\n",
      "['1', '1', '3', '2', '2', '1', '2']\n",
      "['1', '1', '3', '2', '2', '2', '1']\n",
      "['1', '1', '3', '2', '3', '1', '1']\n",
      "['1', '2', '2', '2', '1', '1', '3']\n",
      "['1', '2', '2', '2', '1', '2', '2']\n",
      "['1', '2', '2', '2', '1', '3', '1']\n",
      "['1', '2', '2', '2', '2', '1', '2']\n",
      "['1', '2', '2', '2', '2', '2', '1']\n",
      "['1', '2', '2', '2', '3', '1', '1']\n",
      "['1', '3', '1', '2', '1', '1', '3']\n",
      "['1', '3', '1', '2', '1', '2', '2']\n",
      "['1', '3', '1', '2', '1', '3', '1']\n",
      "['1', '3', '1', '2', '2', '1', '2']\n",
      "['1', '3', '1', '2', '2', '2', '1']\n",
      "['1', '3', '1', '2', '3', '1', '1']\n",
      "['2', '1', '2', '2', '1', '1', '3']\n",
      "['2', '1', '2', '2', '1', '2', '2']\n",
      "['2', '1', '2', '2', '1', '3', '1']\n",
      "['2', '1', '2', '2', '2', '1', '2']\n",
      "['2', '1', '2', '2', '2', '2', '1']\n",
      "['2', '1', '2', '2', '3', '1', '1']\n",
      "['2', '2', '1', '2', '1', '1', '3']\n",
      "['2', '2', '1', '2', '1', '2', '2']\n",
      "['2', '2', '1', '2', '1', '3', '1']\n",
      "['2', '2', '1', '2', '2', '1', '2']\n",
      "['2', '2', '1', '2', '2', '2', '1']\n",
      "['2', '2', '1', '2', '3', '1', '1']\n",
      "['3', '1', '1', '2', '1', '1', '3']\n",
      "['3', '1', '1', '2', '1', '2', '2']\n",
      "['3', '1', '1', '2', '1', '3', '1']\n",
      "['3', '1', '1', '2', '2', '1', '2']\n",
      "['3', '1', '1', '2', '2', '2', '1']\n",
      "['3', '1', '1', '2', '3', '1', '1']\n"
     ]
    }
   ],
   "source": [
    "all_scales = []\n",
    "for i, o in enumerate(two_tetracords):\n",
    "    a = list(itertools.chain(two_tetracords[i][0],two_tetracords[i][1]))\n",
    "    a.insert(3, '2') ## insert a whole tone between 4th and 5th\n",
    "    all_scales.append(a)\n",
    "for scala in all_scales:\n",
    "    print(scala)"
   ]
  },
  {
   "cell_type": "code",
   "execution_count": 6,
   "metadata": {
    "collapsed": false
   },
   "outputs": [],
   "source": [
    "s = showNotes(all_scales)\n",
    "s.show('musicxml')"
   ]
  },
  {
   "cell_type": "code",
   "execution_count": null,
   "metadata": {
    "collapsed": false
   },
   "outputs": [],
   "source": [
    "## doesnt show all scales because of page break. its a bug. but no problem for further investigation.."
   ]
  }
 ],
 "metadata": {
  "hide_input": false,
  "kernelspec": {
   "display_name": "Python [conda env:python3_test]",
   "language": "python",
   "name": "conda-env-python3_test-py"
  },
  "language_info": {
   "codemirror_mode": {
    "name": "ipython",
    "version": 3
   },
   "file_extension": ".py",
   "mimetype": "text/x-python",
   "name": "python",
   "nbconvert_exporter": "python",
   "pygments_lexer": "ipython3",
   "version": "3.5.2"
  },
  "latex_envs": {
   "LaTeX_envs_menu_present": true,
   "bibliofile": "biblio.bib",
   "cite_by": "apalike",
   "current_citInitial": 1,
   "eqLabelWithNumbers": true,
   "eqNumInitial": 1,
   "hotkeys": {
    "equation": "Ctrl-E",
    "itemize": "Ctrl-I"
   },
   "labels_anchors": false,
   "latex_user_defs": false,
   "report_style_numbering": false,
   "user_envs_cfg": false
  }
 },
 "nbformat": 4,
 "nbformat_minor": 2
}
