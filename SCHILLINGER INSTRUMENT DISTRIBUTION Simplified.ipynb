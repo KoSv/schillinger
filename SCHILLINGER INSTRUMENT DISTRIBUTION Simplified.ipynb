{
 "cells": [
  {
   "cell_type": "markdown",
   "metadata": {},
   "source": [
    "Python Imlementation of:\n",
    "\n",
    "***SCHILLINGER INSTRUMENT DESTRIBUTION***\n",
    "\n",
    "for more information: Joseph Schillinger (1946): Schillinger System of Musical Composition.(New York: C. Fischer, Inc.)\n",
    "\n",
    "Konstantin Svechtarov 2017©"
   ]
  },
  {
   "cell_type": "code",
   "execution_count": 1,
   "metadata": {
    "code_folding": [],
    "collapsed": false
   },
   "outputs": [],
   "source": [
    "# imports modules\n",
    "%load_ext autoreload\n",
    "%autoreload 2\n",
    "import schillinger.rhythm as SR\n",
    "import schillinger.pitch as SP\n",
    "import itertools\n",
    "import random\n",
    "from music21 import *\n",
    "%load_ext music21.ipython21 "
   ]
  },
  {
   "cell_type": "code",
   "execution_count": 19,
   "metadata": {
    "code_folding": [
     1
    ],
    "collapsed": false
   },
   "outputs": [],
   "source": [
    "#convert to notes\n",
    "def convertToNotes(num_parts, linear_seq, start_pauses, time_meter, notes, duration_devider):\n",
    "    \n",
    "    #TS = str(time_meter[0])+'/'+str(time_meter[1])\n",
    "    TS = str(time_meter[0])+'/'+str(4) # make it on qurters!\n",
    "    tones_parts = [[]for x in range(num_parts)]\n",
    "    \n",
    "    #add pauses\n",
    "    for i,sp in enumerate(start_pauses):\n",
    "        if sp != -1:\n",
    "            r = note.Rest()\n",
    "            r.duration.quarterLength = sp*duration_devider\n",
    "            tones_parts[i].append(r)\n",
    "    \n",
    "    #add notes\n",
    "    for i, seq in enumerate(linear_seq):\n",
    "        tone = notes[i%len(notes)]\n",
    "        nota = pitch.Pitch(tone)\n",
    "        #nota.octave = seq[0]+2\n",
    "        nota = note.Note(nota.nameWithOctave)\n",
    "        nota.duration.quarterLength = seq[1] * duration_devider\n",
    "        tones_parts[seq[0]].append(nota)\n",
    "    \n",
    "    #add to stream\n",
    "    s = stream.Score(id='mainScore')\n",
    "    for seq, sequences in enumerate(tones_parts):\n",
    "        p0 = stream.Part(id='part'+str(seq))\n",
    "        p0.timeSignature = meter.TimeSignature(TS)\n",
    "        p0.append(sequences)\n",
    "        s.insert(0, p0)\n",
    "    \n",
    "    \n",
    "    return s"
   ]
  },
  {
   "cell_type": "code",
   "execution_count": 20,
   "metadata": {
    "code_folding": [
     1
    ],
    "collapsed": false
   },
   "outputs": [],
   "source": [
    "# harmonize_bass func \n",
    "def harmonize_dt_bass(scales, diatonic_cycles_string, coeficients):\n",
    "    SPG = SP.PitchGroup()\n",
    "    bass = []\n",
    "    harmonies = []\n",
    "    for s in scales:\n",
    "        temp_scale = [str(p) for p in s.pitches[:-1]]\n",
    "        scale_expansion = SPG.expansions(temp_scale)\n",
    "        #print(scale_expansion)\n",
    "        C7 = scale_expansion[0]\n",
    "        Cminus7 = scale_expansion[5]\n",
    "        C3 = scale_expansion[4]\n",
    "        Cminus3 = scale_expansion[1]\n",
    "        C5 = scale_expansion[2]\n",
    "        Cminus5 = scale_expansion[3]\n",
    "        diatonic_cycles = []\n",
    "        for i in diatonic_cycles_string:\n",
    "            if i == \"C3\":\n",
    "                diatonic_cycles.append(C3)\n",
    "            elif i == \"C5\":\n",
    "                diatonic_cycles.append(C5)\n",
    "            elif i == \"C7\":\n",
    "                diatonic_cycles.append(C7)\n",
    "            elif i == \"C-3\":\n",
    "                diatonic_cycles.append(Cminus3)\n",
    "            elif i == \"C-5\":\n",
    "                diatonic_cycles.append(Cminus5)\n",
    "            elif i == \"C-7\":\n",
    "                diatonic_cycles.append(Cminus7)\n",
    "            else:\n",
    "                print(\"diatonic_cycles_string Value Error!\")\n",
    "                \n",
    "        diatonic_cycle = SP.pitch_cicles(temp_scale,diatonic_cycles, coeficients)\n",
    "        harmonies.append(temp_scale)\n",
    "        bass.append(diatonic_cycle)\n",
    "    return bass, harmonies"
   ]
  },
  {
   "cell_type": "code",
   "execution_count": 42,
   "metadata": {
    "code_folding": [
     0
    ],
    "collapsed": true
   },
   "outputs": [],
   "source": [
    "#HARMONY\n",
    "\n",
    "hm = scale.HarmonicMinorScale(\"C4\")\n",
    "do = scale.DorianScale(\"C4\")\n",
    "ms = scale.MixolydianScale(\"C4\")\n",
    "ls = scale.LydianScale(\"C4\")\n",
    "\n",
    "#hb = harmonize_dt_bass([hm], [\"C3\",\"C5\",\"C7\"], [2,1,1,2])\n",
    "bass, scales = harmonize_dt_bass([hm], [\"C3\",\"C7\",\"C5\"], [2,1,1,2])\n",
    "voice_amount = 3\n",
    "theme_expansion_amount = 0\n",
    "scale_expansion_amount = 1 # 1st order expansion for harmonizing is according to schillinger default (in thirds)\n",
    "\n",
    "whole_seq = SP.get_whole_sequence_bass(bass, scales, voice_amount, theme_expansion_amount, scale_expansion_amount)\n",
    "#print(whole_seq)\n",
    "\n",
    "merged_seq = list(itertools.chain(*whole_seq)) # convert to [note1[harmony1], ... noteN[harmonyN]]\n",
    "#print(list(itertools.chain(*merged_seq)))\n",
    "flattened_notes = list(itertools.chain(*merged_seq))"
   ]
  },
  {
   "cell_type": "code",
   "execution_count": 46,
   "metadata": {
    "code_folding": [],
    "collapsed": false,
    "scrolled": false
   },
   "outputs": [],
   "source": [
    "#RHYTHM #ARRANGEMENT\n",
    "sr_1 = SR.Type_I([7,5])\n",
    "durations_pattern = [1,3,1] \n",
    "attack_pattern = [1,2,2,1,3,1,1,1] \n",
    "order_of_parts = [1,0]\n",
    "num_parts = len(order_of_parts)\n",
    "\n",
    "\n",
    "cts = SR.CTS(num_parts,order_of_parts,durations_pattern, attack_pattern)\n",
    "#note_seq = flattened_notes\n",
    "note_seq = ['F','C','D','F','A-']"
   ]
  },
  {
   "cell_type": "code",
   "execution_count": 49,
   "metadata": {
    "collapsed": false
   },
   "outputs": [],
   "source": [
    "s = convertToNotes(num_parts, cts.linear_sequence, cts.start_pauses, cts.metric, note_seq, 0.25)"
   ]
  },
  {
   "cell_type": "code",
   "execution_count": 50,
   "metadata": {
    "code_folding": [
     0,
     20
    ],
    "collapsed": false
   },
   "outputs": [],
   "source": [
    "s.show('musicxml')"
   ]
  },
  {
   "cell_type": "code",
   "execution_count": null,
   "metadata": {
    "collapsed": false
   },
   "outputs": [],
   "source": []
  },
  {
   "cell_type": "code",
   "execution_count": 8,
   "metadata": {
    "code_folding": [
     0
    ],
    "collapsed": false
   },
   "outputs": [],
   "source": [
    "#TEST1 cardcoded patterns\n",
    "\n",
    "durations_pattern = [1,3,1] # rhythm (sr_1.resultant)\n",
    "attack_pattern = [1,2,2,1,3,1,1,1] #instrument destribution\n",
    "order_of_parts = [1,0]\n",
    "num_parts = len(order_of_parts)\n",
    "cts = SR.CTS(num_parts,order_of_parts,durations_pattern,attack_pattern)\n",
    "note_seq = flattened_notes\n"
   ]
  },
  {
   "cell_type": "code",
   "execution_count": 9,
   "metadata": {
    "code_folding": [
     0
    ],
    "collapsed": false
   },
   "outputs": [
    {
     "name": "stdout",
     "output_type": "stream",
     "text": [
      "[3, 1, 2, 2, 1, 3, 2, 1, 1, 2, 4]\n"
     ]
    }
   ],
   "source": [
    "#TEST2 schillinger rhythm patterns\n",
    "\n",
    "sr_1 = SR.Type_I([3,2])\n",
    "sr_2 = SR.Type_I([3,4])\n",
    "group = SR.Grouping()\n",
    "g = group.grouping_by_pairs(sr_1.resultant,sr_2.resultant,4,3)\n",
    "print(group.balance)\n",
    "random_attack_combination = SR.get_random_attack_combination(sr_1.resultant)\n",
    "random_attack_combination_2 = SR.get_random_attack_combination(sr_2.resultant)\n",
    "\n",
    "fraction = 2/4\n",
    "dp = SR.slice_by_fraction(sr_1.resultant, fraction) # slice the resultant for fun\n",
    "\n",
    "durations_pattern = group.balance # rhythm\n",
    "attack_pattern = group.balance #instrument destribution\n",
    "\n",
    "order_of_parts = [1,0,2]\n",
    "num_parts = len(order_of_parts)\n",
    "cts = SR.CTS(num_parts,order_of_parts,durations_pattern,attack_pattern)\n"
   ]
  },
  {
   "cell_type": "code",
   "execution_count": null,
   "metadata": {
    "collapsed": false
   },
   "outputs": [],
   "source": []
  },
  {
   "cell_type": "code",
   "execution_count": null,
   "metadata": {
    "collapsed": false
   },
   "outputs": [],
   "source": []
  }
 ],
 "metadata": {
  "hide_input": false,
  "kernelspec": {
   "display_name": "Python [conda env:python3_test]",
   "language": "python",
   "name": "conda-env-python3_test-py"
  },
  "language_info": {
   "codemirror_mode": {
    "name": "ipython",
    "version": 3
   },
   "file_extension": ".py",
   "mimetype": "text/x-python",
   "name": "python",
   "nbconvert_exporter": "python",
   "pygments_lexer": "ipython3",
   "version": "3.5.2"
  },
  "latex_envs": {
   "LaTeX_envs_menu_present": true,
   "bibliofile": "biblio.bib",
   "cite_by": "apalike",
   "current_citInitial": 1,
   "eqLabelWithNumbers": true,
   "eqNumInitial": 1,
   "hotkeys": {
    "equation": "Ctrl-E",
    "itemize": "Ctrl-I"
   },
   "labels_anchors": false,
   "latex_user_defs": false,
   "report_style_numbering": false,
   "user_envs_cfg": false
  }
 },
 "nbformat": 4,
 "nbformat_minor": 2
}
