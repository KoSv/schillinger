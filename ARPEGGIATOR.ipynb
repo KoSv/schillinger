{
 "cells": [
  {
   "cell_type": "markdown",
   "metadata": {},
   "source": [
    "\n",
    "***ARPEGGIATOR IMPLEMENTATION***\n"
   ]
  },
  {
   "cell_type": "code",
   "execution_count": 1,
   "metadata": {
    "code_folding": [],
    "collapsed": false
   },
   "outputs": [],
   "source": [
    "# imports \n",
    "%load_ext autoreload\n",
    "%autoreload 2\n",
    "import schillinger.rhythm as SR\n",
    "import schillinger.pitch as SP\n",
    "import itertools\n",
    "import random\n",
    "import music21\n",
    "%load_ext music21.ipython21"
   ]
  },
  {
   "cell_type": "code",
   "execution_count": 2,
   "metadata": {
    "code_folding": [
     0,
     15
    ],
    "collapsed": false
   },
   "outputs": [],
   "source": [
    "def showNotes(note_sequences, time_meter):\n",
    "    TS = str(time_meter[0])+'/'+str(time_meter[1])\n",
    "    \n",
    "    s = music21.stream.Score(id='mainScore')\n",
    "    \n",
    "    \n",
    "    for it, seq in enumerate(note_sequences):\n",
    "        part = music21.stream.Part(id='part'+str(it))\n",
    "        part.timeSignature = music21.meter.TimeSignature(TS)\n",
    "        for i, nota in enumerate(seq):\n",
    "            part.append(nota)\n",
    "            \n",
    "        s.insert(0, part)\n",
    "    s = s.transpose(0)\n",
    "    return s"
   ]
  },
  {
   "cell_type": "code",
   "execution_count": 3,
   "metadata": {
    "code_folding": [],
    "collapsed": false,
    "scrolled": true
   },
   "outputs": [],
   "source": [
    "def Arpeggiator(chord, duration, speed, arp_type=\"UP\", arp_range=1):\n",
    "    '''arg1 = music21.chord, arg2=duration of chord, arg3 = speed of arpeggiator..'''\n",
    "    \n",
    "    sequence = []\n",
    "    \n",
    "    note_duration = int(duration/speed)\n",
    "    \n",
    "    note_amount = len(chord)\n",
    "    seq_layout = []\n",
    "    for r in range(arp_range):\n",
    "        for i in chord:\n",
    "            tn = music21.pitch.Pitch(i.nameWithOctave)\n",
    "            tn.octave = tn.octave + r\n",
    "            seq_layout.append(tn)\n",
    "            \n",
    "    \n",
    "    seq_vorwards = seq_layout\n",
    "    seq_backwards = list(reversed(seq_layout))\n",
    "    \n",
    "    \n",
    "    if arp_type == \"DOWN\":\n",
    "        temp_sequence = seq_backwards\n",
    "    elif arp_type ==\"UP\":\n",
    "        temp_sequence = seq_vorwards\n",
    "    elif arp_type==\"UPDOWN\":\n",
    "        temp_sequence = seq_vorwards+seq_backwards\n",
    "    elif arp_type==\"UPDOWN2\":\n",
    "        temp_sequence = seq_vorwards+seq_backwards[1:-1]\n",
    "    elif arp_type==\"DOWNUP\":\n",
    "        temp_sequence = seq_backwards+seq_vorwards\n",
    "    elif arp_type==\"DOWNUP2\":\n",
    "        temp_sequence = seq_backwards+seq_vorwards[1:-1]\n",
    "    \n",
    "    for i in range(note_duration):\n",
    "        seq_limit = i%len(temp_sequence)\n",
    "        pitch = music21.note.Note(temp_sequence[seq_limit].nameWithOctave)\n",
    "        pitch.duration.quarterLength = speed\n",
    "        sequence.append(pitch)\n",
    "    \n",
    "    return sequence"
   ]
  },
  {
   "cell_type": "code",
   "execution_count": 8,
   "metadata": {
    "code_folding": [],
    "collapsed": false
   },
   "outputs": [],
   "source": [
    "#merged_harmony = list(itertools.chain(*whole_seq))\n",
    "chords = [[\"C4\",\"E-4\",\"G4\",\"B-4\",\"D5\",\"F5\"],[\"G4\",\"B4\",\"D5\",\"F4\",\"A4\",\"C5\"]]\n",
    "arp_seq = []\n",
    "for i, w in enumerate(chords):\n",
    "    test_chord = music21.chord.Chord(w)\n",
    "    #test_chord = test_chord.sortDiatonicAscending()\n",
    "    #test_chord = test_chord.semiClosedPosition()\n",
    "    #test_chord = test_chord.closedPosition()\n",
    "    dur = 4\n",
    "    speed = .25\n",
    "    apr_chord = Arpeggiator(test_chord, dur, speed, arp_type=\"UPDOWN2\",arp_range=2)\n",
    "    arp_seq.append(apr_chord)\n",
    "    \n",
    "\n",
    "harmony_seq = list(itertools.chain(*arp_seq)) # convert to [note1[harmony1], ... noteN[harmonyN]]"
   ]
  },
  {
   "cell_type": "code",
   "execution_count": 9,
   "metadata": {
    "code_folding": [],
    "collapsed": false
   },
   "outputs": [],
   "source": [
    "\n",
    "merged_bass = [\"C4\",\"G4\"]\n",
    "bass_seq = []\n",
    "for i,b in enumerate(merged_bass):\n",
    "    nota = music21.note.Note(b)\n",
    "    nota.octave = 2\n",
    "    dur = 4\n",
    "    nota.duration.quarterLength = dur\n",
    "    bass_seq.append(nota)"
   ]
  },
  {
   "cell_type": "code",
   "execution_count": 10,
   "metadata": {
    "collapsed": false
   },
   "outputs": [],
   "source": [
    "sequence = [harmony_seq, bass_seq]\n",
    "s = showNotes(sequence,[4,4])\n",
    "s.show('musicxml')"
   ]
  },
  {
   "cell_type": "code",
   "execution_count": null,
   "metadata": {
    "collapsed": true
   },
   "outputs": [],
   "source": []
  }
 ],
 "metadata": {
  "hide_input": false,
  "kernelspec": {
   "display_name": "Python [python3_test]",
   "language": "python",
   "name": "Python [python3_test]"
  },
  "language_info": {
   "codemirror_mode": {
    "name": "ipython",
    "version": 3
   },
   "file_extension": ".py",
   "mimetype": "text/x-python",
   "name": "python",
   "nbconvert_exporter": "python",
   "pygments_lexer": "ipython3",
   "version": "3.5.2"
  },
  "latex_envs": {
   "LaTeX_envs_menu_present": true,
   "bibliofile": "biblio.bib",
   "cite_by": "apalike",
   "current_citInitial": 1,
   "eqLabelWithNumbers": true,
   "eqNumInitial": 1,
   "hotkeys": {
    "equation": "Ctrl-E",
    "itemize": "Ctrl-I"
   },
   "labels_anchors": false,
   "latex_user_defs": false,
   "report_style_numbering": false,
   "user_envs_cfg": false
  }
 },
 "nbformat": 4,
 "nbformat_minor": 2
}
