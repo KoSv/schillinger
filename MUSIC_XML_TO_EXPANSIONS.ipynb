{
 "cells": [
  {
   "cell_type": "code",
   "execution_count": 172,
   "metadata": {
    "code_folding": [
     0
    ],
    "collapsed": false
   },
   "outputs": [
    {
     "name": "stdout",
     "output_type": "stream",
     "text": [
      "The autoreload extension is already loaded. To reload it, use:\n",
      "  %reload_ext autoreload\n",
      "The music21.ipython21 extension is already loaded. To reload it, use:\n",
      "  %reload_ext music21.ipython21\n"
     ]
    }
   ],
   "source": [
    "# imports \n",
    "%load_ext autoreload\n",
    "%autoreload 2\n",
    "import schillinger.rhythm as SR\n",
    "import schillinger.pitch as SP\n",
    "import itertools\n",
    "import random\n",
    "from music21 import *\n",
    "%load_ext music21.ipython21"
   ]
  },
  {
   "cell_type": "code",
   "execution_count": 173,
   "metadata": {
    "code_folding": [
     0
    ],
    "collapsed": false
   },
   "outputs": [],
   "source": [
    "# notes harmony simpultan bass\n",
    "\n",
    "def arpeggiator(c, es,rhythm, duration_divider):\n",
    "    chords = []\n",
    "    for i, seq in enumerate(c):\n",
    "                \n",
    "        nota = seq\n",
    "        nota.duration.quarterLength = (rhythm[es%len(rhythm)]/len(c)) * duration_divider\n",
    "        chords.append(nota)\n",
    "\n",
    "    nota = pitch.Pitch(c.pitches[0])\n",
    "    \n",
    "    nota.octave = 4\n",
    "    nota = note.Note(nota.nameWithOctave)\n",
    "    nota.duration.quarterLength = (rhythm[es%len(rhythm)]/len(c)) * duration_divider\n",
    "    chords.append(nota)\n",
    "    #octave adjust\n",
    "    #print(chords[-1].pitch.midi - chords[-2].pitch.midi, chords[-1])\n",
    "    if chords[-2].pitch.midi - chords[-3].pitch.midi >= 6:\n",
    "        chords[-2].octave = chords[-2].octave + 1\n",
    "        \n",
    "    if chords[-1].pitch.midi - chords[-2].pitch.midi >= 12:\n",
    "        chords[-1].octave = chords[-1].octave -1\n",
    "        #print(\"yes\", chords[-1], chords[-2])\n",
    "    \n",
    "    ## last note repeat the second\n",
    "    nota = pitch.Pitch(c.pitches[2])\n",
    "    nota.octave = nota.octave\n",
    "    nota = note.Note(nota.nameWithOctave)\n",
    "    nota.duration.quarterLength = (rhythm[es%len(rhythm)]/len(c)) * duration_divider\n",
    "    chords.append(nota)\n",
    "    return chords\n",
    "\n",
    "def showHarmonyBass(note_sequence, melody_seq, rhythm, length, time_meter, duration_divider, arp=False,bass=True, drop2 = False):\n",
    "    TS = str(time_meter[0])+'/'+str(time_meter[1])\n",
    "    \n",
    "    s = stream.Score(id='mainScore')\n",
    "    p0 = stream.Part(id='melody')\n",
    "    p0.timeSignature = meter.TimeSignature(TS)\n",
    "    p1 = stream.Part(id='chords')\n",
    "    p1.timeSignature = meter.TimeSignature(TS)\n",
    "    p2 = stream.Part(id='bass')\n",
    "    p2.timeSignature = meter.TimeSignature(TS)\n",
    "    \n",
    "    melody_iterator = 0\n",
    "    for es, sequences in enumerate(note_sequence):\n",
    "        \n",
    "        melody = []\n",
    "        chords = []\n",
    "        bass = []\n",
    "        \n",
    "        \n",
    "        ### chords\n",
    "        chord_seq = [sequences[0]]+sequences[1]\n",
    "        test_chord = chord.Chord(chord_seq)\n",
    "        c = chord.Chord(test_chord)\n",
    "        c.root = sequences[0]\n",
    "        c.duration.quarterLength = rhythm[es%len(rhythm)] * duration_divider\n",
    "        #c = c.sortDiatonicAscending() # for better voice leadng but not real!\n",
    "        if es % 2 == 0: # rotating clock counterclock positions\n",
    "            #c = c.semiClosedPosition(inPlace=False,forceOctave=4)\n",
    "            pass\n",
    "        else:\n",
    "            #c = c.closedPosition(inPlace=False,forceOctave=4)\n",
    "            pass\n",
    "        if drop2:\n",
    "            try:\n",
    "                #c.pitches[0].octave = c.pitches[0].octave-1 # drop2\n",
    "                #c.pitches[-2].octave = c.pitches[-2].octave+2 # drop4\n",
    "                pass\n",
    "            except:\n",
    "                pass\n",
    "        \n",
    "        if arp:\n",
    "            chords =  arpeggiator(c, es, rhythm, duration_divider)\n",
    "            #chords.append(nota)\n",
    "            \n",
    "        else:\n",
    "            chords.append(c)\n",
    "            \n",
    "        #MELODY\n",
    "        # get chord durations and apply on melody (for test purpose)\n",
    "        '''dur = 0\n",
    "        for d in chords:\n",
    "            dur = dur + d.duration.quarterLength\n",
    "        #print(dur)\n",
    "        nota = pitch.Pitch(melody_seq[es])\n",
    "        nota.octave = nota.octave\n",
    "        nota = note.Note(nota.nameWithOctave)\n",
    "        nota.duration.quarterLength = dur/2\n",
    "        melody.append(nota)\n",
    "        #melody 2nd tone\n",
    "        ###'''\n",
    "        dur = 0\n",
    "        for d in chords:\n",
    "                dur = dur + d.duration.quarterLength\n",
    "        \n",
    "        if len(melody_seq) >= len(note_sequence):\n",
    "            l = round(len(melody_seq) / len(note_sequence))\n",
    "            #print(l)\n",
    "            for m in range(l):\n",
    "                #print(dur, melody_iterator,m, dur/l, l, len(note_sequence), len(melody_seq))\n",
    "                nota = pitch.Pitch(melody_seq[melody_iterator])\n",
    "                nota.octave = nota.octave\n",
    "                nota = note.Note(nota.nameWithOctave)\n",
    "                nota.duration.quarterLength = dur/l\n",
    "                melody.append(nota)\n",
    "                melody_iterator+=1\n",
    "        \n",
    "        \n",
    "        \n",
    "        #BASS\n",
    "        # get chord durations and apply on melody (for test purpose)\n",
    "        dur = 0\n",
    "        for d in chords:\n",
    "            dur = dur + d.duration.quarterLength\n",
    "        #print(melody_seq, es)\n",
    "        nota = pitch.Pitch(sequences[0])\n",
    "        nota.octave = 2\n",
    "        nota = note.Note(nota.nameWithOctave)\n",
    "        nota.duration.quarterLength = dur\n",
    "        bass.append(nota)\n",
    "        \n",
    "        \n",
    "        \n",
    "        p0.append(melody)\n",
    "\n",
    "        p1.append(chords)\n",
    "        p2.append(bass)\n",
    "    \n",
    "    s.insert(0, p0)\n",
    "    s.insert(0, p1)\n",
    "    s.insert(0, p2)\n",
    "    s = s.transpose(0)\n",
    "    return s\n"
   ]
  },
  {
   "cell_type": "code",
   "execution_count": 174,
   "metadata": {
    "code_folding": [
     0
    ],
    "collapsed": false
   },
   "outputs": [],
   "source": [
    "# notes harmony \n",
    "def showHarmony(note_sequence, time_meter, duration_divider, arp=False, drop2 = False):\n",
    "    TS = str(time_meter[0])+'/'+str(time_meter[1])\n",
    "    \n",
    "    s = stream.Score(id='mainScore')\n",
    "   \n",
    "    p1 = stream.Part(id='part0')\n",
    "    p1.timeSignature = meter.TimeSignature(TS)\n",
    "    \n",
    "    for es, sequences in enumerate(note_sequence):\n",
    "        chords = []\n",
    "        \n",
    "        c = chord.Chord(sequences)\n",
    "        #c.root = sequences[0]\n",
    "        #c.octave = 4\n",
    "        c = c.sortDiatonicAscending()\n",
    "        c = c.semiClosedPosition(forceOctave=4)\n",
    "        c.duration.quarterLength = c.duration.quarterLength * duration_divider\n",
    "        #c.pitches[0].octave = c.pitches[0].octave-2 # drop2\n",
    "        c.pitches[2].octave = c.pitches[2].octave-1 # drop2\n",
    "        #c = c.sortDiatonicAscending() # for better voice leadng but not real!\n",
    "        chords.append(c)\n",
    "        \n",
    "        p1.append(chords)\n",
    "    \n",
    "   \n",
    "    s.insert(0, p1)\n",
    "    s = s.transpose(0)\n",
    "    return s\n"
   ]
  },
  {
   "cell_type": "code",
   "execution_count": 175,
   "metadata": {
    "collapsed": false
   },
   "outputs": [],
   "source": [
    "###"
   ]
  },
  {
   "cell_type": "code",
   "execution_count": null,
   "metadata": {
    "collapsed": false
   },
   "outputs": [],
   "source": []
  },
  {
   "cell_type": "code",
   "execution_count": 191,
   "metadata": {
    "collapsed": false
   },
   "outputs": [],
   "source": [
    "#key.getPitches()"
   ]
  },
  {
   "cell_type": "code",
   "execution_count": null,
   "metadata": {
    "collapsed": false
   },
   "outputs": [],
   "source": []
  },
  {
   "cell_type": "code",
   "execution_count": null,
   "metadata": {
    "collapsed": false
   },
   "outputs": [],
   "source": []
  },
  {
   "cell_type": "code",
   "execution_count": null,
   "metadata": {
    "collapsed": false
   },
   "outputs": [],
   "source": []
  },
  {
   "cell_type": "code",
   "execution_count": 177,
   "metadata": {
    "collapsed": false
   },
   "outputs": [],
   "source": [
    "##\n",
    "def convert_to_expansion(note, scales, expansion):\n",
    "    primary_scale = scales[0]\n",
    "    if note in primary_scale:\n",
    "        temp_note_idx = primary_scale.index(note)\n",
    "        temp_note = scales[expansion][temp_note_idx]\n",
    "    else:\n",
    "        #print(\"not here\", note, primary_scale)\n",
    "        for n in scales[expansion]:\n",
    "            if n[0] == note[0]:\n",
    "                temp_note = n # noten angleichen falls nicht in skala\n",
    "    return temp_note"
   ]
  },
  {
   "cell_type": "code",
   "execution_count": 189,
   "metadata": {
    "collapsed": false,
    "scrolled": true
   },
   "outputs": [],
   "source": [
    "###\n",
    "SPG = SP.PitchGroup()\n",
    "paths = corpus.getComposer('haydn')\n",
    "\n",
    "#print(corpus)\n",
    "a = corpus.getBachChorales()\n",
    "ch = a[120]#78, \n",
    "score = corpus.parse(paths[6])\n",
    "\n",
    "key = score.analyze('key')\n",
    "\n",
    "ka = analysis.floatingKey.KeyAnalyzer(score)\n",
    "ka.windowSize = 2 # chorale uses quick key changes\n",
    "harmonies = ka.getRawKeyByMeasure()\n",
    "#print(ka.getInterpretationByMeasure(2))\n",
    "for i,h in enumerate(harmonies):\n",
    "    if h is None:\n",
    "        harmonies[i] = key\n",
    "#print(harmonies)\n",
    "\n",
    "for i,part in enumerate(score.parts):\n",
    "    notes = part.recurse().notes.stream()\n",
    "    for x, nota in enumerate(notes):\n",
    "        \n",
    "        measure = score.measure(nota.measureNumber)\n",
    "        #print(nota.offset)\n",
    "        try:\n",
    "            key = harmonies[nota.measureNumber]\n",
    "        except:\n",
    "            key = key\n",
    "            \n",
    "        temp_scale = [str(p.name) for p in key.pitches[:-1]]\n",
    "        scale_expansion = SPG.expansions(temp_scale)\n",
    "        \n",
    "        if not nota.isNote:\n",
    "            nota.name = nota[0].name\n",
    "            \n",
    "        nota.name = convert_to_expansion(nota.name, scale_expansion, 1)"
   ]
  },
  {
   "cell_type": "code",
   "execution_count": null,
   "metadata": {
    "collapsed": false,
    "scrolled": false
   },
   "outputs": [],
   "source": []
  },
  {
   "cell_type": "code",
   "execution_count": 190,
   "metadata": {
    "collapsed": false
   },
   "outputs": [],
   "source": [
    "score.show('musicxml')"
   ]
  },
  {
   "cell_type": "code",
   "execution_count": null,
   "metadata": {
    "collapsed": false
   },
   "outputs": [],
   "source": []
  }
 ],
 "metadata": {
  "hide_input": false,
  "kernelspec": {
   "display_name": "Python [conda env:python3_test]",
   "language": "python",
   "name": "conda-env-python3_test-py"
  },
  "language_info": {
   "codemirror_mode": {
    "name": "ipython",
    "version": 3
   },
   "file_extension": ".py",
   "mimetype": "text/x-python",
   "name": "python",
   "nbconvert_exporter": "python",
   "pygments_lexer": "ipython3",
   "version": "3.5.2"
  },
  "latex_envs": {
   "LaTeX_envs_menu_present": true,
   "bibliofile": "biblio.bib",
   "cite_by": "apalike",
   "current_citInitial": 1,
   "eqLabelWithNumbers": true,
   "eqNumInitial": 1,
   "hotkeys": {
    "equation": "Ctrl-E",
    "itemize": "Ctrl-I"
   },
   "labels_anchors": false,
   "latex_user_defs": false,
   "report_style_numbering": false,
   "user_envs_cfg": false
  }
 },
 "nbformat": 4,
 "nbformat_minor": 2
}
