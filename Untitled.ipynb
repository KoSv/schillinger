{
 "cells": [
  {
   "cell_type": "code",
   "execution_count": 4,
   "metadata": {
    "collapsed": false
   },
   "outputs": [],
   "source": [
    "import schillinger.rhythm\n",
    "import schillinger.pitch\n",
    "from music21 import *\n",
    "%load_ext music21.ipython21\n",
    "%load_ext autoreload\n",
    "%autoreload 2"
   ]
  },
  {
   "cell_type": "code",
   "execution_count": 22,
   "metadata": {
    "collapsed": true
   },
   "outputs": [],
   "source": [
    "# functions\n",
    "def showNotes(notes, lens):\n",
    "\n",
    "    s = stream.Score(id='mainScore')\n",
    "    stream.Score()\n",
    "    part = stream.Part(id='part')\n",
    "    #part.timeSignature = meter.TimeSignature('8/1')\n",
    "    tones = []\n",
    "    for t,tone in enumerate(notes):\n",
    "        nota = pitch.Pitch(tone)\n",
    "        nota.octave = 3\n",
    "        nota = note.Note(nota.nameWithOctave)\n",
    "        nota.duration.quarterLength = lens[t]\n",
    "        tones.append(nota)\n",
    "\n",
    "    part.append(tones)\n",
    "    s.insert(0, part)\n",
    "    return s\n"
   ]
  },
  {
   "cell_type": "code",
   "execution_count": 26,
   "metadata": {
    "collapsed": false
   },
   "outputs": [
    {
     "data": {
      "text/plain": [
       "([['G', 'E-', 'F', 'G', 'C', 'F', 'E-', 'D', 'E-'],\n",
       "  ['D', 'G', 'B-', 'D', 'C', 'B-', 'G', 'E-', 'G'],\n",
       "  ['A-', 'B-', 'E-', 'A-', 'C', 'E-', 'B-', 'F', 'B-'],\n",
       "  ['E-', 'D', 'A-', 'E-', 'C', 'A-', 'D', 'G', 'D'],\n",
       "  ['B-', 'F', 'D', 'B-', 'C', 'D', 'F', 'A-', 'F'],\n",
       "  ['F', 'A-', 'G', 'F', 'C', 'G', 'A-', 'B-', 'A-']],\n",
       " ['F', 'A-', 'G', 'F', 'C', 'G', 'A-', 'B-', 'A-'])"
      ]
     },
     "execution_count": 26,
     "metadata": {},
     "output_type": "execute_result"
    }
   ],
   "source": [
    "# expansion tests\n",
    "scale = [\"C\",\"D\",\"E-\",\"F\",\"G\",\"A-\",\"B-\"]\n",
    "# Bach Fuga Cux\n",
    "notes = [\"G\",\"E-\",\"F\",\"G\",\"C\", \"F\", \"E-\", \"D\", \"E-\"]\n",
    "p = schillinger.pitch.PitchGroup()\n",
    "seq = p.translate_notes_to_expansions(notes, scale)\n",
    "seq, seq[5]"
   ]
  },
  {
   "cell_type": "code",
   "execution_count": 27,
   "metadata": {
    "collapsed": false
   },
   "outputs": [
    {
     "data": {
      "text/plain": [
       "['B-', 'A-', 'F', 'A-', 'G', 'F', 'C', 'G', 'A-']"
      ]
     },
     "execution_count": 27,
     "metadata": {},
     "output_type": "execute_result"
    }
   ],
   "source": [
    "length = [2,2,2,2,2,2,1,1,2] #bach rhythm\n",
    "note_sequence = seq[5] # 6th expansion\n",
    "#rotation\n",
    "cr = p.clock_rotation(note_sequence)\n",
    "ns = cr[2] # 2th rotation\n",
    "ns"
   ]
  },
  {
   "cell_type": "code",
   "execution_count": 31,
   "metadata": {
    "collapsed": false
   },
   "outputs": [
    {
     "data": {
      "text/html": [
       "\n",
       "                <div id='midiPlayerDiv3645'></div>\n",
       "                <link rel=\"stylesheet\" href=\"http://artusi.xyz/music21j/css/m21.css\" \n",
       "                    type=\"text/css\" />\n",
       "                <script>\n",
       "                require.config({\n",
       "                    paths: {'music21': 'http://artusi.xyz/music21j/src/music21'} \n",
       "                }); \n",
       "                require(['music21'], function() { \n",
       "                               mp = new music21.miditools.MidiPlayer();\n",
       "                               mp.addPlayer('#midiPlayerDiv3645'); \n",
       "                               mp.base64Load('data:audio/midi;base64,TVRoZAAAAAYAAQABBABNVHJrAAAAXwD/AwAA4ABAiACQN1qQAIA3AACQM1qQAIAzAACQNVqQAIA1AACQN1qQAIA3AACQMFqQAIAwAACQNVqQAIA1AACQM1qIAIAzAACQMlqIAIAyAACQM1qQAIAzAIgA/y8A'); \n",
       "                        });\n",
       "                </script>"
      ],
      "text/plain": [
       "<IPython.core.display.HTML object>"
      ]
     },
     "metadata": {},
     "output_type": "display_data"
    },
    {
     "data": {
      "text/html": [
       "\n",
       "                <div id='midiPlayerDiv4022'></div>\n",
       "                <link rel=\"stylesheet\" href=\"http://artusi.xyz/music21j/css/m21.css\" \n",
       "                    type=\"text/css\" />\n",
       "                <script>\n",
       "                require.config({\n",
       "                    paths: {'music21': 'http://artusi.xyz/music21j/src/music21'} \n",
       "                }); \n",
       "                require(['music21'], function() { \n",
       "                               mp = new music21.miditools.MidiPlayer();\n",
       "                               mp.addPlayer('#midiPlayerDiv4022'); \n",
       "                               mp.base64Load('data:audio/midi;base64,TVRoZAAAAAYAAQABBABNVHJrAAAAXwD/AwAA4ABAiACQMlqQAIAyAACQN1qQAIA3AACQOlqQAIA6AACQMlqQAIAyAACQMFqQAIAwAACQOlqQAIA6AACQN1qIAIA3AACQM1qIAIAzAACQN1qQAIA3AIgA/y8A'); \n",
       "                        });\n",
       "                </script>"
      ],
      "text/plain": [
       "<IPython.core.display.HTML object>"
      ]
     },
     "metadata": {},
     "output_type": "display_data"
    },
    {
     "data": {
      "text/html": [
       "\n",
       "                <div id='midiPlayerDiv4408'></div>\n",
       "                <link rel=\"stylesheet\" href=\"http://artusi.xyz/music21j/css/m21.css\" \n",
       "                    type=\"text/css\" />\n",
       "                <script>\n",
       "                require.config({\n",
       "                    paths: {'music21': 'http://artusi.xyz/music21j/src/music21'} \n",
       "                }); \n",
       "                require(['music21'], function() { \n",
       "                               mp = new music21.miditools.MidiPlayer();\n",
       "                               mp.addPlayer('#midiPlayerDiv4408'); \n",
       "                               mp.base64Load('data:audio/midi;base64,TVRoZAAAAAYAAQABBABNVHJrAAAAXwD/AwAA4ABAiACQOFqQAIA4AACQOlqQAIA6AACQM1qQAIAzAACQOFqQAIA4AACQMFqQAIAwAACQM1qQAIAzAACQOlqIAIA6AACQNVqIAIA1AACQOlqQAIA6AIgA/y8A'); \n",
       "                        });\n",
       "                </script>"
      ],
      "text/plain": [
       "<IPython.core.display.HTML object>"
      ]
     },
     "metadata": {},
     "output_type": "display_data"
    },
    {
     "data": {
      "text/html": [
       "\n",
       "                <div id='midiPlayerDiv4785'></div>\n",
       "                <link rel=\"stylesheet\" href=\"http://artusi.xyz/music21j/css/m21.css\" \n",
       "                    type=\"text/css\" />\n",
       "                <script>\n",
       "                require.config({\n",
       "                    paths: {'music21': 'http://artusi.xyz/music21j/src/music21'} \n",
       "                }); \n",
       "                require(['music21'], function() { \n",
       "                               mp = new music21.miditools.MidiPlayer();\n",
       "                               mp.addPlayer('#midiPlayerDiv4785'); \n",
       "                               mp.base64Load('data:audio/midi;base64,TVRoZAAAAAYAAQABBABNVHJrAAAAXwD/AwAA4ABAiACQM1qQAIAzAACQMlqQAIAyAACQOFqQAIA4AACQM1qQAIAzAACQMFqQAIAwAACQOFqQAIA4AACQMlqIAIAyAACQN1qIAIA3AACQMlqQAIAyAIgA/y8A'); \n",
       "                        });\n",
       "                </script>"
      ],
      "text/plain": [
       "<IPython.core.display.HTML object>"
      ]
     },
     "metadata": {},
     "output_type": "display_data"
    },
    {
     "data": {
      "text/html": [
       "\n",
       "                <div id='midiPlayerDiv5162'></div>\n",
       "                <link rel=\"stylesheet\" href=\"http://artusi.xyz/music21j/css/m21.css\" \n",
       "                    type=\"text/css\" />\n",
       "                <script>\n",
       "                require.config({\n",
       "                    paths: {'music21': 'http://artusi.xyz/music21j/src/music21'} \n",
       "                }); \n",
       "                require(['music21'], function() { \n",
       "                               mp = new music21.miditools.MidiPlayer();\n",
       "                               mp.addPlayer('#midiPlayerDiv5162'); \n",
       "                               mp.base64Load('data:audio/midi;base64,TVRoZAAAAAYAAQABBABNVHJrAAAAXwD/AwAA4ABAiACQOlqQAIA6AACQNVqQAIA1AACQMlqQAIAyAACQOlqQAIA6AACQMFqQAIAwAACQMlqQAIAyAACQNVqIAIA1AACQOFqIAIA4AACQNVqQAIA1AIgA/y8A'); \n",
       "                        });\n",
       "                </script>"
      ],
      "text/plain": [
       "<IPython.core.display.HTML object>"
      ]
     },
     "metadata": {},
     "output_type": "display_data"
    },
    {
     "data": {
      "text/html": [
       "\n",
       "                <div id='midiPlayerDiv5548'></div>\n",
       "                <link rel=\"stylesheet\" href=\"http://artusi.xyz/music21j/css/m21.css\" \n",
       "                    type=\"text/css\" />\n",
       "                <script>\n",
       "                require.config({\n",
       "                    paths: {'music21': 'http://artusi.xyz/music21j/src/music21'} \n",
       "                }); \n",
       "                require(['music21'], function() { \n",
       "                               mp = new music21.miditools.MidiPlayer();\n",
       "                               mp.addPlayer('#midiPlayerDiv5548'); \n",
       "                               mp.base64Load('data:audio/midi;base64,TVRoZAAAAAYAAQABBABNVHJrAAAAXwD/AwAA4ABAiACQNVqQAIA1AACQOFqQAIA4AACQN1qQAIA3AACQNVqQAIA1AACQMFqQAIAwAACQN1qQAIA3AACQOFqIAIA4AACQOlqIAIA6AACQOFqQAIA4AIgA/y8A'); \n",
       "                        });\n",
       "                </script>"
      ],
      "text/plain": [
       "<IPython.core.display.HTML object>"
      ]
     },
     "metadata": {},
     "output_type": "display_data"
    }
   ],
   "source": [
    "\n",
    "for sequence in seq:\n",
    "    s = showNotes(sequence,length)\n",
    "    s.show()\n",
    "    s.show('midi')"
   ]
  },
  {
   "cell_type": "code",
   "execution_count": null,
   "metadata": {
    "collapsed": true
   },
   "outputs": [],
   "source": []
  }
 ],
 "metadata": {
  "hide_input": false,
  "kernelspec": {
   "display_name": "Python [conda env:python3_test]",
   "language": "python",
   "name": "conda-env-python3_test-py"
  },
  "language_info": {
   "codemirror_mode": {
    "name": "ipython",
    "version": 3
   },
   "file_extension": ".py",
   "mimetype": "text/x-python",
   "name": "python",
   "nbconvert_exporter": "python",
   "pygments_lexer": "ipython3",
   "version": "3.5.2"
  },
  "latex_envs": {
   "LaTeX_envs_menu_present": true,
   "bibliofile": "biblio.bib",
   "cite_by": "apalike",
   "current_citInitial": 1,
   "eqLabelWithNumbers": true,
   "eqNumInitial": 1,
   "hotkeys": {
    "equation": "Ctrl-E",
    "itemize": "Ctrl-I"
   },
   "labels_anchors": false,
   "latex_user_defs": false,
   "report_style_numbering": false,
   "user_envs_cfg": false
  }
 },
 "nbformat": 4,
 "nbformat_minor": 2
}
