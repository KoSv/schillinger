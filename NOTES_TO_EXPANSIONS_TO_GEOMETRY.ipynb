{
 "cells": [
  {
   "cell_type": "code",
   "execution_count": 1,
   "metadata": {
    "code_folding": [
     0
    ],
    "collapsed": false
   },
   "outputs": [],
   "source": [
    "# imports \n",
    "%load_ext autoreload\n",
    "%autoreload 2\n",
    "import schillinger.rhythm as SR\n",
    "import schillinger.pitch as SP\n",
    "import itertools\n",
    "import random\n",
    "from music21 import *\n",
    "%load_ext music21.ipython21"
   ]
  },
  {
   "cell_type": "code",
   "execution_count": 2,
   "metadata": {
    "code_folding": [
     0
    ],
    "collapsed": false
   },
   "outputs": [],
   "source": [
    "def showNotes(note_sequece, time_meter, duration_divider):\n",
    "    TS = str(time_meter[0])+'/'+str(time_meter[1])\n",
    "    s = stream.Score(id='mainScore')\n",
    "    p0 = stream.Part(id='part0')\n",
    "    p0.timeSignature = meter.TimeSignature(TS)\n",
    "    for i, notes in enumerate(note_sequece):\n",
    "        #nota = pitch.Pitch(notes)\n",
    "        #nota.octave = 4\n",
    "        #nota = note.Note(nota)\n",
    "        #nota.duration.quarterLength = durations[i]*duration_divider\n",
    "        notes.duration.quarterLength = notes.duration.quarterLength *duration_divider\n",
    "        p0.append(notes)\n",
    "    \n",
    "    s.insert(0, p0)\n",
    "    return s"
   ]
  },
  {
   "cell_type": "code",
   "execution_count": 3,
   "metadata": {
    "code_folding": [
     47
    ],
    "collapsed": false
   },
   "outputs": [],
   "source": [
    "def note_inversions(notes, \n",
    "                    center_note, \n",
    "                    reverse_notes=False, \n",
    "                    mirror=False, \n",
    "                    reverse_intervals=False, \n",
    "                    diatonic=False, scala=None):\n",
    "    \n",
    "    new_notes = []\n",
    "    aNote = center_note\n",
    "    \n",
    "    for i, bNote in enumerate(notes):\n",
    "        \n",
    "        aInterval = interval.notesToInterval(aNote, bNote)\n",
    "        \n",
    "        if reverse_intervals:\n",
    "            aInterval = aInterval.complement\n",
    "            \n",
    "        if diatonic:\n",
    "            if scala == None:\n",
    "                print(\"NEED A SCALE!\")\n",
    "                return None\n",
    "            \n",
    "            interval_value = aInterval.generic.value\n",
    "            interval_direction = aInterval.direction\n",
    "\n",
    "            if interval_direction > 0:\n",
    "                val = -(interval_value-1)\n",
    "                new_pitch = scala.next(aNote, direction=val)\n",
    "            elif interval_direction < 0:\n",
    "                val = abs(interval_value+1)\n",
    "                new_pitch = scala.next(aNote, direction=val)\n",
    "            else:\n",
    "                new_pitch = aNote.pitch\n",
    "        else:\n",
    "            new_pitch = aInterval.transposePitch(aNote.pitch, reverse=mirror, maxAccidental=1)\n",
    "            \n",
    "        #print(new_pitch)\n",
    "        new_note = note.Note(new_pitch)\n",
    "        new_note.duration = bNote.duration\n",
    "        new_notes.append(new_note)\n",
    "        \n",
    "    if reverse_notes:\n",
    "        new_notes = list(reversed(new_notes))\n",
    "        \n",
    "    return new_notes\n",
    "\n",
    "### basics\n",
    "def convert_pitches_to_notes(notes):\n",
    "    note_seq = []\n",
    "    for i, n in enumerate(notes):\n",
    "        \n",
    "        nota = pitch.Pitch(n)\n",
    "        \n",
    "        #print(i,n)\n",
    "        nota = note.Note(nota)\n",
    "        nota.octave = 4\n",
    "        nota.duration.quarterLength = 1\n",
    "        note_seq.append(nota)\n",
    "    return note_seq"
   ]
  },
  {
   "cell_type": "code",
   "execution_count": 4,
   "metadata": {
    "collapsed": true
   },
   "outputs": [],
   "source": [
    "notes = [\"E\",\"B#\",\"D#\",\"C#\"]\n",
    "sc = scale.MelodicMinorScale('C#')"
   ]
  },
  {
   "cell_type": "code",
   "execution_count": 5,
   "metadata": {
    "collapsed": false
   },
   "outputs": [
    {
     "data": {
      "text/plain": [
       "[['E', 'B#', 'D#', 'C#'],\n",
       " ['G#', 'A#', 'E', 'C#'],\n",
       " ['B#', 'G#', 'F#', 'C#'],\n",
       " ['D#', 'F#', 'G#', 'C#'],\n",
       " ['F#', 'E', 'A#', 'C#'],\n",
       " ['A#', 'D#', 'B#', 'C#']]"
      ]
     },
     "execution_count": 5,
     "metadata": {},
     "output_type": "execute_result"
    }
   ],
   "source": [
    "SPG = SP.PitchGroup()\n",
    "temp_scale = [str(p.name) for p in sc.pitches[:-1]]\n",
    "expanded_notes = SPG.translate_notes_to_expansions(notes, temp_scale)\n",
    "expanded_notes"
   ]
  },
  {
   "cell_type": "code",
   "execution_count": 6,
   "metadata": {
    "collapsed": false
   },
   "outputs": [
    {
     "data": {
      "text/plain": [
       "[['C#', 'D#', 'E', 'F#', 'G#', 'A#', 'B#'],\n",
       " ['C#', 'E', 'G#', 'B#', 'D#', 'F#', 'A#'],\n",
       " ['C#', 'F#', 'B#', 'E', 'A#', 'D#', 'G#'],\n",
       " ['C#', 'G#', 'D#', 'A#', 'E', 'B#', 'F#'],\n",
       " ['C#', 'A#', 'F#', 'D#', 'B#', 'G#', 'E'],\n",
       " ['C#', 'B#', 'A#', 'G#', 'F#', 'E', 'D#']]"
      ]
     },
     "execution_count": 6,
     "metadata": {},
     "output_type": "execute_result"
    }
   ],
   "source": [
    "scale_expansions = SPG.expansions(temp_scale)\n",
    "scale_expansions"
   ]
  },
  {
   "cell_type": "code",
   "execution_count": 77,
   "metadata": {
    "collapsed": false
   },
   "outputs": [
    {
     "data": {
      "text/plain": [
       "[<music21.note.Note E>,\n",
       " <music21.note.Note B#>,\n",
       " <music21.note.Note D#>,\n",
       " <music21.note.Note C#>]"
      ]
     },
     "execution_count": 77,
     "metadata": {},
     "output_type": "execute_result"
    }
   ],
   "source": [
    "note_seq = convert_pitches_to_notes(expanded_notes[0])\n",
    "note_seq"
   ]
  },
  {
   "cell_type": "code",
   "execution_count": null,
   "metadata": {
    "collapsed": false
   },
   "outputs": [],
   "source": []
  },
  {
   "cell_type": "code",
   "execution_count": 78,
   "metadata": {
    "collapsed": false
   },
   "outputs": [],
   "source": [
    "seq = note_inversions(note_seq, note_seq[3], \n",
    "                      mirror=True, \n",
    "                      reverse_intervals=False, \n",
    "                      diatonic=True, scala=sc, \n",
    "                      reverse_notes=False)\n",
    "\n"
   ]
  },
  {
   "cell_type": "code",
   "execution_count": 79,
   "metadata": {
    "collapsed": false
   },
   "outputs": [
    {
     "name": "stdout",
     "output_type": "stream",
     "text": [
      "[<music21.note.Note A>, <music21.note.Note D#>, <music21.note.Note B>, <music21.note.Note C#>]\n"
     ]
    },
    {
     "data": {
      "image/png": "[encoded data removed]",
      "text/plain": [
       "<music21.ipython21.objects.IPythonPNGObject at 0x1152830b8>"
      ]
     },
     "execution_count": 79,
     "metadata": {},
     "output_type": "execute_result"
    }
   ],
   "source": [
    "s = showNotes(seq, [4,4], 1)\n",
    "print(seq)\n",
    "s.show()"
   ]
  },
  {
   "cell_type": "code",
   "execution_count": null,
   "metadata": {
    "collapsed": false,
    "scrolled": true
   },
   "outputs": [],
   "source": []
  },
  {
   "cell_type": "code",
   "execution_count": 75,
   "metadata": {
    "collapsed": false,
    "scrolled": false
   },
   "outputs": [],
   "source": [
    "all_expansions_note_seq = []\n",
    "for i,e in enumerate(expanded_notes):\n",
    "    all_expansions_note_seq.append(convert_pitches_to_notes(expanded_notes[i]))\n",
    "#all_expansions_note_seq"
   ]
  },
  {
   "cell_type": "code",
   "execution_count": 73,
   "metadata": {
    "collapsed": false
   },
   "outputs": [],
   "source": [
    "whole_seq = []\n",
    "for i, e in enumerate(all_expansions_note_seq):\n",
    "    \n",
    "    seq = note_inversions(e, e[3], \n",
    "                          mirror=True, \n",
    "                          reverse_intervals=False, \n",
    "                          diatonic=True, scala=sc, \n",
    "                          reverse_notes=False)\n",
    "    whole_seq.append(seq)\n",
    "    "
   ]
  },
  {
   "cell_type": "code",
   "execution_count": 74,
   "metadata": {
    "collapsed": false
   },
   "outputs": [
    {
     "data": {
      "text/plain": [
       "[<music21.note.Note A>,\n",
       " <music21.note.Note D#>,\n",
       " <music21.note.Note B>,\n",
       " <music21.note.Note C#>,\n",
       " <music21.note.Note F#>,\n",
       " <music21.note.Note E>,\n",
       " <music21.note.Note A>,\n",
       " <music21.note.Note C#>,\n",
       " <music21.note.Note D#>,\n",
       " <music21.note.Note F#>,\n",
       " <music21.note.Note G#>,\n",
       " <music21.note.Note C#>,\n",
       " <music21.note.Note B>,\n",
       " <music21.note.Note G#>,\n",
       " <music21.note.Note F#>,\n",
       " <music21.note.Note C#>,\n",
       " <music21.note.Note G#>,\n",
       " <music21.note.Note A>,\n",
       " <music21.note.Note E>,\n",
       " <music21.note.Note C#>,\n",
       " <music21.note.Note E>,\n",
       " <music21.note.Note B>,\n",
       " <music21.note.Note D#>,\n",
       " <music21.note.Note C#>]"
      ]
     },
     "execution_count": 74,
     "metadata": {},
     "output_type": "execute_result"
    }
   ],
   "source": [
    "whole_seq_flattend = [list(itertools.chain(*whole_seq))][0]\n",
    "whole_seq_flattend"
   ]
  },
  {
   "cell_type": "code",
   "execution_count": 60,
   "metadata": {
    "collapsed": false
   },
   "outputs": [],
   "source": [
    "s = showNotes(whole_seq_flattend, [4,4], 1)\n",
    "s.show('musicxml')"
   ]
  },
  {
   "cell_type": "code",
   "execution_count": 50,
   "metadata": {
    "code_folding": [
     0
    ],
    "collapsed": false
   },
   "outputs": [
    {
     "name": "stdout",
     "output_type": "stream",
     "text": [
      "['C#', 'E', 'G#', 'B#', 'D#', 'F#', 'A#']\n",
      "['E', 'B#', 'D#', 'C#', 'G#', 'A#', 'E', 'C#', 'B#', 'G#', 'F#', 'C#', 'D#', 'F#', 'G#', 'C#', 'F#', 'E', 'A#', 'C#', 'A#', 'D#', 'B#', 'C#'] [['F#', 'A#', 'C#', 'E'], ['C#', 'E', 'G#', 'B#'], ['E', 'G#', 'B#', 'D#'], ['D#', 'F#', 'A#', 'C#'], ['A#', 'C#', 'E', 'G#'], ['B#', 'D#', 'F#', 'A#'], ['F#', 'A#', 'C#', 'E'], ['D#', 'F#', 'A#', 'C#'], ['C#', 'E', 'G#', 'B#'], ['A#', 'C#', 'E', 'G#'], ['G#', 'B#', 'D#', 'F#'], ['D#', 'F#', 'A#', 'C#'], ['E', 'G#', 'B#', 'D#'], ['G#', 'B#', 'D#', 'F#'], ['A#', 'C#', 'E', 'G#'], ['D#', 'F#', 'A#', 'C#'], ['G#', 'B#', 'D#', 'F#'], ['F#', 'A#', 'C#', 'E'], ['B#', 'D#', 'F#', 'A#'], ['D#', 'F#', 'A#', 'C#'], ['B#', 'D#', 'F#', 'A#'], ['E', 'G#', 'B#', 'D#'], ['C#', 'E', 'G#', 'B#'], ['D#', 'F#', 'A#', 'C#']]\n"
     ]
    }
   ],
   "source": [
    "# MELODY Diatonic Harmony Cycles \n",
    "hm = scale.MelodicMinorScale('C#')\n",
    "main_scale = hm\n",
    "temp_scale = [str(p.name) for p in main_scale.pitches[:-1]]\n",
    "\n",
    "voice_amount = 4 # for now!\n",
    "scale_expansion_amount = 1 # # 1st order expansion for harmonizing is according to schillingers default\n",
    "\n",
    "scale_expansion = SPG.expansions(temp_scale)\n",
    "scale_ = scale_expansion[scale_expansion_amount] \n",
    "chordified_scale = SPG.chordify_scale(scale_, voice_amount)\n",
    "\n",
    "print(scale_)\n",
    "\n",
    "\n",
    "melody = [str(p.name) for p in whole_seq_flattend] # bach\n",
    "\n",
    "harmonized_note_sequence = SPG.harmonize_canonical(melody, chordified_scale)\n",
    "\n",
    "print(melody, harmonized_note_sequence)\n",
    "\n",
    "#cleaned_sequence = SPG.clean_harmony(harmonized_note_sequence)\n",
    "#print(cleaned_sequence)\n",
    "#merged_seq = list(itertools.chain(*cleaned_sequence))\n",
    "#merged_seq"
   ]
  },
  {
   "cell_type": "code",
   "execution_count": null,
   "metadata": {
    "collapsed": false
   },
   "outputs": [],
   "source": []
  },
  {
   "cell_type": "code",
   "execution_count": 55,
   "metadata": {
    "code_folding": [
     0,
     2,
     4,
     33
    ],
    "collapsed": false
   },
   "outputs": [],
   "source": [
    "# notes harmony \n",
    "\n",
    "def arpeggiator(c, es,rhythm, duration_divider):\n",
    "    chords = []\n",
    "    for i, seq in enumerate(c):\n",
    "                \n",
    "        nota = seq\n",
    "        nota.duration.quarterLength = (rhythm[es%len(rhythm)]/len(c)) * duration_divider\n",
    "        chords.append(nota)\n",
    "\n",
    "    nota = pitch.Pitch(c.pitches[0])\n",
    "    \n",
    "    nota.octave = nota.octave + 1\n",
    "    nota = note.Note(nota.nameWithOctave)\n",
    "    nota.duration.quarterLength = (rhythm[es%len(rhythm)]/len(c)) * duration_divider\n",
    "    chords.append(nota)\n",
    "    #octave adjust\n",
    "    #print(chords[-1].pitch.midi - chords[-2].pitch.midi, chords[-1])\n",
    "    if chords[-2].pitch.midi - chords[-3].pitch.midi >= 6:\n",
    "        chords[-2].octave = chords[-2].octave + 1\n",
    "        \n",
    "    if chords[-1].pitch.midi - chords[-2].pitch.midi >= 12:\n",
    "        chords[-1].octave = chords[-1].octave -1\n",
    "        #print(\"yes\", chords[-1], chords[-2])\n",
    "    \n",
    "    ## last note repeat the second\n",
    "    nota = pitch.Pitch(c.pitches[2])\n",
    "    nota.octave = nota.octave\n",
    "    nota = note.Note(nota.nameWithOctave)\n",
    "    nota.duration.quarterLength = (rhythm[es%len(rhythm)]/len(c)) * duration_divider\n",
    "    chords.append(nota)\n",
    "    return chords\n",
    "\n",
    "def showHarmony(note_sequence, melody_seq, rhythm, length, time_meter, duration_divider, arp=False,bass=True, drop2 = False):\n",
    "    TS = str(time_meter[0])+'/'+str(time_meter[1])\n",
    "    \n",
    "    s = stream.Score(id='mainScore')\n",
    "    p0 = stream.Part(id='melody')\n",
    "    p0.timeSignature = meter.TimeSignature(TS)\n",
    "    p1 = stream.Part(id='chords')\n",
    "    p1.timeSignature = meter.TimeSignature(TS)\n",
    "    p2 = stream.Part(id='bass')\n",
    "    p2.timeSignature = meter.TimeSignature(TS)\n",
    "    \n",
    "    melody_iterator = 0\n",
    "    for es, sequences in enumerate(note_sequence):\n",
    "        \n",
    "        melody = []\n",
    "        chords = []\n",
    "        bass = []\n",
    "        \n",
    "        \n",
    "        ### chords\n",
    "        #print(sequences)\n",
    "        chord_seq = sequences\n",
    "        test_chord = chord.Chord(chord_seq)\n",
    "        c = chord.Chord(test_chord)\n",
    "        c.root = sequences[0]\n",
    "        c.duration.quarterLength = rhythm[es%len(rhythm)] * duration_divider\n",
    "        #c = c.sortDiatonicAscending() # for better voice leadng but not real!\n",
    "        if es % 2 == 0: # rotating clock counterclock positions\n",
    "            #c = c.semiClosedPosition(inPlace=False,forceOctave=4)\n",
    "            pass\n",
    "        else:\n",
    "            #c = c.closedPosition(inPlace=False,forceOctave=4)\n",
    "            pass\n",
    "        if drop2:\n",
    "            try:\n",
    "                #c.pitches[0].octave = c.pitches[0].octave-1 # drop2\n",
    "                #c.pitches[-2].octave = c.pitches[-2].octave+2 # drop4\n",
    "                pass\n",
    "            except:\n",
    "                pass\n",
    "        \n",
    "        if arp:\n",
    "            chords =  arpeggiator(c, es, rhythm, duration_divider)\n",
    "            #chords.append(nota)\n",
    "            \n",
    "        else:\n",
    "            chords.append(c)\n",
    "            \n",
    "        #MELODY\n",
    "        # get chord durations and apply on melody (for test purpose)\n",
    "        '''dur = 0\n",
    "        for d in chords:\n",
    "            dur = dur + d.duration.quarterLength\n",
    "        #print(dur)\n",
    "        nota = pitch.Pitch(melody_seq[es])\n",
    "        nota.octave = nota.octave\n",
    "        nota = note.Note(nota.nameWithOctave)\n",
    "        nota.duration.quarterLength = dur/2\n",
    "        melody.append(nota)\n",
    "        #melody 2nd tone\n",
    "        ###'''\n",
    "        dur = 0\n",
    "        for d in chords:\n",
    "                dur = dur + d.duration.quarterLength\n",
    "        \n",
    "        if len(melody_seq) >= len(note_sequence):\n",
    "            l = round(len(melody_seq) / len(note_sequence))\n",
    "            #print(l)\n",
    "            for m in range(l):\n",
    "                #print(dur, melody_iterator,m, dur/l, l, len(note_sequence), len(melody_seq))\n",
    "                nota = pitch.Pitch(melody_seq[melody_iterator])\n",
    "                nota.octave = nota.octave\n",
    "                nota = note.Note(nota.nameWithOctave)\n",
    "                nota.duration.quarterLength = dur/l\n",
    "                melody.append(nota)\n",
    "                melody_iterator+=1\n",
    "        \n",
    "        \n",
    "        \n",
    "        #BASS\n",
    "        # get chord durations and apply on melody (for test purpose)\n",
    "        dur = 0\n",
    "        for d in chords:\n",
    "            dur = dur + d.duration.quarterLength\n",
    "        #print(melody_seq, es)\n",
    "        nota = pitch.Pitch(sequences[0])\n",
    "        nota.octave = 2\n",
    "        nota = note.Note(nota.nameWithOctave)\n",
    "        nota.duration.quarterLength = dur\n",
    "        bass.append(nota)\n",
    "        \n",
    "        \n",
    "        \n",
    "        #p0.append(melody)\n",
    "\n",
    "        p1.append(chords)\n",
    "        p2.append(bass)\n",
    "    \n",
    "    #s.insert(0, p0)\n",
    "    s.insert(0, p1)\n",
    "    s.insert(0, p2)\n",
    "    s = s.transpose(0)\n",
    "    return s\n"
   ]
  },
  {
   "cell_type": "code",
   "execution_count": 59,
   "metadata": {
    "collapsed": false
   },
   "outputs": [],
   "source": [
    "#s = showHarmony(harmonized_note_sequence, melody, [1], len(merged_seq), (3,4), 2, arp=True, bass=False, drop2=True)\n",
    "# notes harmony \n",
    "#s.show('musicxml')"
   ]
  },
  {
   "cell_type": "code",
   "execution_count": null,
   "metadata": {
    "collapsed": true
   },
   "outputs": [],
   "source": []
  }
 ],
 "metadata": {
  "hide_input": false,
  "kernelspec": {
   "display_name": "Python [conda env:python3_test]",
   "language": "python",
   "name": "conda-env-python3_test-py"
  },
  "language_info": {
   "codemirror_mode": {
    "name": "ipython",
    "version": 3
   },
   "file_extension": ".py",
   "mimetype": "text/x-python",
   "name": "python",
   "nbconvert_exporter": "python",
   "pygments_lexer": "ipython3",
   "version": "3.5.2"
  },
  "latex_envs": {
   "LaTeX_envs_menu_present": true,
   "bibliofile": "biblio.bib",
   "cite_by": "apalike",
   "current_citInitial": 1,
   "eqLabelWithNumbers": true,
   "eqNumInitial": 1,
   "hotkeys": {
    "equation": "Ctrl-E",
    "itemize": "Ctrl-I"
   },
   "labels_anchors": false,
   "latex_user_defs": false,
   "report_style_numbering": false,
   "user_envs_cfg": false
  }
 },
 "nbformat": 4,
 "nbformat_minor": 2
}
