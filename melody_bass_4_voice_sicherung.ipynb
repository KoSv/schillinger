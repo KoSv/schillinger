{
 "cells": [
  {
   "cell_type": "code",
   "execution_count": 1,
   "metadata": {
    "code_folding": [
     0
    ],
    "collapsed": false
   },
   "outputs": [],
   "source": [
    "# imports \n",
    "%load_ext autoreload\n",
    "%autoreload 2\n",
    "import schillinger.rhythm as SR\n",
    "import schillinger.pitch as SP\n",
    "import itertools\n",
    "import random\n",
    "from music21 import *\n",
    "%load_ext music21.ipython21"
   ]
  },
  {
   "cell_type": "code",
   "execution_count": 2,
   "metadata": {
    "code_folding": [
     0
    ],
    "collapsed": false
   },
   "outputs": [],
   "source": [
    "#convert2d to 1d \n",
    "def convert2Dto1D(data):\n",
    "    flat_array = []\n",
    "    for d in data:\n",
    "        if isinstance(d[0], list) or isinstance(d[0], tuple):\n",
    "            for l in d:\n",
    "                \n",
    "                flat_array.append(l)\n",
    "        else:\n",
    "            flat_array.append(d)\n",
    "    return flat_array"
   ]
  },
  {
   "cell_type": "code",
   "execution_count": 38,
   "metadata": {
    "code_folding": [],
    "collapsed": false
   },
   "outputs": [],
   "source": [
    "# notes harmony \n",
    "\n",
    "def arpeggiator(c, es,rhythm, duration_divider):\n",
    "    chords = []\n",
    "    for i, seq in enumerate(c):\n",
    "                \n",
    "        nota = seq\n",
    "        nota.duration.quarterLength = (rhythm[es%len(rhythm)]/len(c)) * duration_divider\n",
    "        chords.append(nota)\n",
    "\n",
    "    nota = pitch.Pitch(c.pitches[0])\n",
    "    \n",
    "    \n",
    "    nota.octave = nota.octave + 2\n",
    "    nota = note.Note(nota.nameWithOctave)\n",
    "    #nota.duration.quarterLength = rhythm[es%len(rhythm)] * duration_divider\n",
    "    nota.duration.quarterLength = (rhythm[es%len(rhythm)]/len(c)) * duration_divider\n",
    "    \n",
    "   \n",
    "    chords.append(nota)\n",
    "    #octave adjust\n",
    "    \n",
    "    \n",
    "    #print(chords[-1].pitch.midi - chords[-2].pitch.midi, chords[-1])\n",
    "    if chords[-1].pitch.midi - chords[-2].pitch.midi >= 11:\n",
    "        chords[-1].octave = chords[-1].octave -1\n",
    "        #print(\"yes\")\n",
    "    ##\n",
    "    nota = pitch.Pitch(c.pitches[2])\n",
    "    nota.octave = nota.octave\n",
    "    nota = note.Note(nota.nameWithOctave)\n",
    "    #nota.duration.quarterLength = rhythm[es%len(rhythm)] * duration_divider\n",
    "    nota.duration.quarterLength = (rhythm[es%len(rhythm)]/len(c)) * duration_divider\n",
    "    chords.append(nota)\n",
    "    return chords\n",
    "\n",
    "def showHarmony(note_sequence, melody, rhythm, length, time_meter, duration_divider, arp=False,bass=True, drop2 = False):\n",
    "    TS = str(time_meter[0])+'/'+str(time_meter[1])\n",
    "    \n",
    "    s = stream.Score(id='mainScore')\n",
    "    p0 = stream.Part(id='melody')\n",
    "    p0.timeSignature = meter.TimeSignature(TS)\n",
    "    p1 = stream.Part(id='chords')\n",
    "    p1.timeSignature = meter.TimeSignature(TS)\n",
    "    \n",
    "    for es, sequences in enumerate(note_sequence):\n",
    "        \n",
    "        melody = []\n",
    "        chords = []\n",
    "        \n",
    "        \n",
    "        ### chords\n",
    "        chord_seq = [sequences[0]]+sequences[1]\n",
    "        print(chord_seq)\n",
    "        test_chord = chord.Chord(chord_seq)\n",
    "        c = chord.Chord(test_chord)\n",
    "        c.root = sequences[0]\n",
    "        c.duration.quarterLength = rhythm[es%len(rhythm)] * duration_divider\n",
    "        #c = c.sortDiatonicAscending() # for better voice leadng but not real!\n",
    "        if es % 2 == 0: # rotating clock counterclock positions\n",
    "            #c = c.semiClosedPosition(inPlace=False,forceOctave=4)\n",
    "            pass\n",
    "        else:\n",
    "            #c = c.closedPosition(inPlace=False,forceOctave=4)\n",
    "            pass\n",
    "        if drop2:\n",
    "            try:\n",
    "                c.pitches[0].octave = c.pitches[0].octave-1 # drop2\n",
    "                #c.pitches[-2].octave = c.pitches[-2].octave+2 # drop4\n",
    "                pass\n",
    "            except:\n",
    "                pass\n",
    "        \n",
    "        if arp:\n",
    "            chords =  arpeggiator(c, es, rhythm, duration_divider)\n",
    "            #chords.append(nota)\n",
    "            \n",
    "        else:\n",
    "            chords.append(c)\n",
    "            \n",
    "        #melody\n",
    "        # get chord durations and apply on melody (for test purpose)\n",
    "        dur = 0\n",
    "        for d in chords:\n",
    "            dur = dur + d.duration.quarterLength\n",
    "        #print(dur)\n",
    "        nota = pitch.Pitch(sequences[0])\n",
    "        nota.octave = nota.octave\n",
    "        nota = note.Note(nota.nameWithOctave)\n",
    "        nota.duration.quarterLength = dur\n",
    "        melody.append(nota)\n",
    "        \n",
    "        \n",
    "        \n",
    "        p0.append(melody)\n",
    "\n",
    "        p1.append(chords)\n",
    "    \n",
    "    #s.insert(0, p0)\n",
    "    s.insert(0, p1)\n",
    "    s = s.transpose(0)\n",
    "    return s\n"
   ]
  },
  {
   "cell_type": "code",
   "execution_count": 27,
   "metadata": {
    "code_folding": [
     1
    ],
    "collapsed": false
   },
   "outputs": [
    {
     "name": "stdout",
     "output_type": "stream",
     "text": [
      "[['C4', 'F4', 'D4', 'E-4', 'A-4', 'F4', 'G4', 'C4', 'A-4', 'B4', 'E-4', 'C4', 'D4', 'G4', 'E-4', 'F4', 'B4', 'G4', 'A-4', 'D4', 'B4', 'C4'], ['C4', 'F4', 'D4', 'E-4', 'A4', 'F4', 'G4', 'C4', 'A4', 'B-4', 'E-4', 'C4', 'D4', 'G4', 'E-4', 'F4', 'B-4', 'G4', 'A4', 'D4', 'B-4', 'C4']] [['C4', 'D4', 'E-4', 'F4', 'G4', 'A-4', 'B4'], ['C4', 'D4', 'E-4', 'F4', 'G4', 'A4', 'B-4']]\n"
     ]
    }
   ],
   "source": [
    "# MAIN FUNCTION\n",
    "def harmonize_dt_bass(scales, diatonic_cycles_string, coeficients):\n",
    "    SPG = SP.PitchGroup()\n",
    "    bass = []\n",
    "    harmonies = []\n",
    "    for s in scales:\n",
    "        temp_scale = [str(p) for p in s.pitches[:-1]]\n",
    "        scale_expansion = SPG.expansions(temp_scale)\n",
    "        C7 = scale_expansion[0]\n",
    "        C3 = scale_expansion[4]\n",
    "        C5 = scale_expansion[2]\n",
    "        diatonic_cycles = []\n",
    "        for i in diatonic_cycles_string:\n",
    "            if i == \"C3\":\n",
    "                diatonic_cycles.append(C3)\n",
    "            elif i == \"C5\":\n",
    "                diatonic_cycles.append(C5)\n",
    "            elif i == \"C7\":\n",
    "                diatonic_cycles.append(C7)\n",
    "            else:\n",
    "                print(\"diatonic_cycles_string Value Error!\")\n",
    "                \n",
    "        diatonic_cycle = SP.pitch_cicles(temp_scale, diatonic_cycles, [1,1,1])\n",
    "        harmonies.append(temp_scale)\n",
    "        bass.append(diatonic_cycle)\n",
    "    return [bass, harmonies]\n",
    "\n",
    "hm = scale.HarmonicMinorScale(\"C4\")\n",
    "do = scale.DorianScale(\"C4\")\n",
    "ms = scale.MixolydianScale(\"C4\")\n",
    "ls = scale.LydianScale(\"C4\")\n",
    "\n",
    "hb = harmonize_dt_bass([hm,do], [\"C5\",\"C3\",\"C7\"], [2,1,2])\n",
    "\n",
    "bass = hb[0]\n",
    "scales = hb[1]\n",
    "seq_rhythm = [1]\n",
    "print(bass,scales)"
   ]
  },
  {
   "cell_type": "code",
   "execution_count": 39,
   "metadata": {
    "code_folding": [],
    "collapsed": false,
    "scrolled": false
   },
   "outputs": [
    {
     "name": "stdout",
     "output_type": "stream",
     "text": [
      "[[[['C4', 'E-4', 'G4', 'B4'], ['F4', 'A-4', 'C4', 'E-4']]], [[['C4', 'E-4', 'G4', 'B-4'], ['F4', 'A4', 'C4', 'E-4']]]] [[['C4', 'E-4', 'G4', 'B4'], ['F4', 'A-4', 'C4', 'E-4']], [['C4', 'E-4', 'G4', 'B-4'], ['F4', 'A4', 'C4', 'E-4']]]\n",
      "[['C4', 'E-4', 'G4', 'B4'], 'F4', 'A-4', 'C4', 'E-4']\n"
     ]
    },
    {
     "ename": "ChordException",
     "evalue": "Could not process input argument ['C4', 'E-4', 'G4', 'B4']",
     "output_type": "error",
     "traceback": [
      "\u001b[0;31m---------------------------------------------------------------------------\u001b[0m",
      "\u001b[0;31mChordException\u001b[0m                            Traceback (most recent call last)",
      "\u001b[0;32m<ipython-input-39-532acd920ee9>\u001b[0m in \u001b[0;36m<module>\u001b[0;34m()\u001b[0m\n\u001b[1;32m     18\u001b[0m \u001b[0;31m#s = showMultipleScore_MelodyHarmony(merged_seq, myscale, seq_rhythm, len(merged_seq)*2, [4,4], 2, arp=False, bass=False)\u001b[0m\u001b[0;34m\u001b[0m\u001b[0;34m\u001b[0m\u001b[0m\n\u001b[1;32m     19\u001b[0m \u001b[0;34m\u001b[0m\u001b[0m\n\u001b[0;32m---> 20\u001b[0;31m \u001b[0ms\u001b[0m \u001b[0;34m=\u001b[0m \u001b[0mshowHarmony\u001b[0m\u001b[0;34m(\u001b[0m\u001b[0mmerged_seq\u001b[0m\u001b[0;34m,\u001b[0m \u001b[0;34m\"myscale\"\u001b[0m\u001b[0;34m,\u001b[0m \u001b[0mseq_rhythm\u001b[0m\u001b[0;34m,\u001b[0m \u001b[0mlen\u001b[0m\u001b[0;34m(\u001b[0m\u001b[0mmerged_seq\u001b[0m\u001b[0;34m)\u001b[0m\u001b[0;34m*\u001b[0m\u001b[0;36m2\u001b[0m\u001b[0;34m,\u001b[0m \u001b[0;34m(\u001b[0m\u001b[0;36m4\u001b[0m\u001b[0;34m,\u001b[0m\u001b[0;36m4\u001b[0m\u001b[0;34m)\u001b[0m\u001b[0;34m,\u001b[0m \u001b[0;36m2\u001b[0m\u001b[0;34m,\u001b[0m \u001b[0marp\u001b[0m\u001b[0;34m=\u001b[0m\u001b[0;32mTrue\u001b[0m\u001b[0;34m,\u001b[0m \u001b[0mbass\u001b[0m\u001b[0;34m=\u001b[0m\u001b[0;32mFalse\u001b[0m\u001b[0;34m,\u001b[0m \u001b[0mdrop2\u001b[0m\u001b[0;34m=\u001b[0m\u001b[0;32mTrue\u001b[0m\u001b[0;34m)\u001b[0m\u001b[0;34m\u001b[0m\u001b[0m\n\u001b[0m\u001b[1;32m     21\u001b[0m \u001b[0;34m\u001b[0m\u001b[0m\n\u001b[1;32m     22\u001b[0m \u001b[0;34m\u001b[0m\u001b[0m\n",
      "\u001b[0;32m<ipython-input-38-832acf5bb510>\u001b[0m in \u001b[0;36mshowHarmony\u001b[0;34m(note_sequence, melody, rhythm, length, time_meter, duration_divider, arp, bass, drop2)\u001b[0m\n\u001b[1;32m     53\u001b[0m         \u001b[0mchord_seq\u001b[0m \u001b[0;34m=\u001b[0m \u001b[0;34m[\u001b[0m\u001b[0msequences\u001b[0m\u001b[0;34m[\u001b[0m\u001b[0;36m0\u001b[0m\u001b[0;34m]\u001b[0m\u001b[0;34m]\u001b[0m\u001b[0;34m+\u001b[0m\u001b[0msequences\u001b[0m\u001b[0;34m[\u001b[0m\u001b[0;36m1\u001b[0m\u001b[0;34m]\u001b[0m\u001b[0;34m\u001b[0m\u001b[0m\n\u001b[1;32m     54\u001b[0m         \u001b[0mprint\u001b[0m\u001b[0;34m(\u001b[0m\u001b[0mchord_seq\u001b[0m\u001b[0;34m)\u001b[0m\u001b[0;34m\u001b[0m\u001b[0m\n\u001b[0;32m---> 55\u001b[0;31m         \u001b[0mtest_chord\u001b[0m \u001b[0;34m=\u001b[0m \u001b[0mchord\u001b[0m\u001b[0;34m.\u001b[0m\u001b[0mChord\u001b[0m\u001b[0;34m(\u001b[0m\u001b[0mchord_seq\u001b[0m\u001b[0;34m)\u001b[0m\u001b[0;34m\u001b[0m\u001b[0m\n\u001b[0m\u001b[1;32m     56\u001b[0m         \u001b[0mc\u001b[0m \u001b[0;34m=\u001b[0m \u001b[0mchord\u001b[0m\u001b[0;34m.\u001b[0m\u001b[0mChord\u001b[0m\u001b[0;34m(\u001b[0m\u001b[0mtest_chord\u001b[0m\u001b[0;34m)\u001b[0m\u001b[0;34m\u001b[0m\u001b[0m\n\u001b[1;32m     57\u001b[0m         \u001b[0mc\u001b[0m\u001b[0;34m.\u001b[0m\u001b[0mroot\u001b[0m \u001b[0;34m=\u001b[0m \u001b[0msequences\u001b[0m\u001b[0;34m[\u001b[0m\u001b[0;36m0\u001b[0m\u001b[0;34m]\u001b[0m\u001b[0;34m\u001b[0m\u001b[0m\n",
      "\u001b[0;32m/Users/koko/anaconda/envs/python3_test/lib/python3.5/site-packages/music21/chord/__init__.py\u001b[0m in \u001b[0;36m__init__\u001b[0;34m(self, notes, **keywords)\u001b[0m\n\u001b[1;32m    256\u001b[0m                 \u001b[0;31m#self._notes.append({'pitch':music21.pitch.Pitch(n)})\u001b[0m\u001b[0;34m\u001b[0m\u001b[0;34m\u001b[0m\u001b[0m\n\u001b[1;32m    257\u001b[0m             \u001b[0;32melse\u001b[0m\u001b[0;34m:\u001b[0m\u001b[0;34m\u001b[0m\u001b[0m\n\u001b[0;32m--> 258\u001b[0;31m                 \u001b[0;32mraise\u001b[0m \u001b[0mChordException\u001b[0m\u001b[0;34m(\u001b[0m\u001b[0;34m\"Could not process input argument %s\"\u001b[0m \u001b[0;34m%\u001b[0m \u001b[0mn\u001b[0m\u001b[0;34m)\u001b[0m\u001b[0;34m\u001b[0m\u001b[0m\n\u001b[0m\u001b[1;32m    259\u001b[0m \u001b[0;34m\u001b[0m\u001b[0m\n\u001b[1;32m    260\u001b[0m         \u001b[0;32mif\u001b[0m \u001b[0mall\u001b[0m\u001b[0;34m(\u001b[0m\u001b[0misinstance\u001b[0m\u001b[0;34m(\u001b[0m\u001b[0mn\u001b[0m\u001b[0;34m,\u001b[0m \u001b[0mint\u001b[0m\u001b[0;34m)\u001b[0m \u001b[0;32mfor\u001b[0m \u001b[0mn\u001b[0m \u001b[0;32min\u001b[0m \u001b[0mnotes\u001b[0m\u001b[0;34m)\u001b[0m\u001b[0;34m:\u001b[0m\u001b[0;34m\u001b[0m\u001b[0m\n",
      "\u001b[0;31mChordException\u001b[0m: Could not process input argument ['C4', 'E-4', 'G4', 'B4']"
     ]
    }
   ],
   "source": [
    "# music21 converter \n",
    "\n",
    "########################################################\n",
    "#notes_permutations = SPG.melodic_forms_definition(notes)\n",
    "voice_amount = 4 # for now!\n",
    "theme_expansion = 0\n",
    "scale_expansion_amount = 1 # # 1st order expansion for harmonizing is according to schillingers default\n",
    "#print(scales)\n",
    "#whole_seq = SP.get_whole_sequence(melody, scales, voice_amount, theme_expansion, scale_expansion_amount)\n",
    "whole_seq = SP.get_whole_sequence_bass(bass, scales, voice_amount, theme_expansion, scale_expansion_amount)\n",
    "merged_seq = list(itertools.chain(*whole_seq))\n",
    "print(whole_seq, merged_seq)\n",
    "## apply original melody (correct octaves)\n",
    "for i, m in enumerate(merged_seq):\n",
    "    #merged_seq[i][0] = merged_seq[i][0] + str(pitches[i].octave)\n",
    "    pass\n",
    "    \n",
    "#s = showMultipleScore_MelodyHarmony(merged_seq, myscale, seq_rhythm, len(merged_seq)*2, [4,4], 2, arp=False, bass=False)\n",
    "\n",
    "s = showHarmony(merged_seq, \"myscale\", seq_rhythm, len(merged_seq)*2, (4,4), 2, arp=True, bass=False, drop2=True)\n",
    "\n",
    "\n",
    "\n",
    "#s.show('musicxml')"
   ]
  },
  {
   "cell_type": "code",
   "execution_count": null,
   "metadata": {
    "collapsed": false
   },
   "outputs": [],
   "source": []
  }
 ],
 "metadata": {
  "hide_input": false,
  "kernelspec": {
   "display_name": "Python [conda env:python3_test]",
   "language": "python",
   "name": "conda-env-python3_test-py"
  },
  "language_info": {
   "codemirror_mode": {
    "name": "ipython",
    "version": 3
   },
   "file_extension": ".py",
   "mimetype": "text/x-python",
   "name": "python",
   "nbconvert_exporter": "python",
   "pygments_lexer": "ipython3",
   "version": "3.5.2"
  },
  "latex_envs": {
   "LaTeX_envs_menu_present": true,
   "bibliofile": "biblio.bib",
   "cite_by": "apalike",
   "current_citInitial": 1,
   "eqLabelWithNumbers": true,
   "eqNumInitial": 1,
   "hotkeys": {
    "equation": "Ctrl-E",
    "itemize": "Ctrl-I"
   },
   "labels_anchors": false,
   "latex_user_defs": false,
   "report_style_numbering": false,
   "user_envs_cfg": false
  }
 },
 "nbformat": 4,
 "nbformat_minor": 2
}
