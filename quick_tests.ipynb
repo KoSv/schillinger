{
 "cells": [
  {
   "cell_type": "code",
   "execution_count": 1,
   "metadata": {
    "collapsed": false
   },
   "outputs": [
    {
     "name": "stdout",
     "output_type": "stream",
     "text": [
      "[1, 1, 1, 1, 1, 1, 1, 1, 1, 1, 1, 1, 1, 1, 1, 1, 1, 1, 1, 1] [[5, 5, 5, 5], [4, 4, 4, 4, 4]] [4, 1, 3, 2, 2, 3, 1, 4]\n"
     ]
    }
   ],
   "source": [
    "import schillinger.rhythm\n",
    "a = 5\n",
    "b = 4\n",
    "fraction = [a,b]\n",
    "\n",
    "sr = schillinger.rhythm.Type_I(fraction)\n",
    "print(sr.common_product, sr.generators, sr.resultant)"
   ]
  },
  {
   "cell_type": "code",
   "execution_count": 2,
   "metadata": {
    "collapsed": false
   },
   "outputs": [
    {
     "name": "stdout",
     "output_type": "stream",
     "text": [
      "Help on package schillinger:\n",
      "\n",
      "NAME\n",
      "    schillinger\n",
      "\n",
      "DESCRIPTION\n",
      "    This is a Python Implementation of\n",
      "    \"The Schillinger System Of Musical Composition\"\n",
      "    c. Konstantin Svechtarov 2017\n",
      "    \n",
      "    required packages:\n",
      "        music21\n",
      "        numpy\n",
      "        #matplolib\n",
      "\n",
      "PACKAGE CONTENTS\n",
      "    rhythm\n",
      "\n",
      "DATA\n",
      "    __all__ = ['rhythm']\n",
      "\n",
      "FILE\n",
      "    /Users/koko/PycharmProjects/ipython_schillinger/schillinger/__init__.py\n",
      "\n",
      "\n"
     ]
    }
   ],
   "source": [
    "help(schillinger)"
   ]
  },
  {
   "cell_type": "code",
   "execution_count": null,
   "metadata": {
    "collapsed": true
   },
   "outputs": [],
   "source": []
  }
 ],
 "metadata": {
  "hide_input": false,
  "kernelspec": {
   "display_name": "Python [conda env:python3_test]",
   "language": "python",
   "name": "conda-env-python3_test-py"
  },
  "language_info": {
   "codemirror_mode": {
    "name": "ipython",
    "version": 3
   },
   "file_extension": ".py",
   "mimetype": "text/x-python",
   "name": "python",
   "nbconvert_exporter": "python",
   "pygments_lexer": "ipython3",
   "version": "3.5.2"
  },
  "latex_envs": {
   "LaTeX_envs_menu_present": true,
   "bibliofile": "biblio.bib",
   "cite_by": "apalike",
   "current_citInitial": 1,
   "eqLabelWithNumbers": true,
   "eqNumInitial": 1,
   "hotkeys": {
    "equation": "Ctrl-E",
    "itemize": "Ctrl-I"
   },
   "labels_anchors": false,
   "latex_user_defs": false,
   "report_style_numbering": false,
   "user_envs_cfg": false
  }
 },
 "nbformat": 4,
 "nbformat_minor": 2
}
