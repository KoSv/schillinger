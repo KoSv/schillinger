{
 "cells": [
  {
   "cell_type": "code",
   "execution_count": 1,
   "metadata": {
    "code_folding": [
     0
    ],
    "collapsed": false
   },
   "outputs": [],
   "source": [
    "# imports \n",
    "%load_ext autoreload\n",
    "%autoreload 2\n",
    "import schillinger.rhythm as SR\n",
    "import schillinger.pitch as SP\n",
    "import itertools\n",
    "import random\n",
    "from music21 import *\n",
    "%load_ext music21.ipython21"
   ]
  },
  {
   "cell_type": "code",
   "execution_count": 2,
   "metadata": {
    "code_folding": [
     0
    ],
    "collapsed": false
   },
   "outputs": [],
   "source": [
    "#notes old \n",
    "\n",
    "def convert2Dto1D(data):\n",
    "    flat_array = []\n",
    "    for d in data:\n",
    "        if isinstance(d[0], list) or isinstance(d[0], tuple):\n",
    "            for l in d:\n",
    "                \n",
    "                flat_array.append(l)\n",
    "        else:\n",
    "            flat_array.append(d)\n",
    "    return flat_array\n",
    "    \n",
    "\n",
    "def showSplittedNotes(length, data, time_meter, note_sequece, duration_divider):\n",
    "    attacks = convert2Dto1D(data)\n",
    "    #TS = str(int(len(clock))) +'/'+ str(int((clock[0].duration.quarterLength*16)))\n",
    "    TS = str(time_meter[0])+'/'+str(time_meter[1])\n",
    "    \n",
    "    s = stream.Score(id='mainScore')\n",
    "    \n",
    "    for seq, sequences in enumerate(attacks):\n",
    "        p0 = stream.Part(id='part0')\n",
    "        p0.timeSignature = meter.TimeSignature(TS)\n",
    "        tones = []\n",
    "        note_counter = 0\n",
    "        for i in range(len(sequences)):\n",
    "            nota = pitch.Pitch(note_sequece[note_counter%len(note_sequece)])\n",
    "            note_counter += 1\n",
    "            #nota.octave = 4\n",
    "            nota = note.Note(nota.nameWithOctave)\n",
    "            nota.duration.quarterLength = sequences[i%len(sequences)]*duration_divider\n",
    "            tones.append(nota)\n",
    "            \n",
    "        p0.append(tones)\n",
    "        s.insert(0, p0)\n",
    "    return s\n",
    "\n",
    "def showSplittedNotesWhole(length, data, time_meter, note_sequece, duration_divider):\n",
    "    attacks = convert2Dto1D(data)\n",
    "    #TS = str(int(len(clock))) +'/'+ str(int((clock[0].duration.quarterLength*16)))\n",
    "    TS = str(time_meter[0])+'/'+str(time_meter[1])\n",
    "    \n",
    "    s = stream.Score(id='mainScore')\n",
    "    \n",
    "    for sequences in attacks:\n",
    "        p0 = stream.Part(id='part0')\n",
    "        p0.timeSignature = meter.TimeSignature(TS)\n",
    "        tones = []\n",
    "        note_counter = 0\n",
    "        for i in range(length):\n",
    "            nota = pitch.Pitch(note_sequece[note_counter%len(note_sequece)])\n",
    "            note_counter += 1\n",
    "            #nota.octave = 4\n",
    "            nota = note.Note(nota.nameWithOctave)\n",
    "            nota.duration.quarterLength = sequences[i%len(sequences)]*duration_divider\n",
    "            tones.append(nota)\n",
    "            \n",
    "        p0.append(tones)\n",
    "        s.insert(0, p0)\n",
    "    return s\n"
   ]
  },
  {
   "cell_type": "code",
   "execution_count": 3,
   "metadata": {
    "collapsed": false
   },
   "outputs": [
    {
     "data": {
      "text/plain": [
       "([3, 1, 2, 2, 1, 3], [3, 1, 2, 1, 1, 1, 1, 2, 1, 3])"
      ]
     },
     "execution_count": 3,
     "metadata": {},
     "output_type": "execute_result"
    }
   ],
   "source": [
    "a = 4\n",
    "b = 3\n",
    "fraction = [a,b]\n",
    "\n",
    "sr = SR.Type_I(fraction)\n",
    "_sr_ = SR.Type_II(fraction)\n",
    "sr.resultant, _sr_.resultant"
   ]
  },
  {
   "cell_type": "code",
   "execution_count": null,
   "metadata": {
    "collapsed": false
   },
   "outputs": [],
   "source": [
    "result = sr.resultant\n",
    "fraction = 2/4\n",
    "SR.slice_by_fraction(result, fraction)"
   ]
  },
  {
   "cell_type": "code",
   "execution_count": 7,
   "metadata": {
    "code_folding": [
     0
    ],
    "collapsed": false
   },
   "outputs": [],
   "source": [
    "# notes \n",
    "\n",
    "def showMultipleScore_MelodyHarmony(note_sequence, myscale, rhythm, length, time_meter, duration_divider, arp=False):\n",
    "    #attacks = convert2Dto1D(data)\n",
    "    #TS = str(int(len(clock))) +'/'+ str(int((clock[0].duration.quarterLength*16)))\n",
    "    TS = str(time_meter[0])+'/'+str(time_meter[1])\n",
    "    \n",
    "    s = stream.Score(id='mainScore')\n",
    "    p0 = stream.Part(id='part0')\n",
    "    p0.timeSignature = meter.TimeSignature(TS)\n",
    "    p1 = stream.Part(id='part0')\n",
    "    p1.timeSignature = meter.TimeSignature(TS)\n",
    "    for es, sequences in enumerate(note_sequence):\n",
    "        \n",
    "        \n",
    "        tones = []\n",
    "        tones2 = []\n",
    "        \n",
    "        nota = pitch.Pitch(sequences[0])\n",
    "        nota.octave = 4\n",
    "        nota = note.Note(nota.nameWithOctave)\n",
    "        nota.duration.quarterLength = rhythm[es%len(rhythm)]\n",
    "        tones.append(nota)\n",
    "        \n",
    "        \n",
    "                \n",
    "        chord_notes = []\n",
    "        c = chord.Chord(sequences[1])\n",
    "        #c.pitches.octave = 1\n",
    "        c.duration.quarterLength = rhythm[es%len(rhythm)]\n",
    "        c = c.sortAscending(inPlace=False)\n",
    "        c = c.closedPosition(inPlace=False,forceOctave=3)\n",
    "        try:\n",
    "            c.pitches[1].octave = c.pitches[1].octave-1 # drop2\n",
    "        except:\n",
    "            pass\n",
    "        \n",
    "        if arp:\n",
    "            for i, seq in enumerate(c):\n",
    "                \n",
    "                nota = seq\n",
    "                nota.duration.quarterLength = rhythm[es%len(rhythm)]/len(c)\n",
    "                tones2.append(nota)\n",
    "        else:\n",
    "            tones2.append(c)\n",
    "            \n",
    "        p0.append(tones)\n",
    "        p1.append(tones2)\n",
    "    s.insert(0, p0)\n",
    "    s.insert(0, p1)\n",
    "    return s\n",
    "\n",
    "# NOTES FOR RHYTM\n",
    "\n",
    "def showSplittedNotes_RHYTHM(length, data, time_meter, note_sequece, duration_divider):\n",
    "    attacks = convert2Dto1D(data)\n",
    "    #TS = str(int(len(clock))) +'/'+ str(int((clock[0].duration.quarterLength*16)))\n",
    "    TS = str(time_meter[0])+'/'+str(time_meter[1])\n",
    "    \n",
    "    s = stream.Score(id='mainScore')\n",
    "    \n",
    "    for seq, sequences in enumerate(attacks):\n",
    "        p0 = stream.Part(id='part0')\n",
    "        p0.timeSignature = meter.TimeSignature(TS)\n",
    "        tones = []\n",
    "        note_counter = 0\n",
    "        for i in range(len(sequences)):\n",
    "            nota = pitch.Pitch(note_sequece[note_counter%len(note_sequece)])\n",
    "            note_counter += 1\n",
    "            nota.octave = 4-seq\n",
    "            nota = note.Note(nota.nameWithOctave)\n",
    "            nota.duration.quarterLength = sequences[i%len(sequences)]*duration_divider\n",
    "            tones.append(nota)\n",
    "            \n",
    "        p0.append(tones)\n",
    "        s.insert(0, p0)\n",
    "    return s\n"
   ]
  },
  {
   "cell_type": "code",
   "execution_count": null,
   "metadata": {
    "code_folding": [
     0
    ],
    "collapsed": false
   },
   "outputs": [],
   "source": [
    "# SCHILLINGER INSTRUMENT DESTRIBUTION!!!\n",
    "sr_1 = SR.Type_II([3,2])\n",
    "sr_2 = SR.Type_II([4,3])\n",
    "\n",
    "random_attack_combination = SR.get_random_attack_combination(sr_1.resultant)\n",
    "random_attack_combination_2 = SR.get_random_attack_combination(sr_2.resultant)\n",
    "\n",
    "fraction = 2/4\n",
    "dp = SR.slice_by_fraction(sr_1.resultant, fraction) # slice the resultant for fun\n",
    "\n",
    "durations_pattern = random_attack_combination # rhythm\n",
    "attack_pattern = random_attack_combination_2 #instrument destribution\n",
    "\n",
    "#durations_pattern = [3,1,2,1,2,1,3] # rhythm\n",
    "#attack_pattern = [2,2] #instrument destribution\n",
    "parts = 3 # or instuments\n",
    "order_of_parts = [0,1,2]\n",
    "\n",
    "\n",
    "\n",
    "cts = SR.CTS(parts,order_of_parts,durations_pattern,attack_pattern)\n",
    "cts_pattern = cts.get_values()\n",
    "\n",
    "'''flattened =  [[] for x in range(3)]\n",
    "for i,s in enumerate(cleaned_sequence):\n",
    "    flattened[0].append(s[0])\n",
    "    for x,y in enumerate(s[1]):\n",
    "        #print(x,y)\n",
    "        flattened[x+1].append(y)\n",
    "        #pain'''\n",
    "        \n",
    "#print(flattened)\n",
    "\n",
    "note_seq = [i[0] for i in cleaned_sequence]\n",
    "#note_seq = [\"c\"]\n",
    "s = showSplittedNotes_RHYTHM(cts_pattern[0], cts_pattern[1], [cts_pattern[2][0],4], note_seq , 1/4)\n",
    "s.show('musicxml')\n"
   ]
  },
  {
   "cell_type": "code",
   "execution_count": null,
   "metadata": {
    "code_folding": [
     0
    ],
    "collapsed": false,
    "scrolled": false
   },
   "outputs": [],
   "source": [
    "# get original combinations by sum\n",
    "\n",
    "l = _sr_.resultant\n",
    "ts = 3\n",
    "\n",
    "def get_original_combinaions_by_sum(l, ts):\n",
    "    a = []\n",
    "    for i in range(len(l)):\n",
    "        for c in itertools.combinations(l, i):\n",
    "            if sum(c) == ts and list(c) not in a:\n",
    "                a.append(list(c))\n",
    "    return a\n",
    "\n",
    "ps = get_original_combinaions_by_sum(l, ts)\n",
    "print(ps)\n",
    "p = list(itertools.permutations(ps))\n",
    "random.choice(p)"
   ]
  },
  {
   "cell_type": "code",
   "execution_count": null,
   "metadata": {
    "collapsed": false
   },
   "outputs": [],
   "source": [
    "SR.get_random_attack_combination(_sr_.resultant)"
   ]
  },
  {
   "cell_type": "code",
   "execution_count": 6,
   "metadata": {
    "collapsed": false
   },
   "outputs": [],
   "source": [
    "# expansion tests mozart\n",
    "#%reset\n",
    "\n",
    "melody = []\n",
    "scales = []\n",
    "\n",
    "myscale = scale.HarmonicMinorScale('c4') # not needed for now\n",
    "\n",
    "init_scale = [\"D\",\"E\",\"F\",\"G\",\"A\",\"B-\",\"C#\"]\n",
    "\n",
    "#print(len(myscale))\n",
    "# lacremosa\n",
    "notes = [\"D\",\"F\",\"C#\",\"D\", \"F\",\"A\",\"G\",\"A\",\n",
    "         \"E\",\"G\",\"D\",\"C#\", \"G\",\"C#\",\"C#\",\"B-\", \n",
    "         \"F\",\"D\",\"A\",\"D\", \"G\",\"E\",\"B-\",\"G\", \n",
    "         \"A\",\"D\",\"E\",\"F\", \"A\",\"G\",\"A\",\"C#\"]\n",
    "\n",
    "scales.append(init_scale)\n",
    "melody.append(notes)\n",
    "# expansion tests bach\n",
    "init_scale = [\"C\",\"D\",\"E-\",\"F\",\"G\",\"A-\",\"B-\"]\n",
    "# Bach Fuga Cux\n",
    "notes = [\"G\",\"E-\",\"F\",\"G\",\"C\", \"F\", \"E-\", \"D\", \"E-\",\n",
    "        \"C\",\"B-\",\"C\",\"D\",\"G\", \"C\", \"B-\", \"A-\",\"B-\"]\n",
    "\n",
    "scales.append(init_scale)\n",
    "melody.append(notes)\n",
    "#albinoni\n",
    "init_scale = [\"G\",\"A\",\"B-\",\"C\",\"D\",\"E-\",\"F#\"]\n",
    "\n",
    "notes = [\"D\",\"C\",\"B-\",\"A\", \"G\", \"G\", \"F#\",\n",
    "        \"E-\",\"D\",\"C\",\"B-\", \"A\", \"A\", \"G\"]\n",
    "\n",
    "scales.append(init_scale)\n",
    "melody.append(notes)\n",
    "\n",
    "#as numbers\n",
    "#init_scale = [0,2,3,5,7,8,10]\n",
    "\n",
    "#notes = [0,3,10,0, 3,7,5,7]\n",
    "\n",
    "sr = SR.Type_II([7,5])\n",
    "seq_rhythm = sr.resultant\n",
    "\n",
    "#notes_permutations = SPG.melodic_forms_definition(notes)\n",
    "voice_amount = 3\n",
    "theme_expansion = 0\n",
    "scale_expansion_amount = 1 # # 1st order expansion for harmonizing is according to schillingers default\n",
    "\n",
    "whole_seq = SP.get_whole_sequence(melody, scales, voice_amount, theme_expansion, scale_expansion_amount)\n",
    "merged = list(itertools.chain(*whole_seq))\n",
    "\n",
    "s = showMultipleScore_MelodyHarmony(merged, myscale, seq_rhythm, len(merged)*2, [4,4], 1/2, arp=False)\n",
    "#sp = midi.realtime.StreamPlayer(s)\n",
    "#sp.play()\n",
    "#s.show('midi')\n",
    "s.show('musicxml')\n",
    "#s.show()"
   ]
  },
  {
   "cell_type": "code",
   "execution_count": null,
   "metadata": {
    "collapsed": false
   },
   "outputs": [],
   "source": []
  },
  {
   "cell_type": "code",
   "execution_count": null,
   "metadata": {
    "collapsed": true
   },
   "outputs": [],
   "source": []
  }
 ],
 "metadata": {
  "hide_input": false,
  "kernelspec": {
   "display_name": "Python [conda env:python3_test]",
   "language": "python",
   "name": "conda-env-python3_test-py"
  },
  "language_info": {
   "codemirror_mode": {
    "name": "ipython",
    "version": 3
   },
   "file_extension": ".py",
   "mimetype": "text/x-python",
   "name": "python",
   "nbconvert_exporter": "python",
   "pygments_lexer": "ipython3",
   "version": "3.5.2"
  },
  "latex_envs": {
   "LaTeX_envs_menu_present": true,
   "bibliofile": "biblio.bib",
   "cite_by": "apalike",
   "current_citInitial": 1,
   "eqLabelWithNumbers": true,
   "eqNumInitial": 1,
   "hotkeys": {
    "equation": "Ctrl-E",
    "itemize": "Ctrl-I"
   },
   "labels_anchors": false,
   "latex_user_defs": false,
   "report_style_numbering": false,
   "user_envs_cfg": false
  }
 },
 "nbformat": 4,
 "nbformat_minor": 2
}
