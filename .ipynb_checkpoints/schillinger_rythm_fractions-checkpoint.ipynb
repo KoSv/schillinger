{
 "cells": [
  {
   "cell_type": "code",
   "execution_count": 253,
   "metadata": {
    "code_folding": [],
    "collapsed": false
   },
   "outputs": [],
   "source": [
    "#schillinger \n",
    "import numpy as np"
   ]
  },
  {
   "cell_type": "code",
   "execution_count": 574,
   "metadata": {
    "code_folding": [],
    "collapsed": false
   },
   "outputs": [],
   "source": [
    "#schillinger functions\n",
    "\n",
    "class SchillingerRythm:\n",
    "    \n",
    "    common_product = []\n",
    "    generators = []\n",
    "    resultant = []\n",
    "    \n",
    "    complementary_generators = []\n",
    "    complementary_resultant = []\n",
    "    \n",
    "    def __init__(self, fraction):\n",
    "        self.common_product = []\n",
    "        self.generators = []\n",
    "        self.resultant = []\n",
    "        complementary_generators = []\n",
    "        complementary_resultant = []\n",
    "        self.binary_syncronisation(fraction)\n",
    "\n",
    "    def binary_syncronisation_result(self, fraction, seq_len):\n",
    "        major = fraction[0]\n",
    "        minor = fraction[1]\n",
    "        \n",
    "        result = [] \n",
    "        count = 1\n",
    "        flag = True\n",
    "        for i in range(1, seq_len):\n",
    "            for m in fraction:\n",
    "                if i % m == 0:\n",
    "                    flag = True\n",
    "                    break\n",
    "                else:\n",
    "                    flag = False\n",
    "            if flag:\n",
    "                result.append(count)\n",
    "                count = 1\n",
    "            else:\n",
    "                count += 1\n",
    "        result.append(count)\n",
    "        return result\n",
    "\n",
    "    def binary_syncronisation(self, fraction):\n",
    "        seq_len = np.prod(fraction)\n",
    "        # fill in lists\n",
    "        #print(seq_len)\n",
    "        self.common_product = [1]*seq_len\n",
    "        complementary_fraction = []\n",
    "        for generator in fraction:\n",
    "            num = int(seq_len/generator)\n",
    "            self.generators.append([generator]*num)\n",
    "            #complementary\n",
    "            com_num = int(seq_len/num)\n",
    "            complementary_fraction.append(num)\n",
    "            self.complementary_generators.append([num]*com_num)\n",
    "            #print(num,com_num)\n",
    "        print(complementary_fraction)\n",
    "        self.resultant = self.binary_syncronisation_result(fraction, seq_len)\n",
    "        self.complementary_resultant = self.binary_syncronisation_result(complementary_fraction, seq_len)\n"
   ]
  },
  {
   "cell_type": "code",
   "execution_count": 575,
   "metadata": {
    "code_folding": [],
    "collapsed": false
   },
   "outputs": [],
   "source": [
    "# plotting\n",
    "\n",
    "import matplotlib.pyplot as plt\n",
    "\n",
    "def convert_to_plot(data): # converting numbers  1 1 1 1 to oscillation 1 0 1 0 or 3 2 to 1 1 1 0 0\n",
    "    plot_array = []\n",
    "    bit = 1\n",
    "    plot_array.append(0)\n",
    "    for i, e in enumerate(data):\n",
    "        seq = [bit%2]*e\n",
    "        for s in seq:\n",
    "            plot_array.append(s)\n",
    "        bit+=1\n",
    "    return plot_array\n",
    "\n",
    "\n",
    "def show_graph(common_product, generators, resultant):\n",
    "    \n",
    "    length = len(convert_to_plot(common_product))\n",
    "    x_vals = range(length)\n",
    "    #fig, ax = plt.subplots(figsize=(20, 10))\n",
    "    fig, ax = plt.subplots()\n",
    "    ax.set_xlim(xmin=-1, xmax=length)\n",
    "    ax.set_ylim(ymin=-((len(generators) * 2 )+ 3), ymax=2)\n",
    "    \n",
    "    ax.step(x_vals, convert_to_plot(common_product), color='black')\n",
    "    \n",
    "    count = 0\n",
    "    for i,e in enumerate(generators):\n",
    "        count+=2\n",
    "        gen = convert_to_plot(e)\n",
    "        ax.step(x_vals, [x-count for x in gen], color='black')\n",
    "    \n",
    "    count+=2\n",
    "    ax.step(x_vals, [x-count for x in convert_to_plot(resultant)], color='black')\n",
    "    \n",
    "    ax.grid()\n",
    "    #ax.set_xticks([x+x for x in convert_to_plot(resultant)])\n",
    "    ax.set_xticklabels([])\n",
    "    ax.set_yticklabels([])\n",
    "    ax.set_xticks(range(len(common_product)))\n",
    "    ax.grid(True)\n",
    "    plt.show();\n",
    "        "
   ]
  },
  {
   "cell_type": "code",
   "execution_count": 576,
   "metadata": {
    "collapsed": false,
    "scrolled": false
   },
   "outputs": [
    {
     "name": "stdout",
     "output_type": "stream",
     "text": [
      "[15, 10, 6]\n",
      "[1, 1, 1, 1, 1, 1, 1, 1, 1, 1, 1, 1, 1, 1, 1, 1, 1, 1, 1, 1, 1, 1, 1, 1, 1, 1, 1, 1, 1, 1] [[2, 2, 2, 2, 2, 2, 2, 2, 2, 2, 2, 2, 2, 2, 2], [3, 3, 3, 3, 3, 3, 3, 3, 3, 3], [5, 5, 5, 5, 5, 5]] [2, 1, 1, 1, 1, 2, 1, 1, 2, 2, 1, 1, 2, 2, 1, 1, 2, 1, 1, 1, 1, 2]\n",
      "[[15, 15], [10, 10, 10], [6, 6, 6, 6, 6]] [6, 4, 2, 3, 3, 2, 4, 6]\n"
     ]
    }
   ],
   "source": [
    "fraction = [2,3,5]\n",
    "sr = SchillingerRythm(fraction)\n",
    "print(sr.common_product, sr.generators, sr.resultant)\n",
    "print(sr.complementary_generators, sr.complementary_resultant)"
   ]
  },
  {
   "cell_type": "code",
   "execution_count": 577,
   "metadata": {
    "code_folding": [],
    "collapsed": false
   },
   "outputs": [
    {
     "data": {
      "image/png": "[encoded data removed]",
      "text/plain": [
       "<matplotlib.figure.Figure at 0x10e810438>"
      ]
     },
     "metadata": {},
     "output_type": "display_data"
    },
    {
     "data": {
      "image/png": "[encoded data removed]",
      "text/plain": [
       "<matplotlib.figure.Figure at 0x10e8100f0>"
      ]
     },
     "metadata": {},
     "output_type": "display_data"
    }
   ],
   "source": [
    "# plot results\n",
    "show_graph(sr.common_product, sr.generators, sr.resultant)\n",
    "show_graph(sr.common_product, sr.complementary_generators, sr.complementary_resultant)"
   ]
  },
  {
   "cell_type": "code",
   "execution_count": null,
   "metadata": {
    "collapsed": false,
    "scrolled": false
   },
   "outputs": [],
   "source": []
  },
  {
   "cell_type": "code",
   "execution_count": null,
   "metadata": {
    "collapsed": false
   },
   "outputs": [],
   "source": []
  },
  {
   "cell_type": "code",
   "execution_count": null,
   "metadata": {
    "collapsed": true
   },
   "outputs": [],
   "source": []
  },
  {
   "cell_type": "code",
   "execution_count": null,
   "metadata": {
    "collapsed": true
   },
   "outputs": [],
   "source": []
  }
 ],
 "metadata": {
  "hide_input": false,
  "kernelspec": {
   "display_name": "Python [conda env:python3_test]",
   "language": "python",
   "name": "conda-env-python3_test-py"
  },
  "language_info": {
   "codemirror_mode": {
    "name": "ipython",
    "version": 3
   },
   "file_extension": ".py",
   "mimetype": "text/x-python",
   "name": "python",
   "nbconvert_exporter": "python",
   "pygments_lexer": "ipython3",
   "version": "3.5.2"
  },
  "latex_envs": {
   "LaTeX_envs_menu_present": true,
   "bibliofile": "biblio.bib",
   "cite_by": "apalike",
   "current_citInitial": 1,
   "eqLabelWithNumbers": true,
   "eqNumInitial": 1,
   "hotkeys": {
    "equation": "Ctrl-E",
    "itemize": "Ctrl-I"
   },
   "labels_anchors": false,
   "latex_user_defs": false,
   "report_style_numbering": false,
   "user_envs_cfg": false
  }
 },
 "nbformat": 4,
 "nbformat_minor": 2
}
