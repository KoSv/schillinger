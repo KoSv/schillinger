{
 "cells": [
  {
   "cell_type": "code",
   "execution_count": 1,
   "metadata": {
    "code_folding": [
     0
    ],
    "collapsed": false
   },
   "outputs": [],
   "source": [
    "# imports \n",
    "%load_ext autoreload\n",
    "%autoreload 2\n",
    "import schillinger.rhythm as SR\n",
    "import schillinger.pitch as SP\n",
    "import itertools\n",
    "import random\n",
    "from music21 import *\n",
    "%load_ext music21.ipython21"
   ]
  },
  {
   "cell_type": "code",
   "execution_count": 2,
   "metadata": {
    "code_folding": [
     0
    ],
    "collapsed": false
   },
   "outputs": [],
   "source": [
    "#convert2d to 1d \n",
    "def convert2Dto1D(data):\n",
    "    flat_array = []\n",
    "    for d in data:\n",
    "        if isinstance(d[0], list) or isinstance(d[0], tuple):\n",
    "            for l in d:\n",
    "                \n",
    "                flat_array.append(l)\n",
    "        else:\n",
    "            flat_array.append(d)\n",
    "    return flat_array"
   ]
  },
  {
   "cell_type": "code",
   "execution_count": 156,
   "metadata": {
    "code_folding": [
     2
    ],
    "collapsed": false
   },
   "outputs": [],
   "source": [
    "# notes harmony \n",
    "\n",
    "def arpeggiator(c, es,rhythm, duration_divider):\n",
    "    chords = []\n",
    "    for i, seq in enumerate(c):\n",
    "                \n",
    "        nota = seq\n",
    "        nota.duration.quarterLength = (rhythm[es%len(rhythm)]/len(c)) * duration_divider\n",
    "        chords.append(nota)\n",
    "\n",
    "    nota = pitch.Pitch(c.pitches[0])\n",
    "    \n",
    "    \n",
    "    nota.octave = nota.octave + 2\n",
    "    nota = note.Note(nota.nameWithOctave)\n",
    "    #nota.duration.quarterLength = rhythm[es%len(rhythm)] * duration_divider\n",
    "    nota.duration.quarterLength = (rhythm[es%len(rhythm)]/len(c)) * duration_divider\n",
    "    \n",
    "   \n",
    "    chords.append(nota)\n",
    "    #octave adjust\n",
    "    \n",
    "    \n",
    "    #print(chords[-1].pitch.midi - chords[-2].pitch.midi, chords[-1])\n",
    "    if chords[-1].pitch.midi - chords[-2].pitch.midi >= 11:\n",
    "        chords[-1].octave = chords[-1].octave -1\n",
    "        #print(\"yes\")\n",
    "    ##\n",
    "    nota = pitch.Pitch(c.pitches[2])\n",
    "    nota.octave = nota.octave\n",
    "    nota = note.Note(nota.nameWithOctave)\n",
    "    #nota.duration.quarterLength = rhythm[es%len(rhythm)] * duration_divider\n",
    "    nota.duration.quarterLength = (rhythm[es%len(rhythm)]/len(c)) * duration_divider\n",
    "    chords.append(nota)\n",
    "    return chords\n",
    "\n",
    "def showHarmony(note_sequence, scala, rhythm, length, time_meter, duration_divider, arp=False,bass=True, drop2 = False):\n",
    "    TS = str(time_meter[0])+'/'+str(time_meter[1])\n",
    "    \n",
    "    s = stream.Score(id='mainScore')\n",
    "    p0 = stream.Part(id='melody')\n",
    "    p0.timeSignature = meter.TimeSignature(TS)\n",
    "    p1 = stream.Part(id='chords')\n",
    "    p1.timeSignature = meter.TimeSignature(TS)\n",
    "    p2 = stream.Part(id='bass')\n",
    "    p2.timeSignature = meter.TimeSignature(TS)\n",
    "    \n",
    "    #pseudo stuff\n",
    "    temp_scale = [str(p) for p in scala.getPitches('C2', 'C6')] # for pseudo melody (scale.next bug!)\n",
    "    rhythm_seq = [2,1,1,2]\n",
    "    for es, sequences in enumerate(note_sequence):\n",
    "        \n",
    "        melody = []\n",
    "        chords = []\n",
    "        bass = []\n",
    "        \n",
    "        \n",
    "        ### chords\n",
    "        #chord_seq = [sequences[0]]+sequences[1]\n",
    "        chord_seq = sequences\n",
    "        #print(chord_seq)\n",
    "        test_chord = chord.Chord(chord_seq)\n",
    "        c = chord.Chord(test_chord)\n",
    "        c.root = sequences[0]\n",
    "        c.duration.quarterLength = rhythm[es%len(rhythm)] * duration_divider\n",
    "        c = c.sortDiatonicAscending() # for better voice leadng but not real!\n",
    "        if es % 2 == 0: # rotating clock counterclock positions\n",
    "            c = c.semiClosedPosition(inPlace=False,forceOctave=4)\n",
    "            pass\n",
    "        else:\n",
    "            c = c.closedPosition(inPlace=False,forceOctave=4)\n",
    "            pass\n",
    "        if drop2:\n",
    "            try:\n",
    "                c.pitches[0].octave = c.pitches[0].octave-1 # drop2\n",
    "                #c.pitches[-2].octave = c.pitches[-2].octave+2 # drop4\n",
    "                pass\n",
    "            except:\n",
    "                pass\n",
    "        \n",
    "        if arp:\n",
    "            chords =  arpeggiator(c, es, rhythm, duration_divider)\n",
    "            #chords.append(nota)\n",
    "            \n",
    "        else:\n",
    "            chords.append(c)\n",
    "            \n",
    "        ##############\n",
    "        # pseudo melody\n",
    "        # get chord durations and apply on melody (for test purpose)\n",
    "        dur = 0\n",
    "        for d in chords:\n",
    "            dur = dur + d.duration.quarterLength\n",
    "        #print(dur)\n",
    "        \n",
    "        #check to make long or short notes.\n",
    "        if random.choice([True,False]) or es % 8 == 0:\n",
    "            t_nota = pitch.Pitch(random.choice(sequences))\n",
    "            #nota.octave = nota.octave\n",
    "            nota = note.Note(t_nota.nameWithOctave)\n",
    "            nota.duration.quarterLength = dur\n",
    "            melody.append(nota)\n",
    "        else:\n",
    "            t_nota = pitch.Pitch(random.choice(sequences))\n",
    "            nota = note.Note(t_nota.nameWithOctave)\n",
    "            nota.duration.quarterLength = dur/2\n",
    "            melody.append(nota)\n",
    "            #get next tone in scale -1 or +1 for 2nd note\n",
    "            t_nota_idx = temp_scale.index(t_nota.nameWithOctave) + random.choice([-1,1])\n",
    "            t_nota = pitch.Pitch(temp_scale[t_nota_idx])\n",
    "            nota = note.Note(t_nota.nameWithOctave)\n",
    "            nota.duration.quarterLength = dur/2\n",
    "            melody.append(nota)\n",
    "            \n",
    "        ##############\n",
    "        # pseudo BASS\n",
    "        # get chord durations and apply on melody (for test purpose)\n",
    "        dur = 0\n",
    "        for d in chords:\n",
    "            dur = dur + d.duration.quarterLength\n",
    "        #print(dur)\n",
    "        \n",
    "        #check to make long or short notes.\n",
    "        if random.choice([True,True,False]):\n",
    "            t_nota = pitch.Pitch(sequences[0])\n",
    "            \n",
    "            nota = note.Note(t_nota.nameWithOctave)\n",
    "            nota.octave = nota.octave - 2\n",
    "            nota.duration.quarterLength = dur\n",
    "            bass.append(nota)\n",
    "        else:\n",
    "            t_nota = pitch.Pitch(sequences[0])\n",
    "            nota = note.Note(t_nota.nameWithOctave)\n",
    "            nota.octave = nota.octave - 2\n",
    "            nota.duration.quarterLength = dur/2\n",
    "            bass.append(nota)\n",
    "            #get next tone in scale -1 or +1 for 2nd note\n",
    "            t_nota_idx = temp_scale.index(t_nota.nameWithOctave) + random.choice([-1,1])\n",
    "            t_nota = pitch.Pitch(temp_scale[t_nota_idx])\n",
    "            nota = note.Note(t_nota.nameWithOctave)\n",
    "            nota.octave = nota.octave - 2\n",
    "            nota.duration.quarterLength = dur/2\n",
    "            bass.append(nota)\n",
    "            \n",
    "            \n",
    "        p0.append(melody)\n",
    "        p1.append(chords)\n",
    "        p2.append(bass)\n",
    "    \n",
    "    s.insert(0, p0)\n",
    "    s.insert(0, p1)\n",
    "    s.insert(0, p2)\n",
    "    #s = s.transpose(0)\n",
    "    return s\n",
    "\n"
   ]
  },
  {
   "cell_type": "code",
   "execution_count": null,
   "metadata": {
    "collapsed": true
   },
   "outputs": [],
   "source": [
    "# SCALES \n",
    "hm = scale.HarmonicMinorScale(\"C4\")\n",
    "do = scale.DorianScale(\"C4\")\n",
    "ms = scale.MixolydianScale(\"C4\")\n",
    "ls = scale.LydianScale(\"C4\")\n",
    "lks = scale.LocrianScale('C4')\n",
    "\n",
    "main_scale = hm"
   ]
  },
  {
   "cell_type": "code",
   "execution_count": null,
   "metadata": {
    "collapsed": true
   },
   "outputs": [],
   "source": [
    "# BASS OR MELODY! ->"
   ]
  },
  {
   "cell_type": "code",
   "execution_count": 124,
   "metadata": {
    "code_folding": [
     2
    ],
    "collapsed": false
   },
   "outputs": [
    {
     "name": "stdout",
     "output_type": "stream",
     "text": [
      "[['C4', 'A-4', 'B4', 'E-4', 'F4', 'A-4', 'D4', 'G4', 'C4', 'A-4', 'B4', 'E-4', 'F4', 'A-4', 'D4', 'G4', 'C4', 'A-4', 'B4', 'E-4', 'F4', 'A-4', 'D4', 'G4', 'C4', 'A-4', 'B4', 'E-4', 'F4', 'A-4', 'D4', 'G4', 'C4', 'A-4', 'B4', 'E-4', 'F4', 'A-4', 'D4', 'G4', 'C4', 'A-4', 'B4', 'E-4', 'F4', 'A-4', 'D4', 'G4', 'C4', 'A-4', 'B4', 'E-4', 'F4', 'A-4', 'D4', 'G4', 'C4']] [['C4', 'D4', 'E-4', 'F4', 'G4', 'A-4', 'B4']]\n"
     ]
    }
   ],
   "source": [
    "# BASS Diatonic Harmony Cycles \n",
    "\n",
    "def harmonize_dt_bass(scales, diatonic_cycles_string, coeficients):\n",
    "    SPG = SP.PitchGroup()\n",
    "    bass = []\n",
    "    harmonies = []\n",
    "    for s in scales:\n",
    "        temp_scale = [str(p) for p in s.pitches[:-1]]\n",
    "        scale_expansion = SPG.expansions(temp_scale)\n",
    "        #print(scale_expansion)\n",
    "        C7 = scale_expansion[0]\n",
    "        C_7 = scale_expansion[5]\n",
    "        C3 = scale_expansion[4]\n",
    "        C_3 = scale_expansion[1]\n",
    "        C5 = scale_expansion[2]\n",
    "        C_5 = scale_expansion[3]\n",
    "        diatonic_cycles = []\n",
    "        \n",
    "        for i in diatonic_cycles_string:\n",
    "            if i == \"C3\":\n",
    "                diatonic_cycles.append(C3)\n",
    "            elif i == \"C-3\":\n",
    "                diatonic_cycles.append(C_3)\n",
    "            elif i == \"C5\":\n",
    "                diatonic_cycles.append(C5)\n",
    "            elif i == \"C-5\":\n",
    "                diatonic_cycles.append(C_5)\n",
    "            elif i == \"C7\":\n",
    "                diatonic_cycles.append(C7)\n",
    "            elif i == \"C-7\":\n",
    "                diatonic_cycles.append(C_7)\n",
    "            else:\n",
    "                print(\"diatonic_cycles_string Value Error!\")\n",
    "                \n",
    "        diatonic_cycle = SP.pitch_cicles(temp_scale, diatonic_cycles, coeficients)\n",
    "        harmonies.append(temp_scale)\n",
    "        bass.append(diatonic_cycle)\n",
    "    return [bass, harmonies]\n",
    "\n",
    "hb = harmonize_dt_bass([main_scale], [\"C3\",\"C7\",\"C5\",\"C7\",\"C-3\",\"C5\"], [1,1,1,1,1,3])\n",
    "bass = hb[0]\n",
    "scales = hb[1]\n",
    "seq_rhythm = [1]\n",
    "#print(bass,scales)\n",
    "#[str(p) for p in hm.getPitches('C3', 'C6')]\n",
    "#hm.next(\"B3\", direction=hm.DIRECTION_ASCENDING)\n",
    "print(hb[0], hb[1])\n",
    "#sum([1,1,1,1,1,3])*len([\"C3\",\"C7\",\"C5\",\"C7\",\"C-3\",\"C5\"])"
   ]
  },
  {
   "cell_type": "code",
   "execution_count": 145,
   "metadata": {
    "code_folding": [],
    "collapsed": false
   },
   "outputs": [],
   "source": [
    "# MELODY Diatonic Harmony Cycles \n",
    "melody = [[\"G4\",\"E-4\",\"F4\",\"G4\",\"C4\",\"F4\",\"E-4\",\"D4\",\"E-4\"]] # bach\n",
    "\n",
    "main_scale = hm\n",
    "temp_scale = [str(p) for p in main_scale.pitches[:-1]]\n",
    "scales = [temp_scale]"
   ]
  },
  {
   "cell_type": "code",
   "execution_count": 158,
   "metadata": {
    "collapsed": false
   },
   "outputs": [
    {
     "name": "stdout",
     "output_type": "stream",
     "text": [
      "[[['A-4', 'C4', 'E-4', 'G4'], ['B4', 'D4', 'F4', 'A-4'], ['E-4', 'G4', 'B4', 'D4'], ['A-4', 'C4', 'E-4', 'G4'], ['C4', 'E-4', 'G4', 'B4'], ['E-4', 'G4', 'B4', 'D4'], ['B4', 'D4', 'F4', 'A-4'], ['F4', 'A-4', 'C4', 'E-4'], ['B4', 'D4', 'F4', 'A-4']]] [['A-4', 'C4', 'E-4', 'G4'], ['B4', 'D4', 'F4', 'A-4'], ['E-4', 'G4', 'B4', 'D4'], ['A-4', 'C4', 'E-4', 'G4'], ['C4', 'E-4', 'G4', 'B4'], ['E-4', 'G4', 'B4', 'D4'], ['B4', 'D4', 'F4', 'A-4'], ['F4', 'A-4', 'C4', 'E-4'], ['B4', 'D4', 'F4', 'A-4']]\n"
     ]
    }
   ],
   "source": [
    "note_seq = melody\n",
    "#note_seq = bass\n",
    "voice_amount = 4 # for now!\n",
    "theme_expansion = 2\n",
    "scale_expansion_amount = 1 # # 1st order expansion for harmonizing is according to schillingers default\n",
    "whole_seq = SP.get_whole_sequence_bass(note_seq, scales, voice_amount, theme_expansion, scale_expansion_amount)\n",
    "merged_seq = list(itertools.chain(*whole_seq))\n",
    "print(whole_seq,merged_seq)"
   ]
  },
  {
   "cell_type": "code",
   "execution_count": null,
   "metadata": {
    "code_folding": [
     0,
     54
    ],
    "collapsed": false,
    "scrolled": false
   },
   "outputs": [],
   "source": []
  },
  {
   "cell_type": "code",
   "execution_count": 159,
   "metadata": {
    "code_folding": [],
    "collapsed": false,
    "scrolled": false
   },
   "outputs": [],
   "source": [
    "# music21 converter \n",
    "\n",
    "########################################################\n",
    "#notes_permutations = SPG.melodic_forms_definition(notes)\n",
    "#######\n",
    "\n",
    "s = showHarmony(merged_seq, main_scale, seq_rhythm, len(merged_seq)*2, (3,4), 2, arp=True, bass=False, drop2=True)\n",
    "\n",
    "s.show('musicxml')\n",
    "#seq_rhythm"
   ]
  },
  {
   "cell_type": "code",
   "execution_count": null,
   "metadata": {
    "collapsed": true
   },
   "outputs": [],
   "source": []
  },
  {
   "cell_type": "code",
   "execution_count": null,
   "metadata": {
    "collapsed": false
   },
   "outputs": [],
   "source": []
  },
  {
   "cell_type": "code",
   "execution_count": null,
   "metadata": {
    "collapsed": true
   },
   "outputs": [],
   "source": []
  },
  {
   "cell_type": "code",
   "execution_count": null,
   "metadata": {
    "code_folding": [
     0,
     54
    ],
    "collapsed": true
   },
   "outputs": [],
   "source": [
    "def arranger(note_sequence,time_meter, duration_divider):\n",
    "    TS = str(time_meter[0])+'/'+str(time_meter[1])\n",
    "    \n",
    "    s = stream.Score(id='mainScore')\n",
    "    #make parts on voice lenght\n",
    "    \n",
    "    my_parts = [[]for _ in range(len(note_sequence[0]))]\n",
    "    #print(len(note_sequence[0]))\n",
    "    \n",
    "    for es, sequences in enumerate(note_sequence):\n",
    "        #print(\"-\"*50)\n",
    "        #main func\n",
    "        new_list = sequences[:]\n",
    "        \n",
    "        #SWAP!\n",
    "        \n",
    "        if es > 0:\n",
    "            prev_list = note_sequence[es-1]\n",
    "            for it, nota in enumerate(new_list):\n",
    "                for idx, pl in enumerate(prev_list):\n",
    "                    if pl == nota:\n",
    "                        source_pitch = new_list[it].pitch\n",
    "                        target_pitch = new_list[idx].pitch\n",
    "                        new_list[idx].pitch = source_pitch\n",
    "                        new_list[it].pitch = target_pitch\n",
    "        \n",
    "        #print(new_list)\n",
    "        \n",
    "        ####\n",
    "        for n, nota in enumerate(new_list):\n",
    "            if es == 0:\n",
    "                #print(\"append all\", nota, nota.quarterLength)\n",
    "                my_parts[n].append(nota)    \n",
    "            else:\n",
    "                if my_parts[n][-1].nameWithOctave != nota.nameWithOctave:\n",
    "                    my_parts[n].append(nota)\n",
    "                else:\n",
    "                    my_parts[n][-1].tie = tie.Tie(\"start\")\n",
    "                    my_parts[n].append(nota)\n",
    "                    \n",
    "                pass\n",
    "    \n",
    "    parts = []\n",
    "    for p in range(len(note_sequence[0])): \n",
    "        parts.append(stream.Part(id=p))\n",
    "        parts[p].timeSignature = meter.TimeSignature(TS)\n",
    "    \n",
    "    for it, p in enumerate(my_parts):\n",
    "        parts[it].append(p)\n",
    "        \n",
    "    for i in parts:\n",
    "        s.insert(0, i)\n",
    "    return s\n",
    "\n",
    "def arranger_simple(note_sequence, durations,time_meter, duration_divider):\n",
    "    \n",
    "    chords = []\n",
    "    \n",
    "    for es, sequences in enumerate(note_sequence):\n",
    "        \n",
    "        c = chord.Chord(sequences)\n",
    "        c.root = sequences[0]\n",
    "        c.duration.quarterLength = durations[es%len(durations)]*duration_divider\n",
    "        c.pitches[0].octave = c.pitches[0].octave-1 # drop2\n",
    "        chords.append(c)\n",
    "        \n",
    "    return arranger(chords, time_meter, duration_divider)\n",
    "\n",
    "    '''for i in parts:\n",
    "        s.insert(0, i)\n",
    "        \n",
    "    \n",
    "    return s'''\n",
    "\n",
    "durs = [2,1,1,2]\n",
    "s = arranger_simple(merged_seq, durs,(4,4), 2)\n",
    "s.show('musicxml')"
   ]
  }
 ],
 "metadata": {
  "hide_input": false,
  "kernelspec": {
   "display_name": "Python [conda env:python3_test]",
   "language": "python",
   "name": "conda-env-python3_test-py"
  },
  "language_info": {
   "codemirror_mode": {
    "name": "ipython",
    "version": 3
   },
   "file_extension": ".py",
   "mimetype": "text/x-python",
   "name": "python",
   "nbconvert_exporter": "python",
   "pygments_lexer": "ipython3",
   "version": "3.5.2"
  },
  "latex_envs": {
   "LaTeX_envs_menu_present": true,
   "bibliofile": "biblio.bib",
   "cite_by": "apalike",
   "current_citInitial": 1,
   "eqLabelWithNumbers": true,
   "eqNumInitial": 1,
   "hotkeys": {
    "equation": "Ctrl-E",
    "itemize": "Ctrl-I"
   },
   "labels_anchors": false,
   "latex_user_defs": false,
   "report_style_numbering": false,
   "user_envs_cfg": false
  }
 },
 "nbformat": 4,
 "nbformat_minor": 2
}
