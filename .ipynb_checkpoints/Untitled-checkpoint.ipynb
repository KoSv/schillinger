{
 "cells": [
  {
   "cell_type": "code",
   "execution_count": 1,
   "metadata": {
    "collapsed": false
   },
   "outputs": [],
   "source": [
    "import schillinger.rhythm\n",
    "import schillinger.pitch"
   ]
  },
  {
   "cell_type": "code",
   "execution_count": 7,
   "metadata": {
    "collapsed": false
   },
   "outputs": [
    {
     "data": {
      "text/plain": [
       "([['G', 'E-', 'F', 'G', 'C', 'F', 'E-', 'D', 'E-'],\n",
       "  ['D', 'G', 'B-', 'D', 'C', 'B-', 'G', 'E-', 'G'],\n",
       "  ['A-', 'B-', 'E-', 'A-', 'C', 'E-', 'B-', 'F', 'B-'],\n",
       "  ['E-', 'D', 'A-', 'E-', 'C', 'A-', 'D', 'G', 'D'],\n",
       "  ['B-', 'F', 'D', 'B-', 'C', 'D', 'F', 'A-', 'F'],\n",
       "  ['F', 'A-', 'G', 'F', 'C', 'G', 'A-', 'B-', 'A-']],\n",
       " ['F', 'A-', 'G', 'F', 'C', 'G', 'A-', 'B-', 'A-'])"
      ]
     },
     "execution_count": 7,
     "metadata": {},
     "output_type": "execute_result"
    }
   ],
   "source": [
    "# expansion tests\n",
    "scale = [\"C\",\"D\",\"E-\",\"F\",\"G\",\"A-\",\"B-\"]\n",
    "# Bach Fuga Cux\n",
    "notes = [\"G\",\"E-\",\"F\",\"G\",\"C\", \"F\", \"E-\", \"D\", \"E-\"]\n",
    "p = schillinger.pitch.PitchGroup()\n",
    "seq = p.translate_notes_to_expansions(notes, scale)\n",
    "seq, seq[5]"
   ]
  },
  {
   "cell_type": "code",
   "execution_count": 8,
   "metadata": {
    "collapsed": false
   },
   "outputs": [
    {
     "data": {
      "text/plain": [
       "['B-', 'A-', 'F', 'A-', 'G', 'F', 'C', 'G', 'A-']"
      ]
     },
     "execution_count": 8,
     "metadata": {},
     "output_type": "execute_result"
    }
   ],
   "source": [
    "length = [2,2,2,2,2,2,1,1,2] #bach rhythm\n",
    "note_sequence = seq[5] # 6th expansion\n",
    "#rotation\n",
    "cr = p.clock_rotation(note_sequence)\n",
    "ns = cr[2] # 2th rotation\n",
    "ns"
   ]
  },
  {
   "cell_type": "code",
   "execution_count": null,
   "metadata": {
    "collapsed": true
   },
   "outputs": [],
   "source": []
  }
 ],
 "metadata": {
  "hide_input": false,
  "kernelspec": {
   "display_name": "Python [conda env:python3_test]",
   "language": "python",
   "name": "conda-env-python3_test-py"
  },
  "language_info": {
   "codemirror_mode": {
    "name": "ipython",
    "version": 3
   },
   "file_extension": ".py",
   "mimetype": "text/x-python",
   "name": "python",
   "nbconvert_exporter": "python",
   "pygments_lexer": "ipython3",
   "version": "3.5.2"
  },
  "latex_envs": {
   "LaTeX_envs_menu_present": true,
   "bibliofile": "biblio.bib",
   "cite_by": "apalike",
   "current_citInitial": 1,
   "eqLabelWithNumbers": true,
   "eqNumInitial": 1,
   "hotkeys": {
    "equation": "Ctrl-E",
    "itemize": "Ctrl-I"
   },
   "labels_anchors": false,
   "latex_user_defs": false,
   "report_style_numbering": false,
   "user_envs_cfg": false
  }
 },
 "nbformat": 4,
 "nbformat_minor": 2
}
