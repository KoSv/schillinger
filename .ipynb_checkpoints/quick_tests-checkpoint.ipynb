{
 "cells": [
  {
   "cell_type": "code",
   "execution_count": 1009,
   "metadata": {
    "collapsed": true
   },
   "outputs": [],
   "source": [
    "import schillinger.rhythm as SR\n",
    "import schillinger.pitch as SP\n",
    "import itertools\n",
    "import random"
   ]
  },
  {
   "cell_type": "code",
   "execution_count": 1010,
   "metadata": {
    "code_folding": [
     0
    ],
    "collapsed": false
   },
   "outputs": [
    {
     "name": "stdout",
     "output_type": "stream",
     "text": [
      "The music21.ipython21 extension is already loaded. To reload it, use:\n",
      "  %reload_ext music21.ipython21\n"
     ]
    }
   ],
   "source": [
    "#notes\n",
    "from music21 import *\n",
    "#from itertools import chain\n",
    "%load_ext music21.ipython21\n",
    "\n",
    "def convert2Dto1D(data):\n",
    "    flat_array = []\n",
    "    for d in data:\n",
    "        if isinstance(d[0], list) or isinstance(d[0], tuple):\n",
    "            for l in d:\n",
    "                \n",
    "                flat_array.append(l)\n",
    "        else:\n",
    "            flat_array.append(d)\n",
    "    return flat_array\n",
    "    \n",
    "\n",
    "def showSplittedNotes(length, data, time_meter, note_sequece, duration_divider):\n",
    "    attacks = convert2Dto1D(data)\n",
    "    #TS = str(int(len(clock))) +'/'+ str(int((clock[0].duration.quarterLength*16)))\n",
    "    TS = str(time_meter[0])+'/'+str(time_meter[1])\n",
    "    \n",
    "    s = stream.Score(id='mainScore')\n",
    "    \n",
    "    for sequences in attacks:\n",
    "        p0 = stream.Part(id='part0')\n",
    "        p0.timeSignature = meter.TimeSignature(TS)\n",
    "        tones = []\n",
    "        note_counter = 0\n",
    "        for i in range(length):\n",
    "            nota = pitch.Pitch(note_sequece[note_counter%len(note_sequece)])\n",
    "            note_counter += 1\n",
    "            #nota.octave = 4\n",
    "            nota = note.Note(nota.nameWithOctave)\n",
    "            nota.duration.quarterLength = sequences[i%len(sequences)]*duration_divider\n",
    "            tones.append(nota)\n",
    "            \n",
    "        p0.append(tones)\n",
    "        s.insert(0, p0)\n",
    "    return s\n",
    "\n",
    "def showSplittedNotesWhole(length, data, time_meter, note_sequece, duration_divider):\n",
    "    attacks = convert2Dto1D(data)\n",
    "    #TS = str(int(len(clock))) +'/'+ str(int((clock[0].duration.quarterLength*16)))\n",
    "    TS = str(time_meter[0])+'/'+str(time_meter[1])\n",
    "    \n",
    "    s = stream.Score(id='mainScore')\n",
    "    \n",
    "    for sequences in attacks:\n",
    "        p0 = stream.Part(id='part0')\n",
    "        p0.timeSignature = meter.TimeSignature(TS)\n",
    "        tones = []\n",
    "        note_counter = 0\n",
    "        for i in range(length):\n",
    "            nota = pitch.Pitch(note_sequece[note_counter%len(note_sequece)])\n",
    "            note_counter += 1\n",
    "            #nota.octave = 4\n",
    "            nota = note.Note(nota.nameWithOctave)\n",
    "            nota.duration.quarterLength = sequences[i%len(sequences)]*duration_divider\n",
    "            tones.append(nota)\n",
    "            \n",
    "        p0.append(tones)\n",
    "        s.insert(0, p0)\n",
    "    return s\n"
   ]
  },
  {
   "cell_type": "code",
   "execution_count": 1011,
   "metadata": {
    "collapsed": false
   },
   "outputs": [],
   "source": [
    "#help(schillinger)"
   ]
  },
  {
   "cell_type": "code",
   "execution_count": 1012,
   "metadata": {
    "collapsed": false
   },
   "outputs": [
    {
     "data": {
      "text/plain": [
       "([2, 2, 1, 1, 2, 2],\n",
       " [2, 2, 1, 1, 1, 1, 1, 1, 1, 1, 1, 1, 1, 1, 1, 1, 1, 1, 1, 2, 2])"
      ]
     },
     "execution_count": 1012,
     "metadata": {},
     "output_type": "execute_result"
    }
   ],
   "source": [
    "a = 5\n",
    "b = 2\n",
    "fraction = [a,b]\n",
    "\n",
    "sr = SR.Type_I(fraction)\n",
    "_sr_ = SR.Type_II(fraction)\n",
    "sr.resultant, _sr_.resultant"
   ]
  },
  {
   "cell_type": "code",
   "execution_count": 5,
   "metadata": {
    "code_folding": [],
    "collapsed": false
   },
   "outputs": [
    {
     "name": "stdout",
     "output_type": "stream",
     "text": [
      "['F', 'A-', 'G', 'F', 'C', 'G', 'A-', 'B-', 'A-']\n",
      "[[3, 2, 1], [2, 1, 1, 1, 1, 1, 1, 1, 1, 1, 2, 1, 2, 3]]\n"
     ]
    }
   ],
   "source": [
    "# expansion tests bach\n",
    "scale = [\"C\",\"D\",\"E-\",\"F\",\"G\",\"A-\",\"B-\"]\n",
    "# Bach Fuga Cux\n",
    "notes = [\"G\",\"E-\",\"F\",\"G\",\"C\", \"F\", \"E-\", \"D\", \"E-\"]\n",
    "spg = SP.PitchGroup()\n",
    "seq = spg.translate_notes_to_expansions(notes, scale)\n",
    "#seq, seq[5]\n",
    "note_sequence = seq[5] # 5th expansion\n",
    "#rotation\n",
    "cr = spg.clock_rotation(note_sequence)\n",
    "ns = cr[0] # 2th rotation\n",
    "print(ns)\n",
    "result = _sr_.resultant\n",
    "fraction = 5/3\n",
    "r = SR.slice_by_fraction(result, .2)\n",
    "sliced_result = r[1]\n",
    "print(r)\n",
    "s = showSplittedNotes(len(notes)*2, [[2,2,2,2,2,2,1,1,2]], [4,4], ns, 1/2)\n",
    "\n",
    "sp = midi.realtime.StreamPlayer(s)\n",
    "#sp.play()\n",
    "#s.show('midi')\n",
    "s.show('musicxml')\n"
   ]
  },
  {
   "cell_type": "code",
   "execution_count": null,
   "metadata": {
    "code_folding": [],
    "collapsed": false
   },
   "outputs": [],
   "source": [
    "\n"
   ]
  },
  {
   "cell_type": "code",
   "execution_count": null,
   "metadata": {
    "code_folding": [],
    "collapsed": false
   },
   "outputs": [],
   "source": []
  },
  {
   "cell_type": "code",
   "execution_count": null,
   "metadata": {
    "code_folding": [],
    "collapsed": false
   },
   "outputs": [],
   "source": []
  },
  {
   "cell_type": "code",
   "execution_count": null,
   "metadata": {
    "code_folding": [
     0
    ],
    "collapsed": false
   },
   "outputs": [],
   "source": []
  },
  {
   "cell_type": "code",
   "execution_count": null,
   "metadata": {
    "code_folding": [
     0
    ],
    "collapsed": true
   },
   "outputs": [],
   "source": []
  },
  {
   "cell_type": "code",
   "execution_count": null,
   "metadata": {
    "code_folding": [
     0
    ],
    "collapsed": false
   },
   "outputs": [],
   "source": []
  },
  {
   "cell_type": "code",
   "execution_count": null,
   "metadata": {
    "code_folding": [],
    "collapsed": false
   },
   "outputs": [],
   "source": []
  },
  {
   "cell_type": "code",
   "execution_count": null,
   "metadata": {
    "code_folding": [],
    "collapsed": false
   },
   "outputs": [],
   "source": []
  },
  {
   "cell_type": "code",
   "execution_count": 6,
   "metadata": {
    "collapsed": false
   },
   "outputs": [
    {
     "data": {
      "text/plain": [
       "[[3, 2, 1], [3, 1, 2, 3]]"
      ]
     },
     "execution_count": 6,
     "metadata": {},
     "output_type": "execute_result"
    }
   ],
   "source": [
    "result = sr.resultant\n",
    "fraction = 2/4\n",
    "SR.slice_by_fraction(result, fraction)"
   ]
  },
  {
   "cell_type": "code",
   "execution_count": null,
   "metadata": {
    "collapsed": false
   },
   "outputs": [],
   "source": []
  },
  {
   "cell_type": "code",
   "execution_count": null,
   "metadata": {
    "collapsed": false
   },
   "outputs": [],
   "source": []
  },
  {
   "cell_type": "code",
   "execution_count": null,
   "metadata": {
    "collapsed": false
   },
   "outputs": [],
   "source": []
  },
  {
   "cell_type": "code",
   "execution_count": 7,
   "metadata": {
    "code_folding": [
     0,
     1,
     50
    ],
    "collapsed": false
   },
   "outputs": [],
   "source": [
    "# notes 2 \n",
    "def showMultipleScore(note_sequence, rhythm, length, time_meter, duration_divider):\n",
    "    #attacks = convert2Dto1D(data)\n",
    "    #TS = str(int(len(clock))) +'/'+ str(int((clock[0].duration.quarterLength*16)))\n",
    "    TS = str(time_meter[0])+'/'+str(time_meter[1])\n",
    "    \n",
    "    s = stream.Score(id='mainScore')\n",
    "    \n",
    "    for es, sequences in enumerate(note_sequence):\n",
    "        \n",
    "        #print(sequences)\n",
    "        p0 = stream.Part(id='part0')\n",
    "        p0.timeSignature = meter.TimeSignature(TS)\n",
    "        tones = []\n",
    "        \n",
    "        flag = 0\n",
    "        for i,e  in enumerate(sequences):\n",
    "            dd = i%4==0\n",
    "            if dd:\n",
    "                flag = 0\n",
    "            else:\n",
    "                flag += 1\n",
    "            #note_counter += 1\n",
    "            \n",
    "            if es == 0:\n",
    "                #print(flag)\n",
    "                if flag >= 2:\n",
    "                    nota = pitch.Pitch(e)\n",
    "                    nota.octave = 5\n",
    "                    nota = note.Note(nota.nameWithOctave)\n",
    "                    nota.duration.quarterLength = 1*duration_divider\n",
    "                else:\n",
    "                    \n",
    "                    nota = note.Rest()\n",
    "                    nota.duration.quarterLength = 0.5*duration_divider\n",
    "            \n",
    "            else:\n",
    "                nota = pitch.Pitch(e)\n",
    "                nota = note.Note(nota.nameWithOctave)\n",
    "                nota.duration.quarterLength = 3*duration_divider\n",
    "            \n",
    "            \n",
    "            \n",
    "            tones.append(nota)\n",
    "            \n",
    "        p0.append(tones)\n",
    "        s.insert(0, p0)\n",
    "    return s\n",
    "\n",
    "\n",
    "def showMultipleScore_rythm(note_sequence, rhythm, length, time_meter, duration_divider):\n",
    "    \n",
    "    print(rhythm)\n",
    "    #rhythm = convert2Dto1D(rhythm)\n",
    "    #TS = str(int(len(clock))) +'/'+ str(int((clock[0].duration.quarterLength*16)))\n",
    "    TS = str(time_meter[0])+'/'+str(time_meter[1])\n",
    "    \n",
    "    s = stream.Score(id='mainScore')\n",
    "    \n",
    "    for es, sequences in enumerate(note_sequence):\n",
    "        \n",
    "        #print(sequences)\n",
    "        p0 = stream.Part(id='part0')\n",
    "        p0.timeSignature = meter.TimeSignature(TS)\n",
    "        tones = []\n",
    "        razlika = len(note_sequence[0])/len(note_sequence[1])\n",
    "        flag = 0\n",
    "        for i,e  in enumerate(sequences):\n",
    "            dd = i%4==0\n",
    "            if dd:\n",
    "                flag = 0\n",
    "            else:\n",
    "                flag += 1\n",
    "            #note_counter += 1\n",
    "            \n",
    "            if es == 0:\n",
    "                #print(flag)\n",
    "                \n",
    "                nota = pitch.Pitch(e)\n",
    "                nota.octave = 5\n",
    "                nota = note.Note(nota.nameWithOctave)\n",
    "                nota.duration.quarterLength = rhythm[i%len(rhythm)]\n",
    "                \n",
    "            \n",
    "            else:\n",
    "                nota = pitch.Pitch(e)\n",
    "                nota = note.Note(nota.nameWithOctave)\n",
    "                nota.duration.quarterLength = 6\n",
    "            \n",
    "            \n",
    "            \n",
    "            tones.append(nota)\n",
    "            \n",
    "        p0.append(tones)\n",
    "        s.insert(0, p0)\n",
    "    return s\n",
    "\n",
    "def showMultipleScore_MelodyHarmony(note_sequence, rhythm, length, time_meter, duration_divider):\n",
    "    #attacks = convert2Dto1D(data)\n",
    "    #TS = str(int(len(clock))) +'/'+ str(int((clock[0].duration.quarterLength*16)))\n",
    "    TS = str(time_meter[0])+'/'+str(time_meter[1])\n",
    "    \n",
    "    s = stream.Score(id='mainScore')\n",
    "    p0 = stream.Part(id='part0')\n",
    "    p0.timeSignature = meter.TimeSignature(TS)\n",
    "    p1 = stream.Part(id='part0')\n",
    "    p1.timeSignature = meter.TimeSignature(TS)\n",
    "    for es, sequences in enumerate(note_sequence):\n",
    "        \n",
    "        \n",
    "        tones = []\n",
    "        tones2 = []\n",
    "        \n",
    "        nota = pitch.Pitch(sequences[0])\n",
    "        nota.octave = 4\n",
    "        nota = note.Note(nota.nameWithOctave)\n",
    "        nota.duration.quarterLength = rhythm[es%len(rhythm)]\n",
    "\n",
    "        tones.append(nota)\n",
    "        #print(sequences[1])\n",
    "        chord_notes = []\n",
    "        for i,e  in enumerate(sequences[1]):\n",
    "            \n",
    "            nota = pitch.Pitch(e)\n",
    "            nota.octave = 2+i\n",
    "            nota = note.Note(nota.nameWithOctave)\n",
    "            nota.duration.quarterLength = rhythm[es%len(rhythm)]\n",
    "            chord_notes.append(nota)\n",
    "        c = chord.Chord(chord_notes)\n",
    "        tones2.append(c)\n",
    "            \n",
    "        p0.append(tones)\n",
    "        p1.append(tones2)\n",
    "    s.insert(0, p0)\n",
    "    s.insert(0, p1)\n",
    "    return s\n"
   ]
  },
  {
   "cell_type": "code",
   "execution_count": 8,
   "metadata": {
    "code_folding": [],
    "collapsed": false,
    "scrolled": false
   },
   "outputs": [],
   "source": [
    "# expansion tests mozart\n",
    "init_scale = [\"D\",\"E\",\"F\",\"G\",\"G#\",\"A\",\"B-\",\"C\",\"C#\"]\n",
    "# lacremosa\n",
    "notes = [\"D\",\"F\",\"C#\",\"D\", \"F\",\"A\",\"G#\",\"A\",\n",
    "         \"E\",\"G\",\"D\",\"C\", \"G\",\"C#\",\"C\",\"B-\", \n",
    "         \"F\",\"D\",\"A\",\"D\", \"G\",\"E\",\"B-\",\"G\", \n",
    "         \"A\",\"D\",\"E\",\"F\", \"A\",\"G\",\"A\",\"C#\"]\n",
    "\n",
    "# expansion tests bach\n",
    "init_scale = [\"C\",\"D\",\"E-\",\"F\",\"G\",\"A-\",\"B-\"]\n",
    "\n",
    "# Bach Fuga Cux\n",
    "notes = [\"G\",\"E-\",\"F\",\"G\",\"C\", \"F\", \"E-\", \"D\", \"E-\",\n",
    "        \"C\",\"B-\",\"C\",\"D\",\"G\", \"C\", \"B-\", \"A-\",\"B-\"]\n",
    "\n",
    "#notes_permutations = SPG.melodic_forms_definition(notes)\n",
    "voice_amount = 4\n",
    "theme_expansion = 5\n",
    "scale_expansion_amount = 1 #default 1\n",
    "SPG = SP.PitchGroup()\n",
    "#normal\n",
    "note_sequence_all_expansions = SPG.translate_notes_to_expansions(notes, init_scale)\n",
    "\n",
    "scale_expansion = SPG.expansions(init_scale)\n",
    "\n",
    "scale = scale_expansion[scale_expansion_amount] # 1st order expansion for harmonizing is according to schillinger default\n",
    "\n",
    "chordified_scale = SPG.chordify_scale(scale, voice_amount)\n",
    "\n",
    "note_sequence = note_sequence_all_expansions[theme_expansion] # 1th expansion\n",
    "\n",
    "harmonized_note_sequence = SPG.harmonize(note_sequence, chordified_scale)\n",
    "\n",
    "cleaned_sequence = SPG.clean_harmony(harmonized_note_sequence)\n",
    "\n",
    "s = showMultipleScore_MelodyHarmony(cleaned_sequence, [2,2,2,2,2,2,1,1,2], len(cleaned_sequence)*2, [4,4], 1/4)\n",
    "#sp = midi.realtime.StreamPlayer(s)\n",
    "#sp.play()\n",
    "#s.show('midi')\n",
    "s.show('musicxml')\n",
    "#s.show()"
   ]
  },
  {
   "cell_type": "code",
   "execution_count": null,
   "metadata": {
    "collapsed": false
   },
   "outputs": [],
   "source": [
    "\n"
   ]
  },
  {
   "cell_type": "code",
   "execution_count": 9,
   "metadata": {
    "code_folding": [
     0
    ],
    "collapsed": false
   },
   "outputs": [],
   "source": [
    "## result = sr.resultant\n",
    "'''fraction = 2/4\n",
    "sliced_rhytm = SR.slice_by_fraction(result, fraction)\n",
    "whole_seq = [ns,low_notes, low_notes_2]\n",
    "#whole_seq = [ns,[], []]\n",
    "s = showMultipleScore_rythm(whole_seq, [2,1,1,2], len(ns), [3,4], 1/2)\n",
    "\n",
    "#sp = midi.realtime.StreamPlayer(s)\n",
    "#sp.play()\n",
    "#s.show('midi')\n",
    "s.show('musicxml')\n",
    "#s.show()''';"
   ]
  },
  {
   "cell_type": "code",
   "execution_count": null,
   "metadata": {
    "collapsed": false
   },
   "outputs": [],
   "source": []
  },
  {
   "cell_type": "code",
   "execution_count": 10,
   "metadata": {
    "code_folding": [
     0
    ],
    "collapsed": false
   },
   "outputs": [],
   "source": [
    "# chordify tests\n",
    "'''init_scale = [\"D\",\"E\",\"F\",\"G\",\"G#\",\"A\",\"B-\",\"C\",\"C#\"]\n",
    "scale_expansion = spg.expansions(init_scale)\n",
    "scale = scale_expansion[1]\n",
    "def chordify_scale(scala, voices):\n",
    "    new_list=[]\n",
    "    for r in range(len(list_stuff)):\n",
    "        l = []\n",
    "        for d in range(voices):\n",
    "            l.append(list_stuff[(r+d)%len(list_stuff)])\n",
    "        new_list.append(l)\n",
    "    return new_list\n",
    "\n",
    "chordify_scale(scale,2);''';"
   ]
  },
  {
   "cell_type": "code",
   "execution_count": null,
   "metadata": {
    "collapsed": false
   },
   "outputs": [],
   "source": [
    "\n",
    "    "
   ]
  },
  {
   "cell_type": "code",
   "execution_count": 11,
   "metadata": {
    "code_folding": [
     0
    ],
    "collapsed": false
   },
   "outputs": [
    {
     "name": "stdout",
     "output_type": "stream",
     "text": [
      "[(0, 5), (5, 0)]\n",
      "--- [[0, 5], [5, 0]]\n",
      "\n"
     ]
    },
    {
     "data": {
      "text/html": [
       "\n",
       "                <div id='midiPlayerDiv2381'></div>\n",
       "                <link rel=\"stylesheet\" href=\"http://artusi.xyz/music21j/css/m21.css\" \n",
       "                    type=\"text/css\" />\n",
       "                <script>\n",
       "                require.config({\n",
       "                    paths: {'music21': 'http://artusi.xyz/music21j/src/music21'} \n",
       "                }); \n",
       "                require(['music21'], function() { \n",
       "                               mp = new music21.miditools.MidiPlayer();\n",
       "                               mp.addPlayer('#midiPlayerDiv2381'); \n",
       "                               mp.base64Load('data:audio/midi;base64,TVRoZAAAAAYAAQABBABNVHJrAAACjAD/AwAA4ABAAP9YBAUCGAiIAJA8WoQAgDwAAJBBWoQAgEEAAJBBWoQAgEEAAJA8WoQAgDwAAJA8WoQAgDwAAJBBWoQAgEEAAJBBWoQAgEEAAJA8WoQAgDwAAJA8WoQAgDwAAJBBWoQAgEEAAJA8WoQAgDwAAJBBWoQAgEEAAJBBWoQAgEEAAJA8WoQAgDwAAJA8WoQAgDwAAJBBWoQAgEEAAJBBWoQAgEEAAJA8WoQAgDwAAJA8WoQAgDwAAJBBWoQAgEEAAJA8WoQAgDwAAJBBWoQAgEEAAJBBWoQAgEEAAJA8WoQAgDwAAJA8WoQAgDwAAJBBWoQAgEEAAJBBWoQAgEEAAJA8WoQAgDwAAJA8WoQAgDwAAJBBWoQAgEEAAJA8WoQAgDwAAJBBWoQAgEEAAJBBWoQAgEEAAJA8WoQAgDwAAJA8WoQAgDwAAJBBWoQAgEEAAJBBWoQAgEEAAJA8WoQAgDwAAJA8WoQAgDwAAJBBWoQAgEEAAJA8WoQAgDwAAJBBWoQAgEEAAJBBWoQAgEEAAJA8WoQAgDwAAJA8WoQAgDwAAJBBWoQAgEEAAJBBWoQAgEEAAJA8WoQAgDwAAJA8WoQAgDwAAJBBWoQAgEEAAJA8WoQAgDwAAJBBWoQAgEEAAJBBWoQAgEEAAJA8WoQAgDwAAJA8WoQAgDwAAJBBWoQAgEEAAJBBWoQAgEEAAJA8WoQAgDwAAJA8WoQAgDwAAJBBWoQAgEEAAJA8WoQAgDwAAJBBWoQAgEEAAJBBWoQAgEEAAJA8WoQAgDwAAJA8WoQAgDwAAJBBWoQAgEEAAJBBWoQAgEEAAJA8WoQAgDwAAJA8WoQAgDwAAJBBWoQAgEEAiAD/LwA='); \n",
       "                        });\n",
       "                </script>"
      ],
      "text/plain": [
       "<IPython.core.display.HTML object>"
      ]
     },
     "metadata": {},
     "output_type": "display_data"
    },
    {
     "data": {
      "image/png": "[encoded data removed]",
      "text/plain": [
       "<music21.ipython21.objects.IPythonPNGObject at 0x109b8f898>"
      ]
     },
     "execution_count": 11,
     "metadata": {},
     "output_type": "execute_result"
    }
   ],
   "source": [
    "# Pitch Second Group\n",
    "rhythm_attacks = sr.resultant\n",
    "\n",
    "def two_unit_scales(tone):\n",
    "    scale_array = []\n",
    "    for i in range(12):\n",
    "        count = (tone+i)%12\n",
    "        if count != tone:\n",
    "            scale_array.append(count)\n",
    "    return scale_array\n",
    "\n",
    "\n",
    "A = 0 ##### Start tone\n",
    "scales = two_unit_scales(A)\n",
    "B = scales[4] ##### Interval\n",
    "MF = [A,B] ##### sequence array (could be reused and start there!!!)\n",
    "\n",
    "def melodic_forms_definition(units):\n",
    "    return list(itertools.permutations(units))\n",
    "MF1 = melodic_forms_definition(MF)\n",
    "print(MF1)\n",
    "\n",
    "def clock_rotation(units):\n",
    "    # Rotate Lists\n",
    "    def rotate(l, x):\n",
    "      return l[-x % len(l):] + l[:-x % len(l)]\n",
    "    #clock\n",
    "    l = []\n",
    "    for i,e in enumerate(units):\n",
    "        l.append(rotate(units, i))\n",
    "        #print(rotate(units, i))\n",
    "    return l\n",
    "def counter_clock_rotation(units):\n",
    "    # Rotate Lists\n",
    "    def rotate(l, x):\n",
    "      return l[-x % len(l):] + l[:-x % len(l)]\n",
    "    l = []\n",
    "    #counterclock\n",
    "    for i,e in enumerate(units):\n",
    "        l.append(rotate(units, -i))\n",
    "        #print(rotate(units, -i))\n",
    "    return l\n",
    "\n",
    "MFR = clock_rotation(MF)\n",
    "print(\"---\",MFR)\n",
    "###----------> Higher Order??? warning!!!\n",
    "def melodic_forms_combination(units):\n",
    "    return list(itertools.permutations(units))\n",
    "#MF2= melodic_forms_combination(MF1)\n",
    "#print(MF2)\n",
    "#### <------------------------------------\n",
    "print()\n",
    "melodic_coeficients = [1,1,1,1,1] ##### f.e. 2a+b\n",
    "def max_coefficients_of_reccurence(coeficients, mel_form):\n",
    "    #get the higher number and iterate over both lists whith %\n",
    "    max_num = max(len(coeficients), len(mel_form))\n",
    "    temp = []\n",
    "    for i in range(max_num):\n",
    "        temp.append(mel_form[i%len(mel_form)]*coeficients[i%len(coeficients)])\n",
    "    return temp\n",
    "\n",
    "def coefficients_of_reccurence(coeficients, mel_form):\n",
    "    temp = []\n",
    "    for i,e in enumerate(coeficients):\n",
    "        temp.append([mel_form[i%len(mel_form)]]*e)\n",
    "    \n",
    "    return temp\n",
    "\n",
    "melodic_continuity = coefficients_of_reccurence(melodic_coeficients,MF1)\n",
    "\n",
    "def convert_to_1D(sequence, levels_of_depth):\n",
    "    for i in range(levels_of_depth):\n",
    "        sequence = list(itertools.chain(*sequence))\n",
    "    return sequence\n",
    "\n",
    "tone_sequence = convert_to_1D(melodic_continuity, 2)\n",
    "\n",
    "#Synchronization!!!! check ich ned!!\n",
    "'''def synchronization(melodic_attacks, rhythmic_attacks, modulo):\n",
    "    if len(rhythm_attacks) % modulo == 0:\n",
    "        \n",
    "        return int((melodic_attacks*rhythmic_attacks)/modulo)\n",
    "    else:\n",
    "        return int(melodic_attacks*rhythmic_attacks)\n",
    "\n",
    "attack_synchronization = synchronization(len(tone_sequence),len(rhythm_attacks), len(tone_sequence)/len(MF1))\n",
    "print(attack_synchronization)'''\n",
    "\n",
    "attack_synchronization = int(len(tone_sequence)*len(rhythm_attacks))\n",
    "\n",
    "def convert_to_note_sequence(tone_sequence, attacks):\n",
    "    new_seq = []\n",
    "    for i in range(attacks):\n",
    "        new_seq.append(tone_sequence[i%len(tone_sequence)])\n",
    "    return new_seq\n",
    "\n",
    "whole_sequence = convert_to_note_sequence(tone_sequence, attack_synchronization)\n",
    "\n",
    "s = showSplittedNotes(len(whole_sequence),[[2]], [5,4], whole_sequence, 1/4)\n",
    "s.show('midi')\n",
    "s.show()"
   ]
  },
  {
   "cell_type": "code",
   "execution_count": null,
   "metadata": {
    "collapsed": false,
    "scrolled": false
   },
   "outputs": [],
   "source": []
  },
  {
   "cell_type": "code",
   "execution_count": 12,
   "metadata": {
    "collapsed": false,
    "scrolled": false
   },
   "outputs": [
    {
     "name": "stdout",
     "output_type": "stream",
     "text": [
      "[[3, 1], [2, 2], [1, 3], [2, 1, 1], [1, 1, 2]]\n"
     ]
    },
    {
     "data": {
      "text/plain": [
       "([1, 3], [2, 1, 1], [1, 1, 2], [3, 1], [2, 2])"
      ]
     },
     "execution_count": 12,
     "metadata": {},
     "output_type": "execute_result"
    }
   ],
   "source": [
    "# get original combinations by sum\n",
    "\n",
    "l = sr.resultant\n",
    "ts = 4\n",
    "\n",
    "def get_original_combinaions_by_sum(l, ts):\n",
    "    a = []\n",
    "    for i in range(len(l)):\n",
    "        for c in itertools.combinations(l, i):\n",
    "            if sum(c) == ts and list(c) not in a:\n",
    "                a.append(list(c))\n",
    "    return a\n",
    "\n",
    "ps = get_original_combinaions_by_sum(l, ts)\n",
    "print(ps)\n",
    "p = list(itertools.permutations(ps))\n",
    "random.choice(p)"
   ]
  },
  {
   "cell_type": "code",
   "execution_count": null,
   "metadata": {
    "code_folding": [],
    "collapsed": false,
    "scrolled": false
   },
   "outputs": [],
   "source": []
  },
  {
   "cell_type": "code",
   "execution_count": null,
   "metadata": {
    "collapsed": false
   },
   "outputs": [],
   "source": []
  },
  {
   "cell_type": "code",
   "execution_count": null,
   "metadata": {
    "collapsed": false,
    "scrolled": false
   },
   "outputs": [],
   "source": []
  },
  {
   "cell_type": "code",
   "execution_count": 15,
   "metadata": {
    "collapsed": false
   },
   "outputs": [
    {
     "data": {
      "text/plain": [
       "5.0"
      ]
     },
     "execution_count": 15,
     "metadata": {},
     "output_type": "execute_result"
    }
   ],
   "source": [
    "60/12"
   ]
  },
  {
   "cell_type": "code",
   "execution_count": null,
   "metadata": {
    "code_folding": [
     0
    ],
    "collapsed": false
   },
   "outputs": [],
   "source": []
  },
  {
   "cell_type": "code",
   "execution_count": 1021,
   "metadata": {
    "collapsed": false
   },
   "outputs": [
    {
     "data": {
      "text/plain": [
       "slice(None, [23, 23], None)"
      ]
     },
     "execution_count": 1021,
     "metadata": {},
     "output_type": "execute_result"
    }
   ],
   "source": [
    "slice([23,23])"
   ]
  },
  {
   "cell_type": "code",
   "execution_count": null,
   "metadata": {
    "collapsed": false
   },
   "outputs": [],
   "source": []
  },
  {
   "cell_type": "code",
   "execution_count": null,
   "metadata": {
    "collapsed": true
   },
   "outputs": [],
   "source": []
  },
  {
   "cell_type": "code",
   "execution_count": null,
   "metadata": {
    "collapsed": false,
    "scrolled": false
   },
   "outputs": [],
   "source": []
  },
  {
   "cell_type": "code",
   "execution_count": null,
   "metadata": {
    "collapsed": false
   },
   "outputs": [],
   "source": []
  },
  {
   "cell_type": "code",
   "execution_count": null,
   "metadata": {
    "collapsed": false,
    "scrolled": false
   },
   "outputs": [],
   "source": []
  },
  {
   "cell_type": "code",
   "execution_count": 611,
   "metadata": {
    "collapsed": false
   },
   "outputs": [],
   "source": []
  },
  {
   "cell_type": "code",
   "execution_count": null,
   "metadata": {
    "code_folding": [
     0
    ],
    "collapsed": false,
    "scrolled": false
   },
   "outputs": [],
   "source": []
  },
  {
   "cell_type": "code",
   "execution_count": null,
   "metadata": {
    "collapsed": false
   },
   "outputs": [],
   "source": []
  },
  {
   "cell_type": "code",
   "execution_count": 1020,
   "metadata": {
    "code_folding": [
     0
    ],
    "collapsed": false,
    "scrolled": false
   },
   "outputs": [
    {
     "data": {
      "text/plain": [
       "([[1, 3, 1], [1, 3, 1]],\n",
       " [[6, 4, 1, 1, 3, 7, 2, 1, 2, 3, 6, 3, 2, 1, 4, 5, 3, 3, 1, 2],\n",
       "  [1, 2, 2, 4, 4, 4, 1, 3, 2, 6, 4, 1, 1, 2, 8, 2, 1, 1, 4, 6, 1]],\n",
       " [[1, 1, 3], [3, 1, 1]],\n",
       " 40)"
      ]
     },
     "execution_count": 1020,
     "metadata": {},
     "output_type": "execute_result"
    }
   ],
   "source": [
    "#%reset -sf\n",
    "durations_pattern = [1,2,2,1,3,1,1,1]\n",
    "order_of_parts = [0,1]\n",
    "attack_pattern = [1,3,1] # need n(=PLa) groups in this case 3\n",
    "parts = 2\n",
    "\n",
    "\n",
    "aa = attack_pattern\n",
    "PLi = parts\n",
    "PLa = len(aa)\n",
    "Nip = PLi*sum(aa)\n",
    "A = [aa]*PLi\n",
    "test = len(durations_pattern)*sum(attack_pattern)\n",
    "Nip = test\n",
    "\n",
    "instrument_parts = [[] for x in range(len(A))]\n",
    "count = 0\n",
    "for i,e in enumerate(A):\n",
    "    for r in e:\n",
    "        instrument_parts[count%len(A)].append(r)\n",
    "        count+=1\n",
    "\n",
    "durations_array = []\n",
    "for i in range(Nip):\n",
    "    durations_array.append(durations_pattern[i%len(durations_pattern)])\n",
    "\n",
    "def generate_binary_test():\n",
    "    binary_array = [[0 for x in range(Nip)] for x in range(PLi)]\n",
    "    attacks_array = [[0 for x in range(Nip)] for x in range(PLi)]\n",
    "    count = 0\n",
    "    while count < Nip:\n",
    "        for r in range(PLa):\n",
    "            for x in range(PLi):\n",
    "                for y in range(instrument_parts[x][r]):\n",
    "                    binary_array[order_of_parts[x]][count] = 1\n",
    "                    attacks_array[order_of_parts[x]][count] = durations_array[count]\n",
    "                    \n",
    "                    count+=1\n",
    "    return [binary_array, attacks_array]\n",
    "\n",
    "ar = generate_binary_test()\n",
    "\n",
    "def brainfuck_algo(ata):\n",
    "    flag = False\n",
    "    test_array = [[] for x in range(PLi)]\n",
    "    for op in order_of_parts:\n",
    "        \n",
    "        start_point = 0\n",
    "        summe = 0\n",
    "        for i, o in enumerate(ata[op]):\n",
    "            \n",
    "            if o is 0:\n",
    "                if not flag:\n",
    "                    start_point = i-1\n",
    "                    summe = 0\n",
    "                    flag = True\n",
    "                for p in range(PLi):\n",
    "                    p = (p + op)%PLi\n",
    "                    summe += ata[p][i]\n",
    "            else:\n",
    "                if flag:\n",
    "                    flag = False\n",
    "                    test_array[op].append(ata[op][start_point] + summe)\n",
    "                else:\n",
    "                    if i > 0:\n",
    "                        test_array[op].append(ata[op][i-1])\n",
    "        \n",
    "        ## end fill up\n",
    "        if flag:\n",
    "            test_array[op].append(ata[op][start_point] + summe)\n",
    "        else:\n",
    "            test_array[op].append(ata[op][i])\n",
    "             \n",
    "    return test_array\n",
    "\n",
    "fa = brainfuck_algo(ar[1])\n",
    "\n",
    "s = showSplittedNotes(len(fa[0]), [fa], [6,8],[\"C\"], 1/4)\n",
    "s.show(\"musicxml\");\n",
    "\n",
    "A,fa, instrument_parts, len(durations_array)"
   ]
  },
  {
   "cell_type": "code",
   "execution_count": 1014,
   "metadata": {
    "code_folding": [
     0
    ],
    "collapsed": false
   },
   "outputs": [],
   "source": []
  },
  {
   "cell_type": "code",
   "execution_count": 1015,
   "metadata": {
    "code_folding": [
     0,
     17
    ],
    "collapsed": false,
    "scrolled": false
   },
   "outputs": [],
   "source": []
  },
  {
   "cell_type": "code",
   "execution_count": 1016,
   "metadata": {
    "code_folding": [
     0
    ],
    "collapsed": true
   },
   "outputs": [],
   "source": []
  },
  {
   "cell_type": "code",
   "execution_count": null,
   "metadata": {
    "collapsed": true
   },
   "outputs": [],
   "source": []
  }
 ],
 "metadata": {
  "hide_input": false,
  "kernelspec": {
   "display_name": "Python [conda env:python3_test]",
   "language": "python",
   "name": "conda-env-python3_test-py"
  },
  "language_info": {
   "codemirror_mode": {
    "name": "ipython",
    "version": 3
   },
   "file_extension": ".py",
   "mimetype": "text/x-python",
   "name": "python",
   "nbconvert_exporter": "python",
   "pygments_lexer": "ipython3",
   "version": "3.5.2"
  },
  "latex_envs": {
   "LaTeX_envs_menu_present": true,
   "bibliofile": "biblio.bib",
   "cite_by": "apalike",
   "current_citInitial": 1,
   "eqLabelWithNumbers": true,
   "eqNumInitial": 1,
   "hotkeys": {
    "equation": "Ctrl-E",
    "itemize": "Ctrl-I"
   },
   "labels_anchors": false,
   "latex_user_defs": false,
   "report_style_numbering": false,
   "user_envs_cfg": false
  }
 },
 "nbformat": 4,
 "nbformat_minor": 2
}
