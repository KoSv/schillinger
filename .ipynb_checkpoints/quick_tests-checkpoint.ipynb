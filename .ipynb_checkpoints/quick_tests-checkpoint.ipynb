{
 "cells": [
  {
   "cell_type": "code",
   "execution_count": 499,
   "metadata": {
    "collapsed": true
   },
   "outputs": [],
   "source": [
    "import schillinger.rhythm as SR\n",
    "import schillinger.pitch as SP\n",
    "import random"
   ]
  },
  {
   "cell_type": "code",
   "execution_count": 134,
   "metadata": {
    "code_folding": [
     0
    ],
    "collapsed": false
   },
   "outputs": [
    {
     "name": "stdout",
     "output_type": "stream",
     "text": [
      "The music21.ipython21 extension is already loaded. To reload it, use:\n",
      "  %reload_ext music21.ipython21\n"
     ]
    }
   ],
   "source": [
    "#notes\n",
    "from music21 import *\n",
    "#from itertools import chain\n",
    "%load_ext music21.ipython21\n",
    "\n",
    "def convert2Dto1D(data):\n",
    "    flat_array = []\n",
    "    for d in data:\n",
    "        if isinstance(d[0], list) or isinstance(d[0], tuple):\n",
    "            for l in d:\n",
    "                \n",
    "                flat_array.append(l)\n",
    "        else:\n",
    "            flat_array.append(d)\n",
    "    return flat_array\n",
    "    \n",
    "\n",
    "def showSplittedNotes(length, data, time_meter, note_sequece, duration_divider):\n",
    "    attacks = convert2Dto1D(data)\n",
    "    #TS = str(int(len(clock))) +'/'+ str(int((clock[0].duration.quarterLength*16)))\n",
    "    TS = str(time_meter[0])+'/'+str(time_meter[1])\n",
    "    \n",
    "    s = stream.Score(id='mainScore')\n",
    "    \n",
    "    for sequences in attacks:\n",
    "        p0 = stream.Part(id='part0')\n",
    "        p0.timeSignature = meter.TimeSignature(TS)\n",
    "        tones = []\n",
    "        note_counter = 0\n",
    "        for i in range(length):\n",
    "            nota = pitch.Pitch(note_sequece[note_counter%len(note_sequece)])\n",
    "            note_counter += 1\n",
    "            #nota.octave = 4\n",
    "            nota = note.Note(nota.nameWithOctave)\n",
    "            nota.duration.quarterLength = sequences[i%len(sequences)]*duration_divider\n",
    "            tones.append(nota)\n",
    "            \n",
    "        p0.append(tones)\n",
    "        s.insert(0, p0)\n",
    "    return s\n",
    "\n",
    "def showSplittedNotesWhole(length, data, time_meter, note_sequece, duration_divider):\n",
    "    attacks = convert2Dto1D(data)\n",
    "    #TS = str(int(len(clock))) +'/'+ str(int((clock[0].duration.quarterLength*16)))\n",
    "    TS = str(time_meter[0])+'/'+str(time_meter[1])\n",
    "    \n",
    "    s = stream.Score(id='mainScore')\n",
    "    \n",
    "    for sequences in attacks:\n",
    "        p0 = stream.Part(id='part0')\n",
    "        p0.timeSignature = meter.TimeSignature(TS)\n",
    "        tones = []\n",
    "        note_counter = 0\n",
    "        for i in range(length):\n",
    "            nota = pitch.Pitch(note_sequece[note_counter%len(note_sequece)])\n",
    "            note_counter += 1\n",
    "            #nota.octave = 4\n",
    "            nota = note.Note(nota.nameWithOctave)\n",
    "            nota.duration.quarterLength = sequences[i%len(sequences)]*duration_divider\n",
    "            tones.append(nota)\n",
    "            \n",
    "        p0.append(tones)\n",
    "        s.insert(0, p0)\n",
    "    return s\n"
   ]
  },
  {
   "cell_type": "code",
   "execution_count": 3,
   "metadata": {
    "collapsed": false
   },
   "outputs": [],
   "source": [
    "#help(schillinger)"
   ]
  },
  {
   "cell_type": "code",
   "execution_count": 352,
   "metadata": {
    "collapsed": false
   },
   "outputs": [
    {
     "data": {
      "text/plain": [
       "([3, 2, 1, 3, 1, 2, 3], [3, 2, 1, 2, 1, 1, 1, 1, 1, 1, 1, 1, 1, 2, 1, 2, 3])"
      ]
     },
     "execution_count": 352,
     "metadata": {},
     "output_type": "execute_result"
    }
   ],
   "source": [
    "a = 5\n",
    "b = 3\n",
    "fraction = [a,b]\n",
    "\n",
    "sr = SR.Type_I(fraction)\n",
    "_sr_ = SR.Type_II(fraction)\n",
    "sr.resultant, _sr_.resultant"
   ]
  },
  {
   "cell_type": "code",
   "execution_count": 353,
   "metadata": {
    "code_folding": [],
    "collapsed": false
   },
   "outputs": [],
   "source": [
    "# expansion tests bach\n",
    "scale = [\"C\",\"D\",\"E-\",\"F\",\"G\",\"A-\",\"B-\"]\n",
    "# Bach Fuga Cux\n",
    "notes = [\"G\",\"E-\",\"F\",\"G\",\"C\", \"F\", \"E-\", \"D\", \"E-\"]\n",
    "spg = SP.PitchGroup()\n",
    "seq = spg.translate_notes_to_expansions(notes, scale)\n",
    "#seq, seq[5]"
   ]
  },
  {
   "cell_type": "code",
   "execution_count": 387,
   "metadata": {
    "code_folding": [],
    "collapsed": false
   },
   "outputs": [
    {
     "data": {
      "text/plain": [
       "['A-', 'B-', 'E-', 'A-', 'C', 'E-', 'B-', 'F', 'B-']"
      ]
     },
     "execution_count": 387,
     "metadata": {},
     "output_type": "execute_result"
    }
   ],
   "source": [
    "\n",
    "note_sequence = seq[2] # 5th expansion\n",
    "#rotation\n",
    "cr = spg.clock_rotation(note_sequence)\n",
    "ns = cr[0] # 2th rotation\n",
    "ns"
   ]
  },
  {
   "cell_type": "code",
   "execution_count": 388,
   "metadata": {
    "code_folding": [],
    "collapsed": false
   },
   "outputs": [
    {
     "name": "stdout",
     "output_type": "stream",
     "text": [
      "[[3, 2, 1], [2, 1, 1, 1, 1, 1, 1, 1, 1, 1, 2, 1, 2, 3]]\n"
     ]
    }
   ],
   "source": [
    "result = _sr_.resultant\n",
    "fraction = 5/3\n",
    "r = SR.slice_by_fraction(result, .2)\n",
    "print(r)\n",
    "s = showSplittedNotes(len(r[1]), [r[1]], [4,4], ns, 1/2)\n",
    "\n",
    "sp = midi.realtime.StreamPlayer(s)\n",
    "sp.play()\n",
    "#s.show('midi')\n",
    "#s.show('musicxml')\n"
   ]
  },
  {
   "cell_type": "code",
   "execution_count": 367,
   "metadata": {
    "code_folding": [],
    "collapsed": false
   },
   "outputs": [
    {
     "data": {
      "text/plain": [
       "0.535031847133758"
      ]
     },
     "execution_count": 367,
     "metadata": {},
     "output_type": "execute_result"
    }
   ],
   "source": [
    "1.68/3.14"
   ]
  },
  {
   "cell_type": "code",
   "execution_count": null,
   "metadata": {
    "code_folding": [
     0
    ],
    "collapsed": false
   },
   "outputs": [],
   "source": []
  },
  {
   "cell_type": "code",
   "execution_count": null,
   "metadata": {
    "code_folding": [
     0
    ],
    "collapsed": true
   },
   "outputs": [],
   "source": [
    "# Pitch Second Group\n",
    "rhythm_attacks = sr.resultant\n",
    "\n",
    "def two_unit_scales(tone):\n",
    "    scale_array = []\n",
    "    for i in range(12):\n",
    "        count = (tone+i)%12\n",
    "        if count != tone:\n",
    "            scale_array.append(count)\n",
    "    return scale_array\n",
    "\n",
    "\n",
    "A = 0 ##### Start tone\n",
    "scales = two_unit_scales(A)\n",
    "B = scales[4] ##### Interval\n",
    "MF = [A,B] ##### sequence array (could be reused and start there!!!)\n",
    "\n",
    "def melodic_forms_definition(units):\n",
    "    return list(itertools.permutations(units))\n",
    "MF1 = melodic_forms_definition(MF)\n",
    "print(MF1)\n",
    "\n",
    "def clock_rotation(units):\n",
    "    # Rotate Lists\n",
    "    def rotate(l, x):\n",
    "      return l[-x % len(l):] + l[:-x % len(l)]\n",
    "    #clock\n",
    "    l = []\n",
    "    for i,e in enumerate(units):\n",
    "        l.append(rotate(units, i))\n",
    "        #print(rotate(units, i))\n",
    "    return l\n",
    "def counter_clock_rotation(units):\n",
    "    # Rotate Lists\n",
    "    def rotate(l, x):\n",
    "      return l[-x % len(l):] + l[:-x % len(l)]\n",
    "    l = []\n",
    "    #counterclock\n",
    "    for i,e in enumerate(units):\n",
    "        l.append(rotate(units, -i))\n",
    "        #print(rotate(units, -i))\n",
    "    return l\n",
    "\n",
    "MFR = clock_rotation(MF)\n",
    "print(\"---\",MFR)\n",
    "###----------> Higher Order??? warning!!!\n",
    "def melodic_forms_combination(units):\n",
    "    return list(itertools.permutations(units))\n",
    "#MF2= melodic_forms_combination(MF1)\n",
    "#print(MF2)\n",
    "#### <------------------------------------\n",
    "print()\n",
    "melodic_coeficients = [1,1,1,1,1] ##### f.e. 2a+b\n",
    "def max_coefficients_of_reccurence(coeficients, mel_form):\n",
    "    #get the higher number and iterate over both lists whith %\n",
    "    max_num = max(len(coeficients), len(mel_form))\n",
    "    temp = []\n",
    "    for i in range(max_num):\n",
    "        temp.append(mel_form[i%len(mel_form)]*coeficients[i%len(coeficients)])\n",
    "    return temp\n",
    "\n",
    "def coefficients_of_reccurence(coeficients, mel_form):\n",
    "    temp = []\n",
    "    for i,e in enumerate(coeficients):\n",
    "        temp.append([mel_form[i%len(mel_form)]]*e)\n",
    "    \n",
    "    return temp\n",
    "\n",
    "melodic_continuity = coefficients_of_reccurence(melodic_coeficients,MF1)\n",
    "\n",
    "def convert_to_1D(sequence, levels_of_depth):\n",
    "    for i in range(levels_of_depth):\n",
    "        sequence = list(itertools.chain(*sequence))\n",
    "    return sequence\n",
    "\n",
    "tone_sequence = convert_to_1D(melodic_continuity, 2)\n",
    "\n",
    "#Synchronization!!!! check ich ned!!\n",
    "'''def synchronization(melodic_attacks, rhythmic_attacks, modulo):\n",
    "    if len(rhythm_attacks) % modulo == 0:\n",
    "        \n",
    "        return int((melodic_attacks*rhythmic_attacks)/modulo)\n",
    "    else:\n",
    "        return int(melodic_attacks*rhythmic_attacks)\n",
    "\n",
    "attack_synchronization = synchronization(len(tone_sequence),len(rhythm_attacks), len(tone_sequence)/len(MF1))\n",
    "print(attack_synchronization)'''\n",
    "\n",
    "attack_synchronization = int(len(tone_sequence)*len(rhythm_attacks))\n",
    "\n",
    "def convert_to_note_sequence(tone_sequence, attacks):\n",
    "    new_seq = []\n",
    "    for i in range(attacks):\n",
    "        new_seq.append(tone_sequence[i%len(tone_sequence)])\n",
    "    return new_seq\n",
    "\n",
    "whole_sequence = convert_to_note_sequence(tone_sequence, attack_synchronization)\n",
    "\n",
    "s = showSplittedNotes(len(whole_sequence),[[2]], [5,4], whole_sequence, 1/4)\n",
    "s.show('midi')\n",
    "s.show()"
   ]
  },
  {
   "cell_type": "code",
   "execution_count": null,
   "metadata": {
    "code_folding": [
     0
    ],
    "collapsed": false
   },
   "outputs": [],
   "source": []
  },
  {
   "cell_type": "code",
   "execution_count": null,
   "metadata": {
    "code_folding": [],
    "collapsed": false
   },
   "outputs": [],
   "source": []
  },
  {
   "cell_type": "code",
   "execution_count": null,
   "metadata": {
    "code_folding": [],
    "collapsed": false
   },
   "outputs": [],
   "source": []
  },
  {
   "cell_type": "code",
   "execution_count": 250,
   "metadata": {
    "collapsed": false
   },
   "outputs": [
    {
     "data": {
      "text/plain": [
       "[[3, 1, 2], [2, 1, 3]]"
      ]
     },
     "execution_count": 250,
     "metadata": {},
     "output_type": "execute_result"
    }
   ],
   "source": [
    "result = sr.resultant\n",
    "fraction = 2/4\n",
    "SR.slice_by_fraction(result, fraction)"
   ]
  },
  {
   "cell_type": "code",
   "execution_count": null,
   "metadata": {
    "collapsed": false
   },
   "outputs": [],
   "source": []
  },
  {
   "cell_type": "code",
   "execution_count": 148,
   "metadata": {
    "collapsed": false
   },
   "outputs": [],
   "source": []
  },
  {
   "cell_type": "code",
   "execution_count": 152,
   "metadata": {
    "collapsed": false
   },
   "outputs": [
    {
     "data": {
      "text/plain": [
       "(['C2', 'D2', 'C2', 'G#2', 'E2', 'D2', 'E2', 'B-2'],\n",
       " ['D3', 'B-3', 'G3', 'E3', 'B-3', 'E3', 'C3', 'C3'])"
      ]
     },
     "execution_count": 152,
     "metadata": {},
     "output_type": "execute_result"
    }
   ],
   "source": []
  },
  {
   "cell_type": "code",
   "execution_count": 572,
   "metadata": {
    "code_folding": [
     1,
     50
    ],
    "collapsed": false
   },
   "outputs": [],
   "source": [
    "\n",
    "def showMultipleScore(note_sequence, rhythm, length, time_meter, duration_divider):\n",
    "    #attacks = convert2Dto1D(data)\n",
    "    #TS = str(int(len(clock))) +'/'+ str(int((clock[0].duration.quarterLength*16)))\n",
    "    TS = str(time_meter[0])+'/'+str(time_meter[1])\n",
    "    \n",
    "    s = stream.Score(id='mainScore')\n",
    "    \n",
    "    for es, sequences in enumerate(note_sequence):\n",
    "        \n",
    "        #print(sequences)\n",
    "        p0 = stream.Part(id='part0')\n",
    "        p0.timeSignature = meter.TimeSignature(TS)\n",
    "        tones = []\n",
    "        \n",
    "        flag = 0\n",
    "        for i,e  in enumerate(sequences):\n",
    "            dd = i%4==0\n",
    "            if dd:\n",
    "                flag = 0\n",
    "            else:\n",
    "                flag += 1\n",
    "            #note_counter += 1\n",
    "            \n",
    "            if es == 0:\n",
    "                #print(flag)\n",
    "                if flag >= 2:\n",
    "                    nota = pitch.Pitch(e)\n",
    "                    nota.octave = 5\n",
    "                    nota = note.Note(nota.nameWithOctave)\n",
    "                    nota.duration.quarterLength = 1*duration_divider\n",
    "                else:\n",
    "                    \n",
    "                    nota = note.Rest()\n",
    "                    nota.duration.quarterLength = 0.5*duration_divider\n",
    "            \n",
    "            else:\n",
    "                nota = pitch.Pitch(e)\n",
    "                nota = note.Note(nota.nameWithOctave)\n",
    "                nota.duration.quarterLength = 3*duration_divider\n",
    "            \n",
    "            \n",
    "            \n",
    "            tones.append(nota)\n",
    "            \n",
    "        p0.append(tones)\n",
    "        s.insert(0, p0)\n",
    "    return s\n",
    "\n",
    "\n",
    "def showMultipleScore_rythm(note_sequence, rhythm, length, time_meter, duration_divider):\n",
    "    \n",
    "    print(rhythm)\n",
    "    #rhythm = convert2Dto1D(rhythm)\n",
    "    #TS = str(int(len(clock))) +'/'+ str(int((clock[0].duration.quarterLength*16)))\n",
    "    TS = str(time_meter[0])+'/'+str(time_meter[1])\n",
    "    \n",
    "    s = stream.Score(id='mainScore')\n",
    "    \n",
    "    for es, sequences in enumerate(note_sequence):\n",
    "        \n",
    "        #print(sequences)\n",
    "        p0 = stream.Part(id='part0')\n",
    "        p0.timeSignature = meter.TimeSignature(TS)\n",
    "        tones = []\n",
    "        razlika = len(note_sequence[0])/len(note_sequence[1])\n",
    "        flag = 0\n",
    "        for i,e  in enumerate(sequences):\n",
    "            dd = i%4==0\n",
    "            if dd:\n",
    "                flag = 0\n",
    "            else:\n",
    "                flag += 1\n",
    "            #note_counter += 1\n",
    "            \n",
    "            if es == 0:\n",
    "                #print(flag)\n",
    "                \n",
    "                nota = pitch.Pitch(e)\n",
    "                nota.octave = 5\n",
    "                nota = note.Note(nota.nameWithOctave)\n",
    "                nota.duration.quarterLength = rhythm[i%len(rhythm)]\n",
    "                \n",
    "            \n",
    "            else:\n",
    "                nota = pitch.Pitch(e)\n",
    "                nota = note.Note(nota.nameWithOctave)\n",
    "                nota.duration.quarterLength = 6\n",
    "            \n",
    "            \n",
    "            \n",
    "            tones.append(nota)\n",
    "            \n",
    "        p0.append(tones)\n",
    "        s.insert(0, p0)\n",
    "    return s\n",
    "\n",
    "def showMultipleScore_MelodyHarmony(note_sequence, rhythm, length, time_meter, duration_divider):\n",
    "    #attacks = convert2Dto1D(data)\n",
    "    #TS = str(int(len(clock))) +'/'+ str(int((clock[0].duration.quarterLength*16)))\n",
    "    TS = str(time_meter[0])+'/'+str(time_meter[1])\n",
    "    \n",
    "    s = stream.Score(id='mainScore')\n",
    "    p0 = stream.Part(id='part0')\n",
    "    p0.timeSignature = meter.TimeSignature(TS)\n",
    "    p1 = stream.Part(id='part0')\n",
    "    p1.timeSignature = meter.TimeSignature(TS)\n",
    "    for es, sequences in enumerate(note_sequence):\n",
    "        \n",
    "        \n",
    "        tones = []\n",
    "        tones2 = []\n",
    "        \n",
    "        nota = pitch.Pitch(sequences[0])\n",
    "        nota.octave = 4\n",
    "        nota = note.Note(nota.nameWithOctave)\n",
    "        nota.duration.quarterLength = 4\n",
    "\n",
    "        tones.append(nota)\n",
    "        #print(sequences[1])\n",
    "        chord_notes = []\n",
    "        for i,e  in enumerate(sequences[1]):\n",
    "            \n",
    "            nota = pitch.Pitch(e)\n",
    "            nota.octave = 2+i\n",
    "            nota = note.Note(nota.nameWithOctave)\n",
    "            nota.duration.quarterLength = 4\n",
    "            chord_notes.append(nota)\n",
    "        c = chord.Chord(chord_notes)\n",
    "        tones2.append(c)\n",
    "            \n",
    "        p0.append(tones)\n",
    "        p1.append(tones2)\n",
    "    s.insert(0, p0)\n",
    "    s.insert(0, p1)\n",
    "    return s\n"
   ]
  },
  {
   "cell_type": "code",
   "execution_count": 574,
   "metadata": {
    "collapsed": false
   },
   "outputs": [],
   "source": [
    "# expansion tests mozart\n",
    "init_scale = [\"D\",\"E\",\"F\",\"G\",\"G#\",\"A\",\"B-\",\"C\",\"C#\"]\n",
    "# Bach Fuga Cux\n",
    "notes = [\"D\",\"F\",\"C#\",\"D\", \"F\",\"A\",\"G#\",\"A\",\n",
    "         \"E\",\"G\",\"D\",\"C\", \"G\",\"C#\",\"C\",\"B-\", \n",
    "         \"F\",\"D\",\"A\",\"D\", \"G\",\"E\",\"B-\",\"G\", \n",
    "         \"A\",\"D\",\"E\",\"F\", \"A\",\"G\",\"A\",\"C#\"]\n",
    "spg = SP.PitchGroup()\n",
    "seq = spg.translate_notes_to_expansions(notes, init_scale)\n",
    "\n",
    "#init_scale = [\"D\",\"E\",\"F\",\"G\",\"G#\",\"A\",\"B-\",\"C\",\"C#\"]\n",
    "scale_expansion = spg.expansions(init_scale)\n",
    "scale = scale_expansion[1]\n",
    "def chordify_scale(scala, voices):\n",
    "    new_list=[]\n",
    "    for r in range(len(list_stuff)):\n",
    "        l = []\n",
    "        for d in range(voices):\n",
    "            l.append(list_stuff[(r+d)%len(list_stuff)])\n",
    "        new_list.append(l)\n",
    "    return new_list\n",
    "\n",
    "\n",
    "note_sequence = seq[3] # 1th expansion\n",
    "chordified_scale = chordify_scale(init_scale,3)\n",
    "\n",
    "def harmonize(note_seq, chordified_scale):\n",
    "    # erstma mit choice\n",
    "    array = []\n",
    "    for i, note in enumerate(note_seq):\n",
    "        temp_cord = []\n",
    "        for chord in chordified_scale:\n",
    "            if note in chord:\n",
    "                temp_cord.append(chord)\n",
    "        array.append([note,random.choice(temp_cord)])\n",
    "    return array\n",
    "\n",
    "harmonized = harmonize(note_sequence,chordified_scale)\n",
    "\n",
    "def clean_harmony(harmonized_part):\n",
    "    cleaned_list = []\n",
    "    for i,p in enumerate(harmonized_part):\n",
    "        cl = []\n",
    "        for l in p[1]:\n",
    "            if l != p[0]:\n",
    "                cl.append(l)\n",
    "        cleaned_list.append([p[0],cl])\n",
    "    return cleaned_list\n",
    "\n",
    "cleaned_harmony = clean_harmony(harmonized)\n",
    "\n",
    "s = showMultipleScore_MelodyHarmony(cleaned_harmony, [1], len(cleaned_harmony), [4,4], 1/1)\n",
    "#sp = midi.realtime.StreamPlayer(s)\n",
    "#sp.play()\n",
    "#s.show('midi')\n",
    "s.show('musicxml')\n",
    "#s.show()"
   ]
  },
  {
   "cell_type": "code",
   "execution_count": 348,
   "metadata": {
    "collapsed": false
   },
   "outputs": [
    {
     "name": "stdout",
     "output_type": "stream",
     "text": [
      "['E', 'B-', 'E', 'C', 'D', 'G#', 'C', 'D', 'G#', 'E', 'C#', 'E', 'F', 'B-', 'D', 'A', 'B-', 'C', 'A', 'G', 'G#', 'D', 'E', 'D', 'B-', 'F', 'G', 'B-', 'E', 'D', 'F', 'G#']\n"
     ]
    },
    {
     "data": {
      "text/plain": [
       "(['E4', 'D4', 'G#4', 'F4', 'B-4', 'G#4', 'B-4', 'E4'],\n",
       " ['B-2', 'G#2', 'E2', 'B-2', 'C2', 'D2', 'F2', 'D2'])"
      ]
     },
     "execution_count": 348,
     "metadata": {},
     "output_type": "execute_result"
    }
   ],
   "source": [
    "#note_sequence = seq[1] # 1th expansion\n",
    "#rotation\n",
    "\n",
    "cr = spg.clock_rotation(note_sequence)\n",
    "ns = cr[0] # 0th rotation\n",
    "print(ns)\n",
    "low_notes, low_notes_2 = ns[0::4],ns[1::4]\n",
    "low_notes = [x+str(4) for x in low_notes]\n",
    "low_notes_2 = [x+str(2) for x in low_notes_2]\n",
    "print(low_notes, low_notes_2)\n"
   ]
  },
  {
   "cell_type": "code",
   "execution_count": 351,
   "metadata": {
    "code_folding": [
     0
    ],
    "collapsed": false
   },
   "outputs": [
    {
     "name": "stdout",
     "output_type": "stream",
     "text": [
      "[2, 1, 1, 2]\n"
     ]
    }
   ],
   "source": [
    "## result = sr.resultant\n",
    "fraction = 2/4\n",
    "sliced_rhytm = SR.slice_by_fraction(result, fraction)\n",
    "whole_seq = [ns,low_notes, low_notes_2]\n",
    "#whole_seq = [ns,[], []]\n",
    "s = showMultipleScore_rythm(whole_seq, [2,1,1,2], len(ns), [3,4], 1/2)\n",
    "\n",
    "#sp = midi.realtime.StreamPlayer(s)\n",
    "#sp.play()\n",
    "#s.show('midi')\n",
    "s.show('musicxml')\n",
    "#s.show()"
   ]
  },
  {
   "cell_type": "code",
   "execution_count": 489,
   "metadata": {
    "collapsed": false
   },
   "outputs": [],
   "source": []
  },
  {
   "cell_type": "code",
   "execution_count": 493,
   "metadata": {
    "code_folding": [
     0
    ],
    "collapsed": false
   },
   "outputs": [
    {
     "data": {
      "text/plain": [
       "[['D', 'F'],\n",
       " ['F', 'G#'],\n",
       " ['G#', 'B-'],\n",
       " ['B-', 'C#'],\n",
       " ['C#', 'E'],\n",
       " ['E', 'G'],\n",
       " ['G', 'A'],\n",
       " ['A', 'C'],\n",
       " ['C', 'D']]"
      ]
     },
     "execution_count": 493,
     "metadata": {},
     "output_type": "execute_result"
    }
   ],
   "source": [
    "#\n",
    "init_scale = [\"D\",\"E\",\"F\",\"G\",\"G#\",\"A\",\"B-\",\"C\",\"C#\"]\n",
    "scale_expansion = spg.expansions(init_scale)\n",
    "scale = scale_expansion[1]\n",
    "def chordify_scale(scala, voices):\n",
    "    new_list=[]\n",
    "    for r in range(len(list_stuff)):\n",
    "        l = []\n",
    "        for d in range(voices):\n",
    "            l.append(list_stuff[(r+d)%len(list_stuff)])\n",
    "        new_list.append(l)\n",
    "    return new_list\n",
    "\n",
    "chordify_scale(scale,2)"
   ]
  },
  {
   "cell_type": "code",
   "execution_count": 483,
   "metadata": {
    "collapsed": false
   },
   "outputs": [
    {
     "data": {
      "text/plain": [
       "[['D', 'F', 'G#'],\n",
       " ['F', 'G#', 'B-'],\n",
       " ['G#', 'B-', 'C#'],\n",
       " ['B-', 'C#', 'E'],\n",
       " ['C#', 'E', 'G'],\n",
       " ['E', 'G', 'A'],\n",
       " ['G', 'A', 'C'],\n",
       " ['A', 'C', 'D'],\n",
       " ['C', 'D', 'F']]"
      ]
     },
     "execution_count": 483,
     "metadata": {},
     "output_type": "execute_result"
    }
   ],
   "source": [
    "\n",
    "    "
   ]
  },
  {
   "cell_type": "code",
   "execution_count": null,
   "metadata": {
    "collapsed": true
   },
   "outputs": [],
   "source": []
  }
 ],
 "metadata": {
  "hide_input": false,
  "kernelspec": {
   "display_name": "Python [conda env:python3_test]",
   "language": "python",
   "name": "conda-env-python3_test-py"
  },
  "language_info": {
   "codemirror_mode": {
    "name": "ipython",
    "version": 3
   },
   "file_extension": ".py",
   "mimetype": "text/x-python",
   "name": "python",
   "nbconvert_exporter": "python",
   "pygments_lexer": "ipython3",
   "version": "3.5.2"
  },
  "latex_envs": {
   "LaTeX_envs_menu_present": true,
   "bibliofile": "biblio.bib",
   "cite_by": "apalike",
   "current_citInitial": 1,
   "eqLabelWithNumbers": true,
   "eqNumInitial": 1,
   "hotkeys": {
    "equation": "Ctrl-E",
    "itemize": "Ctrl-I"
   },
   "labels_anchors": false,
   "latex_user_defs": false,
   "report_style_numbering": false,
   "user_envs_cfg": false
  }
 },
 "nbformat": 4,
 "nbformat_minor": 2
}
