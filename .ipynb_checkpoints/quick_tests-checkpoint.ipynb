{
 "cells": [
  {
   "cell_type": "code",
   "execution_count": 1,
   "metadata": {
    "collapsed": false
   },
   "outputs": [],
   "source": [
    "import schillinger.rhythm\n"
   ]
  },
  {
   "cell_type": "code",
   "execution_count": 260,
   "metadata": {
    "collapsed": false
   },
   "outputs": [
    {
     "data": {
      "text/plain": [
       "[3, 1, 2, 2, 1, 3]"
      ]
     },
     "execution_count": 260,
     "metadata": {},
     "output_type": "execute_result"
    }
   ],
   "source": [
    "a = 4\n",
    "b = 3\n",
    "fraction = [a,b]\n",
    "\n",
    "sr = schillinger.rhythm.Type_I(fraction)\n",
    "_sr_ = schillinger.rhythm.Type_II(fraction)\n",
    "sr.resultant"
   ]
  },
  {
   "cell_type": "code",
   "execution_count": 3,
   "metadata": {
    "collapsed": false
   },
   "outputs": [],
   "source": [
    "#help(schillinger)"
   ]
  },
  {
   "cell_type": "code",
   "execution_count": 4,
   "metadata": {
    "code_folding": [
     0
    ],
    "collapsed": false
   },
   "outputs": [],
   "source": [
    "#notes\n",
    "from music21 import *\n",
    "#from itertools import chain\n",
    "%load_ext music21.ipython21\n",
    "\n",
    "def convert2Dto1D(data):\n",
    "    flat_array = []\n",
    "    for d in data:\n",
    "        if isinstance(d[0], list) or isinstance(d[0], tuple):\n",
    "            print(\"sssss\")\n",
    "            for l in d:\n",
    "                \n",
    "                flat_array.append(l)\n",
    "        else:\n",
    "            flat_array.append(d)\n",
    "    return flat_array\n",
    "    \n",
    "\n",
    "def showSplittedNotes(length,data, group, note_sequece, duration_divider):\n",
    "    attacks = convert2Dto1D(data)\n",
    "    #TS = str(int(len(clock))) +'/'+ str(int((clock[0].duration.quarterLength*16)))\n",
    "    TS = str(group[0])+'/'+str(group[1])\n",
    "    \n",
    "    s = stream.Score(id='mainScore')\n",
    "    \n",
    "    for sequences in attacks:\n",
    "        p0 = stream.Part(id='part0')\n",
    "        p0.timeSignature = meter.TimeSignature(TS)\n",
    "        tones = []\n",
    "        note_counter = 0\n",
    "        for i in range(length):\n",
    "            nota = pitch.Pitch(note_sequece[note_counter%len(note_sequece)])\n",
    "            note_counter += 1\n",
    "            nota.octave = 4\n",
    "            nota = note.Note(nota.nameWithOctave)\n",
    "            nota.duration.quarterLength = sequences[i%len(sequences)]*duration_divider\n",
    "            tones.append(nota)\n",
    "            \n",
    "        p0.append(tones)\n",
    "        s.insert(0, p0)\n",
    "    return s"
   ]
  },
  {
   "cell_type": "code",
   "execution_count": 5,
   "metadata": {
    "code_folding": [
     0
    ],
    "collapsed": false
   },
   "outputs": [
    {
     "name": "stdout",
     "output_type": "stream",
     "text": [
      "[('C', 'D', 'E', 'F'), ('C', 'D', 'F', 'E'), ('C', 'E', 'D', 'F'), ('C', 'E', 'F', 'D'), ('C', 'F', 'D', 'E'), ('C', 'F', 'E', 'D'), ('D', 'C', 'E', 'F'), ('D', 'C', 'F', 'E'), ('D', 'E', 'C', 'F'), ('D', 'E', 'F', 'C'), ('D', 'F', 'C', 'E'), ('D', 'F', 'E', 'C'), ('E', 'C', 'D', 'F'), ('E', 'C', 'F', 'D'), ('E', 'D', 'C', 'F'), ('E', 'D', 'F', 'C'), ('E', 'F', 'C', 'D'), ('E', 'F', 'D', 'C'), ('F', 'C', 'D', 'E'), ('F', 'C', 'E', 'D'), ('F', 'D', 'C', 'E'), ('F', 'D', 'E', 'C'), ('F', 'E', 'C', 'D'), ('F', 'E', 'D', 'C')]\n",
      "['C', 'D', 'E', 'F', 'C', 'D', 'E', 'F', 'C', 'D', 'F', 'E', 'C', 'E', 'D', 'F', 'C', 'E', 'F', 'D', 'C', 'E', 'F', 'D']\n"
     ]
    },
    {
     "data": {
      "text/html": [
       "\n",
       "                <div id='midiPlayerDiv202'></div>\n",
       "                <link rel=\"stylesheet\" href=\"http://artusi.xyz/music21j/css/m21.css\" \n",
       "                    type=\"text/css\" />\n",
       "                <script>\n",
       "                require.config({\n",
       "                    paths: {'music21': 'http://artusi.xyz/music21j/src/music21'} \n",
       "                }); \n",
       "                require(['music21'], function() { \n",
       "                               mp = new music21.miditools.MidiPlayer();\n",
       "                               mp.addPlayer('#midiPlayerDiv202'); \n",
       "                               mp.base64Load('data:audio/midi;base64,TVRoZAAAAAYAAQABBABNVHJrAAAA7gD/AwAA4ABAAP9YBAQCGAiIAJA8WogAgDwAAJA+WoQAgD4AAJBAWoQAgEAAAJBBWogAgEEAAJA8WogAgDwAAJA+WoQAgD4AAJBAWoQAgEAAAJBBWogAgEEAAJA8WogAgDwAAJA+WoQAgD4AAJBBWoQAgEEAAJBAWogAgEAAAJA8WogAgDwAAJBAWoQAgEAAAJA+WoQAgD4AAJBBWogAgEEAAJA8WogAgDwAAJBAWoQAgEAAAJBBWoQAgEEAAJA+WogAgD4AAJA8WogAgDwAAJBAWoQAgEAAAJBBWoQAgEEAAJA+WogAgD4AiAD/LwA='); \n",
       "                        });\n",
       "                </script>"
      ],
      "text/plain": [
       "<IPython.core.display.HTML object>"
      ]
     },
     "metadata": {},
     "output_type": "display_data"
    },
    {
     "data": {
      "image/png": "[encoded data removed]",
      "text/plain": [
       "<music21.ipython21.objects.IPythonPNGObject at 0x10b092f98>"
      ]
     },
     "execution_count": 5,
     "metadata": {},
     "output_type": "execute_result"
    }
   ],
   "source": [
    "#\n",
    "Ma = [\"C\",\"D\",\"E\",\"F\"]\n",
    "seq = [2,1,1,2]\n",
    "import itertools\n",
    "Ma1 = list(itertools.permutations(Ma))\n",
    "print(Ma1)\n",
    "note_sequece = []\n",
    "for i,s in enumerate(seq):\n",
    "    note_sequece.append(Ma1[i%len(Ma1)]*s)\n",
    "\n",
    "note_sequece = list(itertools.chain(*note_sequece))\n",
    "print(note_sequece)\n",
    "n = [1] * len(note_sequece)\n",
    "s = showSplittedNotes(len(note_sequece),[_sr_.resultant], [4,4], note_sequece, 1/2)\n",
    "s.show('midi')\n",
    "s.show()"
   ]
  },
  {
   "cell_type": "code",
   "execution_count": 6,
   "metadata": {
    "code_folding": [],
    "collapsed": false
   },
   "outputs": [
    {
     "name": "stdout",
     "output_type": "stream",
     "text": [
      "['C', 'D', 'E', 'F']\n",
      "['F', 'C', 'D', 'E']\n",
      "['E', 'F', 'C', 'D']\n",
      "['D', 'E', 'F', 'C']\n",
      "['C', 'D', 'E', 'F']\n",
      "['D', 'E', 'F', 'C']\n",
      "['E', 'F', 'C', 'D']\n",
      "['F', 'C', 'D', 'E']\n"
     ]
    }
   ],
   "source": [
    "# Rotate Lists\n",
    "def rotate(l, x):\n",
    "  return l[-x % len(l):] + l[:-x % len(l)]\n",
    "\n",
    "n = [\"C\",\"D\",\"E\",\"F\"]\n",
    "#clock\n",
    "for i,e in enumerate(n):\n",
    "    print(rotate(n, i))\n",
    "#counterclock\n",
    "for i,e in enumerate(n):\n",
    "    print(rotate(n, -i))"
   ]
  },
  {
   "cell_type": "code",
   "execution_count": 77,
   "metadata": {
    "code_folding": [
     0
    ],
    "collapsed": false
   },
   "outputs": [
    {
     "name": "stdout",
     "output_type": "stream",
     "text": [
      "[3, 4, 5, 6, 7, 8, 9, 10, 11, 0, 1]\n",
      "[(0, 5), (5, 0)]\n",
      "[0, 5, 0, 5, 5, 0]\n",
      "[0, 5, 0, 5, 5, 0, 0, 5, 0, 5, 5, 0, 0, 5, 0, 5, 5, 0, 0, 5, 0, 5, 5, 0, 0, 5, 0, 5, 5, 0, 0, 5, 0, 5, 5, 0, 0, 5, 0, 5, 5, 0]\n"
     ]
    },
    {
     "data": {
      "text/html": [
       "\n",
       "                <div id='midiPlayerDiv501191'></div>\n",
       "                <link rel=\"stylesheet\" href=\"http://artusi.xyz/music21j/css/m21.css\" \n",
       "                    type=\"text/css\" />\n",
       "                <script>\n",
       "                require.config({\n",
       "                    paths: {'music21': 'http://artusi.xyz/music21j/src/music21'} \n",
       "                }); \n",
       "                require(['music21'], function() { \n",
       "                               mp = new music21.miditools.MidiPlayer();\n",
       "                               mp.addPlayer('#midiPlayerDiv501191'); \n",
       "                               mp.base64Load('data:audio/midi;base64,TVRoZAAAAAYAAQABBABNVHJrAAABkAD/AwAA4ABAAP9YBAMCGAiIAJA8WpgAgDwAAJBBWpAAgEEAAJA8WogAgDwAAJBBWpgAgEEAAJBBWogAgEEAAJA8WpAAgDwAAJA8WpgAgDwAAJBBWpgAgEEAAJA8WpAAgDwAAJBBWogAgEEAAJBBWpgAgEEAAJA8WogAgDwAAJA8WpAAgDwAAJBBWpgAgEEAAJA8WpgAgDwAAJBBWpAAgEEAAJBBWogAgEEAAJA8WpgAgDwAAJA8WogAgDwAAJBBWpAAgEEAAJA8WpgAgDwAAJBBWpgAgEEAAJBBWpAAgEEAAJA8WogAgDwAAJA8WpgAgDwAAJBBWogAgEEAAJA8WpAAgDwAAJBBWpgAgEEAAJBBWpgAgEEAAJA8WpAAgDwAAJA8WogAgDwAAJBBWpgAgEEAAJA8WogAgDwAAJBBWpAAgEEAAJBBWpgAgEEAAJA8WpgAgDwAAJA8WpAAgDwAAJBBWogAgEEAAJA8WpgAgDwAAJBBWogAgEEAAJBBWpAAgEEAAJA8WpgAgDwAiAD/LwA='); \n",
       "                        });\n",
       "                </script>"
      ],
      "text/plain": [
       "<IPython.core.display.HTML object>"
      ]
     },
     "metadata": {},
     "output_type": "display_data"
    },
    {
     "data": {
      "image/png": "[encoded data removed]",
      "text/plain": [
       "<music21.ipython21.objects.IPythonPNGObject at 0x10e91c1d0>"
      ]
     },
     "execution_count": 77,
     "metadata": {},
     "output_type": "execute_result"
    }
   ],
   "source": [
    "# Pitch Second Group\n",
    "def two_unit_scales(tone):\n",
    "    scale_array = []\n",
    "    for i in range(12):\n",
    "        count = (tone+i)%12\n",
    "        if count != tone:\n",
    "            scale_array.append(count)\n",
    "    return scale_array\n",
    "print(two_unit_scales(2))\n",
    "\n",
    "A = 0 ##### Start tone\n",
    "scales = two_unit_scales(A)\n",
    "B = scales[4] ##### Interval\n",
    "MF = [A,B] ##### sequence array (could be reused and start there!!!)\n",
    "def melodic_forms_definition(units):\n",
    "    return list(itertools.permutations(units))\n",
    "MF1 = melodic_forms_definition(MF)\n",
    "print(MF1)\n",
    "###----------> Higher Order???\n",
    "def melodic_forms_combination(units):\n",
    "    return list(itertools.permutations(units))\n",
    "#MF2= melodic_forms_combination(MF1)\n",
    "#print(MF2)\n",
    "#### <------------------------------------\n",
    "\n",
    "melodic_coeficients = [2,1] ##### f.e. 2a+b\n",
    "def coefficients_of_reccurence(coeficients, mel_form):\n",
    "    temp = []\n",
    "    for i,e in enumerate(coeficients):\n",
    "        temp.append(mel_form[i%len(mel_form)]*e)\n",
    "    return temp\n",
    "\n",
    "melodic_continuity = coefficients_of_reccurence(melodic_coeficients,MF1)\n",
    "\n",
    "def convert_to_1D(sequence, levels_of_depth):\n",
    "    for i in range(levels_of_depth):\n",
    "        sequence = list(itertools.chain(*sequence))\n",
    "    return sequence\n",
    "\n",
    "tone_sequence = convert_to_1D(melodic_continuity, 1)\n",
    "print(tone_sequence)\n",
    "\n",
    "attack_synchronization = int(len(tone_sequence)*len(sr.resultant)) #####\n",
    "\n",
    "def convert_to_note_sequence(tone_sequence, attacks):\n",
    "    new_seq = []\n",
    "    for i in range(attacks):\n",
    "        new_seq.append(tone_sequence[i%len(tone_sequence)])\n",
    "    return new_seq\n",
    "\n",
    "whole_sequence = convert_to_note_sequence(tone_sequence, attack_synchronization)\n",
    "print(whole_sequence)\n",
    "\n",
    "s = showSplittedNotes(len(whole_sequence),[sr.resultant], [3,4], whole_sequence, 1/1)\n",
    "s.show('midi')\n",
    "s.show()\n",
    "\n",
    "#this concludes this lesson ;)"
   ]
  },
  {
   "cell_type": "code",
   "execution_count": 274,
   "metadata": {
    "collapsed": false
   },
   "outputs": [
    {
     "name": "stdout",
     "output_type": "stream",
     "text": [
      "[(0, 2, 4, 5), (0, 2, 5, 4), (0, 4, 2, 5), (0, 4, 5, 2), (0, 5, 2, 4), (0, 5, 4, 2), (2, 0, 4, 5), (2, 0, 5, 4), (2, 4, 0, 5), (2, 4, 5, 0), (2, 5, 0, 4), (2, 5, 4, 0), (4, 0, 2, 5), (4, 0, 5, 2), (4, 2, 0, 5), (4, 2, 5, 0), (4, 5, 0, 2), (4, 5, 2, 0), (5, 0, 2, 4), (5, 0, 4, 2), (5, 2, 0, 4), (5, 2, 4, 0), (5, 4, 0, 2), (5, 4, 2, 0)]\n",
      "--- [[0, 2, 4, 5], [5, 0, 2, 4], [4, 5, 0, 2], [2, 4, 5, 0]]\n",
      "\n"
     ]
    },
    {
     "data": {
      "text/html": [
       "\n",
       "                <div id='midiPlayerDiv572348'></div>\n",
       "                <link rel=\"stylesheet\" href=\"http://artusi.xyz/music21j/css/m21.css\" \n",
       "                    type=\"text/css\" />\n",
       "                <script>\n",
       "                require.config({\n",
       "                    paths: {'music21': 'http://artusi.xyz/music21j/src/music21'} \n",
       "                }); \n",
       "                require(['music21'], function() { \n",
       "                               mp = new music21.miditools.MidiPlayer();\n",
       "                               mp.addPlayer('#midiPlayerDiv572348'); \n",
       "                               mp.base64Load('data:audio/midi;base64,TVRoZAAAAAYAAQABBABNVHJrAAACngD/AwAA4ABAAP9YBAMCGAiIAJA8WpgAgDwAAJA+WogAgD4AAJBAWpAAgEAAAJBBWpAAgEEAAJA8WogAgDwAAJA+WpgAgD4AAJBAWpgAgEAAAJBBWogAgEEAAJA8WpAAgDwAAJA+WpAAgD4AAJBBWogAgEEAAJBAWpgAgEAAAJA8WpgAgDwAAJA+WogAgD4AAJBAWpAAgEAAAJBBWpAAgEEAAJA8WogAgDwAAJA+WpgAgD4AAJBAWpgAgEAAAJBBWogAgEEAAJA8WpAAgDwAAJA+WpAAgD4AAJBBWogAgEEAAJBAWpgAgEAAAJA8WpgAgDwAAJA+WogAgD4AAJBAWpAAgEAAAJBBWpAAgEEAAJA8WogAgDwAAJA+WpgAgD4AAJBAWpgAgEAAAJBBWogAgEEAAJA8WpAAgDwAAJA+WpAAgD4AAJBBWogAgEEAAJBAWpgAgEAAAJA8WpgAgDwAAJA+WogAgD4AAJBAWpAAgEAAAJBBWpAAgEEAAJA8WogAgDwAAJA+WpgAgD4AAJBAWpgAgEAAAJBBWogAgEEAAJA8WpAAgDwAAJA+WpAAgD4AAJBBWogAgEEAAJBAWpgAgEAAAJA8WpgAgDwAAJA+WogAgD4AAJBAWpAAgEAAAJBBWpAAgEEAAJA8WogAgDwAAJA+WpgAgD4AAJBAWpgAgEAAAJBBWogAgEEAAJA8WpAAgDwAAJA+WpAAgD4AAJBBWogAgEEAAJBAWpgAgEAAAJA8WpgAgDwAAJA+WogAgD4AAJBAWpAAgEAAAJBBWpAAgEEAAJA8WogAgDwAAJA+WpgAgD4AAJBAWpgAgEAAAJBBWogAgEEAAJA8WpAAgDwAAJA+WpAAgD4AAJBBWogAgEEAAJBAWpgAgEAAiAD/LwA='); \n",
       "                        });\n",
       "                </script>"
      ],
      "text/plain": [
       "<IPython.core.display.HTML object>"
      ]
     },
     "metadata": {},
     "output_type": "display_data"
    },
    {
     "data": {
      "image/png": "[encoded data removed]",
      "text/plain": [
       "<music21.ipython21.objects.IPythonPNGObject at 0x10ed6e748>"
      ]
     },
     "execution_count": 274,
     "metadata": {},
     "output_type": "execute_result"
    }
   ],
   "source": [
    "# Pitch Second Group\n",
    "rhythm_attacks = sr.resultant\n",
    "\n",
    "def two_unit_scales(tone):\n",
    "    scale_array = []\n",
    "    for i in range(12):\n",
    "        count = (tone+i)%12\n",
    "        if count != tone:\n",
    "            scale_array.append(count)\n",
    "    return scale_array\n",
    "\n",
    "\n",
    "A = 0 ##### Start tone\n",
    "scales = two_unit_scales(A)\n",
    "B = scales[4] ##### Interval\n",
    "MF = [0,2,4,5] ##### sequence array (could be reused and start there!!!)\n",
    "\n",
    "def melodic_forms_definition(units):\n",
    "    return list(itertools.permutations(units))\n",
    "MF1 = melodic_forms_definition(MF)\n",
    "print(MF1)\n",
    "\n",
    "def clock_rotation(units):\n",
    "    # Rotate Lists\n",
    "    def rotate(l, x):\n",
    "      return l[-x % len(l):] + l[:-x % len(l)]\n",
    "    #clock\n",
    "    l = []\n",
    "    for i,e in enumerate(units):\n",
    "        l.append(rotate(units, i))\n",
    "        #print(rotate(units, i))\n",
    "    return l\n",
    "def counter_clock_rotation(units):\n",
    "    # Rotate Lists\n",
    "    def rotate(l, x):\n",
    "      return l[-x % len(l):] + l[:-x % len(l)]\n",
    "    l = []\n",
    "    #counterclock\n",
    "    for i,e in enumerate(units):\n",
    "        l.append(rotate(units, -i))\n",
    "        #print(rotate(units, -i))\n",
    "    return l\n",
    "\n",
    "MFR = clock_rotation(MF)\n",
    "print(\"---\",MFR)\n",
    "###----------> Higher Order??? warning!!!\n",
    "def melodic_forms_combination(units):\n",
    "    return list(itertools.permutations(units))\n",
    "#MF2= melodic_forms_combination(MF1)\n",
    "#print(MF2)\n",
    "#### <------------------------------------\n",
    "print()\n",
    "melodic_coeficients = [2,1] ##### f.e. 2a+b\n",
    "def max_coefficients_of_reccurence(coeficients, mel_form):\n",
    "    #get the higher number and iterate over both lists whith %\n",
    "    max_num = max(len(coeficients), len(mel_form))\n",
    "    temp = []\n",
    "    for i in range(max_num):\n",
    "        temp.append(mel_form[i%len(mel_form)]*coeficients[i%len(coeficients)])\n",
    "    return temp\n",
    "\n",
    "def coefficients_of_reccurence(coeficients, mel_form):\n",
    "    temp = []\n",
    "    for i,e in enumerate(coeficients):\n",
    "        temp.append([mel_form[i%len(mel_form)]]*e)\n",
    "    \n",
    "    return temp\n",
    "\n",
    "melodic_continuity = coefficients_of_reccurence(melodic_coeficients,MF1)\n",
    "\n",
    "def convert_to_1D(sequence, levels_of_depth):\n",
    "    for i in range(levels_of_depth):\n",
    "        sequence = list(itertools.chain(*sequence))\n",
    "    return sequence\n",
    "\n",
    "tone_sequence = convert_to_1D(melodic_continuity, 2)\n",
    "\n",
    "#Synchronization!!!! check ich ned!!\n",
    "'''def synchronization(melodic_attacks, rhythmic_attacks, modulo):\n",
    "    if len(rhythm_attacks) % modulo == 0:\n",
    "        \n",
    "        return int((melodic_attacks*rhythmic_attacks)/modulo)\n",
    "    else:\n",
    "        return int(melodic_attacks*rhythmic_attacks)\n",
    "\n",
    "attack_synchronization = synchronization(len(tone_sequence),len(rhythm_attacks), len(tone_sequence)/len(MF1))\n",
    "print(attack_synchronization)'''\n",
    "\n",
    "attack_synchronization = int(len(tone_sequence)*len(rhythm_attacks))\n",
    "\n",
    "def convert_to_note_sequence(tone_sequence, attacks):\n",
    "    new_seq = []\n",
    "    for i in range(attacks):\n",
    "        new_seq.append(tone_sequence[i%len(tone_sequence)])\n",
    "    return new_seq\n",
    "\n",
    "whole_sequence = convert_to_note_sequence(tone_sequence, attack_synchronization)\n",
    "\n",
    "s = showSplittedNotes(len(whole_sequence),[rhythm_attacks], [3,4], whole_sequence, 1/1)\n",
    "s.show('midi')\n",
    "s.show()\n",
    "\n",
    "#this concludes this lesson ;)"
   ]
  },
  {
   "cell_type": "code",
   "execution_count": null,
   "metadata": {
    "collapsed": false
   },
   "outputs": [],
   "source": []
  },
  {
   "cell_type": "code",
   "execution_count": null,
   "metadata": {
    "collapsed": true
   },
   "outputs": [],
   "source": []
  }
 ],
 "metadata": {
  "hide_input": false,
  "kernelspec": {
   "display_name": "Python [conda env:python3_test]",
   "language": "python",
   "name": "conda-env-python3_test-py"
  },
  "language_info": {
   "codemirror_mode": {
    "name": "ipython",
    "version": 3
   },
   "file_extension": ".py",
   "mimetype": "text/x-python",
   "name": "python",
   "nbconvert_exporter": "python",
   "pygments_lexer": "ipython3",
   "version": "3.5.2"
  },
  "latex_envs": {
   "LaTeX_envs_menu_present": true,
   "bibliofile": "biblio.bib",
   "cite_by": "apalike",
   "current_citInitial": 1,
   "eqLabelWithNumbers": true,
   "eqNumInitial": 1,
   "hotkeys": {
    "equation": "Ctrl-E",
    "itemize": "Ctrl-I"
   },
   "labels_anchors": false,
   "latex_user_defs": false,
   "report_style_numbering": false,
   "user_envs_cfg": false
  }
 },
 "nbformat": 4,
 "nbformat_minor": 2
}
