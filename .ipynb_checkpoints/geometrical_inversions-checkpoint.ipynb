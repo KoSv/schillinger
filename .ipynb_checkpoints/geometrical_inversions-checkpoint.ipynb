{
 "cells": [
  {
   "cell_type": "code",
   "execution_count": 1,
   "metadata": {
    "code_folding": [
     0
    ],
    "collapsed": false
   },
   "outputs": [],
   "source": [
    "#imports\n",
    "%load_ext autoreload\n",
    "%autoreload 2\n",
    "import schillinger.harmony as SH\n",
    "import schillinger.pitch as SP\n",
    "import numpy as np\n",
    "import itertools\n",
    "import random\n",
    "from music21 import *\n",
    "%load_ext music21.ipython21"
   ]
  },
  {
   "cell_type": "code",
   "execution_count": 2,
   "metadata": {
    "code_folding": [
     0
    ],
    "collapsed": true
   },
   "outputs": [],
   "source": [
    "def showNotes(note_sequece, time_meter, duration_divider):\n",
    "    TS = str(time_meter[0])+'/'+str(time_meter[1])\n",
    "    s = stream.Score(id='mainScore')\n",
    "    p0 = stream.Part(id='part0')\n",
    "    p0.timeSignature = meter.TimeSignature(TS)\n",
    "    for i, notes in enumerate(note_sequece):\n",
    "        #nota = pitch.Pitch(notes)\n",
    "        #nota.octave = 4\n",
    "        #nota = note.Note(notes)\n",
    "        #nota.duration.quarterLength = durations[i]*duration_divider\n",
    "        notes.duration.quarterLength = notes.duration.quarterLength *duration_divider\n",
    "        p0.append(notes)\n",
    "    \n",
    "    s.insert(0, p0)\n",
    "    return s"
   ]
  },
  {
   "cell_type": "code",
   "execution_count": 3,
   "metadata": {
    "code_folding": [
     0
    ],
    "collapsed": true
   },
   "outputs": [],
   "source": [
    "def inversions(notes, X=False, Y=False, XY=False, diatonic=False, diatonic_range=7):\n",
    "    tone_range = 12\n",
    "    if diatonic:\n",
    "        tone_range = diatonic_range\n",
    "    if X:\n",
    "        return list(reversed(notes))\n",
    "    elif Y:\n",
    "        return [((tone_range-x)%tone_range) for x in notes]\n",
    "    elif XY:\n",
    "        return list(reversed([((tone_range-x)%tone_range) for x in notes]))\n",
    "    else:\n",
    "        print(\"specify axis!\")\n",
    "        return notes"
   ]
  },
  {
   "cell_type": "code",
   "execution_count": 4,
   "metadata": {
    "collapsed": false
   },
   "outputs": [
    {
     "data": {
      "text/plain": [
       "[0, 3, 1, 4, 0]"
      ]
     },
     "execution_count": 4,
     "metadata": {},
     "output_type": "execute_result"
    }
   ],
   "source": [
    "sequence = [0,3,1,4,0]\n",
    "sequence"
   ]
  },
  {
   "cell_type": "code",
   "execution_count": null,
   "metadata": {
    "code_folding": [
     0
    ],
    "collapsed": false
   },
   "outputs": [],
   "source": [
    "durations = [5,1,1,1,8]"
   ]
  },
  {
   "cell_type": "code",
   "execution_count": null,
   "metadata": {
    "collapsed": false
   },
   "outputs": [],
   "source": [
    "i1 = inversions(sequence, X=True, diatonic=False)\n",
    "i2 = inversions(sequence, Y=True, diatonic=False)\n",
    "i3 = inversions(sequence, XY=True, diatonic=False)\n",
    "i1, i2, i3"
   ]
  },
  {
   "cell_type": "code",
   "execution_count": 5,
   "metadata": {
    "code_folding": [
     0
    ],
    "collapsed": false
   },
   "outputs": [],
   "source": [
    "def convert_diatonic_to_scale(seq):\n",
    "    noteseq = []\n",
    "    sc = scale.MajorScale('C4')\n",
    "    for s in seq:\n",
    "        p = pitch.Pitch()\n",
    "        p.pitchClass = s\n",
    "        noteseq.append(p)\n",
    "        #noteseq.append(sc.pitchFromDegree(s+1))\n",
    "    return noteseq"
   ]
  },
  {
   "cell_type": "code",
   "execution_count": null,
   "metadata": {
    "collapsed": false
   },
   "outputs": [],
   "source": [
    "seq = convert_diatonic_to_scale(i1)\n",
    "dur = inversions(durations, X=True)\n",
    "dur = durations\n",
    "\n",
    "s = showNotes(seq,dur,[4,4],.5)\n",
    "s.show('musicxml')"
   ]
  },
  {
   "cell_type": "code",
   "execution_count": null,
   "metadata": {
    "code_folding": [],
    "collapsed": true
   },
   "outputs": [],
   "source": [
    "#### MUSIC21 "
   ]
  },
  {
   "cell_type": "code",
   "execution_count": 6,
   "metadata": {
    "code_folding": [
     0
    ],
    "collapsed": false
   },
   "outputs": [],
   "source": [
    "#MUSIC21 inversions\n",
    "\n",
    "#fullInterval = interval.Interval(diatonic=diaInterval, chromatic=chrInterval)\n",
    "#bInterval = aInterval.complement\n",
    "#aInterval.intervalClass\n",
    "#bInterval = aInterval.reverse()\n",
    "\n",
    "# functions\n",
    "def reverse_notes(notes):\n",
    "    return list(reversed(notes))\n",
    "\n",
    "def mirror_notes_chromatic(notes, center_note):\n",
    "    new_notes = []\n",
    "    aNote = center_note\n",
    "    for i,n in enumerate(notes):\n",
    "        bNote = n\n",
    "        aInterval = interval.notesToInterval(aNote, bNote)\n",
    "        new_pitch = aInterval.transposePitch(aNote.pitch, reverse=True, maxAccidental=1)\n",
    "        new_note = note.Note(new_pitch)\n",
    "        new_note.duration = n.duration\n",
    "        new_notes.append(new_note)\n",
    "    return new_notes\n",
    "\n",
    "def mirror_notes_diatonic(notes, center_note, sc):\n",
    "    new_notes = []\n",
    "    aNote = center_note\n",
    "    for i, bNote in enumerate(notes):\n",
    "        \n",
    "        aInterval = interval.notesToInterval(aNote, bNote)\n",
    "        interval_value = aInterval.generic.value\n",
    "        interval_direction = aInterval.direction\n",
    "        \n",
    "        if interval_direction > 0:\n",
    "            val = -(interval_value-1)\n",
    "            s = sc.next(aNote, direction=val)\n",
    "        elif interval_direction < 0:\n",
    "            val = abs(interval_value+1)\n",
    "            s = sc.next(aNote, direction=val)\n",
    "        else:\n",
    "            s = aNote.pitch\n",
    "        #print(bNote, s, aInterval, interval_value)\n",
    "        new_note = note.Note(s)\n",
    "        new_note.duration = bNote.duration\n",
    "        new_notes.append(new_note)\n",
    "        \n",
    "    return new_notes\n",
    "\n",
    "def reverse_intervals_chromatic(notes, center_note):\n",
    "    new_notes = []\n",
    "    aNote = center_note\n",
    "    for i,n in enumerate(notes):\n",
    "        bNote = n\n",
    "        aInterval = interval.notesToInterval(aNote, bNote)\n",
    "        bInterval = aInterval.complement\n",
    "        new_pitch = bInterval.transposePitch(aNote.pitch, reverse=False, maxAccidental=1)\n",
    "        new_note = note.Note(new_pitch)\n",
    "        new_note.duration = n.duration\n",
    "        new_notes.append(new_note)\n",
    "    return new_notes\n",
    "\n",
    "def reverse_intervals_diatonic(notes, center_note, sc):\n",
    "    new_notes = []\n",
    "    aNote = center_note\n",
    "    for i, bNote in enumerate(notes):\n",
    "        \n",
    "        aInterval = interval.notesToInterval(aNote, bNote)\n",
    "        aInterval = aInterval.complement\n",
    "        interval_value = aInterval.generic.value\n",
    "        interval_direction = aInterval.direction\n",
    "        \n",
    "        if interval_direction > 0:\n",
    "            val = -(interval_value-1)\n",
    "            s = sc.next(aNote, direction=val)\n",
    "        elif interval_direction < 0:\n",
    "            val = abs(interval_value+1)\n",
    "            s = sc.next(aNote, direction=val)\n",
    "        else:\n",
    "            s = aNote.pitch\n",
    "        #print(bNote, s, aInterval, interval_value)\n",
    "        new_note = note.Note(s)\n",
    "        new_note.duration = bNote.duration\n",
    "        new_notes.append(new_note)\n",
    "    return new_notes\n",
    "\n",
    "def music21_permutaions(notes):\n",
    "    return list(itertools.permutations(notes))\n",
    "\n",
    "\n",
    "### basics\n",
    "\n",
    "def convert_pitches_to_notes(notes, durations):\n",
    "    note_seq = []\n",
    "    for i, n in enumerate(notes):\n",
    "        nota = pitch.Pitch(n)\n",
    "        nota = note.Note(nota.nameWithOctave)\n",
    "        nota.duration.quarterLength = note_durations[i]\n",
    "        note_seq.append(nota)\n",
    "    return note_seq\n",
    "######\n",
    "\n"
   ]
  },
  {
   "cell_type": "code",
   "execution_count": 7,
   "metadata": {
    "collapsed": true
   },
   "outputs": [],
   "source": [
    "notes = [\"A3\",\"B3\",\"G#3\",\"C4\"]\n",
    "note_durations = [1,1,1,1]"
   ]
  },
  {
   "cell_type": "code",
   "execution_count": null,
   "metadata": {
    "collapsed": false
   },
   "outputs": [],
   "source": [
    "# for bach!\n",
    "# ->>> Stream.voicesToParts() !!!!"
   ]
  },
  {
   "cell_type": "code",
   "execution_count": null,
   "metadata": {
    "collapsed": true
   },
   "outputs": [],
   "source": [
    "\n",
    "notes = [\"G4\",\"E-4\",\"F4\",\"G4\",\"C4\",\"F4\",\"E-4\",\"D4\",\"E-4\"]\n",
    "note_durations = [2,2,2,2,2,2,1,1,2,]\n"
   ]
  },
  {
   "cell_type": "code",
   "execution_count": 8,
   "metadata": {
    "collapsed": true
   },
   "outputs": [],
   "source": [
    "sc = scale.HarmonicMinorScale('A')\n",
    "#sc.show('musicxml')"
   ]
  },
  {
   "cell_type": "code",
   "execution_count": 42,
   "metadata": {
    "collapsed": false,
    "scrolled": false
   },
   "outputs": [],
   "source": [
    "\n",
    "note_seq = convert_pitches_to_notes(notes, note_durations)\n",
    "\n",
    "mirrored_notes = mirror_notes_diatonic(note_seq, note_seq[0], sc)\n",
    "\n",
    "reversed_notes = reverse_notes(note_seq)\n",
    "\n",
    "reversed_and_mirrored = reverse_notes(mirrored_notes)\n",
    "\n",
    "reversed_intervals_ditonic = reverse_intervals_diatonic(reversed_notes, note_seq[0],sc) # ????\n",
    "\n",
    "seq = reversed_intervals_ditonic\n",
    "\n",
    "s = showNotes(seq, [4,4], .5)\n",
    "\n",
    "s.show('musicxml')"
   ]
  },
  {
   "cell_type": "code",
   "execution_count": null,
   "metadata": {
    "collapsed": false
   },
   "outputs": [],
   "source": [
    "'''\n",
    "motiv A\n",
    "motiv B gegensatz von motiv A\n",
    "A+B = A1\n",
    "\n",
    "'''"
   ]
  },
  {
   "cell_type": "code",
   "execution_count": 38,
   "metadata": {
    "collapsed": false
   },
   "outputs": [
    {
     "name": "stdout",
     "output_type": "stream",
     "text": [
      "autoDownload\n",
      "braillePath\n",
      "debug\n",
      "directoryScratch\n",
      "graphicsPath\n",
      "ipythonShowFormat\n",
      "lilypondBackend\n",
      "lilypondFormat\n",
      "lilypondPath\n",
      "lilypondVersion\n",
      "localCorporaSettings\n",
      "localCorpusPath\n",
      "localCorpusSettings\n",
      "manualCoreCorpusPath\n",
      "midiPath\n",
      "musescoreDirectPNGPath\n",
      "musicxmlPath\n",
      "pdfPath\n",
      "showFormat\n",
      "vectorPath\n",
      "warnings\n",
      "writeFormat\n"
     ]
    }
   ],
   "source": [
    "us = environment.UserSettings()\n",
    "for key in sorted(us.keys()):\n",
    "    print(key)\n",
    "environment.set('musicxmlPath', '/Applications/MuseScore 2.app/Contents/MacOS/mscore')"
   ]
  },
  {
   "cell_type": "code",
   "execution_count": 32,
   "metadata": {
    "collapsed": false
   },
   "outputs": [],
   "source": [
    "us['directoryScratch'] = ''"
   ]
  }
 ],
 "metadata": {
  "hide_input": false,
  "kernelspec": {
   "display_name": "Python [conda env:python3_test]",
   "language": "python",
   "name": "conda-env-python3_test-py"
  },
  "language_info": {
   "codemirror_mode": {
    "name": "ipython",
    "version": 3
   },
   "file_extension": ".py",
   "mimetype": "text/x-python",
   "name": "python",
   "nbconvert_exporter": "python",
   "pygments_lexer": "ipython3",
   "version": "3.5.2"
  },
  "latex_envs": {
   "LaTeX_envs_menu_present": true,
   "bibliofile": "biblio.bib",
   "cite_by": "apalike",
   "current_citInitial": 1,
   "eqLabelWithNumbers": true,
   "eqNumInitial": 1,
   "hotkeys": {
    "equation": "Ctrl-E",
    "itemize": "Ctrl-I"
   },
   "labels_anchors": false,
   "latex_user_defs": false,
   "report_style_numbering": false,
   "user_envs_cfg": false
  }
 },
 "nbformat": 4,
 "nbformat_minor": 2
}
