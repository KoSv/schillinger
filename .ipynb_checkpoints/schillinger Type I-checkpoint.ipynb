{
 "cells": [
  {
   "cell_type": "code",
   "execution_count": 3,
   "metadata": {
    "collapsed": true
   },
   "outputs": [],
   "source": [
    "from music21 import *\n",
    "\n",
    "%load_ext music21.ipython21\n",
    "\n",
    "def showNotes(clock, major_generator, minor_generator, result):\n",
    "\n",
    "    #TS = str(int(len(clock))) +'/'+ str(int((clock[0].duration.quarterLength*16)))\n",
    "    TS = '8/1'\n",
    "    #print(TS)\n",
    "    s = stream.Score(id='mainScore')\n",
    "    p0 = stream.Part(id='part0')\n",
    "    p1 = stream.Part(id='part1')\n",
    "    p2 = stream.Part(id='part2')\n",
    "    p3 = stream.Part(id='part3')\n",
    "\n",
    "    p0.timeSignature = meter.TimeSignature(TS)\n",
    "    p1.timeSignature = meter.TimeSignature(TS)\n",
    "    p2.timeSignature = meter.TimeSignature(TS)\n",
    "    p3.timeSignature = meter.TimeSignature(TS)\n",
    "\n",
    "    p0.append(clock)\n",
    "    p1.append(major_generator)\n",
    "    p2.append(minor_generator)\n",
    "    p3.append(result)\n",
    "    s.insert(0, p0)\n",
    "    s.insert(0, p1)\n",
    "    s.insert(0, p2)\n",
    "    s.insert(0, p3)\n",
    "\n",
    "    # stream2.show('text')\n",
    "    # stream2.show('midi')\n",
    "    return s\n",
    "\n",
    "def schillinger_type_I(major, minor, divider):\n",
    "\n",
    "    length = major  * minor\n",
    "    temp_array = []\n",
    "\n",
    "    clock_notes = []\n",
    "    for i in range(length):\n",
    "        nota = pitch.Pitch(\"C\")\n",
    "        nota.octave = 4\n",
    "        nota = note.Note(nota.nameWithOctave)\n",
    "        nota.duration.quarterLength = 1/divider\n",
    "        clock_notes.append(nota)\n",
    "        temp_array.append(False)\n",
    "        #print(i)\n",
    "\n",
    "    major_notes = []\n",
    "    for i in range(0,length,major):\n",
    "        nota = pitch.Pitch(\"C\")\n",
    "        nota.octave = 4\n",
    "        nota = note.Note(nota.nameWithOctave)\n",
    "        nota.duration.quarterLength = major/divider\n",
    "        major_notes.append(nota)\n",
    "        temp_array[i] = True\n",
    "        #print(i)\n",
    "\n",
    "    minor_notes = []\n",
    "    for i in range(0,length,minor):\n",
    "        nota = pitch.Pitch(\"C\")\n",
    "        nota.octave = 4\n",
    "        nota = note.Note(nota.nameWithOctave)\n",
    "        nota.duration.quarterLength = minor/divider\n",
    "        minor_notes.append(nota)\n",
    "        temp_array[i] = True\n",
    "        #print(i)\n",
    "\n",
    "\n",
    "\n",
    "\n",
    "\n",
    "    result_notes = []\n",
    "    i = 0\n",
    "    while i < len(temp_array):\n",
    "        note_lenght = 1\n",
    "        if temp_array[i] == True:\n",
    "            for l in range(i, len(temp_array)):\n",
    "                if temp_array[(l+1)%len(temp_array)] != True:\n",
    "                    note_lenght += 1\n",
    "                    i += 1\n",
    "                else:\n",
    "                    break\n",
    "        print(note_lenght)\n",
    "        nota = pitch.Pitch(\"C\")\n",
    "        nota.octave = 4\n",
    "        nota = note.Note(nota.nameWithOctave)\n",
    "        nota.duration.quarterLength = note_lenght/divider\n",
    "        result_notes.append(nota)\n",
    "        i+=1\n",
    "        #print(temp_array)\n",
    "\n",
    "    return showNotes(clock_notes,major_notes, minor_notes, result_notes)"
   ]
  },
  {
   "cell_type": "code",
   "execution_count": 4,
   "metadata": {
    "collapsed": false
   },
   "outputs": [
    {
     "name": "stdout",
     "output_type": "stream",
     "text": [
      "3\n",
      "1\n",
      "2\n",
      "2\n",
      "1\n",
      "3\n"
     ]
    },
    {
     "data": {
      "image/png": "[encoded data removed]",
      "text/plain": [
       "<music21.ipython21.objects.IPythonPNGObject at 0x10460f908>"
      ]
     },
     "execution_count": 4,
     "metadata": {},
     "output_type": "execute_result"
    }
   ],
   "source": [
    "score = schillinger_type_I(4, 3, 2) # (major, minor,divider)\n",
    "score.show()"
   ]
  },
  {
   "cell_type": "code",
   "execution_count": null,
   "metadata": {
    "collapsed": true
   },
   "outputs": [],
   "source": []
  }
 ],
 "metadata": {
  "kernelspec": {
   "display_name": "Python [conda env:python3_test]",
   "language": "python",
   "name": "conda-env-python3_test-py"
  },
  "language_info": {
   "codemirror_mode": {
    "name": "ipython",
    "version": 3
   },
   "file_extension": ".py",
   "mimetype": "text/x-python",
   "name": "python",
   "nbconvert_exporter": "python",
   "pygments_lexer": "ipython3",
   "version": "3.5.2"
  }
 },
 "nbformat": 4,
 "nbformat_minor": 2
}
