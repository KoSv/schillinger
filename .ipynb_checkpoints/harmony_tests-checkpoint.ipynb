{
 "cells": [
  {
   "cell_type": "code",
   "execution_count": 1,
   "metadata": {
    "collapsed": false
   },
   "outputs": [],
   "source": [
    "#imports\n",
    "%load_ext autoreload\n",
    "%autoreload 2\n",
    "import schillinger.harmony as SH\n",
    "import numpy as np\n",
    "import itertools\n",
    "import random"
   ]
  },
  {
   "cell_type": "code",
   "execution_count": 109,
   "metadata": {
    "collapsed": true
   },
   "outputs": [],
   "source": [
    "import schillinger.pitch as SP"
   ]
  },
  {
   "cell_type": "code",
   "execution_count": 2,
   "metadata": {
    "collapsed": true
   },
   "outputs": [],
   "source": [
    "from music21 import *\n",
    "%load_ext music21.ipython21"
   ]
  },
  {
   "cell_type": "code",
   "execution_count": 477,
   "metadata": {
    "collapsed": false
   },
   "outputs": [
    {
     "name": "stdout",
     "output_type": "stream",
     "text": [
      "['C', 'E-', 'F#', 'E-', 'A', 'C', 'E-', 'F#', 'A', 'C', 'E-', 'F#', 'E-', 'A', 'C', 'E-', 'F#', 'A', 'C', 'E-', 'F#', 'E-', 'A', 'C', 'E-', 'F#', 'A', 'C', 'E-', 'F#', 'E-', 'A', 'C', 'E-', 'F#', 'A', 'C']\n",
      "['C', 'E-', 'F#', 'E-', 'A', 'C', 'E-', 'F#', 'A', 'C']\n"
     ]
    }
   ],
   "source": [
    "# GIANT STEPS\n",
    "harmonic_roots = [\"C\",\"E-\",\"F#\",\"A\"]\n",
    "expansions = SH.expansions(harmonic_roots)\n",
    "C3 = expansions[0]\n",
    "Cm3 = expansions[1]\n",
    "C5 = expansions[2]\n",
    "#C7 = expansions[4]\n",
    "root_cycles = SH.harmonic_cicles([C3,C5,Cm3],[2,1,2,4])\n",
    "print(root_cycles) # All\n",
    "print(root_cycles[0:10])# Giant Steps"
   ]
  },
  {
   "cell_type": "code",
   "execution_count": 478,
   "metadata": {
    "code_folding": [],
    "collapsed": false
   },
   "outputs": [],
   "source": [
    "#harmonic_roots_to_individual_harmonies\n",
    "scale_types = [scale.HypolydianScale ]\n",
    "scale_type = scale.MinorScale\n",
    "all_root_scales = []\n",
    "all_expansions = []\n",
    "for e,i in enumerate(harmonic_roots):\n",
    "    sc = scale_types[e%len(scale_types)]\n",
    "    my_temp_scale = sc(i)\n",
    "    all_root_scales.append(my_temp_scale)\n",
    "    scale_to_pitchnames = [str(p.name) for p in my_temp_scale.pitches[:-1]] # convert to pitchnames\n",
    "    all_expansions.append(SH.expansions(scale_to_pitchnames))\n",
    "#all_root_scales, all_expansions"
   ]
  },
  {
   "cell_type": "code",
   "execution_count": 479,
   "metadata": {
    "collapsed": false
   },
   "outputs": [
    {
     "data": {
      "text/plain": [
       "['C', 'E-', 'F#', 'E-', 'A', 'C', 'E-', 'F#', 'A', 'C']"
      ]
     },
     "execution_count": 479,
     "metadata": {},
     "output_type": "execute_result"
    }
   ],
   "source": [
    "root_sequence = root_cycles[0:10]\n",
    "durations = [4,4,8, 4,4,8, 8,8,8,8] # hardcode\n",
    "\n",
    "cadences = []\n",
    "for exp in all_expansions:\n",
    "    cadence = SH.diatonic_cadences(exp)\n",
    "    cadences.append(cadence)\n",
    "    #print(cadence)\n",
    "    \n",
    "root_sequence"
   ]
  },
  {
   "cell_type": "code",
   "execution_count": 480,
   "metadata": {
    "code_folding": [],
    "collapsed": true
   },
   "outputs": [],
   "source": [
    "SPG = SP.PitchGroup()"
   ]
  },
  {
   "cell_type": "code",
   "execution_count": 481,
   "metadata": {
    "code_folding": [
     0
    ],
    "collapsed": false
   },
   "outputs": [],
   "source": [
    "#\n",
    "'''filled_harmonies = []\n",
    "for i, rs in enumerate(root_sequence):\n",
    "    \n",
    "    #fill in the first or tonic note\n",
    "    current_harmony = root_sequence[(i)%len(root_sequence)]\n",
    "    current_harmony_idx = harmonic_roots.index(current_harmony)\n",
    "    my_scale = all_root_scales[current_harmony_idx]\n",
    "    expansions = all_expansions[current_harmony_idx] # so\n",
    "    \n",
    "    chorified_scale = SPG.chordify_scale(expansions[1],4)\n",
    "    harmonized_bass = SPG.harmonize_bass([rs], chorified_scale)\n",
    "    filled_harmonies.append(harmonized_bass[0][1])\n",
    "    filled_harmonies.append(harmonized_bass[0][1])\n",
    "    \n",
    "    \n",
    "    next_harmony = root_sequence[(i+1)%len(root_sequence)]\n",
    "    next_harmony_idx = harmonic_roots.index(next_harmony)\n",
    "    my_scale = all_root_scales[next_harmony_idx]\n",
    "    # descision if cadence or whole expansion!\n",
    "    expansions = all_expansions[next_harmony_idx] # so\n",
    "    my_cadences = cadences[next_harmony_idx] # oder so #cadence is simpler for now!\n",
    "    \n",
    "    chorified_scale = SPG.chordify_scale(expansions[1],4)\n",
    "    \n",
    "    for d in range(durations[i]-2):\n",
    "        temp_bass = my_cadences[0][(d+1)%len(my_cadences[1])]\n",
    "        harmonized_bass = SPG.harmonize_bass([temp_bass], chorified_scale)\n",
    "        filled_harmonies.append(harmonized_bass[0][1])\n",
    "        #print(harmonized_bass[0][1], my_cadences[0])\n",
    "        \n",
    "#print(filled_harmonies)''';"
   ]
  },
  {
   "cell_type": "code",
   "execution_count": 486,
   "metadata": {
    "code_folding": [],
    "collapsed": false
   },
   "outputs": [],
   "source": [
    "filled_harmonies = []\n",
    "filled_bass = []\n",
    "for i, rs in enumerate(root_sequence):\n",
    "    \n",
    "    #fill in the first or tonic note\n",
    "    current_harmony = root_sequence[(i)%len(root_sequence)]\n",
    "    current_harmony_idx = harmonic_roots.index(current_harmony)\n",
    "    my_scale = all_root_scales[current_harmony_idx]\n",
    "    expansions = all_expansions[current_harmony_idx] # so\n",
    "    \n",
    "    chorified_scale = SPG.chordify_scale(expansions[1],4)\n",
    "    harmonized_bass = SPG.harmonize_bass([rs], chorified_scale)\n",
    "    filled_harmonies.append(harmonized_bass[0][1])\n",
    "    #filled_harmonies.append(harmonized_bass[0][1])\n",
    "    \n",
    "    filled_bass.append(harmonized_bass[0][1][0])\n",
    "    \n",
    "    \n",
    "    next_harmony = root_sequence[(i+1)%len(root_sequence)]\n",
    "    next_harmony_idx = harmonic_roots.index(next_harmony)\n",
    "    my_scale = all_root_scales[next_harmony_idx]\n",
    "    # descision if cadence or whole expansion!\n",
    "    expansions = all_expansions[next_harmony_idx]\n",
    "    \n",
    "    chorified_scale = SPG.chordify_scale(expansions[1],4)\n",
    "    \n",
    "    C7,C5,C3 = expansions[0],expansions[2], expansions[4]\n",
    "    my_root_cycles = SH.harmonic_cicles([C3,C7,C5],[1,1,2,1])#to much but wurscht!\n",
    "    \n",
    "    \n",
    "    \n",
    "    for d in range(0, durations[i]-1):\n",
    "        temp_bass = my_root_cycles[(d+1)%len(my_root_cycles)]\n",
    "        harmonized_bass = SPG.harmonize_bass([temp_bass], chorified_scale)\n",
    "        \n",
    "        filled_harmonies.append(harmonized_bass[0][1])\n",
    "        filled_bass.append(harmonized_bass[0][1][0])\n",
    "        #print(harmonized_bass[0][1], my_cadences[0])\n",
    "        \n",
    "#print(filled_harmonies)"
   ]
  },
  {
   "cell_type": "code",
   "execution_count": 487,
   "metadata": {
    "code_folding": [
     0
    ],
    "collapsed": false
   },
   "outputs": [],
   "source": [
    "def showNotes(note_sequece, time_meter, duration_divider):\n",
    "    TS = str(time_meter[0])+'/'+str(time_meter[1])\n",
    "    s = stream.Score(id='mainScore')\n",
    "    p0 = stream.Part(id='part0')\n",
    "    p0.timeSignature = meter.TimeSignature(TS)\n",
    "    for i, notes in enumerate(note_sequece):\n",
    "        #print(notes)\n",
    "        c = chord.Chord(notes)\n",
    "        #print(c,c.root(),c.third)\n",
    "        c.quarterLength = 1 * duration_divider\n",
    "        c = c.semiClosedPosition(inPlace=False)\n",
    "        chords =  arpeggiator(c, es, rhythm, duration_divider)\n",
    "        #c.octave = 3\n",
    "        #c.pitches[2].octave = 3\n",
    "        #c.pitches[0].octave = 1\n",
    "        #c.inversion(0)\n",
    "        p0.append(c)\n",
    "    s.insert(0, p0)\n",
    "    return s"
   ]
  },
  {
   "cell_type": "code",
   "execution_count": 488,
   "metadata": {
    "code_folding": [
     2,
     33
    ],
    "collapsed": false
   },
   "outputs": [],
   "source": [
    "# notes harmony \n",
    "\n",
    "def arpeggiator(c, es,rhythm, duration_divider):\n",
    "    chords = []\n",
    "    for i, seq in enumerate(c):\n",
    "                \n",
    "        nota = seq\n",
    "        nota.duration.quarterLength = (rhythm[es%len(rhythm)]/len(c)) * duration_divider\n",
    "        chords.append(nota)\n",
    "\n",
    "    nota = pitch.Pitch(c.pitches[0])\n",
    "    \n",
    "    nota.octave = nota.octave + 1\n",
    "    nota = note.Note(nota.nameWithOctave)\n",
    "    nota.duration.quarterLength = (rhythm[es%len(rhythm)]/len(c)) * duration_divider\n",
    "    chords.append(nota)\n",
    "    #octave adjust\n",
    "    #print(chords[-1].pitch.midi - chords[-2].pitch.midi, chords[-1])\n",
    "    if chords[-2].pitch.midi - chords[-3].pitch.midi >= 6:\n",
    "        chords[-2].octave = chords[-2].octave + 1\n",
    "        \n",
    "    if chords[-1].pitch.midi - chords[-2].pitch.midi >= 12:\n",
    "        chords[-1].octave = chords[-1].octave -1\n",
    "        #print(\"yes\", chords[-1], chords[-2])\n",
    "    \n",
    "    ## last note repeat the second\n",
    "    nota = pitch.Pitch(c.pitches[2])\n",
    "    nota.octave = nota.octave\n",
    "    nota = note.Note(nota.nameWithOctave)\n",
    "    nota.duration.quarterLength = (rhythm[es%len(rhythm)]/len(c)) * duration_divider\n",
    "    chords.append(nota)\n",
    "    return chords\n",
    "\n",
    "def showHarmony(note_sequence, melody_seq, rhythm, length, time_meter, duration_divider, arp=True,bass=True, drop2 = False):\n",
    "    TS = str(time_meter[0])+'/'+str(time_meter[1])\n",
    "    \n",
    "    s = stream.Score(id='mainScore')\n",
    "    p0 = stream.Part(id='melody')\n",
    "    p0.timeSignature = meter.TimeSignature(TS)\n",
    "    p1 = stream.Part(id='chords')\n",
    "    p1.timeSignature = meter.TimeSignature(TS)\n",
    "    p2 = stream.Part(id='bass')\n",
    "    p2.timeSignature = meter.TimeSignature(TS)\n",
    "    \n",
    "    melody_iterator = 0\n",
    "    for es, sequences in enumerate(note_sequence):\n",
    "        \n",
    "        melody = []\n",
    "        chords = []\n",
    "        bass = []\n",
    "        \n",
    "        \n",
    "        ### chords\n",
    "        chord_seq = sequences\n",
    "        c = chord.Chord(chord_seq)\n",
    "        \n",
    "        #test_chord = chord.Chord(test_chord)\n",
    "        c.root = sequences[0]\n",
    "        c.duration.quarterLength = rhythm[es%len(rhythm)] * duration_divider\n",
    "        #c = c.sortDiatonicAscending() # for better voice leadng but not real!\n",
    "        c = c.semiClosedPosition(inPlace=False,forceOctave=4)\n",
    "        \n",
    "        if drop2:\n",
    "            try:\n",
    "                #c.pitches[0].octave = c.pitches[0].octave-1 # drop2\n",
    "                #c.pitches[-2].octave = c.pitches[-2].octave+2 # drop4\n",
    "                pass\n",
    "            except:\n",
    "                pass\n",
    "        \n",
    "        if arp:\n",
    "            chords =  arpeggiator(c, es, rhythm, duration_divider)\n",
    "            #chords.append(nota)\n",
    "            \n",
    "        else:\n",
    "            chords.append(c)\n",
    "            \n",
    "        #MELODY\n",
    "        # get chord durations and apply on melody (for test purpose)\n",
    "        '''dur = 0\n",
    "        for d in chords:\n",
    "            dur = dur + d.duration.quarterLength\n",
    "        #print(dur)\n",
    "        nota = pitch.Pitch(melody_seq[es])\n",
    "        nota.octave = nota.octave\n",
    "        nota = note.Note(nota.nameWithOctave)\n",
    "        nota.duration.quarterLength = dur/2\n",
    "        melody.append(nota)\n",
    "        #melody 2nd tone\n",
    "        ###'''\n",
    "        dur = 0\n",
    "        for d in chords:\n",
    "                dur = dur + d.duration.quarterLength\n",
    "        \n",
    "        if len(melody_seq) >= len(note_sequence):\n",
    "            l = round(len(melody_seq) / len(note_sequence))\n",
    "            #print(l)\n",
    "            for m in range(l):\n",
    "                #print(dur, melody_iterator,m, dur/l, l, len(note_sequence), len(melody_seq))\n",
    "                nota = pitch.Pitch(melody_seq[melody_iterator])\n",
    "                nota.octave = nota.octave\n",
    "                nota = note.Note(nota.nameWithOctave)\n",
    "                nota.duration.quarterLength = dur/l\n",
    "                melody.append(nota)\n",
    "                melody_iterator+=1\n",
    "        \n",
    "        \n",
    "        \n",
    "        #BASS\n",
    "        # get chord durations and apply on melody (for test purpose)\n",
    "        dur = 0\n",
    "        for d in chords:\n",
    "            dur = dur + d.duration.quarterLength\n",
    "        #print(melody_seq, es)\n",
    "        nota = pitch.Pitch(sequences[0])\n",
    "        nota.octave = 2\n",
    "        nota = note.Note(nota.nameWithOctave)\n",
    "        nota.duration.quarterLength = dur\n",
    "        bass.append(nota)\n",
    "        \n",
    "        \n",
    "        \n",
    "        p0.append(melody)\n",
    "\n",
    "        p1.append(chords)\n",
    "        p2.append(bass)\n",
    "    \n",
    "    #s.insert(0, p0)\n",
    "    s.insert(0, p1)\n",
    "    s.insert(0, p2)\n",
    "    s = s.transpose(0)\n",
    "    return s\n"
   ]
  },
  {
   "cell_type": "code",
   "execution_count": 489,
   "metadata": {
    "collapsed": false,
    "scrolled": false
   },
   "outputs": [],
   "source": [
    "#s = showHarmony(filled_harmonies,[4,4],2)\n",
    "s = showHarmony(filled_harmonies, filled_bass,[1],len(filled_bass),[4,4],2)\n",
    "s.show('musicxml')"
   ]
  },
  {
   "cell_type": "code",
   "execution_count": 456,
   "metadata": {
    "collapsed": false,
    "scrolled": false
   },
   "outputs": [
    {
     "name": "stdout",
     "output_type": "stream",
     "text": [
      "['E-', 'G-', 'B-', 'D-', 'F', 'B', 'D', 'F#', 'A', 'C', 'C', 'E', 'G', 'B', 'D', 'F#', 'A', 'C', 'E', 'G', 'D', 'F#', 'A', 'C', 'E', 'G#', 'B', 'D', 'F#', 'A', 'A', 'C#', 'E', 'G#', 'B', 'D', 'F#', 'A', 'C#', 'E', 'B', 'D', 'F#', 'A', 'C#', 'G', 'B-', 'D', 'F', 'A-', 'A-', 'C', 'E-', 'G', 'B-', 'D', 'F', 'A-', 'C', 'E-', 'G', 'B-', 'D', 'F', 'A-', 'E-', 'G', 'B-', 'D', 'F', 'C', 'E-', 'G', 'B-', 'D', 'D', 'F', 'A-', 'C', 'E-', 'B-', 'D', 'F', 'A-', 'C', 'F-', 'A-', 'C-', 'E-', 'G-', 'G-', 'B-', 'D-', 'F-', 'A-', 'C-', 'E-', 'G-', 'B-', 'D-', 'A-', 'C-', 'E-', 'G-', 'B-', 'C-', 'E-', 'G-', 'B-', 'D-', 'D-', 'F', 'A-', 'C-', 'E-', 'G-', 'B-', 'D-', 'F', 'A-', 'E-', 'G-', 'B-', 'D-', 'F', 'G#', 'B', 'D', 'F#', 'A', 'A', 'C#', 'E', 'G#', 'B', 'D', 'F#', 'A', 'C#', 'E', 'G#', 'B', 'D', 'F#', 'A', 'E', 'G#', 'B', 'D', 'F#', 'C#', 'E', 'G#', 'B', 'D', 'D', 'F#', 'A', 'C#', 'E', 'B', 'D', 'F#', 'A', 'C#', 'G', 'B-', 'D', 'F', 'A-', 'A-', 'C', 'E-', 'G', 'B-', 'D', 'F', 'A-', 'C', 'E-', 'G', 'B-', 'D', 'F', 'A-', 'E-', 'G', 'B-', 'D', 'F', 'C', 'E-', 'G', 'B-', 'D', 'D', 'F', 'A-', 'C', 'E-', 'B-', 'D', 'F', 'A-', 'C', 'F-', 'A-', 'C-', 'E-', 'G-', 'G-', 'B-', 'D-', 'F-', 'A-', 'C-', 'E-', 'G-', 'B-', 'D-', 'F-', 'A-', 'C-', 'E-', 'G-', 'D-', 'F-', 'A-', 'C-', 'E-', 'B-', 'D-', 'F-', 'A-', 'C-', 'C-', 'E-', 'G-', 'B-', 'D-', 'A-', 'C-', 'E-', 'G-', 'B-', 'B', 'D', 'F#', 'A', 'C', 'C', 'E', 'G', 'B', 'D', 'F#', 'A', 'C', 'E', 'G', 'B', 'D', 'F#', 'A', 'C', 'G', 'B', 'D', 'F#', 'A', 'E', 'G', 'B', 'D', 'F#', 'F#', 'A', 'C', 'E', 'G', 'D', 'F#', 'A', 'C', 'E', 'C-', 'E-', 'G-', 'B-', 'D-', 'D-', 'F', 'A-', 'C-', 'E-', 'G-', 'B-', 'D-', 'F', 'A-', 'C-', 'E-', 'G-', 'B-', 'D-', 'A-', 'C-', 'E-', 'G-', 'B-', 'F', 'A-', 'C-', 'E-', 'G-', 'G-', 'B-', 'D-', 'F', 'A-']\n"
     ]
    }
   ],
   "source": [
    "return_value = [list(itertools.chain(*filled_harmonies))][0]\n",
    "print(return_value)\n",
    "#huhu"
   ]
  },
  {
   "cell_type": "code",
   "execution_count": null,
   "metadata": {
    "collapsed": true
   },
   "outputs": [],
   "source": []
  }
 ],
 "metadata": {
  "hide_input": false,
  "kernelspec": {
   "display_name": "Python [conda env:python3_test]",
   "language": "python",
   "name": "conda-env-python3_test-py"
  },
  "language_info": {
   "codemirror_mode": {
    "name": "ipython",
    "version": 3
   },
   "file_extension": ".py",
   "mimetype": "text/x-python",
   "name": "python",
   "nbconvert_exporter": "python",
   "pygments_lexer": "ipython3",
   "version": "3.5.2"
  },
  "latex_envs": {
   "LaTeX_envs_menu_present": true,
   "bibliofile": "biblio.bib",
   "cite_by": "apalike",
   "current_citInitial": 1,
   "eqLabelWithNumbers": true,
   "eqNumInitial": 1,
   "hotkeys": {
    "equation": "Ctrl-E",
    "itemize": "Ctrl-I"
   },
   "labels_anchors": false,
   "latex_user_defs": false,
   "report_style_numbering": false,
   "user_envs_cfg": false
  }
 },
 "nbformat": 4,
 "nbformat_minor": 2
}
