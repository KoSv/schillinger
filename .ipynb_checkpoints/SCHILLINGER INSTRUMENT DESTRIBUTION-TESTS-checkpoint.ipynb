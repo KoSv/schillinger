{
 "cells": [
  {
   "cell_type": "markdown",
   "metadata": {},
   "source": [
    "Python Imlementation of:\n",
    "\n",
    "***SCHILLINGER INSTRUMENT DESTRIBUTION***\n",
    "\n",
    "for more information: Joseph Schillinger (1946): Schillinger System of Musical Composition.(New York: C. Fischer, Inc.)\n",
    "\n",
    "Konstantin Svechtarov 2017©"
   ]
  },
  {
   "cell_type": "code",
   "execution_count": 1,
   "metadata": {
    "code_folding": [
     0
    ],
    "collapsed": false
   },
   "outputs": [],
   "source": [
    "# imports modules\n",
    "%load_ext autoreload\n",
    "%autoreload 2\n",
    "import schillinger.rhythm as SR\n",
    "import schillinger.pitch as SP\n",
    "import itertools\n",
    "import random\n",
    "from music21 import *\n",
    "%load_ext music21.ipython21"
   ]
  },
  {
   "cell_type": "code",
   "execution_count": null,
   "metadata": {
    "code_folding": [],
    "collapsed": false
   },
   "outputs": [],
   "source": []
  },
  {
   "cell_type": "code",
   "execution_count": 2,
   "metadata": {
    "code_folding": [
     1
    ],
    "collapsed": false
   },
   "outputs": [],
   "source": [
    "# NOTES FOR RHYTM\n",
    "def convert2Dto1D(data):\n",
    "    flat_array = []\n",
    "    for d in data:\n",
    "        if isinstance(d[0], list) or isinstance(d[0], tuple):\n",
    "            for l in d:\n",
    "                \n",
    "                flat_array.append(l)\n",
    "        else:\n",
    "            flat_array.append(d)\n",
    "    return flat_array\n",
    "\n",
    "def showSplittedNotes_RHYTHM(length, data, time_meter, note_sequece, duration_divider, num_parts, first_part,part_lengths):\n",
    "    #attacks = convert2Dto1D(data)\n",
    "    #TS = str(int(len(clock))) +'/'+ str(int((clock[0].duration.quarterLength*16)))\n",
    "    TS = str(time_meter[0])+'/'+str(time_meter[1])\n",
    "    \n",
    "    s = stream.Score(id='mainScore')\n",
    "    \n",
    "    ## pseudo code\n",
    "    # for i in notes\n",
    "    # make pauses at the beginning\n",
    "    # if note_counter == 0 and not first_part: pause \n",
    "    # else note_counter++ and first tone from note array\n",
    "    \n",
    "    for seq, sequences in enumerate(data):\n",
    "        p0 = stream.Part(id='part0')\n",
    "        p0.timeSignature = meter.TimeSignature(TS)\n",
    "        tones = []\n",
    "        note_counter = 0\n",
    "        for i in range(len(sequences)):\n",
    "            nota = pitch.Pitch(note_sequece[note_counter%len(note_sequece)])\n",
    "            note_counter += 1\n",
    "            nota.octave = 4-seq\n",
    "            nota = note.Note(nota.nameWithOctave)\n",
    "            nota.duration.quarterLength = sequences[i%len(sequences)]*duration_divider\n",
    "            tones.append(nota)\n",
    "            \n",
    "        p0.append(tones)\n",
    "        s.insert(0, p0)\n",
    "    return s\n"
   ]
  },
  {
   "cell_type": "code",
   "execution_count": 3,
   "metadata": {
    "code_folding": [
     0
    ],
    "collapsed": false,
    "scrolled": false
   },
   "outputs": [],
   "source": [
    "#notes from harmony_Tests\n",
    "note_s=['F', 'C', 'D','F','A-']\n",
    "# get note sequence from another notebook \"HARMONY_TESTS_ON_GIANT_STEPS-Experiments\"\n",
    "#%store -r cleaned_filled_harm\n",
    "#note_s = cleaned_filled_harm\n",
    "#note_s\n",
    "\n"
   ]
  },
  {
   "cell_type": "code",
   "execution_count": 4,
   "metadata": {
    "code_folding": [],
    "collapsed": false
   },
   "outputs": [
    {
     "name": "stdout",
     "output_type": "stream",
     "text": [
      "[[[0, 1, 1, 1, 0, 1, 0, 0, 0, 1, 0, 1, 1, 1, 0, 1, 0, 0, 0, 1, 0, 1, 1, 1, 0, 1, 0, 0, 0, 1, 0, 1, 1, 1, 0, 1, 0, 0, 0, 1], [1, 0, 0, 0, 1, 0, 1, 1, 1, 0, 1, 0, 0, 0, 1, 0, 1, 1, 1, 0, 1, 0, 0, 0, 1, 0, 1, 1, 1, 0, 1, 0, 0, 0, 1, 0, 1, 1, 1, 0]], [[0, 2, 2, 1, 0, 1, 0, 0, 0, 2, 0, 1, 3, 1, 0, 1, 0, 0, 0, 1, 0, 1, 1, 1, 0, 2, 0, 0, 0, 1, 0, 1, 1, 2, 0, 1, 0, 0, 0, 1], [1, 0, 0, 0, 3, 0, 1, 1, 1, 0, 2, 0, 0, 0, 1, 0, 1, 2, 2, 0, 3, 0, 0, 0, 1, 0, 2, 1, 3, 0, 1, 0, 0, 0, 2, 0, 3, 1, 1, 0]]]\n",
      "[[1, 2, 2, 4, 4, 4, 1, 3, 2, 6, 4, 1, 1, 2, 8, 2, 1, 1, 4, 6, 1], [6, 4, 1, 1, 3, 7, 2, 1, 2, 3, 6, 3, 2, 1, 4, 5, 3, 3, 1, 2]] 12 40\n"
     ]
    }
   ],
   "source": [
    "# SCHILLINGER INSTRUMENT DESTRIBUTION!!!\n",
    "#sr_1 = SR.Type_I([4,3])\n",
    "#sr_2 = SR.Type_II([4,3])\n",
    "\n",
    "#group = SR.Grouping()\n",
    "#g = group.grouping_by_pairs(sr_1.resultant,sr_2.resultant,4,3)\n",
    "#print(group.balance)\n",
    "#random_attack_combination = SR.get_random_attack_combination(sr_1.resultant)\n",
    "#random_attack_combination_2 = SR.get_random_attack_combination(sr_2.resultant)\n",
    "\n",
    "#fraction = 2/4\n",
    "#dp = SR.slice_by_fraction(sr_1.resultant, fraction) # slice the resultant for fun\n",
    "\n",
    "#durations_pattern = group.balance # rhythm\n",
    "#attack_pattern = group.balance #instrument destribution\n",
    "\n",
    "durations_pattern = [1,3,1] # rhythm (sr_1.resultant)\n",
    "attack_pattern = [1,2,2,1,3,1,1,1] #instrument destribution\n",
    "num_parts = 2 # or instuments\n",
    "order_of_parts = [1,0]\n",
    "\n",
    "cts = SR.CTS(num_parts,order_of_parts,durations_pattern,attack_pattern)\n",
    "#cts_pattern = cts.get_values()\n",
    "        \n",
    "print(cts.result, cts.pattern_length, cts.total_num_of_attacks)\n",
    "attacks_array = cts.attacks_array\n",
    "part_lengths = len(attacks_array[0])\n",
    "#note_seq = [i[0] for i in cleaned_sequence]\n",
    "note_seq = ['F', 'C', 'D','F','A-']\n",
    "s = showSplittedNotes_RHYTHM(cts.pattern_length, \n",
    "                             cts.result, \n",
    "                             cts.metric, \n",
    "                             note_seq , \n",
    "                             1/4, \n",
    "                             num_parts, \n",
    "                             cts.whos_first, \n",
    "                             part_lengths\n",
    "                            )\n",
    "#s.show('musicxml')\n"
   ]
  },
  {
   "cell_type": "code",
   "execution_count": 5,
   "metadata": {
    "code_folding": [],
    "collapsed": false
   },
   "outputs": [
    {
     "data": {
      "text/html": [
       "\n",
       "                <div id='midiPlayerDiv348'></div>\n",
       "                <link rel=\"stylesheet\" href=\"http://artusi.xyz/music21j/css/m21.css\" \n",
       "                    type=\"text/css\" />\n",
       "                <script>\n",
       "                require.config({\n",
       "                    paths: {'music21': 'http://artusi.xyz/music21j/src/music21'} \n",
       "                }); \n",
       "                require(['music21'], function() { \n",
       "                               mp = new music21.miditools.MidiPlayer();\n",
       "                               mp.addPlayer('#midiPlayerDiv348'); \n",
       "                               mp.base64Load('data:audio/midi;base64,TVRoZAAAAAYAAQACBABNVHJrAAAA0wD/AwAA4ABAAP9YBAUCGAiIAJBBWoIAgEEAAJA8WoQAgDwAAJA+WoQAgD4AAJBBWogAgEEAAJBEWogAgEQAAJBBWogAgEEAAJA8WoIAgDwAAJA+WoYAgD4AAJBBWoQAgEEAAJBEWowAgEQAAJBBWogAgEEAAJA8WoIAgDwAAJA+WoIAgD4AAJBBWoQAgEEAAJBEWpAAgEQAAJBBWoQAgEEAAJA8WoIAgDwAAJA+WoIAgD4AAJBBWogAgEEAAJBEWowAgEQAAJBBWoIAgEEAiAD/LwBNVHJrAAAAygD/AwAA4ABAAP9YBAUCGAiIAJA1WowAgDUAAJAwWogAgDAAAJAyWoIAgDIAAJA1WoIAgDUAAJA4WoYAgDgAAJA1Wo4AgDUAAJAwWoQAgDAAAJAyWoIAgDIAAJA1WoQAgDUAAJA4WoYAgDgAAJA1WowAgDUAAJAwWoYAgDAAAJAyWoQAgDIAAJA1WoIAgDUAAJA4WogAgDgAAJA1WooAgDUAAJAwWoYAgDAAAJAyWoYAgDIAAJA1WoIAgDUAAJA4WoQAgDgAiAD/LwA='); \n",
       "                        });\n",
       "                </script>"
      ],
      "text/plain": [
       "<IPython.core.display.HTML object>"
      ]
     },
     "metadata": {},
     "output_type": "display_data"
    }
   ],
   "source": [
    "s.show(\"midi\")"
   ]
  },
  {
   "cell_type": "code",
   "execution_count": 6,
   "metadata": {
    "collapsed": false
   },
   "outputs": [
    {
     "data": {
      "image/png": "[encoded data removed]",
      "text/plain": [
       "<music21.ipython21.objects.IPythonPNGObject at 0x114f3ff98>"
      ]
     },
     "execution_count": 6,
     "metadata": {},
     "output_type": "execute_result"
    }
   ],
   "source": [
    "s.show()"
   ]
  },
  {
   "cell_type": "code",
   "execution_count": 42,
   "metadata": {
    "collapsed": false
   },
   "outputs": [],
   "source": [
    "def convert_to_linear_seq(total_num_attacks, order_of_parts, num_parts, binaries, note_lengths):\n",
    "    \n",
    "    #sequence = [[0,0]]*total_num_attacks\n",
    "    part_counters = [0]*num_parts\n",
    "    print(part_counters)\n",
    "    sequence = []\n",
    "    order_of_part_counter = order_of_parts[0]\n",
    "    \n",
    "    for a in range(total_num_attacks):\n",
    "        if binaries[order_of_part_counter][a] == 1:\n",
    "            pass\n",
    "        else:\n",
    "            order_of_part_counter = (order_of_part_counter + 1) % num_parts\n",
    "            \n",
    "        sequence.append([order_of_part_counter])\n",
    "        \n",
    "        part_counters[order_of_part_counter]=part_counters[order_of_part_counter]+1\n",
    "\n",
    "    return sequence"
   ]
  },
  {
   "cell_type": "code",
   "execution_count": 43,
   "metadata": {
    "collapsed": false
   },
   "outputs": [
    {
     "name": "stdout",
     "output_type": "stream",
     "text": [
      "[0, 0]\n",
      "1\n",
      "1\n",
      "2\n",
      "3\n",
      "2\n",
      "4\n",
      "3\n",
      "4\n",
      "5\n",
      "5\n",
      "6\n",
      "6\n",
      "7\n",
      "8\n",
      "7\n",
      "9\n",
      "8\n",
      "9\n",
      "10\n",
      "10\n",
      "11\n",
      "11\n",
      "12\n",
      "13\n",
      "12\n",
      "14\n",
      "13\n",
      "14\n",
      "15\n",
      "15\n",
      "16\n",
      "16\n",
      "17\n",
      "18\n",
      "17\n",
      "19\n",
      "18\n",
      "19\n",
      "20\n",
      "20\n"
     ]
    },
    {
     "data": {
      "text/plain": [
       "[[1],\n",
       " [0],\n",
       " [0],\n",
       " [0],\n",
       " [1],\n",
       " [0],\n",
       " [1],\n",
       " [1],\n",
       " [1],\n",
       " [0],\n",
       " [1],\n",
       " [0],\n",
       " [0],\n",
       " [0],\n",
       " [1],\n",
       " [0],\n",
       " [1],\n",
       " [1],\n",
       " [1],\n",
       " [0],\n",
       " [1],\n",
       " [0],\n",
       " [0],\n",
       " [0],\n",
       " [1],\n",
       " [0],\n",
       " [1],\n",
       " [1],\n",
       " [1],\n",
       " [0],\n",
       " [1],\n",
       " [0],\n",
       " [0],\n",
       " [0],\n",
       " [1],\n",
       " [0],\n",
       " [1],\n",
       " [1],\n",
       " [1],\n",
       " [0]]"
      ]
     },
     "execution_count": 43,
     "metadata": {},
     "output_type": "execute_result"
    }
   ],
   "source": [
    "convert_to_linear_seq(cts.total_num_of_attacks, order_of_parts, num_parts, cts.binaries, cts.result)"
   ]
  },
  {
   "cell_type": "code",
   "execution_count": null,
   "metadata": {
    "collapsed": true
   },
   "outputs": [],
   "source": []
  }
 ],
 "metadata": {
  "hide_input": false,
  "kernelspec": {
   "display_name": "Python [conda env:python3_test]",
   "language": "python",
   "name": "conda-env-python3_test-py"
  },
  "language_info": {
   "codemirror_mode": {
    "name": "ipython",
    "version": 3
   },
   "file_extension": ".py",
   "mimetype": "text/x-python",
   "name": "python",
   "nbconvert_exporter": "python",
   "pygments_lexer": "ipython3",
   "version": "3.5.2"
  },
  "latex_envs": {
   "LaTeX_envs_menu_present": true,
   "bibliofile": "biblio.bib",
   "cite_by": "apalike",
   "current_citInitial": 1,
   "eqLabelWithNumbers": true,
   "eqNumInitial": 1,
   "hotkeys": {
    "equation": "Ctrl-E",
    "itemize": "Ctrl-I"
   },
   "labels_anchors": false,
   "latex_user_defs": false,
   "report_style_numbering": false,
   "user_envs_cfg": false
  }
 },
 "nbformat": 4,
 "nbformat_minor": 2
}
