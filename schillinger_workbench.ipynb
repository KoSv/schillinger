{
 "cells": [
  {
   "cell_type": "code",
   "execution_count": 1,
   "metadata": {
    "collapsed": false
   },
   "outputs": [],
   "source": [
    "import schillinger"
   ]
  },
  {
   "cell_type": "code",
   "execution_count": 2,
   "metadata": {
    "code_folding": [
     0
    ],
    "collapsed": false
   },
   "outputs": [],
   "source": [
    "#notes\n",
    "from music21 import *\n",
    "#from itertools import chain\n",
    "%load_ext music21.ipython21\n",
    "\n",
    "def convert2Dto1D(data):\n",
    "    flat_array = []\n",
    "    for d in data:\n",
    "        if isinstance(d[0], list):\n",
    "            for l in d:\n",
    "                flat_array.append(l)\n",
    "        else:\n",
    "            flat_array.append(d)\n",
    "    return flat_array\n",
    "    \n",
    "\n",
    "def showNotes(data):\n",
    "    attacks = convert2Dto1D(data)\n",
    "    #TS = str(int(len(clock))) +'/'+ str(int((clock[0].duration.quarterLength*16)))\n",
    "    TS = '64/1'\n",
    "    \n",
    "    s = stream.Score(id='mainScore')\n",
    "    \n",
    "    for sequences in attacks:\n",
    "        p0 = stream.Part(id='part0')\n",
    "        p0.timeSignature = meter.TimeSignature(TS)\n",
    "        tones = []\n",
    "        for notes in sequences:\n",
    "            \n",
    "            nota = pitch.Pitch(\"C\")\n",
    "            nota.octave = 4\n",
    "            nota = note.Note(nota.nameWithOctave)\n",
    "            nota.duration.quarterLength = notes\n",
    "            tones.append(nota)\n",
    "            \n",
    "        p0.append(tones)\n",
    "\n",
    "        s.insert(0, p0)\n",
    "\n",
    "    # stream2.show('text')\n",
    "    # stream2.show('midi')\n",
    "    return s\n",
    "\n",
    "def showGroupedNotes(data, group):\n",
    "    attacks = convert2Dto1D(data)\n",
    "    #TS = str(int(len(clock))) +'/'+ str(int((clock[0].duration.quarterLength*16)))\n",
    "    TS = str(group[1])+'/4'\n",
    "    \n",
    "    s = stream.Score(id='mainScore')\n",
    "    \n",
    "    for sequences in attacks:\n",
    "        p0 = stream.Part(id='part0')\n",
    "        p0.timeSignature = meter.TimeSignature(TS)\n",
    "        tones = []\n",
    "        for notes in sequences:\n",
    "            \n",
    "            nota = pitch.Pitch(\"C\")\n",
    "            nota.octave = 4\n",
    "            nota = note.Note(nota.nameWithOctave)\n",
    "            nota.duration.quarterLength = notes\n",
    "            tones.append(nota)\n",
    "            \n",
    "        p0.append(tones)\n",
    "\n",
    "        s.insert(0, p0)\n",
    "\n",
    "    # stream2.show('text')\n",
    "    # stream2.show('midi')\n",
    "    return s\n",
    "\n",
    "def showSplittedNotes(data,group,note_sequece):\n",
    "    attacks = convert2Dto1D(data)\n",
    "    #TS = str(int(len(clock))) +'/'+ str(int((clock[0].duration.quarterLength*16)))\n",
    "    TS = str(group[1])+'/8'\n",
    "    \n",
    "    s = stream.Score(id='mainScore')\n",
    "    \n",
    "    for sequences in attacks:\n",
    "        p0 = stream.Part(id='part0')\n",
    "        p0.timeSignature = meter.TimeSignature(TS)\n",
    "        tones = []\n",
    "        note_counter = 0\n",
    "        for notes in sequences:\n",
    "            nota = pitch.Pitch(note_sequece[note_counter%len(note_sequece)])\n",
    "            note_counter += 1\n",
    "            nota.octave = 4\n",
    "            nota = note.Note(nota.nameWithOctave)\n",
    "            nota.duration.quarterLength = notes\n",
    "            tones.append(nota)\n",
    "            \n",
    "        p0.append(tones)\n",
    "\n",
    "        s.insert(0, p0)\n",
    "\n",
    "    # stream2.show('text')\n",
    "    # stream2.show('midi')\n",
    "    return s"
   ]
  },
  {
   "cell_type": "code",
   "execution_count": 3,
   "metadata": {
    "collapsed": false
   },
   "outputs": [],
   "source": [
    "'''\n",
    "all necessery generators:\n",
    "3:2\n",
    "4:3\n",
    "5:2 5:3 5:4\n",
    "6:5\n",
    "7:2 7:3 7:4 7:5 7:6\n",
    "8:3 8:5 8:7\n",
    "9:2 9:4 9:5 9:7 9:8\n",
    "''';"
   ]
  },
  {
   "cell_type": "code",
   "execution_count": 4,
   "metadata": {
    "collapsed": false
   },
   "outputs": [
    {
     "name": "stdout",
     "output_type": "stream",
     "text": [
      "[1, 1, 1, 1, 1, 1] [[3, 3], [2, 2, 2]] [2, 1, 1, 2]\n",
      "[1, 1, 1, 1, 1, 1, 1, 1, 1] [3, 3, 3] [[2, 2, 2], [2, 2, 2]] [2, 1, 1, 1, 1, 1, 2]\n"
     ]
    }
   ],
   "source": [
    "a = 3\n",
    "b = 2\n",
    "fraction = [a,b]\n",
    "\n",
    "sr = schillinger.SchillingerRythm_I(fraction)\n",
    "print(sr.common_product, sr.generators, sr.resultant)\n",
    "\n",
    "sr_ = schillinger.SchillingerRythm_II(fraction)\n",
    "print(sr_.common_product, sr_.major_generator, sr_.minor_generators, sr_.resultant)"
   ]
  },
  {
   "cell_type": "code",
   "execution_count": 5,
   "metadata": {
    "collapsed": false
   },
   "outputs": [
    {
     "data": {
      "image/png": "[encoded data removed]",
      "text/plain": [
       "<music21.ipython21.objects.IPythonPNGObject at 0x10bf2bcf8>"
      ]
     },
     "execution_count": 5,
     "metadata": {},
     "output_type": "execute_result"
    }
   ],
   "source": [
    "attack_list = [sr.common_product, sr.generators, sr.resultant]\n",
    "s = showNotes(attack_list)\n",
    "s.show()"
   ]
  },
  {
   "cell_type": "code",
   "execution_count": 6,
   "metadata": {
    "collapsed": false
   },
   "outputs": [
    {
     "data": {
      "image/png": "[encoded data removed]",
      "text/plain": [
       "<music21.ipython21.objects.IPythonPNGObject at 0x10bf2b780>"
      ]
     },
     "execution_count": 6,
     "metadata": {},
     "output_type": "execute_result"
    }
   ],
   "source": [
    "attack_list = [sr_.resultant]\n",
    "s = showNotes(attack_list)\n",
    "s.show()"
   ]
  },
  {
   "cell_type": "code",
   "execution_count": 8,
   "metadata": {
    "collapsed": false
   },
   "outputs": [
    {
     "name": "stdout",
     "output_type": "stream",
     "text": [
      "[1, 6]\n",
      "[2, 3]\n",
      "[3, 2]\n",
      "[1.0, 9]\n",
      "[3.0, 3]\n",
      "[4.5, 2]\n",
      "[2, 1, 1, 1, 1, 1, 2, 2, 1, 1, 2, 3]\n",
      "[2, 1, 1, 2, 2, 1, 1, 1, 1, 1, 2]\n",
      "[2, 1, 1, 1, 1, 1, 2, 2, 1, 1, 2]\n"
     ]
    }
   ],
   "source": [
    "group = schillinger.Grouping()\n",
    "# type I grouping\n",
    "print(group.type_I_grouping_by_ab(a,b))\n",
    "print(group.type_I_grouping_by_a(a,b))\n",
    "print(group.type_I_grouping_by_b(a,b))\n",
    "# type II grouping\n",
    "print(group.type_II_grouping_by_aa(a,b))\n",
    "print(group.type_II_grouping_by_a(a,b))\n",
    "print(group.type_II_grouping_by_b(a,b))\n",
    "#Pair Grouping\n",
    "group.grouping_by_pairs(sr.resultant,sr_.resultant,a,b)\n",
    "print(group.balance)\n",
    "print(group.expansion)\n",
    "print(group.contraction)"
   ]
  },
  {
   "cell_type": "code",
   "execution_count": 16,
   "metadata": {
    "collapsed": false
   },
   "outputs": [
    {
     "data": {
      "image/png": "[encoded data removed]",
      "text/plain": [
       "<music21.ipython21.objects.IPythonPNGObject at 0x10c20fe48>"
      ]
     },
     "execution_count": 16,
     "metadata": {},
     "output_type": "execute_result"
    }
   ],
   "source": [
    "attack_list = [sr.resultant]\n",
    "notes = [\"C\",\"F\"]\n",
    "s = showSplittedNotes(attack_list, group.type_I_grouping_by_ab(a,b),notes)\n",
    "s.show()"
   ]
  },
  {
   "cell_type": "code",
   "execution_count": 11,
   "metadata": {
    "collapsed": false
   },
   "outputs": [
    {
     "data": {
      "image/png": "[encoded data removed]",
      "text/plain": [
       "<music21.ipython21.objects.IPythonPNGObject at 0x10c26dc88>"
      ]
     },
     "execution_count": 11,
     "metadata": {},
     "output_type": "execute_result"
    }
   ],
   "source": [
    "#resultants applied to instument forms (chapter7)\n",
    "attack_list = [sr_.resultant]\n",
    "notes = [\"C\",\"F\"]\n",
    "s = showSplittedNotes(attack_list, group.type_II_grouping_by_aa(a,b),notes)\n",
    "s.show()"
   ]
  },
  {
   "cell_type": "code",
   "execution_count": null,
   "metadata": {
    "collapsed": false
   },
   "outputs": [],
   "source": []
  },
  {
   "cell_type": "code",
   "execution_count": null,
   "metadata": {
    "collapsed": false
   },
   "outputs": [],
   "source": []
  },
  {
   "cell_type": "code",
   "execution_count": null,
   "metadata": {
    "collapsed": false
   },
   "outputs": [],
   "source": []
  },
  {
   "cell_type": "code",
   "execution_count": null,
   "metadata": {
    "collapsed": true
   },
   "outputs": [],
   "source": []
  }
 ],
 "metadata": {
  "hide_input": false,
  "kernelspec": {
   "display_name": "Python [conda env:python3_test]",
   "language": "python",
   "name": "conda-env-python3_test-py"
  },
  "language_info": {
   "codemirror_mode": {
    "name": "ipython",
    "version": 3
   },
   "file_extension": ".py",
   "mimetype": "text/x-python",
   "name": "python",
   "nbconvert_exporter": "python",
   "pygments_lexer": "ipython3",
   "version": "3.5.2"
  },
  "latex_envs": {
   "LaTeX_envs_menu_present": true,
   "bibliofile": "biblio.bib",
   "cite_by": "apalike",
   "current_citInitial": 1,
   "eqLabelWithNumbers": true,
   "eqNumInitial": 1,
   "hotkeys": {
    "equation": "Ctrl-E",
    "itemize": "Ctrl-I"
   },
   "labels_anchors": false,
   "latex_user_defs": false,
   "report_style_numbering": false,
   "user_envs_cfg": false
  }
 },
 "nbformat": 4,
 "nbformat_minor": 2
}
